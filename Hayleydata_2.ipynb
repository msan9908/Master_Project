{
 "cells": [
  {
   "cell_type": "code",
   "execution_count": 1,
   "metadata": {},
   "outputs": [],
   "source": [
    "import numpy as np\n",
    "import plotly.express as px\n",
    "import pandas as pd\n"
   ]
  },
  {
   "cell_type": "code",
   "execution_count": 2,
   "metadata": {},
   "outputs": [
    {
     "data": {
      "text/plain": [
       "'\\naverage_ee_by_name = df_ee.groupby(\\'Imine\\')[\\'ee\\'].mean().reset_index()\\nmax_ee_by_name = df_ee.groupby([\\'Imine\\',\"Catalyst_Ar_grp\"])[\\'Predicted ee\\'].max().reset_index()\\nmax_ee_by_name = max_ee_by_name.loc[max_ee_by_name.groupby(\\'Imine\\')[\\'Predicted ee\\'].idxmax()]\\n\\naverage_ee_by_name = average_ee_by_name.rename(columns={\\'Imine\\': \\'Name\\'})\\n\\n\\nmax_ee_by_name = max_ee_by_name.rename(columns={\\'Imine\\': \\'Name\\'})\\nmax_ee_by_name = max_ee_by_name.rename(columns={\\'Predicted ee\\': \\'ee_max\\'})\\n\\n# Match the \\'ee\\' column with the \\'Experiment\\' column in your DataFrame based on name'"
      ]
     },
     "execution_count": 2,
     "metadata": {},
     "output_type": "execute_result"
    }
   ],
   "source": [
    "df_ee = pd.read_excel(\"../data/processed/IDPiCombinatorialLibraryWithPredictions.xlsx\")\n",
    "\"\"\"\n",
    "average_ee_by_name = df_ee.groupby('Imine')['ee'].mean().reset_index()\n",
    "max_ee_by_name = df_ee.groupby(['Imine',\"Catalyst_Ar_grp\"])['Predicted ee'].max().reset_index()\n",
    "max_ee_by_name = max_ee_by_name.loc[max_ee_by_name.groupby('Imine')['Predicted ee'].idxmax()]\n",
    "\n",
    "average_ee_by_name = average_ee_by_name.rename(columns={'Imine': 'Name'})\n",
    "\n",
    "\n",
    "max_ee_by_name = max_ee_by_name.rename(columns={'Imine': 'Name'})\n",
    "max_ee_by_name = max_ee_by_name.rename(columns={'Predicted ee': 'ee_max'})\n",
    "\n",
    "# Match the 'ee' column with the 'Experiment' column in your DataFrame based on name\"\"\"\n"
   ]
  },
  {
   "cell_type": "code",
   "execution_count": 3,
   "metadata": {},
   "outputs": [
    {
     "name": "stdout",
     "output_type": "stream",
     "text": [
      "153 50 35\n"
     ]
    },
    {
     "data": {
      "text/plain": [
       "216"
      ]
     },
     "execution_count": 3,
     "metadata": {},
     "output_type": "execute_result"
    }
   ],
   "source": [
    "print(len(np.unique(df_ee[\"electrophile SMILES\"])),len(np.unique(df_ee[\"nucleophile SMILES\"])),len(np.unique(df_ee[\"catalyst SMILES\"])))\n",
    "unique_entries = df_ee[\"catalyst SMILES\"].unique()\n",
    "entry_to_id = {entry: id for id, entry in enumerate(unique_entries)}\n",
    "\n",
    "# Create a new column 'ID' and use the map function to assign IDs\n",
    "df_ee['ID'] = df_ee[\"catalyst SMILES\"].map(entry_to_id)\n",
    "\n",
    "\n",
    "df_ee[\"Reaction\"]=df_ee[\"nucleophile SMILES\"]+df_ee[\"electrophile SMILES\"]\n",
    "len(np.unique(df_ee[\"Reaction\"]))\n"
   ]
  },
  {
   "cell_type": "code",
   "execution_count": 4,
   "metadata": {},
   "outputs": [],
   "source": [
    "average_ee_by_name = df_ee.groupby('Reaction')['ee'].mean().reset_index()\n",
    "max_ee_by_name = df_ee.groupby(['Reaction',\"catalyst SMILES\"])['ee'].max().reset_index()\n",
    "max_ee_by_name = max_ee_by_name.loc[max_ee_by_name.groupby('Reaction')['ee'].idxmax()]\n",
    "\n",
    "df_ee[\"rank\"] = df_ee.groupby(\"Reaction\")[\"ee\"].rank(method=\"dense\", ascending=False)\n"
   ]
  },
  {
   "cell_type": "code",
   "execution_count": 5,
   "metadata": {},
   "outputs": [
    {
     "name": "stdout",
     "output_type": "stream",
     "text": [
      "ID\n",
      "0     29.912037\n",
      "1     12.990741\n",
      "2     34.189815\n",
      "3     32.560185\n",
      "4     19.416667\n",
      "5     10.439815\n",
      "6      7.518519\n",
      "7     15.310185\n",
      "8     27.037037\n",
      "9     31.388889\n",
      "10     2.782407\n",
      "11    29.342593\n",
      "12    24.851852\n",
      "13    17.875000\n",
      "14    10.777778\n",
      "15     8.902778\n",
      "16    13.472222\n",
      "17    11.444444\n",
      "18    17.708333\n",
      "19     8.129630\n",
      "20     2.898148\n",
      "21    13.532407\n",
      "22     2.314815\n",
      "23    13.606481\n",
      "24    28.287037\n",
      "25    23.837963\n",
      "26    18.907407\n",
      "27    21.222222\n",
      "28    21.907407\n",
      "29    13.324074\n",
      "30     6.023148\n",
      "31    26.893519\n",
      "32     6.199074\n",
      "33    25.199074\n",
      "34    25.023148\n",
      "Name: rank, dtype: float64\n"
     ]
    },
    {
     "data": {
      "application/vnd.plotly.v1+json": {
       "config": {
        "plotlyServerURL": "https://plot.ly"
       },
       "data": [
        {
         "alignmentgroup": "True",
         "hovertemplate": "Catalyst Class=%{x}<br>Rank Gen=%{y}<extra></extra>",
         "legendgroup": "",
         "marker": {
          "color": "#1F77B4",
          "pattern": {
           "shape": ""
          }
         },
         "name": "",
         "offsetgroup": "",
         "orientation": "v",
         "showlegend": false,
         "textposition": "auto",
         "type": "bar",
         "x": [
          0,
          1,
          2,
          3,
          4,
          5,
          6,
          7,
          8,
          9,
          10,
          11,
          12,
          13,
          14,
          15,
          16,
          17,
          18,
          19,
          20,
          21,
          22,
          23,
          24,
          25,
          26,
          27,
          28,
          29,
          30,
          31,
          32,
          33,
          34
         ],
         "xaxis": "x",
         "y": [
          29.912037037037038,
          12.99074074074074,
          34.18981481481482,
          32.56018518518518,
          19.416666666666668,
          10.439814814814815,
          7.518518518518518,
          15.310185185185185,
          27.037037037037038,
          31.38888888888889,
          2.7824074074074074,
          29.34259259259259,
          24.85185185185185,
          17.875,
          10.777777777777779,
          8.902777777777779,
          13.472222222222221,
          11.444444444444445,
          17.708333333333332,
          8.12962962962963,
          2.8981481481481484,
          13.532407407407407,
          2.314814814814815,
          13.606481481481481,
          28.287037037037038,
          23.837962962962962,
          18.90740740740741,
          21.22222222222222,
          21.90740740740741,
          13.324074074074074,
          6.023148148148148,
          26.89351851851852,
          6.199074074074074,
          25.199074074074073,
          25.02314814814815
         ],
         "yaxis": "y"
        }
       ],
       "layout": {
        "barmode": "relative",
        "font": {
         "size": 20
        },
        "height": 720,
        "legend": {
         "tracegroupgap": 0
        },
        "template": {
         "data": {
          "bar": [
           {
            "error_x": {
             "color": "rgb(36,36,36)"
            },
            "error_y": {
             "color": "rgb(36,36,36)"
            },
            "marker": {
             "line": {
              "color": "white",
              "width": 0.5
             },
             "pattern": {
              "fillmode": "overlay",
              "size": 10,
              "solidity": 0.2
             }
            },
            "type": "bar"
           }
          ],
          "barpolar": [
           {
            "marker": {
             "line": {
              "color": "white",
              "width": 0.5
             },
             "pattern": {
              "fillmode": "overlay",
              "size": 10,
              "solidity": 0.2
             }
            },
            "type": "barpolar"
           }
          ],
          "carpet": [
           {
            "aaxis": {
             "endlinecolor": "rgb(36,36,36)",
             "gridcolor": "white",
             "linecolor": "white",
             "minorgridcolor": "white",
             "startlinecolor": "rgb(36,36,36)"
            },
            "baxis": {
             "endlinecolor": "rgb(36,36,36)",
             "gridcolor": "white",
             "linecolor": "white",
             "minorgridcolor": "white",
             "startlinecolor": "rgb(36,36,36)"
            },
            "type": "carpet"
           }
          ],
          "choropleth": [
           {
            "colorbar": {
             "outlinewidth": 1,
             "tickcolor": "rgb(36,36,36)",
             "ticks": "outside"
            },
            "type": "choropleth"
           }
          ],
          "contour": [
           {
            "colorbar": {
             "outlinewidth": 1,
             "tickcolor": "rgb(36,36,36)",
             "ticks": "outside"
            },
            "colorscale": [
             [
              0,
              "#440154"
             ],
             [
              0.1111111111111111,
              "#482878"
             ],
             [
              0.2222222222222222,
              "#3e4989"
             ],
             [
              0.3333333333333333,
              "#31688e"
             ],
             [
              0.4444444444444444,
              "#26828e"
             ],
             [
              0.5555555555555556,
              "#1f9e89"
             ],
             [
              0.6666666666666666,
              "#35b779"
             ],
             [
              0.7777777777777778,
              "#6ece58"
             ],
             [
              0.8888888888888888,
              "#b5de2b"
             ],
             [
              1,
              "#fde725"
             ]
            ],
            "type": "contour"
           }
          ],
          "contourcarpet": [
           {
            "colorbar": {
             "outlinewidth": 1,
             "tickcolor": "rgb(36,36,36)",
             "ticks": "outside"
            },
            "type": "contourcarpet"
           }
          ],
          "heatmap": [
           {
            "colorbar": {
             "outlinewidth": 1,
             "tickcolor": "rgb(36,36,36)",
             "ticks": "outside"
            },
            "colorscale": [
             [
              0,
              "#440154"
             ],
             [
              0.1111111111111111,
              "#482878"
             ],
             [
              0.2222222222222222,
              "#3e4989"
             ],
             [
              0.3333333333333333,
              "#31688e"
             ],
             [
              0.4444444444444444,
              "#26828e"
             ],
             [
              0.5555555555555556,
              "#1f9e89"
             ],
             [
              0.6666666666666666,
              "#35b779"
             ],
             [
              0.7777777777777778,
              "#6ece58"
             ],
             [
              0.8888888888888888,
              "#b5de2b"
             ],
             [
              1,
              "#fde725"
             ]
            ],
            "type": "heatmap"
           }
          ],
          "heatmapgl": [
           {
            "colorbar": {
             "outlinewidth": 1,
             "tickcolor": "rgb(36,36,36)",
             "ticks": "outside"
            },
            "colorscale": [
             [
              0,
              "#440154"
             ],
             [
              0.1111111111111111,
              "#482878"
             ],
             [
              0.2222222222222222,
              "#3e4989"
             ],
             [
              0.3333333333333333,
              "#31688e"
             ],
             [
              0.4444444444444444,
              "#26828e"
             ],
             [
              0.5555555555555556,
              "#1f9e89"
             ],
             [
              0.6666666666666666,
              "#35b779"
             ],
             [
              0.7777777777777778,
              "#6ece58"
             ],
             [
              0.8888888888888888,
              "#b5de2b"
             ],
             [
              1,
              "#fde725"
             ]
            ],
            "type": "heatmapgl"
           }
          ],
          "histogram": [
           {
            "marker": {
             "line": {
              "color": "white",
              "width": 0.6
             }
            },
            "type": "histogram"
           }
          ],
          "histogram2d": [
           {
            "colorbar": {
             "outlinewidth": 1,
             "tickcolor": "rgb(36,36,36)",
             "ticks": "outside"
            },
            "colorscale": [
             [
              0,
              "#440154"
             ],
             [
              0.1111111111111111,
              "#482878"
             ],
             [
              0.2222222222222222,
              "#3e4989"
             ],
             [
              0.3333333333333333,
              "#31688e"
             ],
             [
              0.4444444444444444,
              "#26828e"
             ],
             [
              0.5555555555555556,
              "#1f9e89"
             ],
             [
              0.6666666666666666,
              "#35b779"
             ],
             [
              0.7777777777777778,
              "#6ece58"
             ],
             [
              0.8888888888888888,
              "#b5de2b"
             ],
             [
              1,
              "#fde725"
             ]
            ],
            "type": "histogram2d"
           }
          ],
          "histogram2dcontour": [
           {
            "colorbar": {
             "outlinewidth": 1,
             "tickcolor": "rgb(36,36,36)",
             "ticks": "outside"
            },
            "colorscale": [
             [
              0,
              "#440154"
             ],
             [
              0.1111111111111111,
              "#482878"
             ],
             [
              0.2222222222222222,
              "#3e4989"
             ],
             [
              0.3333333333333333,
              "#31688e"
             ],
             [
              0.4444444444444444,
              "#26828e"
             ],
             [
              0.5555555555555556,
              "#1f9e89"
             ],
             [
              0.6666666666666666,
              "#35b779"
             ],
             [
              0.7777777777777778,
              "#6ece58"
             ],
             [
              0.8888888888888888,
              "#b5de2b"
             ],
             [
              1,
              "#fde725"
             ]
            ],
            "type": "histogram2dcontour"
           }
          ],
          "mesh3d": [
           {
            "colorbar": {
             "outlinewidth": 1,
             "tickcolor": "rgb(36,36,36)",
             "ticks": "outside"
            },
            "type": "mesh3d"
           }
          ],
          "parcoords": [
           {
            "line": {
             "colorbar": {
              "outlinewidth": 1,
              "tickcolor": "rgb(36,36,36)",
              "ticks": "outside"
             }
            },
            "type": "parcoords"
           }
          ],
          "pie": [
           {
            "automargin": true,
            "type": "pie"
           }
          ],
          "scatter": [
           {
            "fillpattern": {
             "fillmode": "overlay",
             "size": 10,
             "solidity": 0.2
            },
            "type": "scatter"
           }
          ],
          "scatter3d": [
           {
            "line": {
             "colorbar": {
              "outlinewidth": 1,
              "tickcolor": "rgb(36,36,36)",
              "ticks": "outside"
             }
            },
            "marker": {
             "colorbar": {
              "outlinewidth": 1,
              "tickcolor": "rgb(36,36,36)",
              "ticks": "outside"
             }
            },
            "type": "scatter3d"
           }
          ],
          "scattercarpet": [
           {
            "marker": {
             "colorbar": {
              "outlinewidth": 1,
              "tickcolor": "rgb(36,36,36)",
              "ticks": "outside"
             }
            },
            "type": "scattercarpet"
           }
          ],
          "scattergeo": [
           {
            "marker": {
             "colorbar": {
              "outlinewidth": 1,
              "tickcolor": "rgb(36,36,36)",
              "ticks": "outside"
             }
            },
            "type": "scattergeo"
           }
          ],
          "scattergl": [
           {
            "marker": {
             "colorbar": {
              "outlinewidth": 1,
              "tickcolor": "rgb(36,36,36)",
              "ticks": "outside"
             }
            },
            "type": "scattergl"
           }
          ],
          "scattermapbox": [
           {
            "marker": {
             "colorbar": {
              "outlinewidth": 1,
              "tickcolor": "rgb(36,36,36)",
              "ticks": "outside"
             }
            },
            "type": "scattermapbox"
           }
          ],
          "scatterpolar": [
           {
            "marker": {
             "colorbar": {
              "outlinewidth": 1,
              "tickcolor": "rgb(36,36,36)",
              "ticks": "outside"
             }
            },
            "type": "scatterpolar"
           }
          ],
          "scatterpolargl": [
           {
            "marker": {
             "colorbar": {
              "outlinewidth": 1,
              "tickcolor": "rgb(36,36,36)",
              "ticks": "outside"
             }
            },
            "type": "scatterpolargl"
           }
          ],
          "scatterternary": [
           {
            "marker": {
             "colorbar": {
              "outlinewidth": 1,
              "tickcolor": "rgb(36,36,36)",
              "ticks": "outside"
             }
            },
            "type": "scatterternary"
           }
          ],
          "surface": [
           {
            "colorbar": {
             "outlinewidth": 1,
             "tickcolor": "rgb(36,36,36)",
             "ticks": "outside"
            },
            "colorscale": [
             [
              0,
              "#440154"
             ],
             [
              0.1111111111111111,
              "#482878"
             ],
             [
              0.2222222222222222,
              "#3e4989"
             ],
             [
              0.3333333333333333,
              "#31688e"
             ],
             [
              0.4444444444444444,
              "#26828e"
             ],
             [
              0.5555555555555556,
              "#1f9e89"
             ],
             [
              0.6666666666666666,
              "#35b779"
             ],
             [
              0.7777777777777778,
              "#6ece58"
             ],
             [
              0.8888888888888888,
              "#b5de2b"
             ],
             [
              1,
              "#fde725"
             ]
            ],
            "type": "surface"
           }
          ],
          "table": [
           {
            "cells": {
             "fill": {
              "color": "rgb(237,237,237)"
             },
             "line": {
              "color": "white"
             }
            },
            "header": {
             "fill": {
              "color": "rgb(217,217,217)"
             },
             "line": {
              "color": "white"
             }
            },
            "type": "table"
           }
          ]
         },
         "layout": {
          "annotationdefaults": {
           "arrowhead": 0,
           "arrowwidth": 1
          },
          "autotypenumbers": "strict",
          "coloraxis": {
           "colorbar": {
            "outlinewidth": 1,
            "tickcolor": "rgb(36,36,36)",
            "ticks": "outside"
           }
          },
          "colorscale": {
           "diverging": [
            [
             0,
             "rgb(103,0,31)"
            ],
            [
             0.1,
             "rgb(178,24,43)"
            ],
            [
             0.2,
             "rgb(214,96,77)"
            ],
            [
             0.3,
             "rgb(244,165,130)"
            ],
            [
             0.4,
             "rgb(253,219,199)"
            ],
            [
             0.5,
             "rgb(247,247,247)"
            ],
            [
             0.6,
             "rgb(209,229,240)"
            ],
            [
             0.7,
             "rgb(146,197,222)"
            ],
            [
             0.8,
             "rgb(67,147,195)"
            ],
            [
             0.9,
             "rgb(33,102,172)"
            ],
            [
             1,
             "rgb(5,48,97)"
            ]
           ],
           "sequential": [
            [
             0,
             "#440154"
            ],
            [
             0.1111111111111111,
             "#482878"
            ],
            [
             0.2222222222222222,
             "#3e4989"
            ],
            [
             0.3333333333333333,
             "#31688e"
            ],
            [
             0.4444444444444444,
             "#26828e"
            ],
            [
             0.5555555555555556,
             "#1f9e89"
            ],
            [
             0.6666666666666666,
             "#35b779"
            ],
            [
             0.7777777777777778,
             "#6ece58"
            ],
            [
             0.8888888888888888,
             "#b5de2b"
            ],
            [
             1,
             "#fde725"
            ]
           ],
           "sequentialminus": [
            [
             0,
             "#440154"
            ],
            [
             0.1111111111111111,
             "#482878"
            ],
            [
             0.2222222222222222,
             "#3e4989"
            ],
            [
             0.3333333333333333,
             "#31688e"
            ],
            [
             0.4444444444444444,
             "#26828e"
            ],
            [
             0.5555555555555556,
             "#1f9e89"
            ],
            [
             0.6666666666666666,
             "#35b779"
            ],
            [
             0.7777777777777778,
             "#6ece58"
            ],
            [
             0.8888888888888888,
             "#b5de2b"
            ],
            [
             1,
             "#fde725"
            ]
           ]
          },
          "colorway": [
           "#1F77B4",
           "#FF7F0E",
           "#2CA02C",
           "#D62728",
           "#9467BD",
           "#8C564B",
           "#E377C2",
           "#7F7F7F",
           "#BCBD22",
           "#17BECF"
          ],
          "font": {
           "color": "rgb(36,36,36)"
          },
          "geo": {
           "bgcolor": "white",
           "lakecolor": "white",
           "landcolor": "white",
           "showlakes": true,
           "showland": true,
           "subunitcolor": "white"
          },
          "hoverlabel": {
           "align": "left"
          },
          "hovermode": "closest",
          "mapbox": {
           "style": "light"
          },
          "paper_bgcolor": "white",
          "plot_bgcolor": "white",
          "polar": {
           "angularaxis": {
            "gridcolor": "rgb(232,232,232)",
            "linecolor": "rgb(36,36,36)",
            "showgrid": false,
            "showline": true,
            "ticks": "outside"
           },
           "bgcolor": "white",
           "radialaxis": {
            "gridcolor": "rgb(232,232,232)",
            "linecolor": "rgb(36,36,36)",
            "showgrid": false,
            "showline": true,
            "ticks": "outside"
           }
          },
          "scene": {
           "xaxis": {
            "backgroundcolor": "white",
            "gridcolor": "rgb(232,232,232)",
            "gridwidth": 2,
            "linecolor": "rgb(36,36,36)",
            "showbackground": true,
            "showgrid": false,
            "showline": true,
            "ticks": "outside",
            "zeroline": false,
            "zerolinecolor": "rgb(36,36,36)"
           },
           "yaxis": {
            "backgroundcolor": "white",
            "gridcolor": "rgb(232,232,232)",
            "gridwidth": 2,
            "linecolor": "rgb(36,36,36)",
            "showbackground": true,
            "showgrid": false,
            "showline": true,
            "ticks": "outside",
            "zeroline": false,
            "zerolinecolor": "rgb(36,36,36)"
           },
           "zaxis": {
            "backgroundcolor": "white",
            "gridcolor": "rgb(232,232,232)",
            "gridwidth": 2,
            "linecolor": "rgb(36,36,36)",
            "showbackground": true,
            "showgrid": false,
            "showline": true,
            "ticks": "outside",
            "zeroline": false,
            "zerolinecolor": "rgb(36,36,36)"
           }
          },
          "shapedefaults": {
           "fillcolor": "black",
           "line": {
            "width": 0
           },
           "opacity": 0.3
          },
          "ternary": {
           "aaxis": {
            "gridcolor": "rgb(232,232,232)",
            "linecolor": "rgb(36,36,36)",
            "showgrid": false,
            "showline": true,
            "ticks": "outside"
           },
           "baxis": {
            "gridcolor": "rgb(232,232,232)",
            "linecolor": "rgb(36,36,36)",
            "showgrid": false,
            "showline": true,
            "ticks": "outside"
           },
           "bgcolor": "white",
           "caxis": {
            "gridcolor": "rgb(232,232,232)",
            "linecolor": "rgb(36,36,36)",
            "showgrid": false,
            "showline": true,
            "ticks": "outside"
           }
          },
          "title": {
           "x": 0.05
          },
          "xaxis": {
           "automargin": true,
           "gridcolor": "rgb(232,232,232)",
           "linecolor": "rgb(36,36,36)",
           "showgrid": false,
           "showline": true,
           "ticks": "outside",
           "title": {
            "standoff": 15
           },
           "zeroline": false,
           "zerolinecolor": "rgb(36,36,36)"
          },
          "yaxis": {
           "automargin": true,
           "gridcolor": "rgb(232,232,232)",
           "linecolor": "rgb(36,36,36)",
           "showgrid": false,
           "showline": true,
           "ticks": "outside",
           "title": {
            "standoff": 15
           },
           "zeroline": false,
           "zerolinecolor": "rgb(36,36,36)"
          }
         }
        },
        "title": {
         "text": "Ranking"
        },
        "width": 980,
        "xaxis": {
         "anchor": "y",
         "domain": [
          0,
          1
         ],
         "mirror": true,
         "title": {
          "text": "Catalyst Class"
         }
        },
        "yaxis": {
         "anchor": "x",
         "domain": [
          0,
          1
         ],
         "mirror": true,
         "title": {
          "text": "Rank Gen"
         }
        }
       }
      }
     },
     "metadata": {},
     "output_type": "display_data"
    },
    {
     "data": {
      "text/plain": [
       "ID\n",
       "22     2.314815\n",
       "10     2.782407\n",
       "20     2.898148\n",
       "30     6.023148\n",
       "32     6.199074\n",
       "6      7.518519\n",
       "19     8.129630\n",
       "15     8.902778\n",
       "5     10.439815\n",
       "14    10.777778\n",
       "17    11.444444\n",
       "1     12.990741\n",
       "29    13.324074\n",
       "16    13.472222\n",
       "21    13.532407\n",
       "23    13.606481\n",
       "7     15.310185\n",
       "18    17.708333\n",
       "13    17.875000\n",
       "26    18.907407\n",
       "4     19.416667\n",
       "27    21.222222\n",
       "28    21.907407\n",
       "25    23.837963\n",
       "12    24.851852\n",
       "34    25.023148\n",
       "33    25.199074\n",
       "31    26.893519\n",
       "8     27.037037\n",
       "24    28.287037\n",
       "11    29.342593\n",
       "0     29.912037\n",
       "9     31.388889\n",
       "3     32.560185\n",
       "2     34.189815\n",
       "Name: rank, dtype: float64"
      ]
     },
     "execution_count": 5,
     "metadata": {},
     "output_type": "execute_result"
    }
   ],
   "source": [
    "\n",
    "mean_rank = df_ee.groupby(['ID'])['rank'].mean()\n",
    "print(mean_rank)\n",
    "\n",
    "fig = px.bar(x=mean_rank.index, y=mean_rank,\n",
    "                labels={'x':'Catalyst Class', 'y':'Rank Gen'}, title='Ranking',\n",
    "                template='simple_white',\n",
    "                width=980, height=720,\n",
    "                )\n",
    "\n",
    "fig.update_xaxes(mirror=True)\n",
    "fig.update_yaxes(mirror=True)\n",
    "\n",
    "fig.update_layout(\n",
    "    font_size=20,\n",
    ")\n",
    "\n",
    "fig.show()\n",
    "mean_rank.sort_values()"
   ]
  },
  {
   "cell_type": "code",
   "execution_count": 6,
   "metadata": {},
   "outputs": [
    {
     "data": {
      "application/vnd.plotly.v1+json": {
       "config": {
        "plotlyServerURL": "https://plot.ly"
       },
       "data": [
        {
         "alignmentgroup": "True",
         "hovertemplate": "level_1=VAR<br>ID=%{x}<br>ee=%{y}<extra></extra>",
         "legendgroup": "VAR",
         "marker": {
          "color": "#636efa",
          "pattern": {
           "shape": ""
          }
         },
         "name": "VAR",
         "offsetgroup": "VAR",
         "orientation": "v",
         "showlegend": true,
         "textposition": "auto",
         "type": "bar",
         "x": [
          0,
          1,
          2,
          3,
          4,
          5,
          6,
          7,
          8,
          9,
          10,
          11,
          12,
          13,
          14,
          15,
          16,
          17,
          18,
          19,
          20,
          21,
          22,
          23,
          24,
          25,
          26,
          27,
          28,
          29,
          30,
          31,
          32,
          33,
          34
         ],
         "xaxis": "x",
         "y": [
          31.704441539773455,
          76.56013436841933,
          13.463194573704252,
          34.07749514315124,
          65.92412046678533,
          77.69653009660293,
          80.1760864874023,
          73.36209226371754,
          45.48397349511096,
          36.68815457474198,
          85.5121569781586,
          35.70546121839646,
          56.41274462501673,
          69.89742645354825,
          78.14562310035005,
          78.20258851926029,
          76.8661549655277,
          78.64712116299613,
          68.23616025540163,
          79.8421841139843,
          85.91071444765261,
          77.68170369000151,
          86.02153374431245,
          77.67986349001988,
          44.83744160259998,
          68.21081291242112,
          66.20861728301536,
          65.4642934162899,
          65.43378556108063,
          73.86436766927444,
          82.1360569419185,
          47.881649852861486,
          81.09393916910773,
          66.01608572987365,
          66.87263803240833
         ],
         "yaxis": "y"
        },
        {
         "alignmentgroup": "True",
         "hovertemplate": "level_1=ES<br>ID=%{x}<br>ee=%{y}<extra></extra>",
         "legendgroup": "ES",
         "marker": {
          "color": "#EF553B",
          "pattern": {
           "shape": ""
          }
         },
         "name": "ES",
         "offsetgroup": "ES",
         "orientation": "v",
         "showlegend": true,
         "textposition": "auto",
         "type": "bar",
         "x": [
          0,
          1,
          2,
          3,
          4,
          5,
          6,
          7,
          8,
          9,
          10,
          11,
          12,
          13,
          14,
          15,
          16,
          17,
          18,
          19,
          20,
          21,
          22,
          23,
          24,
          25,
          26,
          27,
          28,
          29,
          30,
          31,
          32,
          33,
          34
         ],
         "xaxis": "x",
         "y": [
          29.453820035576356,
          74.77079639738744,
          10.64822872358535,
          29.011053815832383,
          59.35133380040424,
          75.36660084324764,
          77.35243316347315,
          70.51653386677721,
          40.131465460334546,
          32.46531398726158,
          83.61301675763806,
          33.6610467039617,
          52.438143299007955,
          64.53116344361705,
          75.91070957640156,
          75.8217154221247,
          74.96320865355322,
          76.12599173497573,
          62.87600055060045,
          77.50164405341266,
          83.9587331977407,
          75.52117718374122,
          84.09501579807248,
          75.44456838466193,
          42.888580165042704,
          66.34543351188559,
          55.04304044809371,
          54.05994325678517,
          53.96329919882896,
          72.02512060170534,
          81.03064926474673,
          42.119006729064544,
          78.426296925187,
          63.68693504866996,
          64.38003155860281
         ],
         "yaxis": "y"
        }
       ],
       "layout": {
        "barmode": "group",
        "height": 720,
        "legend": {
         "title": {},
         "tracegroupgap": 0
        },
        "template": {
         "data": {
          "bar": [
           {
            "error_x": {
             "color": "rgb(36,36,36)"
            },
            "error_y": {
             "color": "rgb(36,36,36)"
            },
            "marker": {
             "line": {
              "color": "white",
              "width": 0.5
             },
             "pattern": {
              "fillmode": "overlay",
              "size": 10,
              "solidity": 0.2
             }
            },
            "type": "bar"
           }
          ],
          "barpolar": [
           {
            "marker": {
             "line": {
              "color": "white",
              "width": 0.5
             },
             "pattern": {
              "fillmode": "overlay",
              "size": 10,
              "solidity": 0.2
             }
            },
            "type": "barpolar"
           }
          ],
          "carpet": [
           {
            "aaxis": {
             "endlinecolor": "rgb(36,36,36)",
             "gridcolor": "white",
             "linecolor": "white",
             "minorgridcolor": "white",
             "startlinecolor": "rgb(36,36,36)"
            },
            "baxis": {
             "endlinecolor": "rgb(36,36,36)",
             "gridcolor": "white",
             "linecolor": "white",
             "minorgridcolor": "white",
             "startlinecolor": "rgb(36,36,36)"
            },
            "type": "carpet"
           }
          ],
          "choropleth": [
           {
            "colorbar": {
             "outlinewidth": 1,
             "tickcolor": "rgb(36,36,36)",
             "ticks": "outside"
            },
            "type": "choropleth"
           }
          ],
          "contour": [
           {
            "colorbar": {
             "outlinewidth": 1,
             "tickcolor": "rgb(36,36,36)",
             "ticks": "outside"
            },
            "colorscale": [
             [
              0,
              "#440154"
             ],
             [
              0.1111111111111111,
              "#482878"
             ],
             [
              0.2222222222222222,
              "#3e4989"
             ],
             [
              0.3333333333333333,
              "#31688e"
             ],
             [
              0.4444444444444444,
              "#26828e"
             ],
             [
              0.5555555555555556,
              "#1f9e89"
             ],
             [
              0.6666666666666666,
              "#35b779"
             ],
             [
              0.7777777777777778,
              "#6ece58"
             ],
             [
              0.8888888888888888,
              "#b5de2b"
             ],
             [
              1,
              "#fde725"
             ]
            ],
            "type": "contour"
           }
          ],
          "contourcarpet": [
           {
            "colorbar": {
             "outlinewidth": 1,
             "tickcolor": "rgb(36,36,36)",
             "ticks": "outside"
            },
            "type": "contourcarpet"
           }
          ],
          "heatmap": [
           {
            "colorbar": {
             "outlinewidth": 1,
             "tickcolor": "rgb(36,36,36)",
             "ticks": "outside"
            },
            "colorscale": [
             [
              0,
              "#440154"
             ],
             [
              0.1111111111111111,
              "#482878"
             ],
             [
              0.2222222222222222,
              "#3e4989"
             ],
             [
              0.3333333333333333,
              "#31688e"
             ],
             [
              0.4444444444444444,
              "#26828e"
             ],
             [
              0.5555555555555556,
              "#1f9e89"
             ],
             [
              0.6666666666666666,
              "#35b779"
             ],
             [
              0.7777777777777778,
              "#6ece58"
             ],
             [
              0.8888888888888888,
              "#b5de2b"
             ],
             [
              1,
              "#fde725"
             ]
            ],
            "type": "heatmap"
           }
          ],
          "heatmapgl": [
           {
            "colorbar": {
             "outlinewidth": 1,
             "tickcolor": "rgb(36,36,36)",
             "ticks": "outside"
            },
            "colorscale": [
             [
              0,
              "#440154"
             ],
             [
              0.1111111111111111,
              "#482878"
             ],
             [
              0.2222222222222222,
              "#3e4989"
             ],
             [
              0.3333333333333333,
              "#31688e"
             ],
             [
              0.4444444444444444,
              "#26828e"
             ],
             [
              0.5555555555555556,
              "#1f9e89"
             ],
             [
              0.6666666666666666,
              "#35b779"
             ],
             [
              0.7777777777777778,
              "#6ece58"
             ],
             [
              0.8888888888888888,
              "#b5de2b"
             ],
             [
              1,
              "#fde725"
             ]
            ],
            "type": "heatmapgl"
           }
          ],
          "histogram": [
           {
            "marker": {
             "line": {
              "color": "white",
              "width": 0.6
             }
            },
            "type": "histogram"
           }
          ],
          "histogram2d": [
           {
            "colorbar": {
             "outlinewidth": 1,
             "tickcolor": "rgb(36,36,36)",
             "ticks": "outside"
            },
            "colorscale": [
             [
              0,
              "#440154"
             ],
             [
              0.1111111111111111,
              "#482878"
             ],
             [
              0.2222222222222222,
              "#3e4989"
             ],
             [
              0.3333333333333333,
              "#31688e"
             ],
             [
              0.4444444444444444,
              "#26828e"
             ],
             [
              0.5555555555555556,
              "#1f9e89"
             ],
             [
              0.6666666666666666,
              "#35b779"
             ],
             [
              0.7777777777777778,
              "#6ece58"
             ],
             [
              0.8888888888888888,
              "#b5de2b"
             ],
             [
              1,
              "#fde725"
             ]
            ],
            "type": "histogram2d"
           }
          ],
          "histogram2dcontour": [
           {
            "colorbar": {
             "outlinewidth": 1,
             "tickcolor": "rgb(36,36,36)",
             "ticks": "outside"
            },
            "colorscale": [
             [
              0,
              "#440154"
             ],
             [
              0.1111111111111111,
              "#482878"
             ],
             [
              0.2222222222222222,
              "#3e4989"
             ],
             [
              0.3333333333333333,
              "#31688e"
             ],
             [
              0.4444444444444444,
              "#26828e"
             ],
             [
              0.5555555555555556,
              "#1f9e89"
             ],
             [
              0.6666666666666666,
              "#35b779"
             ],
             [
              0.7777777777777778,
              "#6ece58"
             ],
             [
              0.8888888888888888,
              "#b5de2b"
             ],
             [
              1,
              "#fde725"
             ]
            ],
            "type": "histogram2dcontour"
           }
          ],
          "mesh3d": [
           {
            "colorbar": {
             "outlinewidth": 1,
             "tickcolor": "rgb(36,36,36)",
             "ticks": "outside"
            },
            "type": "mesh3d"
           }
          ],
          "parcoords": [
           {
            "line": {
             "colorbar": {
              "outlinewidth": 1,
              "tickcolor": "rgb(36,36,36)",
              "ticks": "outside"
             }
            },
            "type": "parcoords"
           }
          ],
          "pie": [
           {
            "automargin": true,
            "type": "pie"
           }
          ],
          "scatter": [
           {
            "fillpattern": {
             "fillmode": "overlay",
             "size": 10,
             "solidity": 0.2
            },
            "type": "scatter"
           }
          ],
          "scatter3d": [
           {
            "line": {
             "colorbar": {
              "outlinewidth": 1,
              "tickcolor": "rgb(36,36,36)",
              "ticks": "outside"
             }
            },
            "marker": {
             "colorbar": {
              "outlinewidth": 1,
              "tickcolor": "rgb(36,36,36)",
              "ticks": "outside"
             }
            },
            "type": "scatter3d"
           }
          ],
          "scattercarpet": [
           {
            "marker": {
             "colorbar": {
              "outlinewidth": 1,
              "tickcolor": "rgb(36,36,36)",
              "ticks": "outside"
             }
            },
            "type": "scattercarpet"
           }
          ],
          "scattergeo": [
           {
            "marker": {
             "colorbar": {
              "outlinewidth": 1,
              "tickcolor": "rgb(36,36,36)",
              "ticks": "outside"
             }
            },
            "type": "scattergeo"
           }
          ],
          "scattergl": [
           {
            "marker": {
             "colorbar": {
              "outlinewidth": 1,
              "tickcolor": "rgb(36,36,36)",
              "ticks": "outside"
             }
            },
            "type": "scattergl"
           }
          ],
          "scattermapbox": [
           {
            "marker": {
             "colorbar": {
              "outlinewidth": 1,
              "tickcolor": "rgb(36,36,36)",
              "ticks": "outside"
             }
            },
            "type": "scattermapbox"
           }
          ],
          "scatterpolar": [
           {
            "marker": {
             "colorbar": {
              "outlinewidth": 1,
              "tickcolor": "rgb(36,36,36)",
              "ticks": "outside"
             }
            },
            "type": "scatterpolar"
           }
          ],
          "scatterpolargl": [
           {
            "marker": {
             "colorbar": {
              "outlinewidth": 1,
              "tickcolor": "rgb(36,36,36)",
              "ticks": "outside"
             }
            },
            "type": "scatterpolargl"
           }
          ],
          "scatterternary": [
           {
            "marker": {
             "colorbar": {
              "outlinewidth": 1,
              "tickcolor": "rgb(36,36,36)",
              "ticks": "outside"
             }
            },
            "type": "scatterternary"
           }
          ],
          "surface": [
           {
            "colorbar": {
             "outlinewidth": 1,
             "tickcolor": "rgb(36,36,36)",
             "ticks": "outside"
            },
            "colorscale": [
             [
              0,
              "#440154"
             ],
             [
              0.1111111111111111,
              "#482878"
             ],
             [
              0.2222222222222222,
              "#3e4989"
             ],
             [
              0.3333333333333333,
              "#31688e"
             ],
             [
              0.4444444444444444,
              "#26828e"
             ],
             [
              0.5555555555555556,
              "#1f9e89"
             ],
             [
              0.6666666666666666,
              "#35b779"
             ],
             [
              0.7777777777777778,
              "#6ece58"
             ],
             [
              0.8888888888888888,
              "#b5de2b"
             ],
             [
              1,
              "#fde725"
             ]
            ],
            "type": "surface"
           }
          ],
          "table": [
           {
            "cells": {
             "fill": {
              "color": "rgb(237,237,237)"
             },
             "line": {
              "color": "white"
             }
            },
            "header": {
             "fill": {
              "color": "rgb(217,217,217)"
             },
             "line": {
              "color": "white"
             }
            },
            "type": "table"
           }
          ]
         },
         "layout": {
          "annotationdefaults": {
           "arrowhead": 0,
           "arrowwidth": 1
          },
          "autotypenumbers": "strict",
          "coloraxis": {
           "colorbar": {
            "outlinewidth": 1,
            "tickcolor": "rgb(36,36,36)",
            "ticks": "outside"
           }
          },
          "colorscale": {
           "diverging": [
            [
             0,
             "rgb(103,0,31)"
            ],
            [
             0.1,
             "rgb(178,24,43)"
            ],
            [
             0.2,
             "rgb(214,96,77)"
            ],
            [
             0.3,
             "rgb(244,165,130)"
            ],
            [
             0.4,
             "rgb(253,219,199)"
            ],
            [
             0.5,
             "rgb(247,247,247)"
            ],
            [
             0.6,
             "rgb(209,229,240)"
            ],
            [
             0.7,
             "rgb(146,197,222)"
            ],
            [
             0.8,
             "rgb(67,147,195)"
            ],
            [
             0.9,
             "rgb(33,102,172)"
            ],
            [
             1,
             "rgb(5,48,97)"
            ]
           ],
           "sequential": [
            [
             0,
             "#440154"
            ],
            [
             0.1111111111111111,
             "#482878"
            ],
            [
             0.2222222222222222,
             "#3e4989"
            ],
            [
             0.3333333333333333,
             "#31688e"
            ],
            [
             0.4444444444444444,
             "#26828e"
            ],
            [
             0.5555555555555556,
             "#1f9e89"
            ],
            [
             0.6666666666666666,
             "#35b779"
            ],
            [
             0.7777777777777778,
             "#6ece58"
            ],
            [
             0.8888888888888888,
             "#b5de2b"
            ],
            [
             1,
             "#fde725"
            ]
           ],
           "sequentialminus": [
            [
             0,
             "#440154"
            ],
            [
             0.1111111111111111,
             "#482878"
            ],
            [
             0.2222222222222222,
             "#3e4989"
            ],
            [
             0.3333333333333333,
             "#31688e"
            ],
            [
             0.4444444444444444,
             "#26828e"
            ],
            [
             0.5555555555555556,
             "#1f9e89"
            ],
            [
             0.6666666666666666,
             "#35b779"
            ],
            [
             0.7777777777777778,
             "#6ece58"
            ],
            [
             0.8888888888888888,
             "#b5de2b"
            ],
            [
             1,
             "#fde725"
            ]
           ]
          },
          "colorway": [
           "#1F77B4",
           "#FF7F0E",
           "#2CA02C",
           "#D62728",
           "#9467BD",
           "#8C564B",
           "#E377C2",
           "#7F7F7F",
           "#BCBD22",
           "#17BECF"
          ],
          "font": {
           "color": "rgb(36,36,36)"
          },
          "geo": {
           "bgcolor": "white",
           "lakecolor": "white",
           "landcolor": "white",
           "showlakes": true,
           "showland": true,
           "subunitcolor": "white"
          },
          "hoverlabel": {
           "align": "left"
          },
          "hovermode": "closest",
          "mapbox": {
           "style": "light"
          },
          "paper_bgcolor": "white",
          "plot_bgcolor": "white",
          "polar": {
           "angularaxis": {
            "gridcolor": "rgb(232,232,232)",
            "linecolor": "rgb(36,36,36)",
            "showgrid": false,
            "showline": true,
            "ticks": "outside"
           },
           "bgcolor": "white",
           "radialaxis": {
            "gridcolor": "rgb(232,232,232)",
            "linecolor": "rgb(36,36,36)",
            "showgrid": false,
            "showline": true,
            "ticks": "outside"
           }
          },
          "scene": {
           "xaxis": {
            "backgroundcolor": "white",
            "gridcolor": "rgb(232,232,232)",
            "gridwidth": 2,
            "linecolor": "rgb(36,36,36)",
            "showbackground": true,
            "showgrid": false,
            "showline": true,
            "ticks": "outside",
            "zeroline": false,
            "zerolinecolor": "rgb(36,36,36)"
           },
           "yaxis": {
            "backgroundcolor": "white",
            "gridcolor": "rgb(232,232,232)",
            "gridwidth": 2,
            "linecolor": "rgb(36,36,36)",
            "showbackground": true,
            "showgrid": false,
            "showline": true,
            "ticks": "outside",
            "zeroline": false,
            "zerolinecolor": "rgb(36,36,36)"
           },
           "zaxis": {
            "backgroundcolor": "white",
            "gridcolor": "rgb(232,232,232)",
            "gridwidth": 2,
            "linecolor": "rgb(36,36,36)",
            "showbackground": true,
            "showgrid": false,
            "showline": true,
            "ticks": "outside",
            "zeroline": false,
            "zerolinecolor": "rgb(36,36,36)"
           }
          },
          "shapedefaults": {
           "fillcolor": "black",
           "line": {
            "width": 0
           },
           "opacity": 0.3
          },
          "ternary": {
           "aaxis": {
            "gridcolor": "rgb(232,232,232)",
            "linecolor": "rgb(36,36,36)",
            "showgrid": false,
            "showline": true,
            "ticks": "outside"
           },
           "baxis": {
            "gridcolor": "rgb(232,232,232)",
            "linecolor": "rgb(36,36,36)",
            "showgrid": false,
            "showline": true,
            "ticks": "outside"
           },
           "bgcolor": "white",
           "caxis": {
            "gridcolor": "rgb(232,232,232)",
            "linecolor": "rgb(36,36,36)",
            "showgrid": false,
            "showline": true,
            "ticks": "outside"
           }
          },
          "title": {
           "x": 0.05
          },
          "xaxis": {
           "automargin": true,
           "gridcolor": "rgb(232,232,232)",
           "linecolor": "rgb(36,36,36)",
           "showgrid": false,
           "showline": true,
           "ticks": "outside",
           "title": {
            "standoff": 15
           },
           "zeroline": false,
           "zerolinecolor": "rgb(36,36,36)"
          },
          "yaxis": {
           "automargin": true,
           "gridcolor": "rgb(232,232,232)",
           "linecolor": "rgb(36,36,36)",
           "showgrid": false,
           "showline": true,
           "ticks": "outside",
           "title": {
            "standoff": 15
           },
           "zeroline": false,
           "zerolinecolor": "rgb(36,36,36)"
          }
         }
        },
        "title": {
         "text": "VAR and ES by Asset Type"
        },
        "width": 980,
        "xaxis": {
         "anchor": "y",
         "domain": [
          0,
          1
         ],
         "tickangle": -4,
         "title": {
          "text": "Asset Type"
         }
        },
        "yaxis": {
         "anchor": "x",
         "domain": [
          0,
          1
         ],
         "title": {
          "text": "Value"
         }
        }
       }
      }
     },
     "metadata": {},
     "output_type": "display_data"
    },
    {
     "data": {
      "text/html": [
       "<div>\n",
       "<style scoped>\n",
       "    .dataframe tbody tr th:only-of-type {\n",
       "        vertical-align: middle;\n",
       "    }\n",
       "\n",
       "    .dataframe tbody tr th {\n",
       "        vertical-align: top;\n",
       "    }\n",
       "\n",
       "    .dataframe thead th {\n",
       "        text-align: right;\n",
       "    }\n",
       "</style>\n",
       "<table border=\"1\" class=\"dataframe\">\n",
       "  <thead>\n",
       "    <tr style=\"text-align: right;\">\n",
       "      <th></th>\n",
       "      <th>ID</th>\n",
       "      <th>level_1</th>\n",
       "      <th>ee</th>\n",
       "    </tr>\n",
       "  </thead>\n",
       "  <tbody>\n",
       "    <tr>\n",
       "      <th>0</th>\n",
       "      <td>0</td>\n",
       "      <td>VAR</td>\n",
       "      <td>31.704442</td>\n",
       "    </tr>\n",
       "    <tr>\n",
       "      <th>1</th>\n",
       "      <td>0</td>\n",
       "      <td>ES</td>\n",
       "      <td>29.453820</td>\n",
       "    </tr>\n",
       "    <tr>\n",
       "      <th>2</th>\n",
       "      <td>1</td>\n",
       "      <td>VAR</td>\n",
       "      <td>76.560134</td>\n",
       "    </tr>\n",
       "    <tr>\n",
       "      <th>3</th>\n",
       "      <td>1</td>\n",
       "      <td>ES</td>\n",
       "      <td>74.770796</td>\n",
       "    </tr>\n",
       "    <tr>\n",
       "      <th>4</th>\n",
       "      <td>2</td>\n",
       "      <td>VAR</td>\n",
       "      <td>13.463195</td>\n",
       "    </tr>\n",
       "    <tr>\n",
       "      <th>...</th>\n",
       "      <td>...</td>\n",
       "      <td>...</td>\n",
       "      <td>...</td>\n",
       "    </tr>\n",
       "    <tr>\n",
       "      <th>65</th>\n",
       "      <td>32</td>\n",
       "      <td>ES</td>\n",
       "      <td>78.426297</td>\n",
       "    </tr>\n",
       "    <tr>\n",
       "      <th>66</th>\n",
       "      <td>33</td>\n",
       "      <td>VAR</td>\n",
       "      <td>66.016086</td>\n",
       "    </tr>\n",
       "    <tr>\n",
       "      <th>67</th>\n",
       "      <td>33</td>\n",
       "      <td>ES</td>\n",
       "      <td>63.686935</td>\n",
       "    </tr>\n",
       "    <tr>\n",
       "      <th>68</th>\n",
       "      <td>34</td>\n",
       "      <td>VAR</td>\n",
       "      <td>66.872638</td>\n",
       "    </tr>\n",
       "    <tr>\n",
       "      <th>69</th>\n",
       "      <td>34</td>\n",
       "      <td>ES</td>\n",
       "      <td>64.380032</td>\n",
       "    </tr>\n",
       "  </tbody>\n",
       "</table>\n",
       "<p>70 rows × 3 columns</p>\n",
       "</div>"
      ],
      "text/plain": [
       "    ID level_1         ee\n",
       "0    0     VAR  31.704442\n",
       "1    0      ES  29.453820\n",
       "2    1     VAR  76.560134\n",
       "3    1      ES  74.770796\n",
       "4    2     VAR  13.463195\n",
       "..  ..     ...        ...\n",
       "65  32      ES  78.426297\n",
       "66  33     VAR  66.016086\n",
       "67  33      ES  63.686935\n",
       "68  34     VAR  66.872638\n",
       "69  34      ES  64.380032\n",
       "\n",
       "[70 rows x 3 columns]"
      ]
     },
     "execution_count": 6,
     "metadata": {},
     "output_type": "execute_result"
    }
   ],
   "source": [
    "def calculate_var_es(data):\n",
    "    var = np.percentile(data, 100 * (1 - 0.95))\n",
    "    tail_losses = data[data < var]\n",
    "    es = tail_losses.mean()\n",
    "    return pd.Series({'VAR': var, 'ES': es})\n",
    "\n",
    "results = df_ee.groupby('ID')['ee'].apply(calculate_var_es).reset_index()\n",
    "\n",
    "fig = px.bar(results, x='ID', y='ee', title='VAR and ES by Asset Type',\n",
    "             labels={'variable': 'Metric', 'value': 'Value'}, barmode='group',color='level_1')\n",
    "\n",
    "# Customize the layout\n",
    "fig.update_layout(xaxis_title='Asset Type', yaxis_title='Value', legend_title=None, xaxis_tickangle=-4,template='simple_white',width=980, height=720,\n",
    "                  )\n",
    "\n",
    "# Show the plot\n",
    "fig.show()\n",
    "results"
   ]
  },
  {
   "cell_type": "code",
   "execution_count": 7,
   "metadata": {},
   "outputs": [
    {
     "name": "stdout",
     "output_type": "stream",
     "text": [
      "ID\n",
      "0     29.912037\n",
      "1     12.990741\n",
      "2     34.189815\n",
      "3     32.560185\n",
      "4     19.416667\n",
      "5     10.439815\n",
      "6      7.518519\n",
      "7     15.310185\n",
      "8     27.037037\n",
      "9     31.388889\n",
      "10     2.782407\n",
      "11    29.342593\n",
      "12    24.851852\n",
      "13    17.875000\n",
      "14    10.777778\n",
      "15     8.902778\n",
      "16    13.472222\n",
      "17    11.444444\n",
      "18    17.708333\n",
      "19     8.129630\n",
      "20     2.898148\n",
      "21    13.532407\n",
      "22     2.314815\n",
      "23    13.606481\n",
      "24    28.287037\n",
      "25    23.837963\n",
      "26    18.907407\n",
      "27    21.222222\n",
      "28    21.907407\n",
      "29    13.324074\n",
      "30     6.023148\n",
      "31    26.893519\n",
      "32     6.199074\n",
      "33    25.199074\n",
      "34    25.023148\n",
      "Name: rank, dtype: float64\n"
     ]
    },
    {
     "data": {
      "application/vnd.plotly.v1+json": {
       "config": {
        "plotlyServerURL": "https://plot.ly"
       },
       "data": [
        {
         "alignmentgroup": "True",
         "hovertemplate": "Catalyst Class=%{x}<br>Rank Gen=%{y}<extra></extra>",
         "legendgroup": "",
         "marker": {
          "color": "#1F77B4",
          "pattern": {
           "shape": ""
          }
         },
         "name": "",
         "offsetgroup": "",
         "orientation": "v",
         "showlegend": false,
         "textposition": "auto",
         "type": "bar",
         "x": [
          0,
          1,
          2,
          3,
          4,
          5,
          6,
          7,
          8,
          9,
          10,
          11,
          12,
          13,
          14,
          15,
          16,
          17,
          18,
          19,
          20,
          21,
          22,
          23,
          24,
          25,
          26,
          27,
          28,
          29,
          30,
          31,
          32,
          33,
          34
         ],
         "xaxis": "x",
         "y": [
          2.009259259259259,
          12.25,
          0.032407407407407406,
          0.4166666666666667,
          8.421296296296296,
          13.810185185185185,
          15.416666666666666,
          10.828703703703704,
          3.7962962962962963,
          1.4351851851851851,
          18.078703703703702,
          2.4166666666666665,
          5.148148148148148,
          9.300925925925926,
          13.472222222222221,
          14.657407407407407,
          11.976851851851851,
          13.125,
          9.458333333333334,
          15.199074074074074,
          18.10185185185185,
          11.912037037037036,
          18.337962962962962,
          11.787037037037036,
          2.912037037037037,
          5.652777777777778,
          8.805555555555555,
          7.166666666666667,
          6.87962962962963,
          12.157407407407407,
          16.53240740740741,
          3.9814814814814814,
          16.28240740740741,
          4.87962962962963,
          5.013888888888889
         ],
         "yaxis": "y"
        }
       ],
       "layout": {
        "barmode": "relative",
        "font": {
         "size": 20
        },
        "height": 720,
        "legend": {
         "tracegroupgap": 0
        },
        "template": {
         "data": {
          "bar": [
           {
            "error_x": {
             "color": "rgb(36,36,36)"
            },
            "error_y": {
             "color": "rgb(36,36,36)"
            },
            "marker": {
             "line": {
              "color": "white",
              "width": 0.5
             },
             "pattern": {
              "fillmode": "overlay",
              "size": 10,
              "solidity": 0.2
             }
            },
            "type": "bar"
           }
          ],
          "barpolar": [
           {
            "marker": {
             "line": {
              "color": "white",
              "width": 0.5
             },
             "pattern": {
              "fillmode": "overlay",
              "size": 10,
              "solidity": 0.2
             }
            },
            "type": "barpolar"
           }
          ],
          "carpet": [
           {
            "aaxis": {
             "endlinecolor": "rgb(36,36,36)",
             "gridcolor": "white",
             "linecolor": "white",
             "minorgridcolor": "white",
             "startlinecolor": "rgb(36,36,36)"
            },
            "baxis": {
             "endlinecolor": "rgb(36,36,36)",
             "gridcolor": "white",
             "linecolor": "white",
             "minorgridcolor": "white",
             "startlinecolor": "rgb(36,36,36)"
            },
            "type": "carpet"
           }
          ],
          "choropleth": [
           {
            "colorbar": {
             "outlinewidth": 1,
             "tickcolor": "rgb(36,36,36)",
             "ticks": "outside"
            },
            "type": "choropleth"
           }
          ],
          "contour": [
           {
            "colorbar": {
             "outlinewidth": 1,
             "tickcolor": "rgb(36,36,36)",
             "ticks": "outside"
            },
            "colorscale": [
             [
              0,
              "#440154"
             ],
             [
              0.1111111111111111,
              "#482878"
             ],
             [
              0.2222222222222222,
              "#3e4989"
             ],
             [
              0.3333333333333333,
              "#31688e"
             ],
             [
              0.4444444444444444,
              "#26828e"
             ],
             [
              0.5555555555555556,
              "#1f9e89"
             ],
             [
              0.6666666666666666,
              "#35b779"
             ],
             [
              0.7777777777777778,
              "#6ece58"
             ],
             [
              0.8888888888888888,
              "#b5de2b"
             ],
             [
              1,
              "#fde725"
             ]
            ],
            "type": "contour"
           }
          ],
          "contourcarpet": [
           {
            "colorbar": {
             "outlinewidth": 1,
             "tickcolor": "rgb(36,36,36)",
             "ticks": "outside"
            },
            "type": "contourcarpet"
           }
          ],
          "heatmap": [
           {
            "colorbar": {
             "outlinewidth": 1,
             "tickcolor": "rgb(36,36,36)",
             "ticks": "outside"
            },
            "colorscale": [
             [
              0,
              "#440154"
             ],
             [
              0.1111111111111111,
              "#482878"
             ],
             [
              0.2222222222222222,
              "#3e4989"
             ],
             [
              0.3333333333333333,
              "#31688e"
             ],
             [
              0.4444444444444444,
              "#26828e"
             ],
             [
              0.5555555555555556,
              "#1f9e89"
             ],
             [
              0.6666666666666666,
              "#35b779"
             ],
             [
              0.7777777777777778,
              "#6ece58"
             ],
             [
              0.8888888888888888,
              "#b5de2b"
             ],
             [
              1,
              "#fde725"
             ]
            ],
            "type": "heatmap"
           }
          ],
          "heatmapgl": [
           {
            "colorbar": {
             "outlinewidth": 1,
             "tickcolor": "rgb(36,36,36)",
             "ticks": "outside"
            },
            "colorscale": [
             [
              0,
              "#440154"
             ],
             [
              0.1111111111111111,
              "#482878"
             ],
             [
              0.2222222222222222,
              "#3e4989"
             ],
             [
              0.3333333333333333,
              "#31688e"
             ],
             [
              0.4444444444444444,
              "#26828e"
             ],
             [
              0.5555555555555556,
              "#1f9e89"
             ],
             [
              0.6666666666666666,
              "#35b779"
             ],
             [
              0.7777777777777778,
              "#6ece58"
             ],
             [
              0.8888888888888888,
              "#b5de2b"
             ],
             [
              1,
              "#fde725"
             ]
            ],
            "type": "heatmapgl"
           }
          ],
          "histogram": [
           {
            "marker": {
             "line": {
              "color": "white",
              "width": 0.6
             }
            },
            "type": "histogram"
           }
          ],
          "histogram2d": [
           {
            "colorbar": {
             "outlinewidth": 1,
             "tickcolor": "rgb(36,36,36)",
             "ticks": "outside"
            },
            "colorscale": [
             [
              0,
              "#440154"
             ],
             [
              0.1111111111111111,
              "#482878"
             ],
             [
              0.2222222222222222,
              "#3e4989"
             ],
             [
              0.3333333333333333,
              "#31688e"
             ],
             [
              0.4444444444444444,
              "#26828e"
             ],
             [
              0.5555555555555556,
              "#1f9e89"
             ],
             [
              0.6666666666666666,
              "#35b779"
             ],
             [
              0.7777777777777778,
              "#6ece58"
             ],
             [
              0.8888888888888888,
              "#b5de2b"
             ],
             [
              1,
              "#fde725"
             ]
            ],
            "type": "histogram2d"
           }
          ],
          "histogram2dcontour": [
           {
            "colorbar": {
             "outlinewidth": 1,
             "tickcolor": "rgb(36,36,36)",
             "ticks": "outside"
            },
            "colorscale": [
             [
              0,
              "#440154"
             ],
             [
              0.1111111111111111,
              "#482878"
             ],
             [
              0.2222222222222222,
              "#3e4989"
             ],
             [
              0.3333333333333333,
              "#31688e"
             ],
             [
              0.4444444444444444,
              "#26828e"
             ],
             [
              0.5555555555555556,
              "#1f9e89"
             ],
             [
              0.6666666666666666,
              "#35b779"
             ],
             [
              0.7777777777777778,
              "#6ece58"
             ],
             [
              0.8888888888888888,
              "#b5de2b"
             ],
             [
              1,
              "#fde725"
             ]
            ],
            "type": "histogram2dcontour"
           }
          ],
          "mesh3d": [
           {
            "colorbar": {
             "outlinewidth": 1,
             "tickcolor": "rgb(36,36,36)",
             "ticks": "outside"
            },
            "type": "mesh3d"
           }
          ],
          "parcoords": [
           {
            "line": {
             "colorbar": {
              "outlinewidth": 1,
              "tickcolor": "rgb(36,36,36)",
              "ticks": "outside"
             }
            },
            "type": "parcoords"
           }
          ],
          "pie": [
           {
            "automargin": true,
            "type": "pie"
           }
          ],
          "scatter": [
           {
            "fillpattern": {
             "fillmode": "overlay",
             "size": 10,
             "solidity": 0.2
            },
            "type": "scatter"
           }
          ],
          "scatter3d": [
           {
            "line": {
             "colorbar": {
              "outlinewidth": 1,
              "tickcolor": "rgb(36,36,36)",
              "ticks": "outside"
             }
            },
            "marker": {
             "colorbar": {
              "outlinewidth": 1,
              "tickcolor": "rgb(36,36,36)",
              "ticks": "outside"
             }
            },
            "type": "scatter3d"
           }
          ],
          "scattercarpet": [
           {
            "marker": {
             "colorbar": {
              "outlinewidth": 1,
              "tickcolor": "rgb(36,36,36)",
              "ticks": "outside"
             }
            },
            "type": "scattercarpet"
           }
          ],
          "scattergeo": [
           {
            "marker": {
             "colorbar": {
              "outlinewidth": 1,
              "tickcolor": "rgb(36,36,36)",
              "ticks": "outside"
             }
            },
            "type": "scattergeo"
           }
          ],
          "scattergl": [
           {
            "marker": {
             "colorbar": {
              "outlinewidth": 1,
              "tickcolor": "rgb(36,36,36)",
              "ticks": "outside"
             }
            },
            "type": "scattergl"
           }
          ],
          "scattermapbox": [
           {
            "marker": {
             "colorbar": {
              "outlinewidth": 1,
              "tickcolor": "rgb(36,36,36)",
              "ticks": "outside"
             }
            },
            "type": "scattermapbox"
           }
          ],
          "scatterpolar": [
           {
            "marker": {
             "colorbar": {
              "outlinewidth": 1,
              "tickcolor": "rgb(36,36,36)",
              "ticks": "outside"
             }
            },
            "type": "scatterpolar"
           }
          ],
          "scatterpolargl": [
           {
            "marker": {
             "colorbar": {
              "outlinewidth": 1,
              "tickcolor": "rgb(36,36,36)",
              "ticks": "outside"
             }
            },
            "type": "scatterpolargl"
           }
          ],
          "scatterternary": [
           {
            "marker": {
             "colorbar": {
              "outlinewidth": 1,
              "tickcolor": "rgb(36,36,36)",
              "ticks": "outside"
             }
            },
            "type": "scatterternary"
           }
          ],
          "surface": [
           {
            "colorbar": {
             "outlinewidth": 1,
             "tickcolor": "rgb(36,36,36)",
             "ticks": "outside"
            },
            "colorscale": [
             [
              0,
              "#440154"
             ],
             [
              0.1111111111111111,
              "#482878"
             ],
             [
              0.2222222222222222,
              "#3e4989"
             ],
             [
              0.3333333333333333,
              "#31688e"
             ],
             [
              0.4444444444444444,
              "#26828e"
             ],
             [
              0.5555555555555556,
              "#1f9e89"
             ],
             [
              0.6666666666666666,
              "#35b779"
             ],
             [
              0.7777777777777778,
              "#6ece58"
             ],
             [
              0.8888888888888888,
              "#b5de2b"
             ],
             [
              1,
              "#fde725"
             ]
            ],
            "type": "surface"
           }
          ],
          "table": [
           {
            "cells": {
             "fill": {
              "color": "rgb(237,237,237)"
             },
             "line": {
              "color": "white"
             }
            },
            "header": {
             "fill": {
              "color": "rgb(217,217,217)"
             },
             "line": {
              "color": "white"
             }
            },
            "type": "table"
           }
          ]
         },
         "layout": {
          "annotationdefaults": {
           "arrowhead": 0,
           "arrowwidth": 1
          },
          "autotypenumbers": "strict",
          "coloraxis": {
           "colorbar": {
            "outlinewidth": 1,
            "tickcolor": "rgb(36,36,36)",
            "ticks": "outside"
           }
          },
          "colorscale": {
           "diverging": [
            [
             0,
             "rgb(103,0,31)"
            ],
            [
             0.1,
             "rgb(178,24,43)"
            ],
            [
             0.2,
             "rgb(214,96,77)"
            ],
            [
             0.3,
             "rgb(244,165,130)"
            ],
            [
             0.4,
             "rgb(253,219,199)"
            ],
            [
             0.5,
             "rgb(247,247,247)"
            ],
            [
             0.6,
             "rgb(209,229,240)"
            ],
            [
             0.7,
             "rgb(146,197,222)"
            ],
            [
             0.8,
             "rgb(67,147,195)"
            ],
            [
             0.9,
             "rgb(33,102,172)"
            ],
            [
             1,
             "rgb(5,48,97)"
            ]
           ],
           "sequential": [
            [
             0,
             "#440154"
            ],
            [
             0.1111111111111111,
             "#482878"
            ],
            [
             0.2222222222222222,
             "#3e4989"
            ],
            [
             0.3333333333333333,
             "#31688e"
            ],
            [
             0.4444444444444444,
             "#26828e"
            ],
            [
             0.5555555555555556,
             "#1f9e89"
            ],
            [
             0.6666666666666666,
             "#35b779"
            ],
            [
             0.7777777777777778,
             "#6ece58"
            ],
            [
             0.8888888888888888,
             "#b5de2b"
            ],
            [
             1,
             "#fde725"
            ]
           ],
           "sequentialminus": [
            [
             0,
             "#440154"
            ],
            [
             0.1111111111111111,
             "#482878"
            ],
            [
             0.2222222222222222,
             "#3e4989"
            ],
            [
             0.3333333333333333,
             "#31688e"
            ],
            [
             0.4444444444444444,
             "#26828e"
            ],
            [
             0.5555555555555556,
             "#1f9e89"
            ],
            [
             0.6666666666666666,
             "#35b779"
            ],
            [
             0.7777777777777778,
             "#6ece58"
            ],
            [
             0.8888888888888888,
             "#b5de2b"
            ],
            [
             1,
             "#fde725"
            ]
           ]
          },
          "colorway": [
           "#1F77B4",
           "#FF7F0E",
           "#2CA02C",
           "#D62728",
           "#9467BD",
           "#8C564B",
           "#E377C2",
           "#7F7F7F",
           "#BCBD22",
           "#17BECF"
          ],
          "font": {
           "color": "rgb(36,36,36)"
          },
          "geo": {
           "bgcolor": "white",
           "lakecolor": "white",
           "landcolor": "white",
           "showlakes": true,
           "showland": true,
           "subunitcolor": "white"
          },
          "hoverlabel": {
           "align": "left"
          },
          "hovermode": "closest",
          "mapbox": {
           "style": "light"
          },
          "paper_bgcolor": "white",
          "plot_bgcolor": "white",
          "polar": {
           "angularaxis": {
            "gridcolor": "rgb(232,232,232)",
            "linecolor": "rgb(36,36,36)",
            "showgrid": false,
            "showline": true,
            "ticks": "outside"
           },
           "bgcolor": "white",
           "radialaxis": {
            "gridcolor": "rgb(232,232,232)",
            "linecolor": "rgb(36,36,36)",
            "showgrid": false,
            "showline": true,
            "ticks": "outside"
           }
          },
          "scene": {
           "xaxis": {
            "backgroundcolor": "white",
            "gridcolor": "rgb(232,232,232)",
            "gridwidth": 2,
            "linecolor": "rgb(36,36,36)",
            "showbackground": true,
            "showgrid": false,
            "showline": true,
            "ticks": "outside",
            "zeroline": false,
            "zerolinecolor": "rgb(36,36,36)"
           },
           "yaxis": {
            "backgroundcolor": "white",
            "gridcolor": "rgb(232,232,232)",
            "gridwidth": 2,
            "linecolor": "rgb(36,36,36)",
            "showbackground": true,
            "showgrid": false,
            "showline": true,
            "ticks": "outside",
            "zeroline": false,
            "zerolinecolor": "rgb(36,36,36)"
           },
           "zaxis": {
            "backgroundcolor": "white",
            "gridcolor": "rgb(232,232,232)",
            "gridwidth": 2,
            "linecolor": "rgb(36,36,36)",
            "showbackground": true,
            "showgrid": false,
            "showline": true,
            "ticks": "outside",
            "zeroline": false,
            "zerolinecolor": "rgb(36,36,36)"
           }
          },
          "shapedefaults": {
           "fillcolor": "black",
           "line": {
            "width": 0
           },
           "opacity": 0.3
          },
          "ternary": {
           "aaxis": {
            "gridcolor": "rgb(232,232,232)",
            "linecolor": "rgb(36,36,36)",
            "showgrid": false,
            "showline": true,
            "ticks": "outside"
           },
           "baxis": {
            "gridcolor": "rgb(232,232,232)",
            "linecolor": "rgb(36,36,36)",
            "showgrid": false,
            "showline": true,
            "ticks": "outside"
           },
           "bgcolor": "white",
           "caxis": {
            "gridcolor": "rgb(232,232,232)",
            "linecolor": "rgb(36,36,36)",
            "showgrid": false,
            "showline": true,
            "ticks": "outside"
           }
          },
          "title": {
           "x": 0.05
          },
          "xaxis": {
           "automargin": true,
           "gridcolor": "rgb(232,232,232)",
           "linecolor": "rgb(36,36,36)",
           "showgrid": false,
           "showline": true,
           "ticks": "outside",
           "title": {
            "standoff": 15
           },
           "zeroline": false,
           "zerolinecolor": "rgb(36,36,36)"
          },
          "yaxis": {
           "automargin": true,
           "gridcolor": "rgb(232,232,232)",
           "linecolor": "rgb(36,36,36)",
           "showgrid": false,
           "showline": true,
           "ticks": "outside",
           "title": {
            "standoff": 15
           },
           "zeroline": false,
           "zerolinecolor": "rgb(36,36,36)"
          }
         }
        },
        "title": {
         "text": "Quantiles"
        },
        "width": 980,
        "xaxis": {
         "anchor": "y",
         "domain": [
          0,
          1
         ],
         "mirror": true,
         "title": {
          "text": "Catalyst Class"
         }
        },
        "yaxis": {
         "anchor": "x",
         "domain": [
          0,
          1
         ],
         "mirror": true,
         "title": {
          "text": "Rank Gen"
         }
        }
       }
      }
     },
     "metadata": {},
     "output_type": "display_data"
    },
    {
     "name": "stdout",
     "output_type": "stream",
     "text": [
      "ID\n",
      "2      0.032407\n",
      "3      0.416667\n",
      "9      1.435185\n",
      "0      2.009259\n",
      "11     2.416667\n",
      "24     2.912037\n",
      "8      3.796296\n",
      "31     3.981481\n",
      "33     4.879630\n",
      "34     5.013889\n",
      "12     5.148148\n",
      "25     5.652778\n",
      "28     6.879630\n",
      "27     7.166667\n",
      "4      8.421296\n",
      "26     8.805556\n",
      "13     9.300926\n",
      "18     9.458333\n",
      "7     10.828704\n",
      "23    11.787037\n",
      "21    11.912037\n",
      "16    11.976852\n",
      "29    12.157407\n",
      "1     12.250000\n",
      "17    13.125000\n",
      "14    13.472222\n",
      "5     13.810185\n",
      "15    14.657407\n",
      "19    15.199074\n",
      "6     15.416667\n",
      "32    16.282407\n",
      "30    16.532407\n",
      "10    18.078704\n",
      "20    18.101852\n",
      "22    18.337963\n",
      "Name: Quantile_rank, dtype: float64\n"
     ]
    }
   ],
   "source": [
    "df_ee[\"Quantile_rank\"]= 0\n",
    "\n",
    "\n",
    "df_ee['Quantile_rank'] = (\n",
    "    df_ee.groupby('Reaction')['ee'].transform(lambda g: pd.qcut(g, q=20, labels=False))\n",
    ")\n",
    "mean_quant = df_ee.groupby(['ID'])['Quantile_rank'].mean()\n",
    "print(mean_rank)\n",
    "\n",
    "fig = px.bar(x=mean_quant.index, y=mean_quant,\n",
    "                labels={'x':'Catalyst Class', 'y':'Rank Gen'},title='Quantiles',\n",
    "                template='simple_white',\n",
    "                width=980, height=720,\n",
    "                )\n",
    "\n",
    "fig.update_xaxes(mirror=True)\n",
    "fig.update_yaxes(mirror=True)\n",
    "\n",
    "fig.update_layout(\n",
    "    font_size=20,\n",
    ")\n",
    "\n",
    "fig.show()\n",
    "print(mean_quant.sort_values())\n",
    "mean_rank.sort_values()\n",
    "NEWDF = pd.DataFrame()\n",
    "NEWDF['ee']= df_ee['ee']\n",
    "\n",
    "NEWDF['Quantile_rank']= df_ee['Quantile_rank']\n",
    "NEWDF['Reaction']= df_ee['Reaction']\n"
   ]
  },
  {
   "cell_type": "code",
   "execution_count": 8,
   "metadata": {},
   "outputs": [
    {
     "name": "stdout",
     "output_type": "stream",
     "text": [
      "ID\n",
      "0     29.912037\n",
      "1     12.990741\n",
      "2     34.189815\n",
      "3     32.560185\n",
      "4     19.416667\n",
      "5     10.439815\n",
      "6      7.518519\n",
      "7     15.310185\n",
      "8     27.037037\n",
      "9     31.388889\n",
      "10     2.782407\n",
      "11    29.342593\n",
      "12    24.851852\n",
      "13    17.875000\n",
      "14    10.777778\n",
      "15     8.902778\n",
      "16    13.472222\n",
      "17    11.444444\n",
      "18    17.708333\n",
      "19     8.129630\n",
      "20     2.898148\n",
      "21    13.532407\n",
      "22     2.314815\n",
      "23    13.606481\n",
      "24    28.287037\n",
      "25    23.837963\n",
      "26    18.907407\n",
      "27    21.222222\n",
      "28    21.907407\n",
      "29    13.324074\n",
      "30     6.023148\n",
      "31    26.893519\n",
      "32     6.199074\n",
      "33    25.199074\n",
      "34    25.023148\n",
      "Name: rank, dtype: float64\n"
     ]
    },
    {
     "data": {
      "application/vnd.plotly.v1+json": {
       "config": {
        "plotlyServerURL": "https://plot.ly"
       },
       "data": [
        {
         "alignmentgroup": "True",
         "hovertemplate": "Catalyst Class=%{x}<br>Rank Gen=%{y}<extra></extra>",
         "legendgroup": "",
         "marker": {
          "color": "#1F77B4",
          "pattern": {
           "shape": ""
          }
         },
         "name": "",
         "offsetgroup": "",
         "orientation": "v",
         "showlegend": false,
         "textposition": "auto",
         "type": "bar",
         "x": [
          0,
          1,
          2,
          3,
          4,
          5,
          6,
          7,
          8,
          9,
          10,
          11,
          12,
          13,
          14,
          15,
          16,
          17,
          18,
          19,
          20,
          21,
          22,
          23,
          24,
          25,
          26,
          27,
          28,
          29,
          30,
          31,
          32,
          33,
          34
         ],
         "xaxis": "x",
         "y": [
          -1.1750214369745544,
          0.5835684773146785,
          -3.100979577203697,
          -1.6269760429476008,
          0.15997730673243124,
          0.6431215673783858,
          0.7159506232631904,
          0.32729206017321366,
          -0.8888080747184965,
          -1.4723665733645583,
          1.0906866094657202,
          -1.1058257208655067,
          -0.32230039690091694,
          0.2398526318266515,
          0.6032364632046352,
          0.6786812042220796,
          0.5598776141203129,
          0.6240204398592148,
          0.21822572652249683,
          0.713884106255006,
          1.1132934009470759,
          0.5260235420268546,
          1.118900652012017,
          0.5303313009129197,
          -0.9315146956607485,
          -0.34912260266529427,
          0.1219072136882577,
          0.052361130136655366,
          0.04792783143661431,
          0.38764521544766845,
          0.8485765366432554,
          -0.8067859932722645,
          0.7557366767271624,
          -0.45148903584229966,
          -0.42988817990056283
         ],
         "yaxis": "y"
        }
       ],
       "layout": {
        "barmode": "relative",
        "font": {
         "size": 20
        },
        "height": 720,
        "legend": {
         "tracegroupgap": 0
        },
        "template": {
         "data": {
          "bar": [
           {
            "error_x": {
             "color": "rgb(36,36,36)"
            },
            "error_y": {
             "color": "rgb(36,36,36)"
            },
            "marker": {
             "line": {
              "color": "white",
              "width": 0.5
             },
             "pattern": {
              "fillmode": "overlay",
              "size": 10,
              "solidity": 0.2
             }
            },
            "type": "bar"
           }
          ],
          "barpolar": [
           {
            "marker": {
             "line": {
              "color": "white",
              "width": 0.5
             },
             "pattern": {
              "fillmode": "overlay",
              "size": 10,
              "solidity": 0.2
             }
            },
            "type": "barpolar"
           }
          ],
          "carpet": [
           {
            "aaxis": {
             "endlinecolor": "rgb(36,36,36)",
             "gridcolor": "white",
             "linecolor": "white",
             "minorgridcolor": "white",
             "startlinecolor": "rgb(36,36,36)"
            },
            "baxis": {
             "endlinecolor": "rgb(36,36,36)",
             "gridcolor": "white",
             "linecolor": "white",
             "minorgridcolor": "white",
             "startlinecolor": "rgb(36,36,36)"
            },
            "type": "carpet"
           }
          ],
          "choropleth": [
           {
            "colorbar": {
             "outlinewidth": 1,
             "tickcolor": "rgb(36,36,36)",
             "ticks": "outside"
            },
            "type": "choropleth"
           }
          ],
          "contour": [
           {
            "colorbar": {
             "outlinewidth": 1,
             "tickcolor": "rgb(36,36,36)",
             "ticks": "outside"
            },
            "colorscale": [
             [
              0,
              "#440154"
             ],
             [
              0.1111111111111111,
              "#482878"
             ],
             [
              0.2222222222222222,
              "#3e4989"
             ],
             [
              0.3333333333333333,
              "#31688e"
             ],
             [
              0.4444444444444444,
              "#26828e"
             ],
             [
              0.5555555555555556,
              "#1f9e89"
             ],
             [
              0.6666666666666666,
              "#35b779"
             ],
             [
              0.7777777777777778,
              "#6ece58"
             ],
             [
              0.8888888888888888,
              "#b5de2b"
             ],
             [
              1,
              "#fde725"
             ]
            ],
            "type": "contour"
           }
          ],
          "contourcarpet": [
           {
            "colorbar": {
             "outlinewidth": 1,
             "tickcolor": "rgb(36,36,36)",
             "ticks": "outside"
            },
            "type": "contourcarpet"
           }
          ],
          "heatmap": [
           {
            "colorbar": {
             "outlinewidth": 1,
             "tickcolor": "rgb(36,36,36)",
             "ticks": "outside"
            },
            "colorscale": [
             [
              0,
              "#440154"
             ],
             [
              0.1111111111111111,
              "#482878"
             ],
             [
              0.2222222222222222,
              "#3e4989"
             ],
             [
              0.3333333333333333,
              "#31688e"
             ],
             [
              0.4444444444444444,
              "#26828e"
             ],
             [
              0.5555555555555556,
              "#1f9e89"
             ],
             [
              0.6666666666666666,
              "#35b779"
             ],
             [
              0.7777777777777778,
              "#6ece58"
             ],
             [
              0.8888888888888888,
              "#b5de2b"
             ],
             [
              1,
              "#fde725"
             ]
            ],
            "type": "heatmap"
           }
          ],
          "heatmapgl": [
           {
            "colorbar": {
             "outlinewidth": 1,
             "tickcolor": "rgb(36,36,36)",
             "ticks": "outside"
            },
            "colorscale": [
             [
              0,
              "#440154"
             ],
             [
              0.1111111111111111,
              "#482878"
             ],
             [
              0.2222222222222222,
              "#3e4989"
             ],
             [
              0.3333333333333333,
              "#31688e"
             ],
             [
              0.4444444444444444,
              "#26828e"
             ],
             [
              0.5555555555555556,
              "#1f9e89"
             ],
             [
              0.6666666666666666,
              "#35b779"
             ],
             [
              0.7777777777777778,
              "#6ece58"
             ],
             [
              0.8888888888888888,
              "#b5de2b"
             ],
             [
              1,
              "#fde725"
             ]
            ],
            "type": "heatmapgl"
           }
          ],
          "histogram": [
           {
            "marker": {
             "line": {
              "color": "white",
              "width": 0.6
             }
            },
            "type": "histogram"
           }
          ],
          "histogram2d": [
           {
            "colorbar": {
             "outlinewidth": 1,
             "tickcolor": "rgb(36,36,36)",
             "ticks": "outside"
            },
            "colorscale": [
             [
              0,
              "#440154"
             ],
             [
              0.1111111111111111,
              "#482878"
             ],
             [
              0.2222222222222222,
              "#3e4989"
             ],
             [
              0.3333333333333333,
              "#31688e"
             ],
             [
              0.4444444444444444,
              "#26828e"
             ],
             [
              0.5555555555555556,
              "#1f9e89"
             ],
             [
              0.6666666666666666,
              "#35b779"
             ],
             [
              0.7777777777777778,
              "#6ece58"
             ],
             [
              0.8888888888888888,
              "#b5de2b"
             ],
             [
              1,
              "#fde725"
             ]
            ],
            "type": "histogram2d"
           }
          ],
          "histogram2dcontour": [
           {
            "colorbar": {
             "outlinewidth": 1,
             "tickcolor": "rgb(36,36,36)",
             "ticks": "outside"
            },
            "colorscale": [
             [
              0,
              "#440154"
             ],
             [
              0.1111111111111111,
              "#482878"
             ],
             [
              0.2222222222222222,
              "#3e4989"
             ],
             [
              0.3333333333333333,
              "#31688e"
             ],
             [
              0.4444444444444444,
              "#26828e"
             ],
             [
              0.5555555555555556,
              "#1f9e89"
             ],
             [
              0.6666666666666666,
              "#35b779"
             ],
             [
              0.7777777777777778,
              "#6ece58"
             ],
             [
              0.8888888888888888,
              "#b5de2b"
             ],
             [
              1,
              "#fde725"
             ]
            ],
            "type": "histogram2dcontour"
           }
          ],
          "mesh3d": [
           {
            "colorbar": {
             "outlinewidth": 1,
             "tickcolor": "rgb(36,36,36)",
             "ticks": "outside"
            },
            "type": "mesh3d"
           }
          ],
          "parcoords": [
           {
            "line": {
             "colorbar": {
              "outlinewidth": 1,
              "tickcolor": "rgb(36,36,36)",
              "ticks": "outside"
             }
            },
            "type": "parcoords"
           }
          ],
          "pie": [
           {
            "automargin": true,
            "type": "pie"
           }
          ],
          "scatter": [
           {
            "fillpattern": {
             "fillmode": "overlay",
             "size": 10,
             "solidity": 0.2
            },
            "type": "scatter"
           }
          ],
          "scatter3d": [
           {
            "line": {
             "colorbar": {
              "outlinewidth": 1,
              "tickcolor": "rgb(36,36,36)",
              "ticks": "outside"
             }
            },
            "marker": {
             "colorbar": {
              "outlinewidth": 1,
              "tickcolor": "rgb(36,36,36)",
              "ticks": "outside"
             }
            },
            "type": "scatter3d"
           }
          ],
          "scattercarpet": [
           {
            "marker": {
             "colorbar": {
              "outlinewidth": 1,
              "tickcolor": "rgb(36,36,36)",
              "ticks": "outside"
             }
            },
            "type": "scattercarpet"
           }
          ],
          "scattergeo": [
           {
            "marker": {
             "colorbar": {
              "outlinewidth": 1,
              "tickcolor": "rgb(36,36,36)",
              "ticks": "outside"
             }
            },
            "type": "scattergeo"
           }
          ],
          "scattergl": [
           {
            "marker": {
             "colorbar": {
              "outlinewidth": 1,
              "tickcolor": "rgb(36,36,36)",
              "ticks": "outside"
             }
            },
            "type": "scattergl"
           }
          ],
          "scattermapbox": [
           {
            "marker": {
             "colorbar": {
              "outlinewidth": 1,
              "tickcolor": "rgb(36,36,36)",
              "ticks": "outside"
             }
            },
            "type": "scattermapbox"
           }
          ],
          "scatterpolar": [
           {
            "marker": {
             "colorbar": {
              "outlinewidth": 1,
              "tickcolor": "rgb(36,36,36)",
              "ticks": "outside"
             }
            },
            "type": "scatterpolar"
           }
          ],
          "scatterpolargl": [
           {
            "marker": {
             "colorbar": {
              "outlinewidth": 1,
              "tickcolor": "rgb(36,36,36)",
              "ticks": "outside"
             }
            },
            "type": "scatterpolargl"
           }
          ],
          "scatterternary": [
           {
            "marker": {
             "colorbar": {
              "outlinewidth": 1,
              "tickcolor": "rgb(36,36,36)",
              "ticks": "outside"
             }
            },
            "type": "scatterternary"
           }
          ],
          "surface": [
           {
            "colorbar": {
             "outlinewidth": 1,
             "tickcolor": "rgb(36,36,36)",
             "ticks": "outside"
            },
            "colorscale": [
             [
              0,
              "#440154"
             ],
             [
              0.1111111111111111,
              "#482878"
             ],
             [
              0.2222222222222222,
              "#3e4989"
             ],
             [
              0.3333333333333333,
              "#31688e"
             ],
             [
              0.4444444444444444,
              "#26828e"
             ],
             [
              0.5555555555555556,
              "#1f9e89"
             ],
             [
              0.6666666666666666,
              "#35b779"
             ],
             [
              0.7777777777777778,
              "#6ece58"
             ],
             [
              0.8888888888888888,
              "#b5de2b"
             ],
             [
              1,
              "#fde725"
             ]
            ],
            "type": "surface"
           }
          ],
          "table": [
           {
            "cells": {
             "fill": {
              "color": "rgb(237,237,237)"
             },
             "line": {
              "color": "white"
             }
            },
            "header": {
             "fill": {
              "color": "rgb(217,217,217)"
             },
             "line": {
              "color": "white"
             }
            },
            "type": "table"
           }
          ]
         },
         "layout": {
          "annotationdefaults": {
           "arrowhead": 0,
           "arrowwidth": 1
          },
          "autotypenumbers": "strict",
          "coloraxis": {
           "colorbar": {
            "outlinewidth": 1,
            "tickcolor": "rgb(36,36,36)",
            "ticks": "outside"
           }
          },
          "colorscale": {
           "diverging": [
            [
             0,
             "rgb(103,0,31)"
            ],
            [
             0.1,
             "rgb(178,24,43)"
            ],
            [
             0.2,
             "rgb(214,96,77)"
            ],
            [
             0.3,
             "rgb(244,165,130)"
            ],
            [
             0.4,
             "rgb(253,219,199)"
            ],
            [
             0.5,
             "rgb(247,247,247)"
            ],
            [
             0.6,
             "rgb(209,229,240)"
            ],
            [
             0.7,
             "rgb(146,197,222)"
            ],
            [
             0.8,
             "rgb(67,147,195)"
            ],
            [
             0.9,
             "rgb(33,102,172)"
            ],
            [
             1,
             "rgb(5,48,97)"
            ]
           ],
           "sequential": [
            [
             0,
             "#440154"
            ],
            [
             0.1111111111111111,
             "#482878"
            ],
            [
             0.2222222222222222,
             "#3e4989"
            ],
            [
             0.3333333333333333,
             "#31688e"
            ],
            [
             0.4444444444444444,
             "#26828e"
            ],
            [
             0.5555555555555556,
             "#1f9e89"
            ],
            [
             0.6666666666666666,
             "#35b779"
            ],
            [
             0.7777777777777778,
             "#6ece58"
            ],
            [
             0.8888888888888888,
             "#b5de2b"
            ],
            [
             1,
             "#fde725"
            ]
           ],
           "sequentialminus": [
            [
             0,
             "#440154"
            ],
            [
             0.1111111111111111,
             "#482878"
            ],
            [
             0.2222222222222222,
             "#3e4989"
            ],
            [
             0.3333333333333333,
             "#31688e"
            ],
            [
             0.4444444444444444,
             "#26828e"
            ],
            [
             0.5555555555555556,
             "#1f9e89"
            ],
            [
             0.6666666666666666,
             "#35b779"
            ],
            [
             0.7777777777777778,
             "#6ece58"
            ],
            [
             0.8888888888888888,
             "#b5de2b"
            ],
            [
             1,
             "#fde725"
            ]
           ]
          },
          "colorway": [
           "#1F77B4",
           "#FF7F0E",
           "#2CA02C",
           "#D62728",
           "#9467BD",
           "#8C564B",
           "#E377C2",
           "#7F7F7F",
           "#BCBD22",
           "#17BECF"
          ],
          "font": {
           "color": "rgb(36,36,36)"
          },
          "geo": {
           "bgcolor": "white",
           "lakecolor": "white",
           "landcolor": "white",
           "showlakes": true,
           "showland": true,
           "subunitcolor": "white"
          },
          "hoverlabel": {
           "align": "left"
          },
          "hovermode": "closest",
          "mapbox": {
           "style": "light"
          },
          "paper_bgcolor": "white",
          "plot_bgcolor": "white",
          "polar": {
           "angularaxis": {
            "gridcolor": "rgb(232,232,232)",
            "linecolor": "rgb(36,36,36)",
            "showgrid": false,
            "showline": true,
            "ticks": "outside"
           },
           "bgcolor": "white",
           "radialaxis": {
            "gridcolor": "rgb(232,232,232)",
            "linecolor": "rgb(36,36,36)",
            "showgrid": false,
            "showline": true,
            "ticks": "outside"
           }
          },
          "scene": {
           "xaxis": {
            "backgroundcolor": "white",
            "gridcolor": "rgb(232,232,232)",
            "gridwidth": 2,
            "linecolor": "rgb(36,36,36)",
            "showbackground": true,
            "showgrid": false,
            "showline": true,
            "ticks": "outside",
            "zeroline": false,
            "zerolinecolor": "rgb(36,36,36)"
           },
           "yaxis": {
            "backgroundcolor": "white",
            "gridcolor": "rgb(232,232,232)",
            "gridwidth": 2,
            "linecolor": "rgb(36,36,36)",
            "showbackground": true,
            "showgrid": false,
            "showline": true,
            "ticks": "outside",
            "zeroline": false,
            "zerolinecolor": "rgb(36,36,36)"
           },
           "zaxis": {
            "backgroundcolor": "white",
            "gridcolor": "rgb(232,232,232)",
            "gridwidth": 2,
            "linecolor": "rgb(36,36,36)",
            "showbackground": true,
            "showgrid": false,
            "showline": true,
            "ticks": "outside",
            "zeroline": false,
            "zerolinecolor": "rgb(36,36,36)"
           }
          },
          "shapedefaults": {
           "fillcolor": "black",
           "line": {
            "width": 0
           },
           "opacity": 0.3
          },
          "ternary": {
           "aaxis": {
            "gridcolor": "rgb(232,232,232)",
            "linecolor": "rgb(36,36,36)",
            "showgrid": false,
            "showline": true,
            "ticks": "outside"
           },
           "baxis": {
            "gridcolor": "rgb(232,232,232)",
            "linecolor": "rgb(36,36,36)",
            "showgrid": false,
            "showline": true,
            "ticks": "outside"
           },
           "bgcolor": "white",
           "caxis": {
            "gridcolor": "rgb(232,232,232)",
            "linecolor": "rgb(36,36,36)",
            "showgrid": false,
            "showline": true,
            "ticks": "outside"
           }
          },
          "title": {
           "x": 0.05
          },
          "xaxis": {
           "automargin": true,
           "gridcolor": "rgb(232,232,232)",
           "linecolor": "rgb(36,36,36)",
           "showgrid": false,
           "showline": true,
           "ticks": "outside",
           "title": {
            "standoff": 15
           },
           "zeroline": false,
           "zerolinecolor": "rgb(36,36,36)"
          },
          "yaxis": {
           "automargin": true,
           "gridcolor": "rgb(232,232,232)",
           "linecolor": "rgb(36,36,36)",
           "showgrid": false,
           "showline": true,
           "ticks": "outside",
           "title": {
            "standoff": 15
           },
           "zeroline": false,
           "zerolinecolor": "rgb(36,36,36)"
          }
         }
        },
        "title": {
         "text": "Standardized"
        },
        "width": 980,
        "xaxis": {
         "anchor": "y",
         "domain": [
          0,
          1
         ],
         "mirror": true,
         "title": {
          "text": "Catalyst Class"
         }
        },
        "yaxis": {
         "anchor": "x",
         "domain": [
          0,
          1
         ],
         "mirror": true,
         "title": {
          "text": "Rank Gen"
         }
        }
       }
      }
     },
     "metadata": {},
     "output_type": "display_data"
    },
    {
     "name": "stdout",
     "output_type": "stream",
     "text": [
      "ID\n",
      "2    -3.100980\n",
      "3    -1.626976\n",
      "9    -1.472367\n",
      "0    -1.175021\n",
      "11   -1.105826\n",
      "24   -0.931515\n",
      "8    -0.888808\n",
      "31   -0.806786\n",
      "33   -0.451489\n",
      "34   -0.429888\n",
      "25   -0.349123\n",
      "12   -0.322300\n",
      "28    0.047928\n",
      "27    0.052361\n",
      "26    0.121907\n",
      "4     0.159977\n",
      "18    0.218226\n",
      "13    0.239853\n",
      "7     0.327292\n",
      "29    0.387645\n",
      "21    0.526024\n",
      "23    0.530331\n",
      "16    0.559878\n",
      "1     0.583568\n",
      "14    0.603236\n",
      "17    0.624020\n",
      "5     0.643122\n",
      "15    0.678681\n",
      "19    0.713884\n",
      "6     0.715951\n",
      "32    0.755737\n",
      "30    0.848577\n",
      "10    1.090687\n",
      "20    1.113293\n",
      "22    1.118901\n",
      "Name: Normalized_rank, dtype: float64\n"
     ]
    }
   ],
   "source": [
    "df_ee[\"Normalized_rank\"]= 0\n",
    "\n",
    "\n",
    "df_ee['Normalized_rank'] = (\n",
    "    df_ee.groupby('Reaction')['ee'].transform(lambda g: (g-g.mean())/g.std())\n",
    ")\n",
    "mean_quant = df_ee.groupby(['ID'])['Normalized_rank'].mean()\n",
    "print(mean_rank)\n",
    "\n",
    "fig = px.bar(x=mean_quant.index, y=mean_quant,\n",
    "                labels={'x':'Catalyst Class', 'y':'Rank Gen'}, title='Standardized',\n",
    "                template='simple_white',\n",
    "                width=980, height=720,\n",
    "                )\n",
    "\n",
    "fig.update_xaxes(mirror=True)\n",
    "fig.update_yaxes(mirror=True)\n",
    "\n",
    "fig.update_layout(\n",
    "    font_size=20,\n",
    ")\n",
    "\n",
    "fig.show()\n",
    "print(mean_quant.sort_values())\n",
    "mean_rank.sort_values()\n",
    "NEWDF = pd.DataFrame()\n",
    "NEWDF['Normalized_rank']= df_ee['Normalized_rank']\n",
    "NEWDF['Reaction']= df_ee['Reaction']"
   ]
  },
  {
   "cell_type": "code",
   "execution_count": 11,
   "metadata": {},
   "outputs": [
    {
     "name": "stdout",
     "output_type": "stream",
     "text": [
      "ID\n",
      "0     29.912037\n",
      "1     12.990741\n",
      "2     34.189815\n",
      "3     32.560185\n",
      "4     19.416667\n",
      "5     10.439815\n",
      "6      7.518519\n",
      "7     15.310185\n",
      "8     27.037037\n",
      "9     31.388889\n",
      "10     2.782407\n",
      "11    29.342593\n",
      "12    24.851852\n",
      "13    17.875000\n",
      "14    10.777778\n",
      "15     8.902778\n",
      "16    13.472222\n",
      "17    11.444444\n",
      "18    17.708333\n",
      "19     8.129630\n",
      "20     2.898148\n",
      "21    13.532407\n",
      "22     2.314815\n",
      "23    13.606481\n",
      "24    28.287037\n",
      "25    23.837963\n",
      "26    18.907407\n",
      "27    21.222222\n",
      "28    21.907407\n",
      "29    13.324074\n",
      "30     6.023148\n",
      "31    26.893519\n",
      "32     6.199074\n",
      "33    25.199074\n",
      "34    25.023148\n",
      "Name: rank, dtype: float64\n"
     ]
    },
    {
     "data": {
      "application/vnd.plotly.v1+json": {
       "config": {
        "plotlyServerURL": "https://plot.ly"
       },
       "data": [
        {
         "alignmentgroup": "True",
         "hovertemplate": "Catalyst Class=%{x}<br>Rank Gen=%{y}<extra></extra>",
         "legendgroup": "",
         "marker": {
          "color": "#1F77B4",
          "pattern": {
           "shape": ""
          }
         },
         "name": "",
         "offsetgroup": "",
         "orientation": "v",
         "showlegend": false,
         "textposition": "auto",
         "type": "bar",
         "x": [
          0,
          1,
          2,
          3,
          4,
          5,
          6,
          7,
          8,
          9,
          10,
          11,
          12,
          13,
          14,
          15,
          16,
          17,
          18,
          19,
          20,
          21,
          22,
          23,
          24,
          25,
          26,
          27,
          28,
          29,
          30,
          31,
          32,
          33,
          34
         ],
         "xaxis": "x",
         "y": [
          0.4429450201642922,
          0.8730661679949807,
          0.004696132132873976,
          0.3429601622625325,
          0.7632278480386762,
          0.8869997057061769,
          0.9034233714622307,
          0.8039676648506999,
          0.5082275900970246,
          0.3782072458010262,
          0.9875656225882736,
          0.46085001477361837,
          0.6478046405684815,
          0.7826490578503832,
          0.8702358568150638,
          0.895493777081676,
          0.8669970809942905,
          0.8812192566234253,
          0.7770306485018451,
          0.9032620866134214,
          0.9923571859451026,
          0.857902368761714,
          0.9936208061260131,
          0.8590877832087448,
          0.5047036021663485,
          0.648363935414674,
          0.7538957398113862,
          0.7376300149156122,
          0.7365856598402636,
          0.8184677778288154,
          0.9331761847009351,
          0.528514468074737,
          0.9126873387059711,
          0.6236928557586238,
          0.6287640975293809
         ],
         "yaxis": "y"
        }
       ],
       "layout": {
        "barmode": "relative",
        "font": {
         "size": 20
        },
        "height": 720,
        "legend": {
         "tracegroupgap": 0
        },
        "template": {
         "data": {
          "bar": [
           {
            "error_x": {
             "color": "rgb(36,36,36)"
            },
            "error_y": {
             "color": "rgb(36,36,36)"
            },
            "marker": {
             "line": {
              "color": "white",
              "width": 0.5
             },
             "pattern": {
              "fillmode": "overlay",
              "size": 10,
              "solidity": 0.2
             }
            },
            "type": "bar"
           }
          ],
          "barpolar": [
           {
            "marker": {
             "line": {
              "color": "white",
              "width": 0.5
             },
             "pattern": {
              "fillmode": "overlay",
              "size": 10,
              "solidity": 0.2
             }
            },
            "type": "barpolar"
           }
          ],
          "carpet": [
           {
            "aaxis": {
             "endlinecolor": "rgb(36,36,36)",
             "gridcolor": "white",
             "linecolor": "white",
             "minorgridcolor": "white",
             "startlinecolor": "rgb(36,36,36)"
            },
            "baxis": {
             "endlinecolor": "rgb(36,36,36)",
             "gridcolor": "white",
             "linecolor": "white",
             "minorgridcolor": "white",
             "startlinecolor": "rgb(36,36,36)"
            },
            "type": "carpet"
           }
          ],
          "choropleth": [
           {
            "colorbar": {
             "outlinewidth": 1,
             "tickcolor": "rgb(36,36,36)",
             "ticks": "outside"
            },
            "type": "choropleth"
           }
          ],
          "contour": [
           {
            "colorbar": {
             "outlinewidth": 1,
             "tickcolor": "rgb(36,36,36)",
             "ticks": "outside"
            },
            "colorscale": [
             [
              0,
              "#440154"
             ],
             [
              0.1111111111111111,
              "#482878"
             ],
             [
              0.2222222222222222,
              "#3e4989"
             ],
             [
              0.3333333333333333,
              "#31688e"
             ],
             [
              0.4444444444444444,
              "#26828e"
             ],
             [
              0.5555555555555556,
              "#1f9e89"
             ],
             [
              0.6666666666666666,
              "#35b779"
             ],
             [
              0.7777777777777778,
              "#6ece58"
             ],
             [
              0.8888888888888888,
              "#b5de2b"
             ],
             [
              1,
              "#fde725"
             ]
            ],
            "type": "contour"
           }
          ],
          "contourcarpet": [
           {
            "colorbar": {
             "outlinewidth": 1,
             "tickcolor": "rgb(36,36,36)",
             "ticks": "outside"
            },
            "type": "contourcarpet"
           }
          ],
          "heatmap": [
           {
            "colorbar": {
             "outlinewidth": 1,
             "tickcolor": "rgb(36,36,36)",
             "ticks": "outside"
            },
            "colorscale": [
             [
              0,
              "#440154"
             ],
             [
              0.1111111111111111,
              "#482878"
             ],
             [
              0.2222222222222222,
              "#3e4989"
             ],
             [
              0.3333333333333333,
              "#31688e"
             ],
             [
              0.4444444444444444,
              "#26828e"
             ],
             [
              0.5555555555555556,
              "#1f9e89"
             ],
             [
              0.6666666666666666,
              "#35b779"
             ],
             [
              0.7777777777777778,
              "#6ece58"
             ],
             [
              0.8888888888888888,
              "#b5de2b"
             ],
             [
              1,
              "#fde725"
             ]
            ],
            "type": "heatmap"
           }
          ],
          "heatmapgl": [
           {
            "colorbar": {
             "outlinewidth": 1,
             "tickcolor": "rgb(36,36,36)",
             "ticks": "outside"
            },
            "colorscale": [
             [
              0,
              "#440154"
             ],
             [
              0.1111111111111111,
              "#482878"
             ],
             [
              0.2222222222222222,
              "#3e4989"
             ],
             [
              0.3333333333333333,
              "#31688e"
             ],
             [
              0.4444444444444444,
              "#26828e"
             ],
             [
              0.5555555555555556,
              "#1f9e89"
             ],
             [
              0.6666666666666666,
              "#35b779"
             ],
             [
              0.7777777777777778,
              "#6ece58"
             ],
             [
              0.8888888888888888,
              "#b5de2b"
             ],
             [
              1,
              "#fde725"
             ]
            ],
            "type": "heatmapgl"
           }
          ],
          "histogram": [
           {
            "marker": {
             "line": {
              "color": "white",
              "width": 0.6
             }
            },
            "type": "histogram"
           }
          ],
          "histogram2d": [
           {
            "colorbar": {
             "outlinewidth": 1,
             "tickcolor": "rgb(36,36,36)",
             "ticks": "outside"
            },
            "colorscale": [
             [
              0,
              "#440154"
             ],
             [
              0.1111111111111111,
              "#482878"
             ],
             [
              0.2222222222222222,
              "#3e4989"
             ],
             [
              0.3333333333333333,
              "#31688e"
             ],
             [
              0.4444444444444444,
              "#26828e"
             ],
             [
              0.5555555555555556,
              "#1f9e89"
             ],
             [
              0.6666666666666666,
              "#35b779"
             ],
             [
              0.7777777777777778,
              "#6ece58"
             ],
             [
              0.8888888888888888,
              "#b5de2b"
             ],
             [
              1,
              "#fde725"
             ]
            ],
            "type": "histogram2d"
           }
          ],
          "histogram2dcontour": [
           {
            "colorbar": {
             "outlinewidth": 1,
             "tickcolor": "rgb(36,36,36)",
             "ticks": "outside"
            },
            "colorscale": [
             [
              0,
              "#440154"
             ],
             [
              0.1111111111111111,
              "#482878"
             ],
             [
              0.2222222222222222,
              "#3e4989"
             ],
             [
              0.3333333333333333,
              "#31688e"
             ],
             [
              0.4444444444444444,
              "#26828e"
             ],
             [
              0.5555555555555556,
              "#1f9e89"
             ],
             [
              0.6666666666666666,
              "#35b779"
             ],
             [
              0.7777777777777778,
              "#6ece58"
             ],
             [
              0.8888888888888888,
              "#b5de2b"
             ],
             [
              1,
              "#fde725"
             ]
            ],
            "type": "histogram2dcontour"
           }
          ],
          "mesh3d": [
           {
            "colorbar": {
             "outlinewidth": 1,
             "tickcolor": "rgb(36,36,36)",
             "ticks": "outside"
            },
            "type": "mesh3d"
           }
          ],
          "parcoords": [
           {
            "line": {
             "colorbar": {
              "outlinewidth": 1,
              "tickcolor": "rgb(36,36,36)",
              "ticks": "outside"
             }
            },
            "type": "parcoords"
           }
          ],
          "pie": [
           {
            "automargin": true,
            "type": "pie"
           }
          ],
          "scatter": [
           {
            "fillpattern": {
             "fillmode": "overlay",
             "size": 10,
             "solidity": 0.2
            },
            "type": "scatter"
           }
          ],
          "scatter3d": [
           {
            "line": {
             "colorbar": {
              "outlinewidth": 1,
              "tickcolor": "rgb(36,36,36)",
              "ticks": "outside"
             }
            },
            "marker": {
             "colorbar": {
              "outlinewidth": 1,
              "tickcolor": "rgb(36,36,36)",
              "ticks": "outside"
             }
            },
            "type": "scatter3d"
           }
          ],
          "scattercarpet": [
           {
            "marker": {
             "colorbar": {
              "outlinewidth": 1,
              "tickcolor": "rgb(36,36,36)",
              "ticks": "outside"
             }
            },
            "type": "scattercarpet"
           }
          ],
          "scattergeo": [
           {
            "marker": {
             "colorbar": {
              "outlinewidth": 1,
              "tickcolor": "rgb(36,36,36)",
              "ticks": "outside"
             }
            },
            "type": "scattergeo"
           }
          ],
          "scattergl": [
           {
            "marker": {
             "colorbar": {
              "outlinewidth": 1,
              "tickcolor": "rgb(36,36,36)",
              "ticks": "outside"
             }
            },
            "type": "scattergl"
           }
          ],
          "scattermapbox": [
           {
            "marker": {
             "colorbar": {
              "outlinewidth": 1,
              "tickcolor": "rgb(36,36,36)",
              "ticks": "outside"
             }
            },
            "type": "scattermapbox"
           }
          ],
          "scatterpolar": [
           {
            "marker": {
             "colorbar": {
              "outlinewidth": 1,
              "tickcolor": "rgb(36,36,36)",
              "ticks": "outside"
             }
            },
            "type": "scatterpolar"
           }
          ],
          "scatterpolargl": [
           {
            "marker": {
             "colorbar": {
              "outlinewidth": 1,
              "tickcolor": "rgb(36,36,36)",
              "ticks": "outside"
             }
            },
            "type": "scatterpolargl"
           }
          ],
          "scatterternary": [
           {
            "marker": {
             "colorbar": {
              "outlinewidth": 1,
              "tickcolor": "rgb(36,36,36)",
              "ticks": "outside"
             }
            },
            "type": "scatterternary"
           }
          ],
          "surface": [
           {
            "colorbar": {
             "outlinewidth": 1,
             "tickcolor": "rgb(36,36,36)",
             "ticks": "outside"
            },
            "colorscale": [
             [
              0,
              "#440154"
             ],
             [
              0.1111111111111111,
              "#482878"
             ],
             [
              0.2222222222222222,
              "#3e4989"
             ],
             [
              0.3333333333333333,
              "#31688e"
             ],
             [
              0.4444444444444444,
              "#26828e"
             ],
             [
              0.5555555555555556,
              "#1f9e89"
             ],
             [
              0.6666666666666666,
              "#35b779"
             ],
             [
              0.7777777777777778,
              "#6ece58"
             ],
             [
              0.8888888888888888,
              "#b5de2b"
             ],
             [
              1,
              "#fde725"
             ]
            ],
            "type": "surface"
           }
          ],
          "table": [
           {
            "cells": {
             "fill": {
              "color": "rgb(237,237,237)"
             },
             "line": {
              "color": "white"
             }
            },
            "header": {
             "fill": {
              "color": "rgb(217,217,217)"
             },
             "line": {
              "color": "white"
             }
            },
            "type": "table"
           }
          ]
         },
         "layout": {
          "annotationdefaults": {
           "arrowhead": 0,
           "arrowwidth": 1
          },
          "autotypenumbers": "strict",
          "coloraxis": {
           "colorbar": {
            "outlinewidth": 1,
            "tickcolor": "rgb(36,36,36)",
            "ticks": "outside"
           }
          },
          "colorscale": {
           "diverging": [
            [
             0,
             "rgb(103,0,31)"
            ],
            [
             0.1,
             "rgb(178,24,43)"
            ],
            [
             0.2,
             "rgb(214,96,77)"
            ],
            [
             0.3,
             "rgb(244,165,130)"
            ],
            [
             0.4,
             "rgb(253,219,199)"
            ],
            [
             0.5,
             "rgb(247,247,247)"
            ],
            [
             0.6,
             "rgb(209,229,240)"
            ],
            [
             0.7,
             "rgb(146,197,222)"
            ],
            [
             0.8,
             "rgb(67,147,195)"
            ],
            [
             0.9,
             "rgb(33,102,172)"
            ],
            [
             1,
             "rgb(5,48,97)"
            ]
           ],
           "sequential": [
            [
             0,
             "#440154"
            ],
            [
             0.1111111111111111,
             "#482878"
            ],
            [
             0.2222222222222222,
             "#3e4989"
            ],
            [
             0.3333333333333333,
             "#31688e"
            ],
            [
             0.4444444444444444,
             "#26828e"
            ],
            [
             0.5555555555555556,
             "#1f9e89"
            ],
            [
             0.6666666666666666,
             "#35b779"
            ],
            [
             0.7777777777777778,
             "#6ece58"
            ],
            [
             0.8888888888888888,
             "#b5de2b"
            ],
            [
             1,
             "#fde725"
            ]
           ],
           "sequentialminus": [
            [
             0,
             "#440154"
            ],
            [
             0.1111111111111111,
             "#482878"
            ],
            [
             0.2222222222222222,
             "#3e4989"
            ],
            [
             0.3333333333333333,
             "#31688e"
            ],
            [
             0.4444444444444444,
             "#26828e"
            ],
            [
             0.5555555555555556,
             "#1f9e89"
            ],
            [
             0.6666666666666666,
             "#35b779"
            ],
            [
             0.7777777777777778,
             "#6ece58"
            ],
            [
             0.8888888888888888,
             "#b5de2b"
            ],
            [
             1,
             "#fde725"
            ]
           ]
          },
          "colorway": [
           "#1F77B4",
           "#FF7F0E",
           "#2CA02C",
           "#D62728",
           "#9467BD",
           "#8C564B",
           "#E377C2",
           "#7F7F7F",
           "#BCBD22",
           "#17BECF"
          ],
          "font": {
           "color": "rgb(36,36,36)"
          },
          "geo": {
           "bgcolor": "white",
           "lakecolor": "white",
           "landcolor": "white",
           "showlakes": true,
           "showland": true,
           "subunitcolor": "white"
          },
          "hoverlabel": {
           "align": "left"
          },
          "hovermode": "closest",
          "mapbox": {
           "style": "light"
          },
          "paper_bgcolor": "white",
          "plot_bgcolor": "white",
          "polar": {
           "angularaxis": {
            "gridcolor": "rgb(232,232,232)",
            "linecolor": "rgb(36,36,36)",
            "showgrid": false,
            "showline": true,
            "ticks": "outside"
           },
           "bgcolor": "white",
           "radialaxis": {
            "gridcolor": "rgb(232,232,232)",
            "linecolor": "rgb(36,36,36)",
            "showgrid": false,
            "showline": true,
            "ticks": "outside"
           }
          },
          "scene": {
           "xaxis": {
            "backgroundcolor": "white",
            "gridcolor": "rgb(232,232,232)",
            "gridwidth": 2,
            "linecolor": "rgb(36,36,36)",
            "showbackground": true,
            "showgrid": false,
            "showline": true,
            "ticks": "outside",
            "zeroline": false,
            "zerolinecolor": "rgb(36,36,36)"
           },
           "yaxis": {
            "backgroundcolor": "white",
            "gridcolor": "rgb(232,232,232)",
            "gridwidth": 2,
            "linecolor": "rgb(36,36,36)",
            "showbackground": true,
            "showgrid": false,
            "showline": true,
            "ticks": "outside",
            "zeroline": false,
            "zerolinecolor": "rgb(36,36,36)"
           },
           "zaxis": {
            "backgroundcolor": "white",
            "gridcolor": "rgb(232,232,232)",
            "gridwidth": 2,
            "linecolor": "rgb(36,36,36)",
            "showbackground": true,
            "showgrid": false,
            "showline": true,
            "ticks": "outside",
            "zeroline": false,
            "zerolinecolor": "rgb(36,36,36)"
           }
          },
          "shapedefaults": {
           "fillcolor": "black",
           "line": {
            "width": 0
           },
           "opacity": 0.3
          },
          "ternary": {
           "aaxis": {
            "gridcolor": "rgb(232,232,232)",
            "linecolor": "rgb(36,36,36)",
            "showgrid": false,
            "showline": true,
            "ticks": "outside"
           },
           "baxis": {
            "gridcolor": "rgb(232,232,232)",
            "linecolor": "rgb(36,36,36)",
            "showgrid": false,
            "showline": true,
            "ticks": "outside"
           },
           "bgcolor": "white",
           "caxis": {
            "gridcolor": "rgb(232,232,232)",
            "linecolor": "rgb(36,36,36)",
            "showgrid": false,
            "showline": true,
            "ticks": "outside"
           }
          },
          "title": {
           "x": 0.05
          },
          "xaxis": {
           "automargin": true,
           "gridcolor": "rgb(232,232,232)",
           "linecolor": "rgb(36,36,36)",
           "showgrid": false,
           "showline": true,
           "ticks": "outside",
           "title": {
            "standoff": 15
           },
           "zeroline": false,
           "zerolinecolor": "rgb(36,36,36)"
          },
          "yaxis": {
           "automargin": true,
           "gridcolor": "rgb(232,232,232)",
           "linecolor": "rgb(36,36,36)",
           "showgrid": false,
           "showline": true,
           "ticks": "outside",
           "title": {
            "standoff": 15
           },
           "zeroline": false,
           "zerolinecolor": "rgb(36,36,36)"
          }
         }
        },
        "title": {
         "text": "Standardized"
        },
        "width": 980,
        "xaxis": {
         "anchor": "y",
         "domain": [
          0,
          1
         ],
         "mirror": true,
         "title": {
          "text": "Catalyst Class"
         }
        },
        "yaxis": {
         "anchor": "x",
         "domain": [
          0,
          1
         ],
         "mirror": true,
         "title": {
          "text": "Rank Gen"
         }
        }
       }
      }
     },
     "metadata": {},
     "output_type": "display_data"
    },
    {
     "name": "stdout",
     "output_type": "stream",
     "text": [
      "ID\n",
      "2     0.004696\n",
      "3     0.342960\n",
      "9     0.378207\n",
      "0     0.442945\n",
      "11    0.460850\n",
      "24    0.504704\n",
      "8     0.508228\n",
      "31    0.528514\n",
      "33    0.623693\n",
      "34    0.628764\n",
      "12    0.647805\n",
      "25    0.648364\n",
      "28    0.736586\n",
      "27    0.737630\n",
      "26    0.753896\n",
      "4     0.763228\n",
      "18    0.777031\n",
      "13    0.782649\n",
      "7     0.803968\n",
      "29    0.818468\n",
      "21    0.857902\n",
      "23    0.859088\n",
      "16    0.866997\n",
      "14    0.870236\n",
      "1     0.873066\n",
      "17    0.881219\n",
      "5     0.887000\n",
      "15    0.895494\n",
      "19    0.903262\n",
      "6     0.903423\n",
      "32    0.912687\n",
      "30    0.933176\n",
      "10    0.987566\n",
      "20    0.992357\n",
      "22    0.993621\n",
      "Name: Normalized_rank, dtype: float64\n"
     ]
    }
   ],
   "source": [
    "df_ee[\"Normalized_rank\"]= 0\n",
    "\n",
    "\n",
    "df_ee['Normalized_rank'] = (\n",
    "    df_ee.groupby('Reaction')['ee'].transform(lambda g: (g-g.min())/(g.max()-g.min()))\n",
    ")\n",
    "mean_quant = df_ee.groupby(['ID'])['Normalized_rank'].mean()\n",
    "print(mean_rank)\n",
    "\n",
    "fig = px.bar(x=mean_quant.index, y=mean_quant,\n",
    "                labels={'x':'Catalyst Class', 'y':'Rank Gen'}, title='Standardized',\n",
    "                template='simple_white',\n",
    "                width=980, height=720,\n",
    "                )\n",
    "\n",
    "fig.update_xaxes(mirror=True)\n",
    "fig.update_yaxes(mirror=True)\n",
    "\n",
    "fig.update_layout(\n",
    "    font_size=20,\n",
    ")\n",
    "\n",
    "fig.show()\n",
    "print(mean_quant.sort_values())\n",
    "mean_rank.sort_values()\n",
    "NEWDF = pd.DataFrame()\n",
    "NEWDF['Normalized_rank']= df_ee['Normalized_rank']\n",
    "NEWDF['Reaction']= df_ee['Reaction']"
   ]
  },
  {
   "cell_type": "code",
   "execution_count": 12,
   "metadata": {},
   "outputs": [
    {
     "data": {
      "text/plain": [
       "['electrophile SMILES',\n",
       " 'nucleophile SMILES',\n",
       " 'catalyst SMILES',\n",
       " 'MaxEStateIndexelectrophile',\n",
       " 'MinEStateIndexelectrophile',\n",
       " 'MaxAbsEStateIndexelectrophile',\n",
       " 'MinAbsEStateIndexelectrophile',\n",
       " 'qedelectrophile',\n",
       " 'MolWtelectrophile',\n",
       " 'HeavyAtomMolWtelectrophile',\n",
       " 'ExactMolWtelectrophile',\n",
       " 'NumValenceElectronselectrophile',\n",
       " 'NumRadicalElectronselectrophile',\n",
       " 'MaxPartialChargeelectrophile',\n",
       " 'MinPartialChargeelectrophile',\n",
       " 'MaxAbsPartialChargeelectrophile',\n",
       " 'MinAbsPartialChargeelectrophile',\n",
       " 'FpDensityMorgan1electrophile',\n",
       " 'FpDensityMorgan2electrophile',\n",
       " 'FpDensityMorgan3electrophile',\n",
       " 'BCUT2D_MWHIelectrophile',\n",
       " 'BCUT2D_MWLOWelectrophile',\n",
       " 'BCUT2D_CHGHIelectrophile',\n",
       " 'BCUT2D_CHGLOelectrophile',\n",
       " 'BCUT2D_LOGPHIelectrophile',\n",
       " 'BCUT2D_LOGPLOWelectrophile',\n",
       " 'BCUT2D_MRHIelectrophile',\n",
       " 'BCUT2D_MRLOWelectrophile',\n",
       " 'BalabanJelectrophile',\n",
       " 'BertzCTelectrophile',\n",
       " 'Chi0electrophile',\n",
       " 'Chi0nelectrophile',\n",
       " 'Chi0velectrophile',\n",
       " 'Chi1electrophile',\n",
       " 'Chi1nelectrophile',\n",
       " 'Chi1velectrophile',\n",
       " 'Chi2nelectrophile',\n",
       " 'Chi2velectrophile',\n",
       " 'Chi3nelectrophile',\n",
       " 'Chi3velectrophile',\n",
       " 'Chi4nelectrophile',\n",
       " 'Chi4velectrophile',\n",
       " 'HallKierAlphaelectrophile',\n",
       " 'Ipcelectrophile',\n",
       " 'Kappa1electrophile',\n",
       " 'Kappa2electrophile',\n",
       " 'Kappa3electrophile',\n",
       " 'LabuteASAelectrophile',\n",
       " 'PEOE_VSA1electrophile',\n",
       " 'PEOE_VSA10electrophile',\n",
       " 'PEOE_VSA11electrophile',\n",
       " 'PEOE_VSA12electrophile',\n",
       " 'PEOE_VSA13electrophile',\n",
       " 'PEOE_VSA14electrophile',\n",
       " 'PEOE_VSA2electrophile',\n",
       " 'PEOE_VSA3electrophile',\n",
       " 'PEOE_VSA4electrophile',\n",
       " 'PEOE_VSA5electrophile',\n",
       " 'PEOE_VSA6electrophile',\n",
       " 'PEOE_VSA7electrophile',\n",
       " 'PEOE_VSA8electrophile',\n",
       " 'PEOE_VSA9electrophile',\n",
       " 'SMR_VSA1electrophile',\n",
       " 'SMR_VSA10electrophile',\n",
       " 'SMR_VSA2electrophile',\n",
       " 'SMR_VSA3electrophile',\n",
       " 'SMR_VSA4electrophile',\n",
       " 'SMR_VSA5electrophile',\n",
       " 'SMR_VSA6electrophile',\n",
       " 'SMR_VSA7electrophile',\n",
       " 'SMR_VSA8electrophile',\n",
       " 'SMR_VSA9electrophile',\n",
       " 'SlogP_VSA1electrophile',\n",
       " 'SlogP_VSA10electrophile',\n",
       " 'SlogP_VSA11electrophile',\n",
       " 'SlogP_VSA12electrophile',\n",
       " 'SlogP_VSA2electrophile',\n",
       " 'SlogP_VSA3electrophile',\n",
       " 'SlogP_VSA4electrophile',\n",
       " 'SlogP_VSA5electrophile',\n",
       " 'SlogP_VSA6electrophile',\n",
       " 'SlogP_VSA7electrophile',\n",
       " 'SlogP_VSA8electrophile',\n",
       " 'SlogP_VSA9electrophile',\n",
       " 'TPSAelectrophile',\n",
       " 'EState_VSA1electrophile',\n",
       " 'EState_VSA10electrophile',\n",
       " 'EState_VSA11electrophile',\n",
       " 'EState_VSA2electrophile',\n",
       " 'EState_VSA3electrophile',\n",
       " 'EState_VSA4electrophile',\n",
       " 'EState_VSA5electrophile',\n",
       " 'EState_VSA6electrophile',\n",
       " 'EState_VSA7electrophile',\n",
       " 'EState_VSA8electrophile',\n",
       " 'EState_VSA9electrophile',\n",
       " 'VSA_EState1electrophile',\n",
       " 'VSA_EState10electrophile',\n",
       " 'VSA_EState2electrophile',\n",
       " 'VSA_EState3electrophile',\n",
       " 'VSA_EState4electrophile',\n",
       " 'VSA_EState5electrophile',\n",
       " 'VSA_EState6electrophile',\n",
       " 'VSA_EState7electrophile',\n",
       " 'VSA_EState8electrophile',\n",
       " 'VSA_EState9electrophile',\n",
       " 'FractionCSP3electrophile',\n",
       " 'HeavyAtomCountelectrophile',\n",
       " 'NHOHCountelectrophile',\n",
       " 'NOCountelectrophile',\n",
       " 'NumAliphaticCarbocycleselectrophile',\n",
       " 'NumAliphaticHeterocycleselectrophile',\n",
       " 'NumAliphaticRingselectrophile',\n",
       " 'NumAromaticCarbocycleselectrophile',\n",
       " 'NumAromaticHeterocycleselectrophile',\n",
       " 'NumAromaticRingselectrophile',\n",
       " 'NumHAcceptorselectrophile',\n",
       " 'NumHDonorselectrophile',\n",
       " 'NumHeteroatomselectrophile',\n",
       " 'NumRotatableBondselectrophile',\n",
       " 'NumSaturatedCarbocycleselectrophile',\n",
       " 'NumSaturatedHeterocycleselectrophile',\n",
       " 'NumSaturatedRingselectrophile',\n",
       " 'RingCountelectrophile',\n",
       " 'MolLogPelectrophile',\n",
       " 'MolMRelectrophile',\n",
       " 'fr_Al_COOelectrophile',\n",
       " 'fr_Al_OHelectrophile',\n",
       " 'fr_Al_OH_noTertelectrophile',\n",
       " 'fr_ArNelectrophile',\n",
       " 'fr_Ar_COOelectrophile',\n",
       " 'fr_Ar_Nelectrophile',\n",
       " 'fr_Ar_NHelectrophile',\n",
       " 'fr_Ar_OHelectrophile',\n",
       " 'fr_COOelectrophile',\n",
       " 'fr_COO2electrophile',\n",
       " 'fr_C_Oelectrophile',\n",
       " 'fr_C_O_noCOOelectrophile',\n",
       " 'fr_C_Selectrophile',\n",
       " 'fr_HOCCNelectrophile',\n",
       " 'fr_Imineelectrophile',\n",
       " 'fr_NH0electrophile',\n",
       " 'fr_NH1electrophile',\n",
       " 'fr_NH2electrophile',\n",
       " 'fr_N_Oelectrophile',\n",
       " 'fr_Ndealkylation1electrophile',\n",
       " 'fr_Ndealkylation2electrophile',\n",
       " 'fr_Nhpyrroleelectrophile',\n",
       " 'fr_SHelectrophile',\n",
       " 'fr_aldehydeelectrophile',\n",
       " 'fr_alkyl_carbamateelectrophile',\n",
       " 'fr_alkyl_halideelectrophile',\n",
       " 'fr_allylic_oxidelectrophile',\n",
       " 'fr_amideelectrophile',\n",
       " 'fr_amidineelectrophile',\n",
       " 'fr_anilineelectrophile',\n",
       " 'fr_aryl_methylelectrophile',\n",
       " 'fr_azideelectrophile',\n",
       " 'fr_azoelectrophile',\n",
       " 'fr_barbiturelectrophile',\n",
       " 'fr_benzeneelectrophile',\n",
       " 'fr_benzodiazepineelectrophile',\n",
       " 'fr_bicyclicelectrophile',\n",
       " 'fr_diazoelectrophile',\n",
       " 'fr_dihydropyridineelectrophile',\n",
       " 'fr_epoxideelectrophile',\n",
       " 'fr_esterelectrophile',\n",
       " 'fr_etherelectrophile',\n",
       " 'fr_furanelectrophile',\n",
       " 'fr_guanidoelectrophile',\n",
       " 'fr_halogenelectrophile',\n",
       " 'fr_hdrzineelectrophile',\n",
       " 'fr_hdrzoneelectrophile',\n",
       " 'fr_imidazoleelectrophile',\n",
       " 'fr_imideelectrophile',\n",
       " 'fr_isocyanelectrophile',\n",
       " 'fr_isothiocyanelectrophile',\n",
       " 'fr_ketoneelectrophile',\n",
       " 'fr_ketone_Toplisselectrophile',\n",
       " 'fr_lactamelectrophile',\n",
       " 'fr_lactoneelectrophile',\n",
       " 'fr_methoxyelectrophile',\n",
       " 'fr_morpholineelectrophile',\n",
       " 'fr_nitrileelectrophile',\n",
       " 'fr_nitroelectrophile',\n",
       " 'fr_nitro_aromelectrophile',\n",
       " 'fr_nitro_arom_nonorthoelectrophile',\n",
       " 'fr_nitrosoelectrophile',\n",
       " 'fr_oxazoleelectrophile',\n",
       " 'fr_oximeelectrophile',\n",
       " 'fr_para_hydroxylationelectrophile',\n",
       " 'fr_phenolelectrophile',\n",
       " 'fr_phenol_noOrthoHbondelectrophile',\n",
       " 'fr_phos_acidelectrophile',\n",
       " 'fr_phos_esterelectrophile',\n",
       " 'fr_piperdineelectrophile',\n",
       " 'fr_piperzineelectrophile',\n",
       " 'fr_priamideelectrophile',\n",
       " 'fr_prisulfonamdelectrophile',\n",
       " 'fr_pyridineelectrophile',\n",
       " 'fr_quatNelectrophile',\n",
       " 'fr_sulfideelectrophile',\n",
       " 'fr_sulfonamdelectrophile',\n",
       " 'fr_sulfoneelectrophile',\n",
       " 'fr_term_acetyleneelectrophile',\n",
       " 'fr_tetrazoleelectrophile',\n",
       " 'fr_thiazoleelectrophile',\n",
       " 'fr_thiocyanelectrophile',\n",
       " 'fr_thiopheneelectrophile',\n",
       " 'fr_unbrch_alkaneelectrophile',\n",
       " 'fr_ureaelectrophile',\n",
       " 'MaxEStateIndexnucleophile',\n",
       " 'MinEStateIndexnucleophile',\n",
       " 'MaxAbsEStateIndexnucleophile',\n",
       " 'MinAbsEStateIndexnucleophile',\n",
       " 'qednucleophile',\n",
       " 'MolWtnucleophile',\n",
       " 'HeavyAtomMolWtnucleophile',\n",
       " 'ExactMolWtnucleophile',\n",
       " 'NumValenceElectronsnucleophile',\n",
       " 'NumRadicalElectronsnucleophile',\n",
       " 'MaxPartialChargenucleophile',\n",
       " 'MinPartialChargenucleophile',\n",
       " 'MaxAbsPartialChargenucleophile',\n",
       " 'MinAbsPartialChargenucleophile',\n",
       " 'FpDensityMorgan1nucleophile',\n",
       " 'FpDensityMorgan2nucleophile',\n",
       " 'FpDensityMorgan3nucleophile',\n",
       " 'BCUT2D_MWHInucleophile',\n",
       " 'BCUT2D_MWLOWnucleophile',\n",
       " 'BCUT2D_CHGHInucleophile',\n",
       " 'BCUT2D_CHGLOnucleophile',\n",
       " 'BCUT2D_LOGPHInucleophile',\n",
       " 'BCUT2D_LOGPLOWnucleophile',\n",
       " 'BCUT2D_MRHInucleophile',\n",
       " 'BCUT2D_MRLOWnucleophile',\n",
       " 'BalabanJnucleophile',\n",
       " 'BertzCTnucleophile',\n",
       " 'Chi0nucleophile',\n",
       " 'Chi0nnucleophile',\n",
       " 'Chi0vnucleophile',\n",
       " 'Chi1nucleophile',\n",
       " 'Chi1nnucleophile',\n",
       " 'Chi1vnucleophile',\n",
       " 'Chi2nnucleophile',\n",
       " 'Chi2vnucleophile',\n",
       " 'Chi3nnucleophile',\n",
       " 'Chi3vnucleophile',\n",
       " 'Chi4nnucleophile',\n",
       " 'Chi4vnucleophile',\n",
       " 'HallKierAlphanucleophile',\n",
       " 'Ipcnucleophile',\n",
       " 'Kappa1nucleophile',\n",
       " 'Kappa2nucleophile',\n",
       " 'Kappa3nucleophile',\n",
       " 'LabuteASAnucleophile',\n",
       " 'PEOE_VSA1nucleophile',\n",
       " 'PEOE_VSA10nucleophile',\n",
       " 'PEOE_VSA11nucleophile',\n",
       " 'PEOE_VSA12nucleophile',\n",
       " 'PEOE_VSA13nucleophile',\n",
       " 'PEOE_VSA14nucleophile',\n",
       " 'PEOE_VSA2nucleophile',\n",
       " 'PEOE_VSA3nucleophile',\n",
       " 'PEOE_VSA4nucleophile',\n",
       " 'PEOE_VSA5nucleophile',\n",
       " 'PEOE_VSA6nucleophile',\n",
       " 'PEOE_VSA7nucleophile',\n",
       " 'PEOE_VSA8nucleophile',\n",
       " 'PEOE_VSA9nucleophile',\n",
       " 'SMR_VSA1nucleophile',\n",
       " 'SMR_VSA10nucleophile',\n",
       " 'SMR_VSA2nucleophile',\n",
       " 'SMR_VSA3nucleophile',\n",
       " 'SMR_VSA4nucleophile',\n",
       " 'SMR_VSA5nucleophile',\n",
       " 'SMR_VSA6nucleophile',\n",
       " 'SMR_VSA7nucleophile',\n",
       " 'SMR_VSA8nucleophile',\n",
       " 'SMR_VSA9nucleophile',\n",
       " 'SlogP_VSA1nucleophile',\n",
       " 'SlogP_VSA10nucleophile',\n",
       " 'SlogP_VSA11nucleophile',\n",
       " 'SlogP_VSA12nucleophile',\n",
       " 'SlogP_VSA2nucleophile',\n",
       " 'SlogP_VSA3nucleophile',\n",
       " 'SlogP_VSA4nucleophile',\n",
       " 'SlogP_VSA5nucleophile',\n",
       " 'SlogP_VSA6nucleophile',\n",
       " 'SlogP_VSA7nucleophile',\n",
       " 'SlogP_VSA8nucleophile',\n",
       " 'SlogP_VSA9nucleophile',\n",
       " 'TPSAnucleophile',\n",
       " 'EState_VSA1nucleophile',\n",
       " 'EState_VSA10nucleophile',\n",
       " 'EState_VSA11nucleophile',\n",
       " 'EState_VSA2nucleophile',\n",
       " 'EState_VSA3nucleophile',\n",
       " 'EState_VSA4nucleophile',\n",
       " 'EState_VSA5nucleophile',\n",
       " 'EState_VSA6nucleophile',\n",
       " 'EState_VSA7nucleophile',\n",
       " 'EState_VSA8nucleophile',\n",
       " 'EState_VSA9nucleophile',\n",
       " 'VSA_EState1nucleophile',\n",
       " 'VSA_EState10nucleophile',\n",
       " 'VSA_EState2nucleophile',\n",
       " 'VSA_EState3nucleophile',\n",
       " 'VSA_EState4nucleophile',\n",
       " 'VSA_EState5nucleophile',\n",
       " 'VSA_EState6nucleophile',\n",
       " 'VSA_EState7nucleophile',\n",
       " 'VSA_EState8nucleophile',\n",
       " 'VSA_EState9nucleophile',\n",
       " 'FractionCSP3nucleophile',\n",
       " 'HeavyAtomCountnucleophile',\n",
       " 'NHOHCountnucleophile',\n",
       " 'NOCountnucleophile',\n",
       " 'NumAliphaticCarbocyclesnucleophile',\n",
       " 'NumAliphaticHeterocyclesnucleophile',\n",
       " 'NumAliphaticRingsnucleophile',\n",
       " 'NumAromaticCarbocyclesnucleophile',\n",
       " 'NumAromaticHeterocyclesnucleophile',\n",
       " 'NumAromaticRingsnucleophile',\n",
       " 'NumHAcceptorsnucleophile',\n",
       " 'NumHDonorsnucleophile',\n",
       " 'NumHeteroatomsnucleophile',\n",
       " 'NumRotatableBondsnucleophile',\n",
       " 'NumSaturatedCarbocyclesnucleophile',\n",
       " 'NumSaturatedHeterocyclesnucleophile',\n",
       " 'NumSaturatedRingsnucleophile',\n",
       " 'RingCountnucleophile',\n",
       " 'MolLogPnucleophile',\n",
       " 'MolMRnucleophile',\n",
       " 'fr_Al_COOnucleophile',\n",
       " 'fr_Al_OHnucleophile',\n",
       " 'fr_Al_OH_noTertnucleophile',\n",
       " 'fr_ArNnucleophile',\n",
       " 'fr_Ar_COOnucleophile',\n",
       " 'fr_Ar_Nnucleophile',\n",
       " 'fr_Ar_NHnucleophile',\n",
       " 'fr_Ar_OHnucleophile',\n",
       " 'fr_COOnucleophile',\n",
       " 'fr_COO2nucleophile',\n",
       " 'fr_C_Onucleophile',\n",
       " 'fr_C_O_noCOOnucleophile',\n",
       " 'fr_C_Snucleophile',\n",
       " 'fr_HOCCNnucleophile',\n",
       " 'fr_Iminenucleophile',\n",
       " 'fr_NH0nucleophile',\n",
       " 'fr_NH1nucleophile',\n",
       " 'fr_NH2nucleophile',\n",
       " 'fr_N_Onucleophile',\n",
       " 'fr_Ndealkylation1nucleophile',\n",
       " 'fr_Ndealkylation2nucleophile',\n",
       " 'fr_Nhpyrrolenucleophile',\n",
       " 'fr_SHnucleophile',\n",
       " 'fr_aldehydenucleophile',\n",
       " 'fr_alkyl_carbamatenucleophile',\n",
       " 'fr_alkyl_halidenucleophile',\n",
       " 'fr_allylic_oxidnucleophile',\n",
       " 'fr_amidenucleophile',\n",
       " 'fr_amidinenucleophile',\n",
       " 'fr_anilinenucleophile',\n",
       " 'fr_aryl_methylnucleophile',\n",
       " 'fr_azidenucleophile',\n",
       " 'fr_azonucleophile',\n",
       " 'fr_barbiturnucleophile',\n",
       " 'fr_benzenenucleophile',\n",
       " 'fr_benzodiazepinenucleophile',\n",
       " 'fr_bicyclicnucleophile',\n",
       " 'fr_diazonucleophile',\n",
       " 'fr_dihydropyridinenucleophile',\n",
       " 'fr_epoxidenucleophile',\n",
       " 'fr_esternucleophile',\n",
       " 'fr_ethernucleophile',\n",
       " 'fr_furannucleophile',\n",
       " 'fr_guanidonucleophile',\n",
       " 'fr_halogennucleophile',\n",
       " 'fr_hdrzinenucleophile',\n",
       " 'fr_hdrzonenucleophile',\n",
       " 'fr_imidazolenucleophile',\n",
       " 'fr_imidenucleophile',\n",
       " 'fr_isocyannucleophile',\n",
       " 'fr_isothiocyannucleophile',\n",
       " 'fr_ketonenucleophile',\n",
       " 'fr_ketone_Toplissnucleophile',\n",
       " 'fr_lactamnucleophile',\n",
       " 'fr_lactonenucleophile',\n",
       " 'fr_methoxynucleophile',\n",
       " 'fr_morpholinenucleophile',\n",
       " 'fr_nitrilenucleophile',\n",
       " 'fr_nitronucleophile',\n",
       " 'fr_nitro_aromnucleophile',\n",
       " 'fr_nitro_arom_nonorthonucleophile',\n",
       " 'fr_nitrosonucleophile',\n",
       " 'fr_oxazolenucleophile',\n",
       " 'fr_oximenucleophile',\n",
       " 'fr_para_hydroxylationnucleophile',\n",
       " 'fr_phenolnucleophile',\n",
       " 'fr_phenol_noOrthoHbondnucleophile',\n",
       " 'fr_phos_acidnucleophile',\n",
       " 'fr_phos_esternucleophile',\n",
       " 'fr_piperdinenucleophile',\n",
       " 'fr_piperzinenucleophile',\n",
       " 'fr_priamidenucleophile',\n",
       " 'fr_prisulfonamdnucleophile',\n",
       " 'fr_pyridinenucleophile',\n",
       " 'fr_quatNnucleophile',\n",
       " 'fr_sulfidenucleophile',\n",
       " 'fr_sulfonamdnucleophile',\n",
       " 'fr_sulfonenucleophile',\n",
       " 'fr_term_acetylenenucleophile',\n",
       " 'fr_tetrazolenucleophile',\n",
       " 'fr_thiazolenucleophile',\n",
       " 'fr_thiocyannucleophile',\n",
       " 'fr_thiophenenucleophile',\n",
       " 'fr_unbrch_alkanenucleophile',\n",
       " 'fr_ureanucleophile',\n",
       " 'MaxEStateIndex',\n",
       " 'MinEStateIndex',\n",
       " 'MaxAbsEStateIndex',\n",
       " 'MinAbsEStateIndex',\n",
       " 'qed',\n",
       " 'MolWt',\n",
       " 'HeavyAtomMolWt',\n",
       " 'ExactMolWt',\n",
       " 'NumValenceElectrons',\n",
       " 'NumRadicalElectrons',\n",
       " 'MaxPartialCharge',\n",
       " 'MinPartialCharge',\n",
       " 'MaxAbsPartialCharge',\n",
       " 'MinAbsPartialCharge',\n",
       " 'FpDensityMorgan1',\n",
       " 'FpDensityMorgan2',\n",
       " 'FpDensityMorgan3',\n",
       " 'BCUT2D_MWHI',\n",
       " 'BCUT2D_MWLOW',\n",
       " 'BCUT2D_CHGHI',\n",
       " 'BCUT2D_CHGLO',\n",
       " 'BCUT2D_LOGPHI',\n",
       " 'BCUT2D_LOGPLOW',\n",
       " 'BCUT2D_MRHI',\n",
       " 'BCUT2D_MRLOW',\n",
       " 'BalabanJ',\n",
       " 'BertzCT',\n",
       " 'Chi0',\n",
       " 'Chi0n',\n",
       " 'Chi0v',\n",
       " 'Chi1',\n",
       " 'Chi1n',\n",
       " 'Chi1v',\n",
       " 'Chi2n',\n",
       " 'Chi2v',\n",
       " 'Chi3n',\n",
       " 'Chi3v',\n",
       " 'Chi4n',\n",
       " 'Chi4v',\n",
       " 'HallKierAlpha',\n",
       " 'Ipc',\n",
       " 'Kappa1',\n",
       " 'Kappa2',\n",
       " 'Kappa3',\n",
       " 'LabuteASA',\n",
       " 'PEOE_VSA1',\n",
       " 'PEOE_VSA10',\n",
       " 'PEOE_VSA11',\n",
       " 'PEOE_VSA12',\n",
       " 'PEOE_VSA13',\n",
       " 'PEOE_VSA14',\n",
       " 'PEOE_VSA2',\n",
       " 'PEOE_VSA3',\n",
       " 'PEOE_VSA4',\n",
       " 'PEOE_VSA5',\n",
       " 'PEOE_VSA6',\n",
       " 'PEOE_VSA7',\n",
       " 'PEOE_VSA8',\n",
       " 'PEOE_VSA9',\n",
       " 'SMR_VSA1',\n",
       " 'SMR_VSA10',\n",
       " 'SMR_VSA2',\n",
       " 'SMR_VSA3',\n",
       " 'SMR_VSA4',\n",
       " 'SMR_VSA5',\n",
       " 'SMR_VSA6',\n",
       " 'SMR_VSA7',\n",
       " 'SMR_VSA8',\n",
       " 'SMR_VSA9',\n",
       " 'SlogP_VSA1',\n",
       " 'SlogP_VSA10',\n",
       " 'SlogP_VSA11',\n",
       " 'SlogP_VSA12',\n",
       " 'SlogP_VSA2',\n",
       " 'SlogP_VSA3',\n",
       " 'SlogP_VSA4',\n",
       " 'SlogP_VSA5',\n",
       " 'SlogP_VSA6',\n",
       " 'SlogP_VSA7',\n",
       " 'SlogP_VSA8',\n",
       " 'SlogP_VSA9',\n",
       " 'TPSA',\n",
       " 'EState_VSA1',\n",
       " 'EState_VSA10',\n",
       " 'EState_VSA11',\n",
       " 'EState_VSA2',\n",
       " 'EState_VSA3',\n",
       " 'EState_VSA4',\n",
       " 'EState_VSA5',\n",
       " 'EState_VSA6',\n",
       " 'EState_VSA7',\n",
       " 'EState_VSA8',\n",
       " 'EState_VSA9',\n",
       " 'VSA_EState1',\n",
       " 'VSA_EState10',\n",
       " 'VSA_EState2',\n",
       " 'VSA_EState3',\n",
       " 'VSA_EState4',\n",
       " 'VSA_EState5',\n",
       " 'VSA_EState6',\n",
       " 'VSA_EState7',\n",
       " 'VSA_EState8',\n",
       " 'VSA_EState9',\n",
       " 'FractionCSP3',\n",
       " 'HeavyAtomCount',\n",
       " 'NHOHCount',\n",
       " 'NOCount',\n",
       " 'NumAliphaticCarbocycles',\n",
       " 'NumAliphaticHeterocycles',\n",
       " 'NumAliphaticRings',\n",
       " 'NumAromaticCarbocycles',\n",
       " 'NumAromaticHeterocycles',\n",
       " 'NumAromaticRings',\n",
       " 'NumHAcceptors',\n",
       " 'NumHDonors',\n",
       " 'NumHeteroatoms',\n",
       " 'NumRotatableBonds',\n",
       " 'NumSaturatedCarbocycles',\n",
       " 'NumSaturatedHeterocycles',\n",
       " 'NumSaturatedRings',\n",
       " 'RingCount',\n",
       " 'MolLogP',\n",
       " 'MolMR',\n",
       " 'fr_Al_COO',\n",
       " 'fr_Al_OH',\n",
       " 'fr_Al_OH_noTert',\n",
       " 'fr_ArN',\n",
       " 'fr_Ar_COO',\n",
       " 'fr_Ar_N',\n",
       " 'fr_Ar_NH',\n",
       " 'fr_Ar_OH',\n",
       " 'fr_COO',\n",
       " 'fr_COO2',\n",
       " 'fr_C_O',\n",
       " 'fr_C_O_noCOO',\n",
       " 'fr_C_S',\n",
       " 'fr_HOCCN',\n",
       " 'fr_Imine',\n",
       " 'fr_NH0',\n",
       " 'fr_NH1',\n",
       " 'fr_NH2',\n",
       " 'fr_N_O',\n",
       " 'fr_Ndealkylation1',\n",
       " 'fr_Ndealkylation2',\n",
       " 'fr_Nhpyrrole',\n",
       " 'fr_SH',\n",
       " 'fr_aldehyde',\n",
       " 'fr_alkyl_carbamate',\n",
       " 'fr_alkyl_halide',\n",
       " 'fr_allylic_oxid',\n",
       " 'fr_amide',\n",
       " 'fr_amidine',\n",
       " 'fr_aniline',\n",
       " 'fr_aryl_methyl',\n",
       " 'fr_azide',\n",
       " 'fr_azo',\n",
       " 'fr_barbitur',\n",
       " 'fr_benzene',\n",
       " 'fr_benzodiazepine',\n",
       " 'fr_bicyclic',\n",
       " 'fr_diazo',\n",
       " 'fr_dihydropyridine',\n",
       " 'fr_epoxide',\n",
       " 'fr_ester',\n",
       " 'fr_ether',\n",
       " 'fr_furan',\n",
       " 'fr_guanido',\n",
       " 'fr_halogen',\n",
       " 'fr_hdrzine',\n",
       " 'fr_hdrzone',\n",
       " 'fr_imidazole',\n",
       " 'fr_imide',\n",
       " 'fr_isocyan',\n",
       " 'fr_isothiocyan',\n",
       " 'fr_ketone',\n",
       " 'fr_ketone_Topliss',\n",
       " 'fr_lactam',\n",
       " 'fr_lactone',\n",
       " 'fr_methoxy',\n",
       " 'fr_morpholine',\n",
       " 'fr_nitrile',\n",
       " 'fr_nitro',\n",
       " 'fr_nitro_arom',\n",
       " 'fr_nitro_arom_nonortho',\n",
       " 'fr_nitroso',\n",
       " 'fr_oxazole',\n",
       " 'fr_oxime',\n",
       " 'fr_para_hydroxylation',\n",
       " 'fr_phenol',\n",
       " 'fr_phenol_noOrthoHbond',\n",
       " 'fr_phos_acid',\n",
       " 'fr_phos_ester',\n",
       " 'fr_piperdine',\n",
       " 'fr_piperzine',\n",
       " 'fr_priamide',\n",
       " 'fr_prisulfonamd',\n",
       " 'fr_pyridine',\n",
       " 'fr_quatN',\n",
       " 'fr_sulfide',\n",
       " 'fr_sulfonamd',\n",
       " 'fr_sulfone',\n",
       " 'fr_term_acetylene',\n",
       " 'fr_tetrazole',\n",
       " 'fr_thiazole',\n",
       " 'fr_thiocyan',\n",
       " 'fr_thiophene',\n",
       " 'fr_unbrch_alkane',\n",
       " 'fr_urea',\n",
       " 'MaxEStateIndexnsubdescriptors',\n",
       " 'MinEStateIndexnsubdescriptors',\n",
       " 'MaxAbsEStateIndexnsubdescriptors',\n",
       " 'MinAbsEStateIndexnsubdescriptors',\n",
       " 'qednsubdescriptors',\n",
       " 'MolWtnsubdescriptors',\n",
       " 'HeavyAtomMolWtnsubdescriptors',\n",
       " 'ExactMolWtnsubdescriptors',\n",
       " 'NumValenceElectronsnsubdescriptors',\n",
       " 'NumRadicalElectronsnsubdescriptors',\n",
       " 'MaxPartialChargensubdescriptors',\n",
       " 'MinPartialChargensubdescriptors',\n",
       " 'MaxAbsPartialChargensubdescriptors',\n",
       " 'MinAbsPartialChargensubdescriptors',\n",
       " 'FpDensityMorgan1nsubdescriptors',\n",
       " 'FpDensityMorgan2nsubdescriptors',\n",
       " 'FpDensityMorgan3nsubdescriptors',\n",
       " 'BCUT2D_MWHInsubdescriptors',\n",
       " 'BCUT2D_MWLOWnsubdescriptors',\n",
       " 'BCUT2D_CHGHInsubdescriptors',\n",
       " 'BCUT2D_CHGLOnsubdescriptors',\n",
       " 'BCUT2D_LOGPHInsubdescriptors',\n",
       " 'BCUT2D_LOGPLOWnsubdescriptors',\n",
       " 'BCUT2D_MRHInsubdescriptors',\n",
       " 'BCUT2D_MRLOWnsubdescriptors',\n",
       " 'BalabanJnsubdescriptors',\n",
       " 'BertzCTnsubdescriptors',\n",
       " 'Chi0nsubdescriptors',\n",
       " 'Chi0nnsubdescriptors',\n",
       " 'Chi0vnsubdescriptors',\n",
       " 'Chi1nsubdescriptors',\n",
       " 'Chi1nnsubdescriptors',\n",
       " 'Chi1vnsubdescriptors',\n",
       " 'Chi2nnsubdescriptors',\n",
       " 'Chi2vnsubdescriptors',\n",
       " 'Chi3nnsubdescriptors',\n",
       " 'Chi3vnsubdescriptors',\n",
       " 'Chi4nnsubdescriptors',\n",
       " 'Chi4vnsubdescriptors',\n",
       " 'HallKierAlphansubdescriptors',\n",
       " 'Ipcnsubdescriptors',\n",
       " 'Kappa1nsubdescriptors',\n",
       " 'Kappa2nsubdescriptors',\n",
       " 'Kappa3nsubdescriptors',\n",
       " 'LabuteASAnsubdescriptors',\n",
       " 'PEOE_VSA1nsubdescriptors',\n",
       " 'PEOE_VSA10nsubdescriptors',\n",
       " 'PEOE_VSA11nsubdescriptors',\n",
       " 'PEOE_VSA12nsubdescriptors',\n",
       " 'PEOE_VSA13nsubdescriptors',\n",
       " 'PEOE_VSA14nsubdescriptors',\n",
       " 'PEOE_VSA2nsubdescriptors',\n",
       " 'PEOE_VSA3nsubdescriptors',\n",
       " 'PEOE_VSA4nsubdescriptors',\n",
       " 'PEOE_VSA5nsubdescriptors',\n",
       " 'PEOE_VSA6nsubdescriptors',\n",
       " 'PEOE_VSA7nsubdescriptors',\n",
       " 'PEOE_VSA8nsubdescriptors',\n",
       " 'PEOE_VSA9nsubdescriptors',\n",
       " 'SMR_VSA1nsubdescriptors',\n",
       " 'SMR_VSA10nsubdescriptors',\n",
       " 'SMR_VSA2nsubdescriptors',\n",
       " 'SMR_VSA3nsubdescriptors',\n",
       " 'SMR_VSA4nsubdescriptors',\n",
       " 'SMR_VSA5nsubdescriptors',\n",
       " 'SMR_VSA6nsubdescriptors',\n",
       " 'SMR_VSA7nsubdescriptors',\n",
       " 'SMR_VSA8nsubdescriptors',\n",
       " 'SMR_VSA9nsubdescriptors',\n",
       " 'SlogP_VSA1nsubdescriptors',\n",
       " 'SlogP_VSA10nsubdescriptors',\n",
       " 'SlogP_VSA11nsubdescriptors',\n",
       " 'SlogP_VSA12nsubdescriptors',\n",
       " 'SlogP_VSA2nsubdescriptors',\n",
       " 'SlogP_VSA3nsubdescriptors',\n",
       " 'SlogP_VSA4nsubdescriptors',\n",
       " 'SlogP_VSA5nsubdescriptors',\n",
       " 'SlogP_VSA6nsubdescriptors',\n",
       " 'SlogP_VSA7nsubdescriptors',\n",
       " 'SlogP_VSA8nsubdescriptors',\n",
       " 'SlogP_VSA9nsubdescriptors',\n",
       " 'TPSAnsubdescriptors',\n",
       " 'EState_VSA1nsubdescriptors',\n",
       " 'EState_VSA10nsubdescriptors',\n",
       " 'EState_VSA11nsubdescriptors',\n",
       " 'EState_VSA2nsubdescriptors',\n",
       " 'EState_VSA3nsubdescriptors',\n",
       " 'EState_VSA4nsubdescriptors',\n",
       " 'EState_VSA5nsubdescriptors',\n",
       " 'EState_VSA6nsubdescriptors',\n",
       " 'EState_VSA7nsubdescriptors',\n",
       " 'EState_VSA8nsubdescriptors',\n",
       " 'EState_VSA9nsubdescriptors',\n",
       " 'VSA_EState1nsubdescriptors',\n",
       " 'VSA_EState10nsubdescriptors',\n",
       " 'VSA_EState2nsubdescriptors',\n",
       " 'VSA_EState3nsubdescriptors',\n",
       " 'VSA_EState4nsubdescriptors',\n",
       " 'VSA_EState5nsubdescriptors',\n",
       " 'VSA_EState6nsubdescriptors',\n",
       " 'VSA_EState7nsubdescriptors',\n",
       " 'VSA_EState8nsubdescriptors',\n",
       " 'VSA_EState9nsubdescriptors',\n",
       " 'FractionCSP3nsubdescriptors',\n",
       " 'HeavyAtomCountnsubdescriptors',\n",
       " 'NHOHCountnsubdescriptors',\n",
       " 'NOCountnsubdescriptors',\n",
       " 'NumAliphaticCarbocyclesnsubdescriptors',\n",
       " 'NumAliphaticHeterocyclesnsubdescriptors',\n",
       " 'NumAliphaticRingsnsubdescriptors',\n",
       " 'NumAromaticCarbocyclesnsubdescriptors',\n",
       " 'NumAromaticHeterocyclesnsubdescriptors',\n",
       " 'NumAromaticRingsnsubdescriptors',\n",
       " 'NumHAcceptorsnsubdescriptors',\n",
       " 'NumHDonorsnsubdescriptors',\n",
       " 'NumHeteroatomsnsubdescriptors',\n",
       " 'NumRotatableBondsnsubdescriptors',\n",
       " 'NumSaturatedCarbocyclesnsubdescriptors',\n",
       " 'NumSaturatedHeterocyclesnsubdescriptors',\n",
       " 'NumSaturatedRingsnsubdescriptors',\n",
       " 'RingCountnsubdescriptors',\n",
       " 'MolLogPnsubdescriptors',\n",
       " 'MolMRnsubdescriptors',\n",
       " 'fr_Al_COOnsubdescriptors',\n",
       " 'fr_Al_OHnsubdescriptors',\n",
       " 'fr_Al_OH_noTertnsubdescriptors',\n",
       " 'fr_ArNnsubdescriptors',\n",
       " 'fr_Ar_COOnsubdescriptors',\n",
       " 'fr_Ar_Nnsubdescriptors',\n",
       " 'fr_Ar_NHnsubdescriptors',\n",
       " 'fr_Ar_OHnsubdescriptors',\n",
       " 'fr_COOnsubdescriptors',\n",
       " 'fr_COO2nsubdescriptors',\n",
       " 'fr_C_Onsubdescriptors',\n",
       " 'fr_C_O_noCOOnsubdescriptors',\n",
       " 'fr_C_Snsubdescriptors',\n",
       " 'fr_HOCCNnsubdescriptors',\n",
       " 'fr_Iminensubdescriptors',\n",
       " 'fr_NH0nsubdescriptors',\n",
       " 'fr_NH1nsubdescriptors',\n",
       " 'fr_NH2nsubdescriptors',\n",
       " 'fr_N_Onsubdescriptors',\n",
       " 'fr_Ndealkylation1nsubdescriptors',\n",
       " 'fr_Ndealkylation2nsubdescriptors',\n",
       " 'fr_Nhpyrrolensubdescriptors',\n",
       " 'fr_SHnsubdescriptors',\n",
       " 'fr_aldehydensubdescriptors',\n",
       " 'fr_alkyl_carbamatensubdescriptors',\n",
       " 'fr_alkyl_halidensubdescriptors',\n",
       " 'fr_allylic_oxidnsubdescriptors',\n",
       " 'fr_amidensubdescriptors',\n",
       " 'fr_amidinensubdescriptors',\n",
       " 'fr_anilinensubdescriptors',\n",
       " 'fr_aryl_methylnsubdescriptors',\n",
       " 'fr_azidensubdescriptors',\n",
       " 'fr_azonsubdescriptors',\n",
       " 'fr_barbiturnsubdescriptors',\n",
       " 'fr_benzenensubdescriptors',\n",
       " 'fr_benzodiazepinensubdescriptors',\n",
       " 'fr_bicyclicnsubdescriptors',\n",
       " 'fr_diazonsubdescriptors',\n",
       " 'fr_dihydropyridinensubdescriptors',\n",
       " 'fr_epoxidensubdescriptors',\n",
       " 'fr_esternsubdescriptors',\n",
       " 'fr_ethernsubdescriptors',\n",
       " 'fr_furannsubdescriptors',\n",
       " 'fr_guanidonsubdescriptors',\n",
       " 'fr_halogennsubdescriptors',\n",
       " 'fr_hdrzinensubdescriptors',\n",
       " 'fr_hdrzonensubdescriptors',\n",
       " 'fr_imidazolensubdescriptors',\n",
       " 'fr_imidensubdescriptors',\n",
       " 'fr_isocyannsubdescriptors',\n",
       " 'fr_isothiocyannsubdescriptors',\n",
       " 'fr_ketonensubdescriptors',\n",
       " 'fr_ketone_Toplissnsubdescriptors',\n",
       " 'fr_lactamnsubdescriptors',\n",
       " 'fr_lactonensubdescriptors',\n",
       " 'fr_methoxynsubdescriptors',\n",
       " 'fr_morpholinensubdescriptors',\n",
       " 'fr_nitrilensubdescriptors',\n",
       " 'fr_nitronsubdescriptors',\n",
       " 'fr_nitro_aromnsubdescriptors',\n",
       " 'fr_nitro_arom_nonorthonsubdescriptors',\n",
       " 'fr_nitrosonsubdescriptors',\n",
       " 'fr_oxazolensubdescriptors',\n",
       " 'fr_oximensubdescriptors',\n",
       " 'fr_para_hydroxylationnsubdescriptors',\n",
       " 'fr_phenolnsubdescriptors',\n",
       " 'fr_phenol_noOrthoHbondnsubdescriptors',\n",
       " 'fr_phos_acidnsubdescriptors',\n",
       " 'fr_phos_esternsubdescriptors',\n",
       " 'fr_piperdinensubdescriptors',\n",
       " 'fr_piperzinensubdescriptors',\n",
       " 'fr_priamidensubdescriptors',\n",
       " 'fr_prisulfonamdnsubdescriptors',\n",
       " 'fr_pyridinensubdescriptors',\n",
       " 'fr_quatNnsubdescriptors',\n",
       " 'fr_sulfidensubdescriptors',\n",
       " 'fr_sulfonamdnsubdescriptors',\n",
       " 'fr_sulfonensubdescriptors',\n",
       " 'fr_term_acetylenensubdescriptors',\n",
       " 'fr_tetrazolensubdescriptors',\n",
       " 'fr_thiazolensubdescriptors',\n",
       " 'fr_thiocyannsubdescriptors',\n",
       " 'fr_thiophenensubdescriptors',\n",
       " 'fr_unbrch_alkanensubdescriptors',\n",
       " 'fr_ureansubdescriptors',\n",
       " 'Predicted ddG',\n",
       " 'DdG/(0.001986*T)',\n",
       " 'e(ddg/0.001986*T)',\n",
       " 'ee',\n",
       " 74.5828039792404,\n",
       " 'ID',\n",
       " 'Reaction',\n",
       " 'rank',\n",
       " 'Quantile_rank',\n",
       " 'Normalized_rank']"
      ]
     },
     "execution_count": 12,
     "metadata": {},
     "output_type": "execute_result"
    }
   ],
   "source": [
    "list = df_ee.columns.values.tolist()\n"
   ]
  }
 ],
 "metadata": {
  "kernelspec": {
   "display_name": "Python 3",
   "language": "python",
   "name": "python3"
  },
  "language_info": {
   "codemirror_mode": {
    "name": "ipython",
    "version": 3
   },
   "file_extension": ".py",
   "mimetype": "text/x-python",
   "name": "python",
   "nbconvert_exporter": "python",
   "pygments_lexer": "ipython3",
   "version": "3.10.13"
  },
  "orig_nbformat": 4
 },
 "nbformat": 4,
 "nbformat_minor": 2
}
