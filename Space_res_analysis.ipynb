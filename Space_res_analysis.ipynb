{
 "cells": [
  {
   "cell_type": "code",
   "execution_count": 2,
   "metadata": {},
   "outputs": [],
   "source": [
    "import json\n",
    "import scipy.stats as stats\n",
    "\n",
    "import numpy as np\n",
    "measurments = json.load(open(\"param3.json\"))\n",
    "\n"
   ]
  },
  {
   "cell_type": "code",
   "execution_count": 3,
   "metadata": {},
   "outputs": [],
   "source": [
    "def calculate_quadrant_statistics(entry):\n",
    "    name, dict1, dict2 = entry\n",
    "\n",
    "\n",
    "    values1 = []\n",
    "    values2 = []\n",
    "    above_count=0\n",
    "    above_count2=0\n",
    "    for quadrant in dict1.keys():\n",
    "        values1.append(dict1[quadrant])\n",
    "        values2.append(dict2[quadrant])\n",
    "        if dict1[quadrant] > 10:\n",
    "            above_count+=1\n",
    "        if dict2[quadrant] > 10:\n",
    "            above_count2+=1\n",
    "        # Calculate the difference between values1 and values2\n",
    "        \n",
    "\n",
    "        # Calculate summary statistics for the differences\n",
    "    mean_occupancy = np.mean(values1)\n",
    "    std = np.std(values1)\n",
    "\n",
    "\n",
    "        \n",
    "\n",
    "\n",
    "    mean_ray_pass = np.mean(values2)\n",
    "    std_ray_pass = np.std(values2)\n",
    "\n",
    "    quadrant_statistics2 ={\n",
    "            'Name': name,\n",
    "            'Mean_occupancy': mean_occupancy,\n",
    "            'exceeded_count': above_count,\n",
    "            'Std_occupancy': std,\n",
    "            'Mean_pass': mean_ray_pass,\n",
    "            'exceeded_ray_count': above_count2,\n",
    "            'Std_pass': std_ray_pass,\n",
    "        }\n",
    "\n",
    "    return quadrant_statistics2\n",
    "\n",
    "# List to store the results\n",
    "results = []\n",
    "\n",
    "\n",
    "# Iterate through the data_list and calculate statistics for each name and quadrant\n",
    "for entry in measurments:\n",
    "    quadrant_stats = calculate_quadrant_statistics(entry)\n",
    "    results.append(quadrant_stats)\n",
    "\n"
   ]
  },
  {
   "cell_type": "code",
   "execution_count": 4,
   "metadata": {},
   "outputs": [
    {
     "data": {
      "text/plain": [
       "['C=CCOC(=O)/N=C/c1ccco1',\n",
       " {'0': 18.508223658952346,\n",
       "  '1': 6.933289310011211,\n",
       "  '2': 0.8070089224012162,\n",
       "  '3': 2.0804858946204523,\n",
       "  '4': 1.8151941889214798,\n",
       "  '5': 4.9084724419122505,\n",
       "  '6': 3.0226361779566013,\n",
       "  '7': 0.7870448577176467},\n",
       " {'0': 25.0,\n",
       "  '1': 6.25,\n",
       "  '2': 0.0,\n",
       "  '3': 12.5,\n",
       "  '4': 9.375,\n",
       "  '5': 9.375,\n",
       "  '6': 9.375,\n",
       "  '7': 6.25}]"
      ]
     },
     "execution_count": 4,
     "metadata": {},
     "output_type": "execute_result"
    }
   ],
   "source": [
    "measurments[np.random.randint(500)]"
   ]
  },
  {
   "cell_type": "code",
   "execution_count": 5,
   "metadata": {},
   "outputs": [
    {
     "data": {
      "application/vnd.plotly.v1+json": {
       "config": {
        "plotlyServerURL": "https://plot.ly"
       },
       "data": [
        {
         "alignmentgroup": "True",
         "hovertemplate": "_index=%{x}<br>exceeded_ray_count=%{y}<extra></extra>",
         "legendgroup": "",
         "marker": {
          "color": "royalblue",
          "line": {
           "color": "black",
           "width": 1
          },
          "pattern": {
           "shape": ""
          }
         },
         "name": "",
         "offsetgroup": "",
         "opacity": 0.7,
         "orientation": "v",
         "showlegend": false,
         "textposition": "auto",
         "type": "bar",
         "x": [
          323,
          188,
          186,
          499,
          46,
          153,
          225,
          118,
          370,
          103,
          503,
          177,
          79,
          20,
          247,
          120,
          175,
          365,
          245,
          511,
          49,
          342,
          369,
          123,
          96,
          110,
          500,
          25,
          246,
          224,
          477,
          473,
          237,
          6,
          504,
          9,
          167,
          216,
          14,
          231,
          248,
          280,
          115,
          129,
          174,
          194,
          178,
          213,
          236,
          193,
          29,
          256,
          98,
          252,
          97,
          28,
          195,
          552,
          344,
          244,
          220,
          138,
          198,
          181,
          476,
          180,
          172,
          105,
          78,
          187,
          95,
          249,
          439,
          241,
          43,
          230,
          73,
          509,
          221,
          441,
          317,
          111,
          242,
          212,
          334,
          215,
          185,
          166,
          222,
          384,
          104,
          436,
          332,
          512,
          434,
          106,
          139,
          88,
          112,
          525,
          173,
          513,
          27,
          243,
          505,
          251,
          450,
          34,
          208,
          211,
          433,
          223,
          42,
          196,
          475,
          48,
          506,
          219,
          184,
          235,
          520,
          201,
          358,
          363,
          21,
          250,
          44,
          90,
          440,
          217,
          238,
          210,
          197,
          89,
          116,
          364,
          431,
          209,
          205,
          189,
          199,
          214,
          456,
          523,
          508,
          47,
          498,
          345,
          3,
          218,
          133,
          435,
          152,
          496,
          36,
          426,
          371,
          207,
          462,
          182,
          200,
          448,
          136,
          447,
          319,
          23,
          226,
          240,
          533,
          518,
          204,
          156,
          7,
          80,
          176,
          228,
          33,
          130,
          102,
          119,
          258,
          179,
          40,
          137,
          357,
          438,
          206,
          155,
          53,
          526,
          100,
          124,
          502,
          125,
          524,
          470,
          459,
          171,
          460,
          8,
          550,
          50,
          281,
          233,
          417,
          127,
          408,
          170,
          454,
          229,
          82,
          368,
          81,
          157,
          101,
          74,
          413,
          68,
          429,
          348,
          546,
          361,
          0,
          289,
          430,
          1,
          516,
          468,
          333,
          402,
          539,
          72,
          12,
          18,
          16,
          140,
          478,
          168,
          65,
          15,
          39,
          260,
          432,
          71,
          360,
          514,
          131,
          362,
          341,
          551,
          467,
          446,
          527,
          424,
          5,
          13,
          479,
          154,
          463,
          91,
          320,
          77,
          87,
          203,
          522,
          117,
          52,
          121,
          239,
          322,
          32,
          232,
          37,
          75,
          492,
          234,
          507,
          418,
          397,
          329,
          389,
          352,
          484,
          486,
          354,
          22,
          76,
          114,
          164,
          367,
          495,
          382,
          489,
          497,
          517,
          490,
          99,
          494,
          407,
          57,
          92,
          537,
          422,
          487,
          38,
          69,
          472,
          449,
          455,
          269,
          491,
          465,
          387,
          493,
          403,
          466,
          388,
          141,
          331,
          275,
          458,
          536,
          545,
          445,
          58,
          392,
          169,
          366,
          161,
          544,
          17,
          148,
          2,
          469,
          482,
          353,
          227,
          41,
          415,
          307,
          279,
          202,
          372,
          401,
          451,
          160,
          4,
          427,
          379,
          134,
          132,
          321,
          310,
          385,
          437,
          150,
          453,
          63,
          488,
          86,
          549,
          428,
          351,
          126,
          66,
          31,
          419,
          405,
          510,
          159,
          60,
          35,
          534,
          324,
          109,
          532,
          540,
          339,
          391,
          45,
          145,
          11,
          338,
          535,
          519,
          107,
          108,
          350,
          67,
          404,
          93,
          399,
          406,
          264,
          55,
          530,
          343,
          84,
          19,
          316,
          521,
          386,
          135,
          61,
          62,
          313,
          538,
          411,
          325,
          528,
          309,
          297,
          128,
          393,
          356,
          461,
          70,
          24,
          85,
          277,
          113,
          94,
          355,
          444,
          144,
          443,
          59,
          318,
          122,
          543,
          542,
          283,
          347,
          282,
          398,
          529,
          416,
          308,
          349,
          423,
          151,
          191,
          142,
          327,
          390,
          515,
          312,
          158,
          548,
          10,
          263,
          421,
          288,
          400,
          481,
          414,
          298,
          276,
          483,
          374,
          143,
          420,
          26,
          51,
          190,
          340,
          409,
          501,
          147,
          83,
          30,
          56,
          301,
          300,
          266,
          474,
          306,
          376,
          257,
          531,
          410,
          326,
          314,
          425,
          380,
          254,
          149,
          335,
          278,
          262,
          394,
          286,
          296,
          162,
          64,
          485,
          373,
          293,
          253,
          541,
          452,
          304,
          311,
          294,
          442,
          259,
          274,
          315,
          291,
          284,
          547,
          271,
          471,
          480,
          268,
          336,
          267,
          261,
          464,
          328,
          163,
          346,
          299,
          457,
          270,
          378,
          305,
          337,
          255,
          146,
          381,
          330,
          303,
          383,
          359,
          302,
          265,
          272,
          287,
          285,
          54,
          192,
          375,
          396,
          183,
          292,
          295,
          377,
          290,
          165,
          395,
          412,
          273
         ],
         "xaxis": "x",
         "y": [
          2,
          3,
          3,
          4,
          3,
          4,
          3,
          4,
          4,
          4,
          3,
          5,
          2,
          3,
          3,
          5,
          4,
          3,
          3,
          3,
          3,
          3,
          2,
          4,
          2,
          3,
          3,
          3,
          4,
          4,
          2,
          2,
          4,
          3,
          4,
          3,
          4,
          4,
          2,
          3,
          4,
          3,
          4,
          4,
          3,
          3,
          4,
          4,
          5,
          4,
          4,
          4,
          3,
          3,
          4,
          2,
          2,
          3,
          4,
          3,
          4,
          5,
          3,
          5,
          2,
          3,
          6,
          3,
          3,
          3,
          3,
          2,
          5,
          4,
          2,
          4,
          3,
          3,
          4,
          3,
          3,
          3,
          2,
          4,
          4,
          2,
          4,
          3,
          3,
          3,
          3,
          4,
          2,
          3,
          4,
          4,
          3,
          4,
          3,
          5,
          4,
          3,
          4,
          3,
          4,
          4,
          4,
          2,
          3,
          4,
          4,
          3,
          6,
          3,
          5,
          3,
          6,
          3,
          3,
          4,
          4,
          3,
          4,
          4,
          1,
          5,
          2,
          3,
          4,
          4,
          2,
          4,
          4,
          4,
          4,
          3,
          6,
          3,
          4,
          5,
          2,
          3,
          4,
          4,
          2,
          3,
          5,
          5,
          5,
          4,
          4,
          5,
          3,
          4,
          3,
          5,
          2,
          3,
          3,
          3,
          2,
          4,
          5,
          5,
          3,
          3,
          4,
          4,
          2,
          6,
          4,
          7,
          5,
          3,
          4,
          4,
          3,
          5,
          3,
          4,
          2,
          5,
          4,
          4,
          4,
          3,
          5,
          6,
          3,
          5,
          4,
          4,
          5,
          4,
          3,
          4,
          4,
          4,
          3,
          3,
          3,
          3,
          3,
          4,
          5,
          4,
          5,
          5,
          4,
          3,
          5,
          4,
          3,
          3,
          4,
          4,
          5,
          4,
          4,
          2,
          4,
          3,
          3,
          6,
          4,
          4,
          4,
          4,
          3,
          5,
          4,
          6,
          4,
          4,
          5,
          5,
          5,
          5,
          4,
          4,
          4,
          5,
          4,
          3,
          5,
          4,
          4,
          3,
          3,
          3,
          4,
          4,
          5,
          4,
          4,
          3,
          5,
          4,
          4,
          4,
          3,
          4,
          4,
          5,
          4,
          4,
          4,
          4,
          2,
          3,
          4,
          4,
          3,
          4,
          4,
          5,
          4,
          5,
          4,
          5,
          6,
          5,
          6,
          5,
          2,
          4,
          4,
          4,
          3,
          4,
          2,
          4,
          4,
          3,
          4,
          4,
          3,
          3,
          5,
          2,
          3,
          3,
          5,
          4,
          4,
          6,
          4,
          4,
          2,
          4,
          3,
          4,
          5,
          4,
          2,
          4,
          7,
          4,
          5,
          4,
          4,
          5,
          5,
          3,
          2,
          3,
          4,
          3,
          5,
          4,
          4,
          5,
          4,
          5,
          5,
          4,
          4,
          4,
          4,
          4,
          5,
          4,
          8,
          5,
          5,
          4,
          3,
          5,
          4,
          4,
          4,
          4,
          4,
          3,
          5,
          4,
          3,
          5,
          7,
          5,
          4,
          5,
          5,
          4,
          4,
          3,
          4,
          6,
          4,
          4,
          3,
          3,
          6,
          5,
          4,
          4,
          5,
          4,
          4,
          3,
          3,
          4,
          4,
          5,
          6,
          5,
          4,
          4,
          4,
          6,
          6,
          6,
          5,
          4,
          6,
          4,
          4,
          3,
          5,
          4,
          4,
          6,
          4,
          3,
          4,
          4,
          3,
          4,
          4,
          3,
          5,
          4,
          4,
          3,
          4,
          2,
          6,
          5,
          4,
          4,
          4,
          5,
          6,
          3,
          6,
          3,
          5,
          5,
          5,
          4,
          5,
          5,
          2,
          5,
          5,
          4,
          5,
          5,
          5,
          6,
          5,
          6,
          5,
          3,
          4,
          5,
          5,
          5,
          4,
          6,
          4,
          5,
          6,
          4,
          5,
          6,
          5,
          5,
          4,
          6,
          6,
          4,
          4,
          6,
          4,
          4,
          6,
          5,
          5,
          4,
          6,
          3,
          4,
          5,
          6,
          3,
          6,
          4,
          4,
          4,
          6,
          5,
          6,
          6,
          3,
          4,
          4,
          4,
          4,
          4,
          5,
          4,
          4,
          5,
          4,
          5,
          4,
          6,
          5,
          7,
          7,
          4,
          4,
          5,
          4,
          6,
          6,
          6,
          5,
          4,
          4,
          4,
          7,
          6,
          5,
          2,
          5,
          5,
          8,
          5,
          4,
          3,
          6,
          6,
          4,
          6,
          6,
          4,
          5,
          6,
          4,
          4,
          6,
          5,
          4,
          5,
          6,
          4,
          7,
          4,
          7,
          6,
          5,
          5,
          4,
          5,
          8,
          6,
          6,
          5,
          5,
          5,
          5
         ],
         "yaxis": "y"
        }
       ],
       "layout": {
        "barmode": "relative",
        "legend": {
         "tracegroupgap": 0
        },
        "showlegend": false,
        "template": {
         "data": {
          "bar": [
           {
            "error_x": {
             "color": "#2a3f5f"
            },
            "error_y": {
             "color": "#2a3f5f"
            },
            "marker": {
             "line": {
              "color": "#E5ECF6",
              "width": 0.5
             },
             "pattern": {
              "fillmode": "overlay",
              "size": 10,
              "solidity": 0.2
             }
            },
            "type": "bar"
           }
          ],
          "barpolar": [
           {
            "marker": {
             "line": {
              "color": "#E5ECF6",
              "width": 0.5
             },
             "pattern": {
              "fillmode": "overlay",
              "size": 10,
              "solidity": 0.2
             }
            },
            "type": "barpolar"
           }
          ],
          "carpet": [
           {
            "aaxis": {
             "endlinecolor": "#2a3f5f",
             "gridcolor": "white",
             "linecolor": "white",
             "minorgridcolor": "white",
             "startlinecolor": "#2a3f5f"
            },
            "baxis": {
             "endlinecolor": "#2a3f5f",
             "gridcolor": "white",
             "linecolor": "white",
             "minorgridcolor": "white",
             "startlinecolor": "#2a3f5f"
            },
            "type": "carpet"
           }
          ],
          "choropleth": [
           {
            "colorbar": {
             "outlinewidth": 0,
             "ticks": ""
            },
            "type": "choropleth"
           }
          ],
          "contour": [
           {
            "colorbar": {
             "outlinewidth": 0,
             "ticks": ""
            },
            "colorscale": [
             [
              0,
              "#0d0887"
             ],
             [
              0.1111111111111111,
              "#46039f"
             ],
             [
              0.2222222222222222,
              "#7201a8"
             ],
             [
              0.3333333333333333,
              "#9c179e"
             ],
             [
              0.4444444444444444,
              "#bd3786"
             ],
             [
              0.5555555555555556,
              "#d8576b"
             ],
             [
              0.6666666666666666,
              "#ed7953"
             ],
             [
              0.7777777777777778,
              "#fb9f3a"
             ],
             [
              0.8888888888888888,
              "#fdca26"
             ],
             [
              1,
              "#f0f921"
             ]
            ],
            "type": "contour"
           }
          ],
          "contourcarpet": [
           {
            "colorbar": {
             "outlinewidth": 0,
             "ticks": ""
            },
            "type": "contourcarpet"
           }
          ],
          "heatmap": [
           {
            "colorbar": {
             "outlinewidth": 0,
             "ticks": ""
            },
            "colorscale": [
             [
              0,
              "#0d0887"
             ],
             [
              0.1111111111111111,
              "#46039f"
             ],
             [
              0.2222222222222222,
              "#7201a8"
             ],
             [
              0.3333333333333333,
              "#9c179e"
             ],
             [
              0.4444444444444444,
              "#bd3786"
             ],
             [
              0.5555555555555556,
              "#d8576b"
             ],
             [
              0.6666666666666666,
              "#ed7953"
             ],
             [
              0.7777777777777778,
              "#fb9f3a"
             ],
             [
              0.8888888888888888,
              "#fdca26"
             ],
             [
              1,
              "#f0f921"
             ]
            ],
            "type": "heatmap"
           }
          ],
          "heatmapgl": [
           {
            "colorbar": {
             "outlinewidth": 0,
             "ticks": ""
            },
            "colorscale": [
             [
              0,
              "#0d0887"
             ],
             [
              0.1111111111111111,
              "#46039f"
             ],
             [
              0.2222222222222222,
              "#7201a8"
             ],
             [
              0.3333333333333333,
              "#9c179e"
             ],
             [
              0.4444444444444444,
              "#bd3786"
             ],
             [
              0.5555555555555556,
              "#d8576b"
             ],
             [
              0.6666666666666666,
              "#ed7953"
             ],
             [
              0.7777777777777778,
              "#fb9f3a"
             ],
             [
              0.8888888888888888,
              "#fdca26"
             ],
             [
              1,
              "#f0f921"
             ]
            ],
            "type": "heatmapgl"
           }
          ],
          "histogram": [
           {
            "marker": {
             "pattern": {
              "fillmode": "overlay",
              "size": 10,
              "solidity": 0.2
             }
            },
            "type": "histogram"
           }
          ],
          "histogram2d": [
           {
            "colorbar": {
             "outlinewidth": 0,
             "ticks": ""
            },
            "colorscale": [
             [
              0,
              "#0d0887"
             ],
             [
              0.1111111111111111,
              "#46039f"
             ],
             [
              0.2222222222222222,
              "#7201a8"
             ],
             [
              0.3333333333333333,
              "#9c179e"
             ],
             [
              0.4444444444444444,
              "#bd3786"
             ],
             [
              0.5555555555555556,
              "#d8576b"
             ],
             [
              0.6666666666666666,
              "#ed7953"
             ],
             [
              0.7777777777777778,
              "#fb9f3a"
             ],
             [
              0.8888888888888888,
              "#fdca26"
             ],
             [
              1,
              "#f0f921"
             ]
            ],
            "type": "histogram2d"
           }
          ],
          "histogram2dcontour": [
           {
            "colorbar": {
             "outlinewidth": 0,
             "ticks": ""
            },
            "colorscale": [
             [
              0,
              "#0d0887"
             ],
             [
              0.1111111111111111,
              "#46039f"
             ],
             [
              0.2222222222222222,
              "#7201a8"
             ],
             [
              0.3333333333333333,
              "#9c179e"
             ],
             [
              0.4444444444444444,
              "#bd3786"
             ],
             [
              0.5555555555555556,
              "#d8576b"
             ],
             [
              0.6666666666666666,
              "#ed7953"
             ],
             [
              0.7777777777777778,
              "#fb9f3a"
             ],
             [
              0.8888888888888888,
              "#fdca26"
             ],
             [
              1,
              "#f0f921"
             ]
            ],
            "type": "histogram2dcontour"
           }
          ],
          "mesh3d": [
           {
            "colorbar": {
             "outlinewidth": 0,
             "ticks": ""
            },
            "type": "mesh3d"
           }
          ],
          "parcoords": [
           {
            "line": {
             "colorbar": {
              "outlinewidth": 0,
              "ticks": ""
             }
            },
            "type": "parcoords"
           }
          ],
          "pie": [
           {
            "automargin": true,
            "type": "pie"
           }
          ],
          "scatter": [
           {
            "fillpattern": {
             "fillmode": "overlay",
             "size": 10,
             "solidity": 0.2
            },
            "type": "scatter"
           }
          ],
          "scatter3d": [
           {
            "line": {
             "colorbar": {
              "outlinewidth": 0,
              "ticks": ""
             }
            },
            "marker": {
             "colorbar": {
              "outlinewidth": 0,
              "ticks": ""
             }
            },
            "type": "scatter3d"
           }
          ],
          "scattercarpet": [
           {
            "marker": {
             "colorbar": {
              "outlinewidth": 0,
              "ticks": ""
             }
            },
            "type": "scattercarpet"
           }
          ],
          "scattergeo": [
           {
            "marker": {
             "colorbar": {
              "outlinewidth": 0,
              "ticks": ""
             }
            },
            "type": "scattergeo"
           }
          ],
          "scattergl": [
           {
            "marker": {
             "colorbar": {
              "outlinewidth": 0,
              "ticks": ""
             }
            },
            "type": "scattergl"
           }
          ],
          "scattermapbox": [
           {
            "marker": {
             "colorbar": {
              "outlinewidth": 0,
              "ticks": ""
             }
            },
            "type": "scattermapbox"
           }
          ],
          "scatterpolar": [
           {
            "marker": {
             "colorbar": {
              "outlinewidth": 0,
              "ticks": ""
             }
            },
            "type": "scatterpolar"
           }
          ],
          "scatterpolargl": [
           {
            "marker": {
             "colorbar": {
              "outlinewidth": 0,
              "ticks": ""
             }
            },
            "type": "scatterpolargl"
           }
          ],
          "scatterternary": [
           {
            "marker": {
             "colorbar": {
              "outlinewidth": 0,
              "ticks": ""
             }
            },
            "type": "scatterternary"
           }
          ],
          "surface": [
           {
            "colorbar": {
             "outlinewidth": 0,
             "ticks": ""
            },
            "colorscale": [
             [
              0,
              "#0d0887"
             ],
             [
              0.1111111111111111,
              "#46039f"
             ],
             [
              0.2222222222222222,
              "#7201a8"
             ],
             [
              0.3333333333333333,
              "#9c179e"
             ],
             [
              0.4444444444444444,
              "#bd3786"
             ],
             [
              0.5555555555555556,
              "#d8576b"
             ],
             [
              0.6666666666666666,
              "#ed7953"
             ],
             [
              0.7777777777777778,
              "#fb9f3a"
             ],
             [
              0.8888888888888888,
              "#fdca26"
             ],
             [
              1,
              "#f0f921"
             ]
            ],
            "type": "surface"
           }
          ],
          "table": [
           {
            "cells": {
             "fill": {
              "color": "#EBF0F8"
             },
             "line": {
              "color": "white"
             }
            },
            "header": {
             "fill": {
              "color": "#C8D4E3"
             },
             "line": {
              "color": "white"
             }
            },
            "type": "table"
           }
          ]
         },
         "layout": {
          "annotationdefaults": {
           "arrowcolor": "#2a3f5f",
           "arrowhead": 0,
           "arrowwidth": 1
          },
          "autotypenumbers": "strict",
          "coloraxis": {
           "colorbar": {
            "outlinewidth": 0,
            "ticks": ""
           }
          },
          "colorscale": {
           "diverging": [
            [
             0,
             "#8e0152"
            ],
            [
             0.1,
             "#c51b7d"
            ],
            [
             0.2,
             "#de77ae"
            ],
            [
             0.3,
             "#f1b6da"
            ],
            [
             0.4,
             "#fde0ef"
            ],
            [
             0.5,
             "#f7f7f7"
            ],
            [
             0.6,
             "#e6f5d0"
            ],
            [
             0.7,
             "#b8e186"
            ],
            [
             0.8,
             "#7fbc41"
            ],
            [
             0.9,
             "#4d9221"
            ],
            [
             1,
             "#276419"
            ]
           ],
           "sequential": [
            [
             0,
             "#0d0887"
            ],
            [
             0.1111111111111111,
             "#46039f"
            ],
            [
             0.2222222222222222,
             "#7201a8"
            ],
            [
             0.3333333333333333,
             "#9c179e"
            ],
            [
             0.4444444444444444,
             "#bd3786"
            ],
            [
             0.5555555555555556,
             "#d8576b"
            ],
            [
             0.6666666666666666,
             "#ed7953"
            ],
            [
             0.7777777777777778,
             "#fb9f3a"
            ],
            [
             0.8888888888888888,
             "#fdca26"
            ],
            [
             1,
             "#f0f921"
            ]
           ],
           "sequentialminus": [
            [
             0,
             "#0d0887"
            ],
            [
             0.1111111111111111,
             "#46039f"
            ],
            [
             0.2222222222222222,
             "#7201a8"
            ],
            [
             0.3333333333333333,
             "#9c179e"
            ],
            [
             0.4444444444444444,
             "#bd3786"
            ],
            [
             0.5555555555555556,
             "#d8576b"
            ],
            [
             0.6666666666666666,
             "#ed7953"
            ],
            [
             0.7777777777777778,
             "#fb9f3a"
            ],
            [
             0.8888888888888888,
             "#fdca26"
            ],
            [
             1,
             "#f0f921"
            ]
           ]
          },
          "colorway": [
           "#636efa",
           "#EF553B",
           "#00cc96",
           "#ab63fa",
           "#FFA15A",
           "#19d3f3",
           "#FF6692",
           "#B6E880",
           "#FF97FF",
           "#FECB52"
          ],
          "font": {
           "color": "#2a3f5f"
          },
          "geo": {
           "bgcolor": "white",
           "lakecolor": "white",
           "landcolor": "#E5ECF6",
           "showlakes": true,
           "showland": true,
           "subunitcolor": "white"
          },
          "hoverlabel": {
           "align": "left"
          },
          "hovermode": "closest",
          "mapbox": {
           "style": "light"
          },
          "paper_bgcolor": "white",
          "plot_bgcolor": "#E5ECF6",
          "polar": {
           "angularaxis": {
            "gridcolor": "white",
            "linecolor": "white",
            "ticks": ""
           },
           "bgcolor": "#E5ECF6",
           "radialaxis": {
            "gridcolor": "white",
            "linecolor": "white",
            "ticks": ""
           }
          },
          "scene": {
           "xaxis": {
            "backgroundcolor": "#E5ECF6",
            "gridcolor": "white",
            "gridwidth": 2,
            "linecolor": "white",
            "showbackground": true,
            "ticks": "",
            "zerolinecolor": "white"
           },
           "yaxis": {
            "backgroundcolor": "#E5ECF6",
            "gridcolor": "white",
            "gridwidth": 2,
            "linecolor": "white",
            "showbackground": true,
            "ticks": "",
            "zerolinecolor": "white"
           },
           "zaxis": {
            "backgroundcolor": "#E5ECF6",
            "gridcolor": "white",
            "gridwidth": 2,
            "linecolor": "white",
            "showbackground": true,
            "ticks": "",
            "zerolinecolor": "white"
           }
          },
          "shapedefaults": {
           "line": {
            "color": "#2a3f5f"
           }
          },
          "ternary": {
           "aaxis": {
            "gridcolor": "white",
            "linecolor": "white",
            "ticks": ""
           },
           "baxis": {
            "gridcolor": "white",
            "linecolor": "white",
            "ticks": ""
           },
           "bgcolor": "#E5ECF6",
           "caxis": {
            "gridcolor": "white",
            "linecolor": "white",
            "ticks": ""
           }
          },
          "title": {
           "x": 0.05
          },
          "xaxis": {
           "automargin": true,
           "gridcolor": "white",
           "linecolor": "white",
           "ticks": "",
           "title": {
            "standoff": 15
           },
           "zerolinecolor": "white",
           "zerolinewidth": 2
          },
          "yaxis": {
           "automargin": true,
           "gridcolor": "white",
           "linecolor": "white",
           "ticks": "",
           "title": {
            "standoff": 15
           },
           "zerolinecolor": "white",
           "zerolinewidth": 2
          }
         }
        },
        "title": {
         "text": "Mean Values with Standard Deviations"
        },
        "width": 800,
        "xaxis": {
         "anchor": "y",
         "domain": [
          0,
          1
         ],
         "title": {
          "text": "_index"
         }
        },
        "yaxis": {
         "anchor": "x",
         "domain": [
          0,
          1
         ],
         "range": [
          0,
          8
         ],
         "title": {
          "text": "Mean Value"
         }
        }
       }
      }
     },
     "metadata": {},
     "output_type": "display_data"
    }
   ],
   "source": [
    "import plotly.express as px\n",
    "import pandas as pd\n",
    "\n",
    "df = pd.DataFrame.from_dict(results, orient='columns')\n",
    "df = df.reset_index()\n",
    "df = df.sort_values(by='Mean_occupancy', ascending=True)\n",
    "\n",
    "df['Count'] = df.groupby('Name')['Mean_occupancy'].transform('count')\n",
    "\n",
    "df = df.sort_values(by='Mean_occupancy', ascending=True)\n",
    "\n",
    "#fig = px.bar(df, x='index', y='Mean Difference',  error_y='Std Deviation of Difference',title='Mean Values with Standard Deviations')\n",
    "fig = px.bar(df, y='exceeded_ray_count',title='Mean Values with Standard Deviations')\n",
    "\n",
    "fig.update_traces(marker_color='royalblue', marker_line_color='black', marker_line_width=1, opacity=0.7)\n",
    "fig.update_layout(yaxis_title='Mean Value', showlegend=False)  # Remove x-axis title\n",
    "\n",
    "# Adjust the width of the plot (e.g., reduce to 800 pixels)\n",
    "fig.update_yaxes(range=[0, 8])\n",
    "\n",
    "fig.update_layout(width=800)\n",
    "# Show the plot\n",
    "fig.show()"
   ]
  },
  {
   "cell_type": "code",
   "execution_count": 6,
   "metadata": {},
   "outputs": [
    {
     "name": "stdout",
     "output_type": "stream",
     "text": [
      "     index                                          Name  Mean_occupancy   \n",
      "0      323                     COc1ccc(/N=C/c2ccncc2)cc1        2.186580  \\\n",
      "1      188                CCOC(=O)c1nc(=O)oc2ccc(OC)cc12        2.603726   \n",
      "2      186                 CCOC(=O)c1nc(=O)oc2ccc(C)cc12        2.701979   \n",
      "3      499                   O=C(O)/N=C/Cc1cc(F)c(F)cc1F        2.772030   \n",
      "4       46                           CC(=O)/N=C/C(F)(F)F        2.834465   \n",
      "..     ...                                           ...             ...   \n",
      "548    290  COc1ccc(/N=C/[C@@H]2CCCN2C(=O)OCc2ccccc2)cc1       12.275980   \n",
      "549    165                    CCCCCCCCC/C=N/c1ccc(OC)cc1       12.429118   \n",
      "550    395         Cc1ccc(/C=N/c2nc(C)cc(N3CCCCC3)n2)cc1       12.430366   \n",
      "551    412  Cc1ccc(S(=O)(=O)/N=C/c2ccc(-c3ccccc3)cc2)cc1       12.449130   \n",
      "552    273        COc1ccc(/C=N/c2nc(C)cc(N3CCCCC3)n2)cc1       12.488578   \n",
      "\n",
      "     exceeded_count  Std_occupancy  Mean_pass  exceeded_ray_count   Std_pass   \n",
      "0                 0       2.401370   6.250000                   2   7.812500  \\\n",
      "1                 0       2.100244   8.203125                   3   6.237781   \n",
      "2                 0       2.016733   7.421875                   3   7.149611   \n",
      "3                 0       2.620115  12.109375                   4  12.346469   \n",
      "4                 0       3.062140   7.421875                   3   6.976786   \n",
      "..              ...            ...        ...                 ...        ...   \n",
      "548               4       9.725473  33.593750                   6  27.588193   \n",
      "549               3      10.744701  22.265625                   5  17.845193   \n",
      "550               4       9.776963  17.578125                   5  13.794097   \n",
      "551               4       8.111242  20.703125                   5  18.940278   \n",
      "552               3       9.857889  26.171875                   5  23.796085   \n",
      "\n",
      "     Count    ee  yield  yield_max      Catalyst_Type  ee_max  \n",
      "0        2  98.0   91.0       98.0    Secondary Amine    99.0  \n",
      "1        1  86.0   95.0       95.0    Secondary Amine    86.0  \n",
      "2        1  89.0   98.0       98.0    Secondary Amine    89.0  \n",
      "3        1  95.0   73.0       73.0  Cinchona Alkaloid    95.0  \n",
      "4        1  99.0   99.0       99.0      Primary Amine    99.0  \n",
      "..     ...   ...    ...        ...                ...     ...  \n",
      "548      1  96.0   84.0       85.0    Secondary Amine    96.0  \n",
      "549      1  81.0   90.0       90.0    Secondary Amine    81.0  \n",
      "550      3  98.5   94.0       95.0         (Thio)Urea    99.0  \n",
      "551      1  96.0   99.0       99.0               Misc    96.0  \n",
      "552      3  89.0   86.0       87.0         (Thio)Urea    95.0  \n",
      "\n",
      "[553 rows x 14 columns]\n"
     ]
    }
   ],
   "source": [
    "df_ee = pd.read_csv(\"../data/processed/mannich_database_processed.csv\")\n",
    "\n",
    "df = pd.DataFrame.from_dict(results, orient='columns')\n",
    "df = df.reset_index()\n",
    "df = df.sort_values(by='Mean_occupancy', ascending=True)\n",
    "\n",
    "CT=pd.DataFrame()\n",
    "CT[\"Catalyst_Type\"]=df_ee[\"Catalyst_Type\"]\n",
    "CT[\"Name\"]=df_ee[\"Imine_SMILES\"]\n",
    "CT=CT.drop_duplicates()\n",
    "#CT = df_ee.groupby('Name')\n",
    "df['Count'] = df.groupby('Name')['Mean_occupancy'].transform('count')\n",
    "average_ee_by_name = df_ee.groupby('Imine_SMILES')['ee'].mean().reset_index()\n",
    "max_ee_by_name = df_ee.groupby(['Imine_SMILES',\"Catalyst_Type\"])['ee'].max().reset_index()\n",
    "max_ee_by_name = max_ee_by_name.loc[max_ee_by_name.groupby('Imine_SMILES')['ee'].idxmax()]\n",
    "\n",
    "df_ee['yield'] = pd.to_numeric(df_ee['yield'], errors='coerce')\n",
    "average_yield_by_name = df_ee.groupby('Imine_SMILES')['yield'].mean().reset_index()\n",
    "max_yield_by_name = df_ee.groupby('Imine_SMILES')['yield'].max().reset_index()\n",
    "\n",
    "average_ee_by_name = average_ee_by_name.rename(columns={'Imine_SMILES': 'Name'})\n",
    "\n",
    "max_yield_by_name = max_yield_by_name.rename(columns={'Imine_SMILES': 'Name'})\n",
    "max_yield_by_name = max_yield_by_name.rename(columns={'yield': 'yield_max'})\n",
    "\n",
    "max_ee_by_name = max_ee_by_name.rename(columns={'Imine_SMILES': 'Name'})\n",
    "max_ee_by_name = max_ee_by_name.rename(columns={'ee': 'ee_max'})\n",
    "average_yield_by_name = average_yield_by_name.rename(columns={'Imine_SMILES': 'Name'})\n",
    "\n",
    "# Match the 'ee' column with the 'Experiment' column in your DataFrame based on name\n",
    "df = pd.merge(df, average_ee_by_name, how='left', on='Name')\n",
    "df = pd.merge(df, average_yield_by_name, how='left', on='Name')\n",
    "df = pd.merge(df, max_yield_by_name, how='left', on='Name')\n",
    "df = pd.merge(df, max_ee_by_name, how='left', on='Name')\n",
    "\n",
    "\n",
    "# Drop the 'Match_Column' if you no longer need it\n",
    "\n",
    "# Print the resulting DataFrame with the matched 'ee' column\n",
    "print(df)"
   ]
  },
  {
   "cell_type": "code",
   "execution_count": 7,
   "metadata": {},
   "outputs": [
    {
     "data": {
      "image/png": "[encoded data removed]",
      "text/plain": [
       "<Figure size 640x480 with 2 Axes>"
      ]
     },
     "metadata": {},
     "output_type": "display_data"
    }
   ],
   "source": [
    "import matplotlib.pyplot as plt\n",
    "\n",
    "cmap = plt.get_cmap('viridis')\n",
    "\n",
    "# Scatter plot between 'ee' and 'Mean Difference'\n",
    "scatter =plt.scatter( df['exceeded_count'], df['ee'],c=df['Count'], cmap=cmap)\n",
    "\n",
    "plt.title('exceeded_count')\n",
    "cbar = plt.colorbar(scatter, label='Count')\n",
    "\n",
    "# Show the plot\n",
    "plt.show()"
   ]
  },
  {
   "cell_type": "code",
   "execution_count": 8,
   "metadata": {},
   "outputs": [
    {
     "data": {
      "image/png": "[encoded data removed]",
      "text/plain": [
       "<Figure size 640x480 with 1 Axes>"
      ]
     },
     "metadata": {},
     "output_type": "display_data"
    }
   ],
   "source": [
    "plt.scatter( df['exceeded_ray_count'], df['ee_max'],c=df['Count'], cmap=cmap)\n",
    "\n",
    "plt.title('exceeded_count')\n",
    "\n",
    "# Show the plot\n",
    "plt.show()"
   ]
  },
  {
   "cell_type": "code",
   "execution_count": 9,
   "metadata": {},
   "outputs": [
    {
     "data": {
      "image/png": "[encoded data removed]",
      "text/plain": [
       "<Figure size 640x480 with 1 Axes>"
      ]
     },
     "metadata": {},
     "output_type": "display_data"
    }
   ],
   "source": [
    "plt.scatter( df['Mean_pass'], df['ee_max'],c=df['Count'], cmap=cmap)\n",
    "\n",
    "plt.title('Mean_pass')\n",
    "\n",
    "# Show the plot\n",
    "plt.show()"
   ]
  },
  {
   "cell_type": "code",
   "execution_count": 29,
   "metadata": {},
   "outputs": [
    {
     "name": "stderr",
     "output_type": "stream",
     "text": [
      "/var/folders/bg/0172ww9j3x9_mqwpf6wh9jj80000gn/T/ipykernel_72429/717460930.py:1: UserWarning:\n",
      "\n",
      "No data for colormapping provided via 'c'. Parameters 'cmap' will be ignored\n",
      "\n"
     ]
    },
    {
     "data": {
      "image/png": "[encoded data removed]",
      "text/plain": [
       "<Figure size 640x480 with 1 Axes>"
      ]
     },
     "metadata": {},
     "output_type": "display_data"
    }
   ],
   "source": [
    "plt.scatter( df['Std_pass'], df['ee_max'], cmap=cmap)\n",
    "\n",
    "plt.title('Std_pass')\n",
    "plt.xlabel(\" Ray Pass index\")\n",
    "plt.ylabel(\" ee \")\n",
    "# Show the plot\n",
    "plt.show()"
   ]
  },
  {
   "cell_type": "code",
   "execution_count": 11,
   "metadata": {},
   "outputs": [
    {
     "data": {
      "image/png": "[encoded data removed]",
      "text/plain": [
       "<Figure size 640x480 with 1 Axes>"
      ]
     },
     "metadata": {},
     "output_type": "display_data"
    }
   ],
   "source": [
    "plt.scatter( df['Std_occupancy'], df['ee'],c=df['Count'], cmap=cmap)\n",
    "\n",
    "plt.title('Std_occupancy')\n",
    "\n",
    "# Show the plot\n",
    "plt.show()"
   ]
  },
  {
   "cell_type": "code",
   "execution_count": 12,
   "metadata": {},
   "outputs": [
    {
     "data": {
      "image/png": "[encoded data removed]",
      "text/plain": [
       "<Figure size 640x480 with 1 Axes>"
      ]
     },
     "metadata": {},
     "output_type": "display_data"
    }
   ],
   "source": [
    "plt.scatter( df['Mean_occupancy'], df['ee'])\n",
    "\n",
    "plt.title('Mean_occupancy')\n",
    "\n",
    "# Show the plot\n",
    "plt.show()"
   ]
  },
  {
   "cell_type": "code",
   "execution_count": 13,
   "metadata": {},
   "outputs": [
    {
     "data": {
      "application/vnd.plotly.v1+json": {
       "config": {
        "plotlyServerURL": "https://plot.ly"
       },
       "data": [
        {
         "hovertemplate": "Catalyst_Type=Secondary Amine<br>Std_pass=%{x}<br>ee_max=%{y}<extra></extra>",
         "legendgroup": "Secondary Amine",
         "marker": {
          "color": "#636efa",
          "symbol": "circle"
         },
         "mode": "markers",
         "name": "Secondary Amine",
         "orientation": "v",
         "showlegend": true,
         "type": "scatter",
         "x": [
          7.8125,
          6.237781024480981,
          7.149611413173097,
          9.504316453590969,
          9.74998747995991,
          11.893232302842444,
          11.348311754948398,
          14.400241086849032,
          15.068204314051492,
          12.783647009338727,
          10.245997694221876,
          11.37517170200081,
          9.936013548419456,
          15.502449088269085,
          12.573028858930533,
          21.59417962669571,
          14.636714058746247,
          7.318357029373123,
          14.905300022139775,
          16.88295530076118,
          12.09676763062658,
          9.851187666342572,
          21.81912506838897,
          18.417461303322316,
          13.865811991639726,
          20.248547160460056,
          18.002685346567052,
          15.814283187497782,
          9.077304717673634,
          8.69963181692191,
          10.568554108178658,
          20.248547160460056,
          7.8125,
          13.975424859373685,
          8.4052479653711,
          17.879363267727825,
          12.5,
          13.16585902058806,
          13.838273112436212,
          10.297989317550053,
          11.240230132764186,
          14.299222826346194,
          8.830198871451028,
          14.98188196153524,
          15.761125782681262,
          9.812388036781618,
          13.526007572797488,
          14.186734216667872,
          10.532397470869347,
          13.252496448193261,
          16.120086157783867,
          13.6886058343244,
          10.364452469860625,
          18.288593610499415,
          12.783647009338727,
          15.22435567961334,
          10.590188837285906,
          22.90741704905586,
          9.600160724566022,
          17.81524101717403,
          18.002685346567052,
          9.757809372497498,
          17.07616640187062,
          13.79409654922623,
          20.666240728767654,
          8.549245557905973,
          11.686152579415305,
          32.73568016491142,
          14.490028899212037,
          16.23327715248449,
          19.323109696924433,
          15.580992714983696,
          20.33877507335127,
          12.203515118604148,
          11.738265001028687,
          16.16262567623219,
          15.463027666319912,
          12.735812802266489,
          17.776656645285552,
          13.79409654922623,
          17.044862679118303,
          11.97633571621554,
          7.7241093489395265,
          10.297989317550053,
          22.449895383595333,
          19.07274314958391,
          12.04620620711662,
          10.59739059863323,
          6.237781024480981,
          12.147118598020478,
          13.975424859373685,
          14.740595518838443,
          15.304326581374792,
          14.823176532039279,
          14.46895248238448,
          11.158481919598204,
          13.252496448193261,
          12.639601318252684,
          18.863588230702558,
          21.972439235039428,
          13.38995039140829,
          18.798764711743694,
          21.064794941738693,
          11.738265001028687,
          13.298472289491563,
          26.189359831033958,
          15.209314323384207,
          9.560342383219076,
          10.590188837285906,
          16.67836096891343,
          14.90018056465676,
          15.388840315306414,
          16.968598928885527,
          19.764235376052373,
          30.214786936355765,
          27.58819309845246,
          17.845193407031907
         ],
         "xaxis": "x",
         "y": [
          99,
          86,
          89,
          95,
          99,
          10,
          99,
          99,
          99,
          99,
          99,
          99,
          99,
          83,
          99,
          87,
          99,
          82,
          99,
          84,
          10,
          75,
          98,
          99,
          99,
          99,
          99,
          99,
          94,
          97,
          88,
          98,
          98,
          99,
          80,
          16,
          99,
          99,
          84,
          94,
          99,
          96,
          99,
          99,
          98,
          99,
          98,
          98,
          97,
          98,
          99,
          97,
          99,
          99,
          98,
          98,
          98,
          94,
          98,
          98.5,
          98,
          84,
          99,
          94,
          96,
          99,
          99,
          96,
          97,
          99,
          99,
          98.5,
          98,
          99,
          96,
          94,
          96,
          95,
          94,
          95,
          99,
          94,
          99,
          87,
          99,
          98,
          99,
          98.5,
          99,
          96,
          99,
          98,
          99,
          69,
          99,
          94,
          98,
          95,
          98,
          98,
          93,
          96,
          94,
          94,
          99,
          86,
          96,
          99,
          98,
          67,
          51,
          98.5,
          0,
          96,
          94,
          96,
          81
         ],
         "yaxis": "y"
        },
        {
         "hovertemplate": "Catalyst_Type=Cinchona Alkaloid<br>Std_pass=%{x}<br>ee_max=%{y}<extra></extra>",
         "legendgroup": "Cinchona Alkaloid",
         "marker": {
          "color": "#EF553B",
          "symbol": "circle"
         },
         "mode": "markers",
         "name": "Cinchona Alkaloid",
         "orientation": "v",
         "showlegend": true,
         "type": "scatter",
         "x": [
          12.346469241624304,
          7.318357029373123,
          14.574029770451274,
          9.936013548419456,
          5.047987493484408,
          10.452412625202854,
          11.587810136086974,
          11.58122428154187,
          14.320549046737,
          6.8887469095892175,
          17.324560048075536,
          11.561444208553704,
          12.979099785809492,
          14.941087108519747,
          12.377327748245984,
          7.483298461198444,
          11.790147088114507,
          14.98188196153524,
          9.110862335695781,
          6.709204702077214,
          8.477552505551056,
          10.245997694221876,
          7.287014885225637,
          12.88470508005519,
          15.463027666319912,
          12.303137303143455,
          9.874394265441046,
          11.790147088114507,
          11.267347735824966,
          7.1602745233685,
          5.727686835396555,
          22.313544924762066,
          9.600160724566022,
          20.577448736040505,
          11.995431666237568,
          14.400241086849032,
          10.095974986968816,
          8.899051367105091,
          8.414320011147662,
          12.669745890802231,
          9.600160724566022,
          17.169735137371806,
          10.647666539405476,
          8.94181495489031,
          11.587810136086974,
          8.033970234844974,
          14.905300022139775,
          17.88362990978062,
          15.70293065800139,
          15.934435979977453,
          13.350005852058642,
          12.973220238605949,
          13.71088185530019,
          14.013586808321952,
          20.127614106231643,
          16.420194966393517,
          18.798764711743694,
          18.351061947728667,
          12.377327748245984,
          17.53901900050285,
          14.986973510352248,
          11.368462664730663,
          13.066975534123227,
          12.542651842189315,
          14.299222826346194,
          22.720141592524794,
          12.197261715621872,
          11.158481919598204,
          17.81095799246562,
          14.0625,
          17.608480733726008,
          6.237781024480981,
          11.041635957111383,
          14.10042628732816,
          34.789756372206746,
          15.289363899047599,
          7.401287234959538,
          14.149039278339714,
          10.647666539405476,
          20.3125,
          12.278307535548212,
          32.13350674699814,
          16.420194966393517,
          21.590646258492935,
          12.669745890802231,
          18.11674785203942,
          17.660397742902056,
          10.874539771152387
         ],
         "xaxis": "x",
         "y": [
          95,
          91,
          84,
          88,
          92,
          99,
          98,
          91,
          93,
          90,
          97,
          87,
          86,
          90,
          97,
          90,
          88,
          86,
          96,
          91,
          99,
          98,
          95,
          96,
          88,
          92,
          91,
          98,
          89,
          80,
          93,
          98,
          70,
          97,
          93,
          90,
          86,
          98,
          90,
          92,
          99,
          91,
          97,
          90,
          84,
          90,
          86,
          90,
          91,
          97,
          91,
          99,
          99,
          99,
          99,
          99,
          89,
          99,
          86,
          93,
          97,
          98,
          91,
          90,
          94,
          86,
          95,
          86,
          90,
          98,
          95,
          92,
          99,
          88,
          97,
          88,
          91,
          97,
          99,
          96,
          95,
          90,
          72,
          95,
          99,
          99,
          92,
          96
         ],
         "yaxis": "y"
        },
        {
         "hovertemplate": "Catalyst_Type=Primary Amine<br>Std_pass=%{x}<br>ee_max=%{y}<extra></extra>",
         "legendgroup": "Primary Amine",
         "marker": {
          "color": "#00cc96",
          "symbol": "circle"
         },
         "mode": "markers",
         "name": "Primary Amine",
         "orientation": "v",
         "showlegend": true,
         "type": "scatter",
         "x": [
          6.976785585738965,
          12.76573018622515,
          11.528402002635708,
          12.203515118604148,
          12.247199536399128,
          17.240684758370243,
          13.621559198564604,
          12.542651842189315,
          8.830198871451028,
          25.375596513924556,
          12.669745890802231,
          11.796616305110547,
          18.944305707784597,
          30.24759481657178,
          13.258252147247767,
          15.229366163764006,
          20.930356757216895
         ],
         "xaxis": "x",
         "y": [
          99,
          99,
          99,
          90,
          99,
          99,
          99,
          99,
          94,
          99,
          86,
          88,
          92,
          99,
          97,
          93,
          84
         ],
         "yaxis": "y"
        },
        {
         "hovertemplate": "Catalyst_Type=Squaramide<br>Std_pass=%{x}<br>ee_max=%{y}<extra></extra>",
         "legendgroup": "Squaramide",
         "marker": {
          "color": "#ab63fa",
          "symbol": "circle"
         },
         "mode": "markers",
         "name": "Squaramide",
         "orientation": "v",
         "showlegend": true,
         "type": "scatter",
         "x": [
          6.976785585738965,
          10.590188837285906,
          9.110862335695781,
          13.79409654922623,
          6.943901888527804,
          11.587810136086974,
          20.636685846675455,
          10.704835629722439,
          12.147118598020478,
          14.299222826346194,
          22.231333242394054,
          10.481568644530265,
          5.936985997488541,
          9.997253040679475,
          9.560342383219076,
          10.986219617519714,
          7.773339352395468,
          11.131099100605475,
          13.049447725382864,
          10.178761109996392,
          16.968598928885527,
          11.206240849828948,
          10.9375,
          9.375,
          14.213597967703322,
          17.324560048075536,
          13.16585902058806,
          10.909562534194485,
          12.669745890802231,
          7.7241093489395265,
          18.417461303322316,
          9.974332292815394,
          11.790147088114507,
          11.796616305110547,
          8.109585739072928,
          10.532397470869347,
          10.874539771152387,
          11.348311754948398,
          17.934750442576558,
          12.926087584198669,
          19.872027096838913,
          12.783647009338727,
          10.930522327838455,
          17.39926363384382,
          10.532397470869347,
          10.59739059863323,
          7.063727078134814,
          9.342391205547967,
          13.350005852058642,
          11.422024622823004,
          11.422024622823004,
          10.532397470869347,
          18.619336387207788,
          16.60960283239789,
          12.973220238605949,
          17.324560048075536,
          11.666550408646936,
          11.041635957111383,
          21.363295177930183,
          16.53133122617096,
          15.128841196122723,
          10.9375,
          13.71088185530019,
          12.878782438933232,
          13.07281291459493,
          10.59739059863323,
          12.789613706050703,
          10.334966058846057,
          17.879363267727825,
          17.94750782446897,
          7.802728263843039,
          17.67766952966369,
          17.776656645285552,
          12.346469241624304,
          29.563887388163284,
          16.535945694153693,
          12.377327748245984,
          13.531646934131853,
          11.422024622823004,
          14.90018056465676,
          12.247199536399128,
          16.517480087395292,
          13.16585902058806,
          13.066975534123227,
          10.297989317550053,
          12.687798256962278,
          11.314647154656436,
          22.371595411369302,
          11.260574457343417,
          15.625,
          13.435455876499875,
          16.00609472542803,
          21.580042682708022,
          12.735812802266489,
          18.288593610499415,
          13.6886058343244,
          5.793905068043487,
          27.794828480031587,
          10.647666539405476,
          18.450571372843036,
          15.70293065800139,
          12.542651842189315,
          22.286174727493613
         ],
         "xaxis": "x",
         "y": [
          99,
          88,
          99,
          98,
          99,
          99,
          25,
          99,
          41,
          99,
          98,
          96,
          96,
          97,
          88,
          99,
          99,
          97,
          99,
          97,
          98,
          99,
          99,
          66,
          99,
          75,
          99,
          90,
          99,
          99,
          97,
          93,
          92,
          91,
          83,
          99,
          99,
          99,
          96,
          85,
          91,
          96,
          99,
          98,
          99,
          99,
          88,
          99,
          99,
          99,
          99,
          98,
          98,
          99,
          25,
          93,
          98,
          99,
          95,
          98,
          98,
          98,
          99,
          99,
          99,
          95,
          75,
          62,
          0,
          87,
          93,
          99,
          95,
          62,
          83,
          99,
          98,
          98,
          99,
          96,
          95,
          99,
          96,
          98,
          85,
          87,
          99,
          99,
          88,
          98,
          91,
          95,
          96,
          99,
          97,
          95,
          98,
          99,
          99,
          96,
          99,
          96,
          97
         ],
         "yaxis": "y"
        },
        {
         "hovertemplate": "Catalyst_Type=Misc<br>Std_pass=%{x}<br>ee_max=%{y}<extra></extra>",
         "legendgroup": "Misc",
         "marker": {
          "color": "#FFA15A",
          "symbol": "circle"
         },
         "mode": "markers",
         "name": "Misc",
         "orientation": "v",
         "showlegend": true,
         "type": "scatter",
         "x": [
          8.332316018633415,
          10.761701026528055,
          14.986973510352248,
          15.309310892394864,
          12.0017902310447,
          14.823176532039279,
          11.131099100605475,
          8.760805270314767,
          16.237976320958225,
          14.013586808321952,
          12.831302895044407,
          8.267972847076846,
          16.517480087395292,
          33.9798847608313,
          9.102484529477378,
          14.384337999626538,
          14.149039278339714,
          11.206240849828948,
          13.969964642380988,
          18.4877493221863,
          18.6029389059229,
          10.481568644530265,
          13.599136863694696,
          13.74977805218597,
          13.74977805218597,
          11.131099100605475,
          21.53403351927769,
          13.882309096810047,
          17.04038602436503,
          15.289363899047599,
          12.831302895044407,
          18.94027800375103
         ],
         "xaxis": "x",
         "y": [
          65,
          99,
          98,
          92,
          95,
          91,
          96,
          93,
          99,
          99,
          94,
          98,
          99,
          99,
          20,
          95,
          98,
          98,
          93,
          99,
          99,
          99,
          93,
          98,
          92,
          96,
          96,
          97,
          99,
          99,
          99,
          96
         ],
         "yaxis": "y"
        },
        {
         "hovertemplate": "Catalyst_Type=BA<br>Std_pass=%{x}<br>ee_max=%{y}<extra></extra>",
         "legendgroup": "BA",
         "marker": {
          "color": "#19d3f3",
          "symbol": "circle"
         },
         "mode": "markers",
         "name": "BA",
         "orientation": "v",
         "showlegend": true,
         "type": "scatter",
         "x": [
          7.957636245102876,
          8.664481645632357,
          6.810779599282302,
          17.521610540629535,
          10.364452469860625,
          6.237781024480981,
          7.802728263843039,
          13.975424859373685,
          37.238672774415576,
          10.59739059863323,
          13.571056848468913,
          14.526839048271134,
          17.934750442576558,
          12.88470508005519,
          13.02018227538981,
          10.415852832791705,
          16.682934768798923,
          12.09676763062658,
          12.597277731716483,
          15.309310892394864,
          13.298472289491563,
          8.620342379185121,
          13.441133229754104,
          8.664481645632357,
          14.400241086849032,
          18.944305707784597,
          6.200979635307634,
          11.995431666237568,
          13.526007572797488,
          18.6029389059229,
          12.49389499353084,
          8.97587913521567,
          13.526007572797488,
          7.23447624119224,
          18.251009978474478,
          14.966596922396889,
          17.660397742902056,
          15.580992714983696,
          22.316963839196408,
          13.95357117147793,
          5.793905068043487,
          8.549245557905973,
          12.09676763062658,
          11.63380672799643,
          10.797089813347855,
          21.021287573552673,
          10.415852832791705,
          32.114506889167316,
          25.6000974653296,
          12.09676763062658,
          33.271987414105205,
          14.299222826346194,
          15.605456527686078,
          8.97587913521567,
          14.10042628732816,
          19.760374796783967,
          16.312978920172736,
          9.62397265215228,
          18.07036485346934,
          17.147503177849977,
          17.53901900050285,
          9.431794115351279,
          15.229366163764006,
          6.43049907545091,
          8.94181495489031,
          19.480402562174504,
          20.773024687981767,
          21.122665366555896,
          14.657549249448218,
          13.621559198564604
         ],
         "xaxis": "x",
         "y": [
          96,
          30,
          99,
          26,
          94,
          98,
          96,
          95,
          91,
          38,
          65,
          93,
          99,
          87,
          90,
          96,
          69,
          65,
          96,
          95,
          98,
          89,
          97,
          69,
          91,
          88,
          44,
          92,
          99,
          96,
          97,
          95,
          97,
          83,
          96,
          86,
          80,
          34,
          65,
          89,
          65,
          70,
          64,
          85,
          96,
          63,
          75,
          96,
          76,
          85,
          89,
          94,
          92,
          83,
          61,
          92,
          96,
          65,
          91,
          72,
          69,
          90,
          72,
          76,
          56,
          88,
          86,
          98,
          89,
          87
         ],
         "yaxis": "y"
        },
        {
         "hovertemplate": "Catalyst_Type=(Thio)Urea<br>Std_pass=%{x}<br>ee_max=%{y}<extra></extra>",
         "legendgroup": "(Thio)Urea",
         "marker": {
          "color": "#FF6692",
          "symbol": "circle"
         },
         "mode": "markers",
         "name": "(Thio)Urea",
         "orientation": "v",
         "showlegend": true,
         "type": "scatter",
         "x": [
          5.412658773652741,
          8.267972847076846,
          10.909562534194485,
          11.206240849828948,
          7.967217989988726,
          13.975424859373685,
          8.899051367105091,
          9.366858443970155,
          10.711960313126632,
          10.818267518848616,
          8.332316018633415,
          5.846339666834283,
          10.452412625202854,
          10.59739059863323,
          10.297989317550053,
          10.818267518848616,
          12.296934561482182,
          10.178761109996392,
          9.812388036781618,
          10.245997694221876,
          13.882309096810047,
          12.955565587325781,
          19.914214213329508,
          13.418409404154428,
          13.258252147247767,
          10.986219617519714,
          13.95357117147793,
          11.240230132764186,
          13.049447725382864,
          13.777493819178435,
          8.267972847076846,
          11.97633571621554,
          9.851187666342572,
          6.943901888527804,
          8.184502671780063,
          16.461958988832404,
          12.88470508005519,
          15.70293065800139,
          12.377327748245984,
          12.926087584198669,
          11.422024622823004,
          11.58122428154187,
          18.351061947728667,
          10.178761109996392,
          18.619336387207788,
          12.783647009338727,
          16.44341029675718,
          12.693810007243687,
          13.160062912439857,
          17.7078546197549,
          10.481568644530265,
          10.9375,
          15.967916746851325,
          14.859161407507996,
          8.522431339559152,
          8.118988160479113,
          11.686152579415305,
          14.057073605817642,
          22.857404434887176,
          11.368462664730663,
          9.726484060928698,
          14.693939745159398,
          16.896506838970446,
          15.915272490205751,
          16.294260636417352,
          11.893232302842444,
          9.472152853892299,
          11.368462664730663,
          8.899051367105091,
          8.620342379185121,
          16.312978920172736,
          18.99257153303628,
          13.975424859373685,
          35.43939795953615,
          17.7078546197549,
          2.7063293868263707,
          10.178761109996392,
          14.986973510352248,
          12.04620620711662,
          9.210801658243435,
          15.77564102055365,
          14.568793905446498,
          13.327126647837485,
          12.296934561482182,
          21.871511998702214,
          14.98188196153524,
          8.522431339559152,
          13.418409404154428,
          9.504316453590969,
          31.171777098843755,
          15.047937722076737,
          18.928189749352683,
          11.37517170200081,
          19.386179990121185,
          10.761701026528055,
          10.178761109996392,
          14.693939745159398,
          14.235052467412967,
          17.429930872908677,
          10.59739059863323,
          9.974332292815394,
          19.417638315057136,
          20.69575340460876,
          19.200321449132044,
          13.531646934131853,
          10.568554108178658,
          14.46895248238448,
          21.749079542304774,
          10.825317547305483,
          11.97633571621554,
          14.553075007966529,
          12.789613706050703,
          19.574171588074297,
          22.963966338592293,
          11.63380672799643,
          22.69326179418408,
          10.9375,
          11.944441290172387,
          27.19827372738939,
          14.98188196153524,
          10.474287248274939,
          14.693939745159398,
          12.278307535548212,
          9.24387466109315,
          13.79409654922623,
          23.796085016434425
         ],
         "xaxis": "x",
         "y": [
          93,
          99,
          95,
          98,
          85,
          98,
          90,
          99,
          99,
          90,
          95,
          96,
          99,
          99,
          98,
          69,
          99,
          5,
          98,
          98,
          83,
          90,
          98,
          98,
          98,
          98,
          99,
          98,
          82,
          96,
          97,
          99,
          90,
          81,
          84,
          99,
          97,
          97,
          99,
          99,
          99,
          85,
          92,
          82,
          10,
          98,
          92,
          98,
          91,
          98,
          98,
          88,
          97,
          98,
          97,
          99,
          97,
          94,
          83,
          95,
          99,
          97,
          83,
          97,
          96,
          95,
          96,
          89,
          99,
          99,
          97,
          99,
          99,
          90,
          97,
          99,
          93,
          95,
          98,
          99,
          99,
          93,
          93,
          88,
          75,
          96,
          92,
          90,
          98,
          96,
          98,
          96,
          99,
          99,
          95,
          99,
          95,
          99,
          99,
          99,
          99,
          56,
          96,
          97,
          98,
          96,
          95,
          67,
          99,
          99,
          99,
          71,
          95,
          82,
          95,
          72,
          95,
          95,
          95,
          83,
          98,
          99,
          65,
          98,
          99,
          95
         ],
         "yaxis": "y"
        }
       ],
       "layout": {
        "legend": {
         "title": {
          "text": "Catalyst_Type"
         },
         "tracegroupgap": 0
        },
        "margin": {
         "t": 60
        },
        "template": {
         "data": {
          "bar": [
           {
            "error_x": {
             "color": "#2a3f5f"
            },
            "error_y": {
             "color": "#2a3f5f"
            },
            "marker": {
             "line": {
              "color": "#E5ECF6",
              "width": 0.5
             },
             "pattern": {
              "fillmode": "overlay",
              "size": 10,
              "solidity": 0.2
             }
            },
            "type": "bar"
           }
          ],
          "barpolar": [
           {
            "marker": {
             "line": {
              "color": "#E5ECF6",
              "width": 0.5
             },
             "pattern": {
              "fillmode": "overlay",
              "size": 10,
              "solidity": 0.2
             }
            },
            "type": "barpolar"
           }
          ],
          "carpet": [
           {
            "aaxis": {
             "endlinecolor": "#2a3f5f",
             "gridcolor": "white",
             "linecolor": "white",
             "minorgridcolor": "white",
             "startlinecolor": "#2a3f5f"
            },
            "baxis": {
             "endlinecolor": "#2a3f5f",
             "gridcolor": "white",
             "linecolor": "white",
             "minorgridcolor": "white",
             "startlinecolor": "#2a3f5f"
            },
            "type": "carpet"
           }
          ],
          "choropleth": [
           {
            "colorbar": {
             "outlinewidth": 0,
             "ticks": ""
            },
            "type": "choropleth"
           }
          ],
          "contour": [
           {
            "colorbar": {
             "outlinewidth": 0,
             "ticks": ""
            },
            "colorscale": [
             [
              0,
              "#0d0887"
             ],
             [
              0.1111111111111111,
              "#46039f"
             ],
             [
              0.2222222222222222,
              "#7201a8"
             ],
             [
              0.3333333333333333,
              "#9c179e"
             ],
             [
              0.4444444444444444,
              "#bd3786"
             ],
             [
              0.5555555555555556,
              "#d8576b"
             ],
             [
              0.6666666666666666,
              "#ed7953"
             ],
             [
              0.7777777777777778,
              "#fb9f3a"
             ],
             [
              0.8888888888888888,
              "#fdca26"
             ],
             [
              1,
              "#f0f921"
             ]
            ],
            "type": "contour"
           }
          ],
          "contourcarpet": [
           {
            "colorbar": {
             "outlinewidth": 0,
             "ticks": ""
            },
            "type": "contourcarpet"
           }
          ],
          "heatmap": [
           {
            "colorbar": {
             "outlinewidth": 0,
             "ticks": ""
            },
            "colorscale": [
             [
              0,
              "#0d0887"
             ],
             [
              0.1111111111111111,
              "#46039f"
             ],
             [
              0.2222222222222222,
              "#7201a8"
             ],
             [
              0.3333333333333333,
              "#9c179e"
             ],
             [
              0.4444444444444444,
              "#bd3786"
             ],
             [
              0.5555555555555556,
              "#d8576b"
             ],
             [
              0.6666666666666666,
              "#ed7953"
             ],
             [
              0.7777777777777778,
              "#fb9f3a"
             ],
             [
              0.8888888888888888,
              "#fdca26"
             ],
             [
              1,
              "#f0f921"
             ]
            ],
            "type": "heatmap"
           }
          ],
          "heatmapgl": [
           {
            "colorbar": {
             "outlinewidth": 0,
             "ticks": ""
            },
            "colorscale": [
             [
              0,
              "#0d0887"
             ],
             [
              0.1111111111111111,
              "#46039f"
             ],
             [
              0.2222222222222222,
              "#7201a8"
             ],
             [
              0.3333333333333333,
              "#9c179e"
             ],
             [
              0.4444444444444444,
              "#bd3786"
             ],
             [
              0.5555555555555556,
              "#d8576b"
             ],
             [
              0.6666666666666666,
              "#ed7953"
             ],
             [
              0.7777777777777778,
              "#fb9f3a"
             ],
             [
              0.8888888888888888,
              "#fdca26"
             ],
             [
              1,
              "#f0f921"
             ]
            ],
            "type": "heatmapgl"
           }
          ],
          "histogram": [
           {
            "marker": {
             "pattern": {
              "fillmode": "overlay",
              "size": 10,
              "solidity": 0.2
             }
            },
            "type": "histogram"
           }
          ],
          "histogram2d": [
           {
            "colorbar": {
             "outlinewidth": 0,
             "ticks": ""
            },
            "colorscale": [
             [
              0,
              "#0d0887"
             ],
             [
              0.1111111111111111,
              "#46039f"
             ],
             [
              0.2222222222222222,
              "#7201a8"
             ],
             [
              0.3333333333333333,
              "#9c179e"
             ],
             [
              0.4444444444444444,
              "#bd3786"
             ],
             [
              0.5555555555555556,
              "#d8576b"
             ],
             [
              0.6666666666666666,
              "#ed7953"
             ],
             [
              0.7777777777777778,
              "#fb9f3a"
             ],
             [
              0.8888888888888888,
              "#fdca26"
             ],
             [
              1,
              "#f0f921"
             ]
            ],
            "type": "histogram2d"
           }
          ],
          "histogram2dcontour": [
           {
            "colorbar": {
             "outlinewidth": 0,
             "ticks": ""
            },
            "colorscale": [
             [
              0,
              "#0d0887"
             ],
             [
              0.1111111111111111,
              "#46039f"
             ],
             [
              0.2222222222222222,
              "#7201a8"
             ],
             [
              0.3333333333333333,
              "#9c179e"
             ],
             [
              0.4444444444444444,
              "#bd3786"
             ],
             [
              0.5555555555555556,
              "#d8576b"
             ],
             [
              0.6666666666666666,
              "#ed7953"
             ],
             [
              0.7777777777777778,
              "#fb9f3a"
             ],
             [
              0.8888888888888888,
              "#fdca26"
             ],
             [
              1,
              "#f0f921"
             ]
            ],
            "type": "histogram2dcontour"
           }
          ],
          "mesh3d": [
           {
            "colorbar": {
             "outlinewidth": 0,
             "ticks": ""
            },
            "type": "mesh3d"
           }
          ],
          "parcoords": [
           {
            "line": {
             "colorbar": {
              "outlinewidth": 0,
              "ticks": ""
             }
            },
            "type": "parcoords"
           }
          ],
          "pie": [
           {
            "automargin": true,
            "type": "pie"
           }
          ],
          "scatter": [
           {
            "fillpattern": {
             "fillmode": "overlay",
             "size": 10,
             "solidity": 0.2
            },
            "type": "scatter"
           }
          ],
          "scatter3d": [
           {
            "line": {
             "colorbar": {
              "outlinewidth": 0,
              "ticks": ""
             }
            },
            "marker": {
             "colorbar": {
              "outlinewidth": 0,
              "ticks": ""
             }
            },
            "type": "scatter3d"
           }
          ],
          "scattercarpet": [
           {
            "marker": {
             "colorbar": {
              "outlinewidth": 0,
              "ticks": ""
             }
            },
            "type": "scattercarpet"
           }
          ],
          "scattergeo": [
           {
            "marker": {
             "colorbar": {
              "outlinewidth": 0,
              "ticks": ""
             }
            },
            "type": "scattergeo"
           }
          ],
          "scattergl": [
           {
            "marker": {
             "colorbar": {
              "outlinewidth": 0,
              "ticks": ""
             }
            },
            "type": "scattergl"
           }
          ],
          "scattermapbox": [
           {
            "marker": {
             "colorbar": {
              "outlinewidth": 0,
              "ticks": ""
             }
            },
            "type": "scattermapbox"
           }
          ],
          "scatterpolar": [
           {
            "marker": {
             "colorbar": {
              "outlinewidth": 0,
              "ticks": ""
             }
            },
            "type": "scatterpolar"
           }
          ],
          "scatterpolargl": [
           {
            "marker": {
             "colorbar": {
              "outlinewidth": 0,
              "ticks": ""
             }
            },
            "type": "scatterpolargl"
           }
          ],
          "scatterternary": [
           {
            "marker": {
             "colorbar": {
              "outlinewidth": 0,
              "ticks": ""
             }
            },
            "type": "scatterternary"
           }
          ],
          "surface": [
           {
            "colorbar": {
             "outlinewidth": 0,
             "ticks": ""
            },
            "colorscale": [
             [
              0,
              "#0d0887"
             ],
             [
              0.1111111111111111,
              "#46039f"
             ],
             [
              0.2222222222222222,
              "#7201a8"
             ],
             [
              0.3333333333333333,
              "#9c179e"
             ],
             [
              0.4444444444444444,
              "#bd3786"
             ],
             [
              0.5555555555555556,
              "#d8576b"
             ],
             [
              0.6666666666666666,
              "#ed7953"
             ],
             [
              0.7777777777777778,
              "#fb9f3a"
             ],
             [
              0.8888888888888888,
              "#fdca26"
             ],
             [
              1,
              "#f0f921"
             ]
            ],
            "type": "surface"
           }
          ],
          "table": [
           {
            "cells": {
             "fill": {
              "color": "#EBF0F8"
             },
             "line": {
              "color": "white"
             }
            },
            "header": {
             "fill": {
              "color": "#C8D4E3"
             },
             "line": {
              "color": "white"
             }
            },
            "type": "table"
           }
          ]
         },
         "layout": {
          "annotationdefaults": {
           "arrowcolor": "#2a3f5f",
           "arrowhead": 0,
           "arrowwidth": 1
          },
          "autotypenumbers": "strict",
          "coloraxis": {
           "colorbar": {
            "outlinewidth": 0,
            "ticks": ""
           }
          },
          "colorscale": {
           "diverging": [
            [
             0,
             "#8e0152"
            ],
            [
             0.1,
             "#c51b7d"
            ],
            [
             0.2,
             "#de77ae"
            ],
            [
             0.3,
             "#f1b6da"
            ],
            [
             0.4,
             "#fde0ef"
            ],
            [
             0.5,
             "#f7f7f7"
            ],
            [
             0.6,
             "#e6f5d0"
            ],
            [
             0.7,
             "#b8e186"
            ],
            [
             0.8,
             "#7fbc41"
            ],
            [
             0.9,
             "#4d9221"
            ],
            [
             1,
             "#276419"
            ]
           ],
           "sequential": [
            [
             0,
             "#0d0887"
            ],
            [
             0.1111111111111111,
             "#46039f"
            ],
            [
             0.2222222222222222,
             "#7201a8"
            ],
            [
             0.3333333333333333,
             "#9c179e"
            ],
            [
             0.4444444444444444,
             "#bd3786"
            ],
            [
             0.5555555555555556,
             "#d8576b"
            ],
            [
             0.6666666666666666,
             "#ed7953"
            ],
            [
             0.7777777777777778,
             "#fb9f3a"
            ],
            [
             0.8888888888888888,
             "#fdca26"
            ],
            [
             1,
             "#f0f921"
            ]
           ],
           "sequentialminus": [
            [
             0,
             "#0d0887"
            ],
            [
             0.1111111111111111,
             "#46039f"
            ],
            [
             0.2222222222222222,
             "#7201a8"
            ],
            [
             0.3333333333333333,
             "#9c179e"
            ],
            [
             0.4444444444444444,
             "#bd3786"
            ],
            [
             0.5555555555555556,
             "#d8576b"
            ],
            [
             0.6666666666666666,
             "#ed7953"
            ],
            [
             0.7777777777777778,
             "#fb9f3a"
            ],
            [
             0.8888888888888888,
             "#fdca26"
            ],
            [
             1,
             "#f0f921"
            ]
           ]
          },
          "colorway": [
           "#636efa",
           "#EF553B",
           "#00cc96",
           "#ab63fa",
           "#FFA15A",
           "#19d3f3",
           "#FF6692",
           "#B6E880",
           "#FF97FF",
           "#FECB52"
          ],
          "font": {
           "color": "#2a3f5f"
          },
          "geo": {
           "bgcolor": "white",
           "lakecolor": "white",
           "landcolor": "#E5ECF6",
           "showlakes": true,
           "showland": true,
           "subunitcolor": "white"
          },
          "hoverlabel": {
           "align": "left"
          },
          "hovermode": "closest",
          "mapbox": {
           "style": "light"
          },
          "paper_bgcolor": "white",
          "plot_bgcolor": "#E5ECF6",
          "polar": {
           "angularaxis": {
            "gridcolor": "white",
            "linecolor": "white",
            "ticks": ""
           },
           "bgcolor": "#E5ECF6",
           "radialaxis": {
            "gridcolor": "white",
            "linecolor": "white",
            "ticks": ""
           }
          },
          "scene": {
           "xaxis": {
            "backgroundcolor": "#E5ECF6",
            "gridcolor": "white",
            "gridwidth": 2,
            "linecolor": "white",
            "showbackground": true,
            "ticks": "",
            "zerolinecolor": "white"
           },
           "yaxis": {
            "backgroundcolor": "#E5ECF6",
            "gridcolor": "white",
            "gridwidth": 2,
            "linecolor": "white",
            "showbackground": true,
            "ticks": "",
            "zerolinecolor": "white"
           },
           "zaxis": {
            "backgroundcolor": "#E5ECF6",
            "gridcolor": "white",
            "gridwidth": 2,
            "linecolor": "white",
            "showbackground": true,
            "ticks": "",
            "zerolinecolor": "white"
           }
          },
          "shapedefaults": {
           "line": {
            "color": "#2a3f5f"
           }
          },
          "ternary": {
           "aaxis": {
            "gridcolor": "white",
            "linecolor": "white",
            "ticks": ""
           },
           "baxis": {
            "gridcolor": "white",
            "linecolor": "white",
            "ticks": ""
           },
           "bgcolor": "#E5ECF6",
           "caxis": {
            "gridcolor": "white",
            "linecolor": "white",
            "ticks": ""
           }
          },
          "title": {
           "x": 0.05
          },
          "xaxis": {
           "automargin": true,
           "gridcolor": "white",
           "linecolor": "white",
           "ticks": "",
           "title": {
            "standoff": 15
           },
           "zerolinecolor": "white",
           "zerolinewidth": 2
          },
          "yaxis": {
           "automargin": true,
           "gridcolor": "white",
           "linecolor": "white",
           "ticks": "",
           "title": {
            "standoff": 15
           },
           "zerolinecolor": "white",
           "zerolinewidth": 2
          }
         }
        },
        "xaxis": {
         "anchor": "y",
         "domain": [
          0,
          1
         ],
         "title": {
          "text": "Std_pass"
         }
        },
        "yaxis": {
         "anchor": "x",
         "domain": [
          0,
          1
         ],
         "title": {
          "text": "ee_max"
         }
        }
       }
      }
     },
     "metadata": {},
     "output_type": "display_data"
    }
   ],
   "source": [
    "import plotly.express as px\n",
    "\n",
    "fig=px.scatter( df, x=\"Std_pass\", y=\"ee_max\", color=df['Catalyst_Type'])\n",
    "\n",
    "\n",
    "# Show the plot\n",
    "fig.show()"
   ]
  },
  {
   "cell_type": "code",
   "execution_count": 14,
   "metadata": {},
   "outputs": [
    {
     "data": {
      "text/plain": [
       "2.56"
      ]
     },
     "execution_count": 14,
     "metadata": {},
     "output_type": "execute_result"
    }
   ],
   "source": [
    "len(df.loc[df[\"Mean_pass\"]>20])*0.04\n",
    "#len(df.loc[df[\"ee\"]<50])/550"
   ]
  },
  {
   "cell_type": "markdown",
   "metadata": {},
   "source": [
    "# RISK - GENERALITY"
   ]
  },
  {
   "cell_type": "code",
   "execution_count": 15,
   "metadata": {},
   "outputs": [
    {
     "name": "stdout",
     "output_type": "stream",
     "text": [
      "Value at Risk (VAR) at 95.0% confidence level: 61.24%\n",
      "Expected Shortfall (ES) at 95.0% confidence level: 34.03%\n"
     ]
    }
   ],
   "source": [
    "\n",
    "# Calculate VAR\n",
    "confidence_level = 0.95  # 95% confidence level\n",
    "var = np.percentile(df['ee']/100,  100*(1 - confidence_level))\n",
    "print(f'Value at Risk (VAR) at {confidence_level * 100}% confidence level: {var:.2%}')\n",
    "\n",
    "# Calculate ES\n",
    "tail_losses = df['ee'][df['ee']/100 < var]\n",
    "tail_losses=tail_losses/100\n",
    "es = tail_losses.mean()\n",
    "print(f'Expected Shortfall (ES) at {confidence_level * 100}% confidence level: {es:.2%}')"
   ]
  },
  {
   "cell_type": "code",
   "execution_count": 16,
   "metadata": {},
   "outputs": [
    {
     "name": "stdout",
     "output_type": "stream",
     "text": [
      "Value at Risk (VAR) at 95.0% confidence level: 47.73%\n",
      "Expected Shortfall (ES) at 95.0% confidence level: 38.45%\n"
     ]
    }
   ],
   "source": [
    "\n",
    "# Calculate VAR\n",
    "confidence_level = 0.95  # 95% confidence level\n",
    "X=df[\"yield\"].dropna()\n",
    "var = np.percentile(X/100,  100*(1 - confidence_level))\n",
    "print(f'Value at Risk (VAR) at {confidence_level * 100}% confidence level: {var:.2%}')\n",
    "\n",
    "# Calculate ES\n",
    "tail_losses = X[X/100 < var]\n",
    "tail_losses=tail_losses/100\n",
    "es = tail_losses.mean()\n",
    "print(f'Expected Shortfall (ES) at {confidence_level * 100}% confidence level: {es:.2%}')"
   ]
  },
  {
   "cell_type": "code",
   "execution_count": 17,
   "metadata": {},
   "outputs": [
    {
     "data": {
      "application/vnd.plotly.v1+json": {
       "config": {
        "plotlyServerURL": "https://plot.ly"
       },
       "data": [
        {
         "alignmentgroup": "True",
         "hovertemplate": "level_1=VAR<br>Catalyst_Type=%{x}<br>ee=%{y}<extra></extra>",
         "legendgroup": "VAR",
         "marker": {
          "color": "#636efa",
          "pattern": {
           "shape": ""
          }
         },
         "name": "VAR",
         "offsetgroup": "VAR",
         "orientation": "v",
         "showlegend": true,
         "textposition": "auto",
         "type": "bar",
         "x": [
          "(Thio)Urea",
          "BA",
          "Cinchona Alkaloid",
          "Misc",
          "Primary Amine",
          "Secondary Amine",
          "Squaramide"
         ],
         "xaxis": "x",
         "y": [
          25,
          27.900000000000034,
          15.200000000000074,
          39.30000000000004,
          20.450000000000024,
          28.350000000000044,
          50.60000000000005
         ],
         "yaxis": "y"
        },
        {
         "alignmentgroup": "True",
         "hovertemplate": "level_1=ES<br>Catalyst_Type=%{x}<br>ee=%{y}<extra></extra>",
         "legendgroup": "ES",
         "marker": {
          "color": "#EF553B",
          "pattern": {
           "shape": ""
          }
         },
         "name": "ES",
         "offsetgroup": "ES",
         "orientation": "v",
         "showlegend": true,
         "textposition": "auto",
         "type": "bar",
         "x": [
          "(Thio)Urea",
          "BA",
          "Cinchona Alkaloid",
          "Misc",
          "Primary Amine",
          "Secondary Amine",
          "Squaramide"
         ],
         "xaxis": "x",
         "y": [
          10.114285714285714,
          15.153846153846153,
          6.095238095238095,
          18.375,
          11.88888888888889,
          11.145833333333334,
          23.285714285714285
         ],
         "yaxis": "y"
        }
       ],
       "layout": {
        "barmode": "group",
        "legend": {
         "title": {},
         "tracegroupgap": 0
        },
        "template": {
         "data": {
          "bar": [
           {
            "error_x": {
             "color": "#2a3f5f"
            },
            "error_y": {
             "color": "#2a3f5f"
            },
            "marker": {
             "line": {
              "color": "#E5ECF6",
              "width": 0.5
             },
             "pattern": {
              "fillmode": "overlay",
              "size": 10,
              "solidity": 0.2
             }
            },
            "type": "bar"
           }
          ],
          "barpolar": [
           {
            "marker": {
             "line": {
              "color": "#E5ECF6",
              "width": 0.5
             },
             "pattern": {
              "fillmode": "overlay",
              "size": 10,
              "solidity": 0.2
             }
            },
            "type": "barpolar"
           }
          ],
          "carpet": [
           {
            "aaxis": {
             "endlinecolor": "#2a3f5f",
             "gridcolor": "white",
             "linecolor": "white",
             "minorgridcolor": "white",
             "startlinecolor": "#2a3f5f"
            },
            "baxis": {
             "endlinecolor": "#2a3f5f",
             "gridcolor": "white",
             "linecolor": "white",
             "minorgridcolor": "white",
             "startlinecolor": "#2a3f5f"
            },
            "type": "carpet"
           }
          ],
          "choropleth": [
           {
            "colorbar": {
             "outlinewidth": 0,
             "ticks": ""
            },
            "type": "choropleth"
           }
          ],
          "contour": [
           {
            "colorbar": {
             "outlinewidth": 0,
             "ticks": ""
            },
            "colorscale": [
             [
              0,
              "#0d0887"
             ],
             [
              0.1111111111111111,
              "#46039f"
             ],
             [
              0.2222222222222222,
              "#7201a8"
             ],
             [
              0.3333333333333333,
              "#9c179e"
             ],
             [
              0.4444444444444444,
              "#bd3786"
             ],
             [
              0.5555555555555556,
              "#d8576b"
             ],
             [
              0.6666666666666666,
              "#ed7953"
             ],
             [
              0.7777777777777778,
              "#fb9f3a"
             ],
             [
              0.8888888888888888,
              "#fdca26"
             ],
             [
              1,
              "#f0f921"
             ]
            ],
            "type": "contour"
           }
          ],
          "contourcarpet": [
           {
            "colorbar": {
             "outlinewidth": 0,
             "ticks": ""
            },
            "type": "contourcarpet"
           }
          ],
          "heatmap": [
           {
            "colorbar": {
             "outlinewidth": 0,
             "ticks": ""
            },
            "colorscale": [
             [
              0,
              "#0d0887"
             ],
             [
              0.1111111111111111,
              "#46039f"
             ],
             [
              0.2222222222222222,
              "#7201a8"
             ],
             [
              0.3333333333333333,
              "#9c179e"
             ],
             [
              0.4444444444444444,
              "#bd3786"
             ],
             [
              0.5555555555555556,
              "#d8576b"
             ],
             [
              0.6666666666666666,
              "#ed7953"
             ],
             [
              0.7777777777777778,
              "#fb9f3a"
             ],
             [
              0.8888888888888888,
              "#fdca26"
             ],
             [
              1,
              "#f0f921"
             ]
            ],
            "type": "heatmap"
           }
          ],
          "heatmapgl": [
           {
            "colorbar": {
             "outlinewidth": 0,
             "ticks": ""
            },
            "colorscale": [
             [
              0,
              "#0d0887"
             ],
             [
              0.1111111111111111,
              "#46039f"
             ],
             [
              0.2222222222222222,
              "#7201a8"
             ],
             [
              0.3333333333333333,
              "#9c179e"
             ],
             [
              0.4444444444444444,
              "#bd3786"
             ],
             [
              0.5555555555555556,
              "#d8576b"
             ],
             [
              0.6666666666666666,
              "#ed7953"
             ],
             [
              0.7777777777777778,
              "#fb9f3a"
             ],
             [
              0.8888888888888888,
              "#fdca26"
             ],
             [
              1,
              "#f0f921"
             ]
            ],
            "type": "heatmapgl"
           }
          ],
          "histogram": [
           {
            "marker": {
             "pattern": {
              "fillmode": "overlay",
              "size": 10,
              "solidity": 0.2
             }
            },
            "type": "histogram"
           }
          ],
          "histogram2d": [
           {
            "colorbar": {
             "outlinewidth": 0,
             "ticks": ""
            },
            "colorscale": [
             [
              0,
              "#0d0887"
             ],
             [
              0.1111111111111111,
              "#46039f"
             ],
             [
              0.2222222222222222,
              "#7201a8"
             ],
             [
              0.3333333333333333,
              "#9c179e"
             ],
             [
              0.4444444444444444,
              "#bd3786"
             ],
             [
              0.5555555555555556,
              "#d8576b"
             ],
             [
              0.6666666666666666,
              "#ed7953"
             ],
             [
              0.7777777777777778,
              "#fb9f3a"
             ],
             [
              0.8888888888888888,
              "#fdca26"
             ],
             [
              1,
              "#f0f921"
             ]
            ],
            "type": "histogram2d"
           }
          ],
          "histogram2dcontour": [
           {
            "colorbar": {
             "outlinewidth": 0,
             "ticks": ""
            },
            "colorscale": [
             [
              0,
              "#0d0887"
             ],
             [
              0.1111111111111111,
              "#46039f"
             ],
             [
              0.2222222222222222,
              "#7201a8"
             ],
             [
              0.3333333333333333,
              "#9c179e"
             ],
             [
              0.4444444444444444,
              "#bd3786"
             ],
             [
              0.5555555555555556,
              "#d8576b"
             ],
             [
              0.6666666666666666,
              "#ed7953"
             ],
             [
              0.7777777777777778,
              "#fb9f3a"
             ],
             [
              0.8888888888888888,
              "#fdca26"
             ],
             [
              1,
              "#f0f921"
             ]
            ],
            "type": "histogram2dcontour"
           }
          ],
          "mesh3d": [
           {
            "colorbar": {
             "outlinewidth": 0,
             "ticks": ""
            },
            "type": "mesh3d"
           }
          ],
          "parcoords": [
           {
            "line": {
             "colorbar": {
              "outlinewidth": 0,
              "ticks": ""
             }
            },
            "type": "parcoords"
           }
          ],
          "pie": [
           {
            "automargin": true,
            "type": "pie"
           }
          ],
          "scatter": [
           {
            "fillpattern": {
             "fillmode": "overlay",
             "size": 10,
             "solidity": 0.2
            },
            "type": "scatter"
           }
          ],
          "scatter3d": [
           {
            "line": {
             "colorbar": {
              "outlinewidth": 0,
              "ticks": ""
             }
            },
            "marker": {
             "colorbar": {
              "outlinewidth": 0,
              "ticks": ""
             }
            },
            "type": "scatter3d"
           }
          ],
          "scattercarpet": [
           {
            "marker": {
             "colorbar": {
              "outlinewidth": 0,
              "ticks": ""
             }
            },
            "type": "scattercarpet"
           }
          ],
          "scattergeo": [
           {
            "marker": {
             "colorbar": {
              "outlinewidth": 0,
              "ticks": ""
             }
            },
            "type": "scattergeo"
           }
          ],
          "scattergl": [
           {
            "marker": {
             "colorbar": {
              "outlinewidth": 0,
              "ticks": ""
             }
            },
            "type": "scattergl"
           }
          ],
          "scattermapbox": [
           {
            "marker": {
             "colorbar": {
              "outlinewidth": 0,
              "ticks": ""
             }
            },
            "type": "scattermapbox"
           }
          ],
          "scatterpolar": [
           {
            "marker": {
             "colorbar": {
              "outlinewidth": 0,
              "ticks": ""
             }
            },
            "type": "scatterpolar"
           }
          ],
          "scatterpolargl": [
           {
            "marker": {
             "colorbar": {
              "outlinewidth": 0,
              "ticks": ""
             }
            },
            "type": "scatterpolargl"
           }
          ],
          "scatterternary": [
           {
            "marker": {
             "colorbar": {
              "outlinewidth": 0,
              "ticks": ""
             }
            },
            "type": "scatterternary"
           }
          ],
          "surface": [
           {
            "colorbar": {
             "outlinewidth": 0,
             "ticks": ""
            },
            "colorscale": [
             [
              0,
              "#0d0887"
             ],
             [
              0.1111111111111111,
              "#46039f"
             ],
             [
              0.2222222222222222,
              "#7201a8"
             ],
             [
              0.3333333333333333,
              "#9c179e"
             ],
             [
              0.4444444444444444,
              "#bd3786"
             ],
             [
              0.5555555555555556,
              "#d8576b"
             ],
             [
              0.6666666666666666,
              "#ed7953"
             ],
             [
              0.7777777777777778,
              "#fb9f3a"
             ],
             [
              0.8888888888888888,
              "#fdca26"
             ],
             [
              1,
              "#f0f921"
             ]
            ],
            "type": "surface"
           }
          ],
          "table": [
           {
            "cells": {
             "fill": {
              "color": "#EBF0F8"
             },
             "line": {
              "color": "white"
             }
            },
            "header": {
             "fill": {
              "color": "#C8D4E3"
             },
             "line": {
              "color": "white"
             }
            },
            "type": "table"
           }
          ]
         },
         "layout": {
          "annotationdefaults": {
           "arrowcolor": "#2a3f5f",
           "arrowhead": 0,
           "arrowwidth": 1
          },
          "autotypenumbers": "strict",
          "coloraxis": {
           "colorbar": {
            "outlinewidth": 0,
            "ticks": ""
           }
          },
          "colorscale": {
           "diverging": [
            [
             0,
             "#8e0152"
            ],
            [
             0.1,
             "#c51b7d"
            ],
            [
             0.2,
             "#de77ae"
            ],
            [
             0.3,
             "#f1b6da"
            ],
            [
             0.4,
             "#fde0ef"
            ],
            [
             0.5,
             "#f7f7f7"
            ],
            [
             0.6,
             "#e6f5d0"
            ],
            [
             0.7,
             "#b8e186"
            ],
            [
             0.8,
             "#7fbc41"
            ],
            [
             0.9,
             "#4d9221"
            ],
            [
             1,
             "#276419"
            ]
           ],
           "sequential": [
            [
             0,
             "#0d0887"
            ],
            [
             0.1111111111111111,
             "#46039f"
            ],
            [
             0.2222222222222222,
             "#7201a8"
            ],
            [
             0.3333333333333333,
             "#9c179e"
            ],
            [
             0.4444444444444444,
             "#bd3786"
            ],
            [
             0.5555555555555556,
             "#d8576b"
            ],
            [
             0.6666666666666666,
             "#ed7953"
            ],
            [
             0.7777777777777778,
             "#fb9f3a"
            ],
            [
             0.8888888888888888,
             "#fdca26"
            ],
            [
             1,
             "#f0f921"
            ]
           ],
           "sequentialminus": [
            [
             0,
             "#0d0887"
            ],
            [
             0.1111111111111111,
             "#46039f"
            ],
            [
             0.2222222222222222,
             "#7201a8"
            ],
            [
             0.3333333333333333,
             "#9c179e"
            ],
            [
             0.4444444444444444,
             "#bd3786"
            ],
            [
             0.5555555555555556,
             "#d8576b"
            ],
            [
             0.6666666666666666,
             "#ed7953"
            ],
            [
             0.7777777777777778,
             "#fb9f3a"
            ],
            [
             0.8888888888888888,
             "#fdca26"
            ],
            [
             1,
             "#f0f921"
            ]
           ]
          },
          "colorway": [
           "#636efa",
           "#EF553B",
           "#00cc96",
           "#ab63fa",
           "#FFA15A",
           "#19d3f3",
           "#FF6692",
           "#B6E880",
           "#FF97FF",
           "#FECB52"
          ],
          "font": {
           "color": "#2a3f5f"
          },
          "geo": {
           "bgcolor": "white",
           "lakecolor": "white",
           "landcolor": "#E5ECF6",
           "showlakes": true,
           "showland": true,
           "subunitcolor": "white"
          },
          "hoverlabel": {
           "align": "left"
          },
          "hovermode": "closest",
          "mapbox": {
           "style": "light"
          },
          "paper_bgcolor": "white",
          "plot_bgcolor": "#E5ECF6",
          "polar": {
           "angularaxis": {
            "gridcolor": "white",
            "linecolor": "white",
            "ticks": ""
           },
           "bgcolor": "#E5ECF6",
           "radialaxis": {
            "gridcolor": "white",
            "linecolor": "white",
            "ticks": ""
           }
          },
          "scene": {
           "xaxis": {
            "backgroundcolor": "#E5ECF6",
            "gridcolor": "white",
            "gridwidth": 2,
            "linecolor": "white",
            "showbackground": true,
            "ticks": "",
            "zerolinecolor": "white"
           },
           "yaxis": {
            "backgroundcolor": "#E5ECF6",
            "gridcolor": "white",
            "gridwidth": 2,
            "linecolor": "white",
            "showbackground": true,
            "ticks": "",
            "zerolinecolor": "white"
           },
           "zaxis": {
            "backgroundcolor": "#E5ECF6",
            "gridcolor": "white",
            "gridwidth": 2,
            "linecolor": "white",
            "showbackground": true,
            "ticks": "",
            "zerolinecolor": "white"
           }
          },
          "shapedefaults": {
           "line": {
            "color": "#2a3f5f"
           }
          },
          "ternary": {
           "aaxis": {
            "gridcolor": "white",
            "linecolor": "white",
            "ticks": ""
           },
           "baxis": {
            "gridcolor": "white",
            "linecolor": "white",
            "ticks": ""
           },
           "bgcolor": "#E5ECF6",
           "caxis": {
            "gridcolor": "white",
            "linecolor": "white",
            "ticks": ""
           }
          },
          "title": {
           "x": 0.05
          },
          "xaxis": {
           "automargin": true,
           "gridcolor": "white",
           "linecolor": "white",
           "ticks": "",
           "title": {
            "standoff": 15
           },
           "zerolinecolor": "white",
           "zerolinewidth": 2
          },
          "yaxis": {
           "automargin": true,
           "gridcolor": "white",
           "linecolor": "white",
           "ticks": "",
           "title": {
            "standoff": 15
           },
           "zerolinecolor": "white",
           "zerolinewidth": 2
          }
         }
        },
        "title": {
         "text": "VAR and ES by Asset Type"
        },
        "xaxis": {
         "anchor": "y",
         "domain": [
          0,
          1
         ],
         "tickangle": -4,
         "title": {
          "text": "Asset Type"
         }
        },
        "yaxis": {
         "anchor": "x",
         "domain": [
          0,
          1
         ],
         "title": {
          "text": "Value"
         }
        }
       }
      }
     },
     "metadata": {},
     "output_type": "display_data"
    }
   ],
   "source": [
    "def calculate_var_es(data):\n",
    "    var = np.percentile(data, 100 * (1 - confidence_level))\n",
    "    tail_losses = data[data < var]\n",
    "    es = tail_losses.mean()\n",
    "    return pd.Series({'VAR': var, 'ES': es})\n",
    "\n",
    "results = df_ee.groupby('Catalyst_Type')['ee'].apply(calculate_var_es).reset_index()\n",
    "\n",
    "fig = px.bar(results, x='Catalyst_Type', y='ee', title='VAR and ES by Asset Type',\n",
    "             labels={'variable': 'Metric', 'value': 'Value'}, barmode='group',color='level_1')\n",
    "\n",
    "# Customize the layout\n",
    "fig.update_layout(xaxis_title='Asset Type', yaxis_title='Value', legend_title=None, xaxis_tickangle=-4\n",
    "                  )\n",
    "\n",
    "# Show the plot\n",
    "fig.show()"
   ]
  },
  {
   "cell_type": "code",
   "execution_count": 18,
   "metadata": {},
   "outputs": [
    {
     "data": {
      "application/vnd.plotly.v1+json": {
       "config": {
        "plotlyServerURL": "https://plot.ly"
       },
       "data": [
        {
         "alignmentgroup": "True",
         "bingroup": "x",
         "hovertemplate": "Catalyst_Type=Secondary Amine<br>ee=%{x}<br>count=%{y}<extra></extra>",
         "legendgroup": "Secondary Amine",
         "marker": {
          "color": "#636efa",
          "pattern": {
           "shape": ""
          }
         },
         "name": "Secondary Amine",
         "offsetgroup": "Secondary Amine",
         "orientation": "v",
         "showlegend": true,
         "type": "histogram",
         "x": [
          94,
          96,
          93,
          91,
          73,
          75,
          70,
          84,
          10,
          10,
          76,
          12,
          15,
          0,
          16,
          94,
          99,
          98,
          99,
          73,
          93,
          75,
          80,
          93,
          96,
          70,
          93,
          84,
          10,
          10,
          93,
          76,
          12,
          15,
          0,
          16,
          99,
          99,
          98,
          94,
          93,
          86,
          61,
          65,
          2,
          16,
          67,
          51,
          60,
          55,
          40,
          80,
          25,
          86,
          88,
          75,
          86,
          89,
          70,
          51,
          62,
          50,
          99,
          99,
          99,
          75,
          88,
          98,
          98,
          99,
          99,
          99,
          99,
          55,
          84,
          99,
          99,
          94,
          99,
          99,
          99,
          99,
          99,
          99,
          99,
          94,
          99,
          99,
          99,
          99,
          99,
          98,
          99,
          99,
          94,
          96,
          5,
          99,
          99,
          99,
          99,
          99,
          99,
          82,
          92,
          75,
          74,
          76,
          76,
          78,
          86,
          98,
          48,
          51,
          95,
          62,
          86,
          96,
          86,
          69,
          73,
          95,
          62,
          62,
          40,
          69,
          76,
          90,
          93,
          94,
          90,
          86,
          91,
          95,
          99,
          97,
          99,
          99,
          99,
          99,
          99,
          98,
          99,
          95,
          99,
          83,
          98,
          98,
          97,
          97,
          97,
          90,
          98,
          96,
          95,
          99,
          95,
          98,
          98,
          96,
          86,
          84,
          99,
          98,
          97,
          71,
          99,
          96,
          82,
          88,
          8,
          99,
          99,
          98,
          98,
          98,
          76,
          48,
          99,
          99,
          99,
          99,
          99,
          99,
          99,
          99,
          99,
          99,
          99,
          99,
          82,
          34,
          80,
          42,
          96,
          99,
          96,
          95,
          99,
          95,
          91,
          97,
          97,
          99,
          99,
          99,
          99,
          95,
          96,
          83,
          40,
          99,
          99,
          95,
          99,
          99,
          99,
          99,
          96,
          99,
          97,
          94,
          99,
          14,
          95,
          92,
          96,
          99,
          79,
          98,
          75,
          97,
          85,
          97,
          99,
          90,
          72,
          91,
          89,
          73,
          99,
          99,
          85,
          82,
          0,
          64,
          90,
          91,
          83,
          73,
          74,
          57,
          93,
          97,
          95,
          77,
          0,
          99,
          95,
          97,
          97,
          98,
          98,
          98,
          97,
          99,
          96,
          96,
          91,
          99,
          97,
          97,
          96,
          99,
          96,
          99,
          96,
          96,
          93,
          90,
          98,
          98,
          93,
          98,
          95,
          96,
          93,
          82,
          96,
          98,
          96,
          96,
          96,
          96,
          51,
          81,
          67,
          87,
          78,
          49,
          29,
          60,
          80,
          15,
          60,
          81,
          12,
          45,
          99,
          99,
          96,
          97,
          99,
          99,
          99,
          99,
          93,
          98,
          99,
          99,
          98,
          98,
          98,
          98,
          97,
          98,
          98,
          98,
          82,
          92,
          75,
          74,
          76,
          76,
          78,
          99,
          99,
          99,
          99,
          99,
          73,
          62,
          64,
          11,
          53,
          47,
          60,
          76,
          21,
          57,
          35,
          35,
          87,
          80,
          74,
          88,
          88,
          92,
          93,
          96,
          93,
          99,
          99,
          99,
          99,
          99,
          99,
          99,
          93,
          99,
          99,
          99,
          99,
          91,
          0,
          0,
          99,
          99,
          97,
          99,
          99,
          97,
          99,
          99,
          97,
          97,
          93,
          94,
          51,
          84,
          87,
          99,
          98,
          95,
          93,
          93,
          96,
          90,
          99,
          93,
          91,
          93,
          93,
          97,
          75,
          98,
          99,
          89,
          84,
          94,
          90,
          99,
          99,
          97,
          93,
          76,
          88,
          87,
          99,
          82,
          85,
          81,
          87,
          18,
          94,
          98,
          98,
          94,
          98,
          94,
          95,
          90,
          95,
          95,
          93,
          92,
          86,
          72,
          99,
          99,
          90,
          97,
          98,
          99,
          99,
          97,
          99,
          97,
          99,
          99,
          99,
          99,
          99,
          97,
          85,
          97,
          98,
          95,
          82,
          90,
          88,
          92,
          91,
          84,
          96,
          94,
          95,
          95,
          99,
          97,
          86,
          97,
          96,
          0,
          0,
          41,
          98,
          73,
          98,
          99,
          96,
          98,
          96,
          96,
          98,
          98,
          98,
          98,
          94,
          94,
          92,
          95,
          94,
          99,
          96,
          91,
          85,
          92,
          69,
          95,
          99,
          99,
          97,
          99,
          99,
          94,
          99,
          99,
          81,
          80,
          98,
          99,
          99,
          98,
          96,
          87,
          99,
          99,
          97,
          36,
          99,
          99,
          99,
          99,
          99,
          99,
          99,
          97,
          98,
          99,
          99,
          99,
          99,
          99,
          99,
          99,
          94,
          99,
          64,
          66,
          82,
          60,
          58,
          57,
          97,
          77,
          77,
          58,
          99,
          99,
          86,
          88,
          99,
          99,
          99,
          80,
          68,
          81,
          91,
          31,
          20,
          27,
          28,
          72,
          48,
          72,
          90,
          69,
          72,
          94,
          93,
          80,
          83,
          85,
          77,
          75,
          90,
          94,
          94,
          95,
          98.5,
          97,
          99,
          98.5,
          99,
          98,
          94,
          97,
          92,
          92,
          91,
          95,
          96,
          95,
          96,
          96,
          94,
          95,
          96,
          92,
          98,
          95,
          15,
          88,
          97,
          98,
          98,
          96,
          96,
          97,
          94,
          96,
          94,
          97,
          98,
          95,
          95,
          96,
          98,
          97,
          95,
          92,
          92,
          84,
          96,
          86,
          96,
          99,
          98,
          94,
          96,
          90,
          99,
          98,
          98,
          99,
          98,
          98,
          98,
          99,
          18,
          24,
          97,
          7,
          74,
          79,
          74,
          74,
          64,
          68,
          95,
          98,
          97,
          97,
          98,
          98,
          99,
          95,
          98,
          98,
          99,
          99,
          99,
          92,
          99,
          60,
          97,
          20,
          98,
          98,
          99,
          96,
          99,
          99,
          99,
          99,
          99,
          91,
          94,
          93,
          29,
          40,
          85,
          94,
          20,
          5,
          36,
          98,
          76,
          97,
          85,
          97,
          99,
          98,
          96,
          96,
          95,
          93,
          83,
          84,
          77,
          99,
          99,
          99,
          99,
          99,
          99,
          99,
          97,
          99,
          77,
          98,
          99,
          98,
          97,
          93,
          91,
          88,
          87,
          82,
          79,
          78,
          83,
          53,
          86,
          96,
          94,
          93,
          95,
          97,
          97,
          99,
          99,
          63,
          91,
          90,
          94,
          95,
          37,
          9,
          14,
          97,
          97,
          96,
          97,
          95,
          71,
          98,
          92,
          87,
          97,
          98,
          95,
          82,
          90,
          88,
          92,
          91,
          84,
          93,
          90,
          86,
          90,
          80,
          84,
          90,
          78,
          48,
          69,
          45,
          8,
          96,
          94,
          95,
          95,
          99,
          97,
          86,
          97,
          96,
          84,
          18,
          0,
          93,
          32,
          48,
          75,
          16,
          1,
          50,
          72,
          93,
          96,
          93,
          95,
          95,
          95,
          97,
          83,
          95,
          97,
          95,
          95,
          97,
          98,
          97,
          95,
          86,
          72,
          99,
          99,
          99,
          90,
          97,
          98,
          99,
          99,
          97,
          99,
          99,
          99,
          97,
          99,
          99,
          99,
          99,
          99,
          99,
          98,
          98,
          99,
          97,
          53,
          95,
          99,
          99,
          99,
          99,
          99,
          99,
          99,
          99,
          99,
          99,
          99,
          99,
          99,
          99,
          98,
          99,
          99,
          99,
          99,
          99,
          99,
          99,
          99,
          99,
          99,
          99,
          99,
          99,
          99,
          99,
          98,
          99,
          99,
          99,
          99,
          99,
          99,
          98,
          99,
          99,
          99,
          99,
          84,
          71,
          83,
          95,
          98,
          97,
          98,
          98,
          99,
          95,
          98,
          97,
          98,
          98,
          98,
          98,
          98,
          97,
          99,
          99,
          99,
          96,
          98,
          99,
          98,
          99,
          99,
          5,
          77,
          99,
          99,
          99,
          94,
          98,
          96,
          96,
          92,
          98,
          82,
          7,
          80,
          86,
          88,
          90,
          91,
          92,
          91,
          91,
          89,
          86,
          83,
          87,
          84,
          95,
          98,
          80,
          83,
          85,
          77,
          75,
          90,
          94,
          94,
          95,
          98.5,
          97,
          99,
          98.5,
          99,
          98,
          94,
          97
         ],
         "xaxis": "x",
         "yaxis": "y"
        },
        {
         "alignmentgroup": "True",
         "bingroup": "x",
         "hovertemplate": "Catalyst_Type=Primary Amine<br>ee=%{x}<br>count=%{y}<extra></extra>",
         "legendgroup": "Primary Amine",
         "marker": {
          "color": "#EF553B",
          "pattern": {
           "shape": ""
          }
         },
         "name": "Primary Amine",
         "offsetgroup": "Primary Amine",
         "orientation": "v",
         "showlegend": true,
         "type": "histogram",
         "x": [
          94,
          98,
          90,
          99,
          86,
          90,
          98,
          99,
          91,
          82,
          85,
          79,
          94,
          94,
          58,
          93,
          91,
          99,
          98,
          97,
          88,
          96,
          97,
          88,
          84,
          98,
          99,
          87,
          75,
          66,
          94,
          75,
          95,
          98,
          90,
          90,
          93,
          94,
          92,
          91,
          77,
          53,
          91,
          96,
          96,
          99,
          92,
          98,
          88,
          82,
          98,
          98,
          99,
          99,
          90,
          99,
          97,
          90,
          99,
          99,
          94,
          91,
          80,
          98,
          90,
          94,
          99,
          94,
          99,
          93,
          99,
          99,
          88,
          51,
          48,
          41,
          57,
          95,
          90,
          71,
          12,
          16,
          81,
          93,
          94,
          86,
          97,
          87,
          88,
          86,
          97,
          90,
          88,
          62,
          92,
          90,
          93,
          91,
          91,
          84,
          86,
          98,
          49,
          98,
          97,
          99,
          99,
          99,
          98,
          99,
          14,
          23,
          87,
          11,
          38,
          20,
          7,
          6,
          8,
          94,
          83,
          95,
          87,
          93,
          94,
          93,
          87,
          82,
          86,
          99,
          13,
          99,
          99,
          95,
          99,
          99,
          97,
          99,
          99,
          99,
          99,
          99,
          99,
          90,
          99,
          99,
          98,
          99,
          99,
          99,
          98,
          99,
          99,
          99,
          99,
          99,
          99,
          99,
          99,
          99,
          99,
          99,
          99,
          99
         ],
         "xaxis": "x2",
         "yaxis": "y2"
        },
        {
         "alignmentgroup": "True",
         "bingroup": "x",
         "hovertemplate": "Catalyst_Type=Cinchona Alkaloid<br>ee=%{x}<br>count=%{y}<extra></extra>",
         "legendgroup": "Cinchona Alkaloid",
         "marker": {
          "color": "#00cc96",
          "pattern": {
           "shape": ""
          }
         },
         "name": "Cinchona Alkaloid",
         "offsetgroup": "Cinchona Alkaloid",
         "orientation": "v",
         "showlegend": true,
         "type": "histogram",
         "x": [
          90,
          88,
          18,
          88,
          10,
          90,
          93,
          93,
          90,
          90,
          91,
          96,
          92,
          94,
          91,
          92,
          99,
          98,
          99,
          99,
          99,
          99,
          90,
          92,
          93,
          95,
          92,
          90,
          90,
          99,
          98,
          99,
          98,
          99,
          93,
          98,
          76,
          67,
          84,
          83,
          72,
          64,
          93,
          93,
          87,
          98,
          90,
          98,
          84,
          95,
          98,
          98,
          96,
          86,
          86,
          96,
          86,
          76,
          95,
          29,
          40,
          41,
          42,
          68,
          85,
          82,
          90,
          69,
          96,
          91,
          72,
          90,
          93,
          93,
          94,
          97,
          97,
          89,
          91,
          94,
          97,
          96,
          96,
          92,
          97,
          11,
          98,
          98,
          92,
          83,
          80,
          90,
          90,
          68,
          72,
          71,
          90,
          90,
          93,
          84,
          87,
          95,
          94,
          97,
          90,
          95,
          91,
          90,
          91,
          91,
          92,
          91,
          90,
          89,
          90,
          88,
          91,
          90,
          90,
          91,
          90,
          88,
          86,
          90,
          92,
          85,
          90,
          90,
          93,
          91,
          92,
          91,
          93,
          92,
          90,
          95,
          90,
          90,
          91,
          90,
          70,
          91,
          95,
          98,
          90,
          97,
          99,
          95,
          95,
          90,
          90,
          92,
          57,
          86,
          85,
          13,
          81,
          77,
          60,
          35,
          67,
          17,
          90,
          81,
          90,
          86,
          98,
          80,
          99,
          99,
          82,
          99,
          99,
          90,
          92,
          96,
          90,
          81,
          79,
          70,
          82,
          91,
          81,
          85,
          73,
          90,
          83,
          45,
          90,
          94,
          90,
          83,
          94,
          91,
          78,
          83,
          81,
          85,
          97,
          90,
          92,
          94,
          92,
          93,
          91,
          98,
          99,
          93,
          99,
          77,
          93,
          90,
          12,
          89,
          83,
          84,
          57,
          90,
          90,
          87,
          94,
          86,
          83,
          82,
          97,
          78,
          86,
          76,
          73,
          86,
          92,
          90,
          96,
          92,
          45,
          84,
          50,
          27,
          2,
          65,
          9,
          24,
          1,
          -5,
          70,
          25,
          9,
          9,
          5,
          92,
          93,
          93,
          96,
          45,
          98,
          97,
          96,
          94,
          97,
          98,
          96,
          98,
          94,
          97,
          96,
          94,
          96,
          95,
          95,
          97,
          96,
          96,
          69,
          67,
          64,
          96,
          2,
          52,
          6,
          6,
          50,
          66,
          78,
          54,
          77,
          76,
          73,
          78,
          74,
          55,
          78,
          70,
          50,
          38,
          47,
          83,
          80,
          43,
          55,
          65,
          67,
          81,
          10,
          5,
          17,
          10,
          5,
          60,
          84,
          95,
          96,
          98,
          98,
          95,
          98,
          98,
          97,
          97,
          97,
          55,
          50,
          52,
          98,
          99,
          93,
          98,
          97,
          99,
          99,
          97,
          97,
          91,
          98,
          99,
          95,
          97,
          92,
          95,
          89,
          91,
          8,
          56,
          84,
          78,
          70,
          60,
          70,
          62,
          52,
          82,
          86,
          90,
          90,
          88,
          88,
          88,
          84,
          92,
          86,
          90,
          84,
          88,
          86,
          92,
          90,
          84,
          84,
          84,
          88,
          88,
          66,
          70,
          76,
          50,
          18,
          0,
          38,
          56,
          37,
          0,
          62,
          64,
          70,
          84,
          86,
          84,
          74,
          72,
          70,
          80,
          80,
          80,
          81,
          80,
          47,
          60,
          94,
          81,
          62,
          84,
          82,
          72,
          80,
          26,
          54,
          80,
          70,
          72,
          80,
          80,
          62,
          50
         ],
         "xaxis": "x3",
         "yaxis": "y3"
        },
        {
         "alignmentgroup": "True",
         "bingroup": "x",
         "hovertemplate": "Catalyst_Type=(Thio)Urea<br>ee=%{x}<br>count=%{y}<extra></extra>",
         "legendgroup": "(Thio)Urea",
         "marker": {
          "color": "#ab63fa",
          "pattern": {
           "shape": ""
          }
         },
         "name": "(Thio)Urea",
         "offsetgroup": "(Thio)Urea",
         "orientation": "v",
         "showlegend": true,
         "type": "histogram",
         "x": [
          92,
          86,
          90,
          90,
          94,
          90,
          57,
          43,
          62,
          77,
          74,
          65,
          72,
          83,
          77,
          80,
          74,
          85,
          93,
          99,
          98,
          97,
          99,
          99,
          97,
          97,
          97,
          97,
          96,
          98,
          96,
          89,
          92,
          88,
          97,
          96,
          98,
          95,
          97,
          92,
          94,
          91,
          93,
          96,
          88,
          93,
          94,
          95,
          93,
          94,
          92,
          37,
          82,
          64,
          76,
          86,
          87,
          89,
          78,
          7,
          92,
          94,
          96,
          87,
          88,
          97,
          83,
          97,
          97,
          85,
          87,
          84,
          95,
          74,
          20,
          91,
          76,
          89,
          68,
          89,
          96,
          96,
          96,
          95,
          95,
          95,
          94,
          95,
          96,
          94,
          92,
          90,
          88,
          89,
          90,
          90,
          92,
          95,
          88,
          90,
          91,
          93,
          92,
          85,
          90,
          85,
          93,
          91,
          92,
          82,
          87,
          82,
          0,
          10,
          88,
          94,
          93,
          96,
          98,
          97,
          82,
          88,
          87,
          56,
          92,
          90,
          83,
          54,
          63,
          68,
          91,
          51,
          97,
          91,
          94,
          96,
          86,
          93,
          92,
          94,
          87,
          96,
          91,
          92,
          96,
          98,
          0,
          69,
          82,
          80,
          93,
          95,
          63,
          91,
          92,
          5,
          95,
          95,
          90,
          89,
          91,
          92,
          83,
          82,
          3,
          11,
          88,
          84,
          91,
          93,
          88,
          85,
          94,
          5,
          43,
          4,
          88,
          59,
          67,
          80,
          15,
          53,
          93,
          97,
          97,
          96,
          95,
          95,
          92,
          95,
          96,
          96,
          95,
          97,
          95,
          92,
          97,
          99,
          90,
          96,
          84,
          85,
          96,
          81,
          82,
          97,
          96,
          92,
          92,
          12,
          10,
          0,
          56,
          30,
          32,
          64,
          42,
          62,
          42,
          72,
          62,
          74,
          62,
          52,
          46,
          70,
          48,
          68,
          52,
          76,
          32,
          75,
          29,
          49,
          67,
          20,
          88,
          89,
          77,
          65,
          45,
          62,
          92,
          94,
          96,
          96,
          97,
          96,
          96,
          96,
          95,
          93,
          96,
          83,
          58,
          15,
          85,
          85,
          84,
          68,
          58,
          84,
          72,
          82,
          64,
          45,
          51,
          86,
          89,
          95,
          98,
          96,
          96,
          96,
          96,
          97,
          99,
          90,
          96,
          90,
          99,
          99,
          99,
          99,
          99,
          96,
          99,
          98,
          96,
          97,
          90,
          97,
          99,
          98,
          99,
          49,
          49,
          11,
          43,
          37,
          13,
          65,
          44,
          12,
          42,
          66,
          42,
          35,
          43,
          46,
          51,
          39,
          59,
          33,
          28,
          31,
          20,
          62,
          87,
          82,
          97,
          96,
          97,
          88,
          98,
          99,
          99,
          97,
          98,
          96,
          98,
          99,
          10,
          99,
          99,
          97,
          99,
          99,
          99,
          96,
          97,
          97,
          98,
          99,
          99,
          99,
          99,
          99,
          99,
          98,
          97,
          97,
          98,
          98,
          98,
          99,
          99,
          99,
          99,
          99,
          98,
          98,
          96,
          99,
          99,
          98,
          25,
          19,
          99,
          7,
          92,
          96,
          92,
          95,
          99,
          98,
          98,
          98,
          98,
          98,
          98,
          99,
          99,
          98,
          95,
          98,
          98,
          97,
          98,
          98,
          99,
          36,
          34,
          56,
          75,
          79,
          73,
          75,
          65,
          98,
          98,
          94,
          96,
          86,
          92,
          79,
          81,
          84,
          89,
          93,
          98,
          89,
          86,
          87,
          93,
          90,
          90,
          48,
          98,
          71,
          67,
          92,
          93,
          92,
          84,
          55,
          81,
          86,
          85,
          77,
          80,
          85,
          79,
          82,
          81,
          82,
          86,
          80,
          78,
          84,
          71,
          65,
          79,
          85,
          86,
          80,
          84,
          82,
          86,
          82,
          80,
          75,
          60,
          78,
          94,
          90,
          94,
          92,
          92,
          92,
          86,
          72,
          50,
          96,
          96,
          96,
          96,
          95,
          94,
          94,
          97,
          93,
          95,
          95,
          98,
          96,
          96,
          99,
          96,
          99,
          99,
          99,
          40,
          48,
          50,
          43,
          55,
          63,
          55,
          71,
          73,
          83,
          89,
          81,
          42,
          55,
          82,
          98,
          92,
          73,
          87,
          92,
          98,
          96,
          97,
          88,
          81,
          97,
          87,
          93,
          87,
          85,
          90,
          90,
          95,
          93,
          83,
          90,
          82,
          83,
          74,
          69,
          95,
          41,
          0,
          2,
          20,
          90,
          93,
          94,
          96,
          96,
          96,
          90,
          94,
          92,
          95,
          97,
          97,
          97,
          97,
          97,
          98,
          96,
          95,
          91,
          90,
          97,
          95,
          96,
          95,
          96,
          96,
          32,
          41,
          55,
          63,
          65,
          55,
          43,
          39,
          45,
          73,
          95,
          82,
          95,
          80,
          94,
          82,
          95,
          94,
          92,
          94,
          95,
          83,
          98,
          98,
          99,
          98,
          98,
          99,
          93,
          95,
          94,
          95,
          89,
          93,
          99,
          91,
          92,
          80,
          61,
          48,
          81,
          77,
          10,
          0,
          35,
          50,
          59,
          61,
          55,
          55,
          59,
          33,
          43,
          59,
          19,
          9,
          27,
          56,
          68,
          60,
          75,
          74,
          70,
          76,
          81,
          80,
          82,
          57,
          77,
          83,
          78,
          81,
          81,
          85,
          87,
          81,
          79,
          81,
          81,
          80,
          83,
          81,
          85,
          86,
          86,
          70,
          87,
          88,
          90,
          55,
          60,
          85,
          50,
          30,
          25,
          30,
          70,
          20,
          5,
          10,
          99,
          65,
          30,
          40,
          20,
          40,
          30,
          92,
          96,
          99,
          96,
          88,
          66,
          82,
          95,
          91,
          97,
          97,
          83,
          98,
          80,
          40,
          90,
          57,
          96,
          90,
          90,
          56,
          31,
          56,
          61,
          26,
          10,
          70,
          56,
          74,
          84,
          70,
          82,
          72,
          84,
          58,
          87,
          87,
          87,
          77,
          87,
          87,
          84,
          70,
          71,
          75,
          78,
          71,
          84,
          79,
          82,
          56,
          72,
          67,
          75
         ],
         "xaxis": "x4",
         "yaxis": "y4"
        },
        {
         "alignmentgroup": "True",
         "bingroup": "x",
         "hovertemplate": "Catalyst_Type=BA<br>ee=%{x}<br>count=%{y}<extra></extra>",
         "legendgroup": "BA",
         "marker": {
          "color": "#FFA15A",
          "pattern": {
           "shape": ""
          }
         },
         "name": "BA",
         "offsetgroup": "BA",
         "orientation": "v",
         "showlegend": true,
         "type": "histogram",
         "x": [
          0,
          27,
          60,
          52,
          87,
          89,
          89,
          85,
          80,
          96,
          88,
          84,
          83,
          81,
          88,
          90,
          91,
          87,
          90,
          91,
          31,
          34,
          73,
          73,
          56,
          65,
          68,
          19,
          73,
          76,
          89,
          89,
          85,
          92,
          89,
          92,
          14,
          59,
          42,
          69,
          62,
          69,
          69,
          72,
          74,
          77,
          70,
          55,
          58,
          61,
          23,
          69,
          87,
          72,
          76,
          12,
          56,
          90,
          95,
          90,
          94,
          98,
          96,
          93,
          92,
          50,
          60,
          76,
          11,
          51,
          69,
          44,
          76,
          70,
          54,
          55,
          86,
          76,
          62,
          86,
          63,
          64,
          65,
          65,
          65,
          65,
          56,
          34,
          50,
          67,
          21,
          53,
          63,
          70,
          64,
          69,
          84,
          88,
          90,
          92,
          94,
          91,
          91,
          93,
          95,
          80,
          75,
          95,
          89,
          90,
          91,
          95,
          98,
          92,
          95,
          92,
          83,
          91,
          86,
          72,
          80,
          79,
          70,
          78,
          92,
          94,
          95,
          95,
          96,
          96,
          98,
          95,
          82,
          86,
          75,
          51,
          35,
          40,
          62,
          79,
          58,
          37,
          20,
          88,
          85,
          81,
          83,
          76,
          95,
          91,
          89,
          85,
          78,
          98,
          98,
          99,
          90,
          97,
          98,
          90,
          81,
          89,
          81,
          76,
          65,
          30,
          38,
          26,
          98,
          74,
          95,
          55,
          92,
          72,
          96,
          86,
          60,
          81,
          96,
          95,
          92,
          93,
          95,
          95,
          97,
          96,
          94,
          86,
          93,
          96,
          96,
          89,
          94,
          85,
          96,
          90,
          95,
          82,
          96,
          90,
          97,
          96,
          0,
          90,
          63,
          19,
          90,
          90,
          86,
          5,
          84,
          90,
          95,
          92,
          93,
          96,
          96,
          95,
          96,
          94,
          93,
          94,
          95,
          96,
          94,
          94,
          96,
          97,
          90,
          93,
          97,
          96,
          99,
          99,
          96,
          94,
          87,
          97,
          96,
          95,
          91,
          96,
          96,
          98,
          94,
          98,
          96
         ],
         "xaxis": "x5",
         "yaxis": "y5"
        },
        {
         "alignmentgroup": "True",
         "bingroup": "x",
         "hovertemplate": "Catalyst_Type=Misc<br>ee=%{x}<br>count=%{y}<extra></extra>",
         "legendgroup": "Misc",
         "marker": {
          "color": "#19d3f3",
          "pattern": {
           "shape": ""
          }
         },
         "name": "Misc",
         "offsetgroup": "Misc",
         "orientation": "v",
         "showlegend": true,
         "type": "histogram",
         "x": [
          68,
          46,
          61,
          82,
          89,
          0,
          25,
          91,
          97,
          93,
          90,
          92,
          93,
          95,
          96,
          65,
          92,
          94,
          93,
          90,
          99,
          90,
          93,
          99,
          93,
          92,
          90,
          97,
          91,
          91,
          90,
          98,
          96,
          96,
          96,
          93,
          93,
          95,
          98,
          98,
          95,
          65,
          97,
          98,
          99,
          99,
          98,
          99,
          96,
          96,
          98,
          99,
          99,
          99,
          99,
          99,
          99,
          99,
          99,
          99,
          99,
          99,
          99,
          98,
          98,
          99,
          99,
          99,
          99,
          99,
          92,
          99,
          99,
          99,
          99,
          99,
          99,
          98,
          24,
          97,
          3,
          99,
          96,
          96,
          96,
          96,
          94,
          96,
          90,
          99,
          95,
          99,
          99,
          98,
          96,
          99,
          96,
          99,
          99,
          99,
          99,
          99,
          96,
          99,
          94,
          97,
          81.5,
          98,
          97,
          99,
          2,
          59,
          47,
          54,
          34,
          76,
          70,
          69,
          74,
          39,
          45,
          68,
          98,
          72,
          76,
          57,
          73,
          92,
          93,
          98,
          95,
          96,
          98,
          94,
          20,
          60,
          76,
          93,
          98,
          80,
          60,
          99
         ],
         "xaxis": "x6",
         "yaxis": "y6"
        },
        {
         "alignmentgroup": "True",
         "bingroup": "x",
         "hovertemplate": "Catalyst_Type=Squaramide<br>ee=%{x}<br>count=%{y}<extra></extra>",
         "legendgroup": "Squaramide",
         "marker": {
          "color": "#FF6692",
          "pattern": {
           "shape": ""
          }
         },
         "name": "Squaramide",
         "offsetgroup": "Squaramide",
         "orientation": "v",
         "showlegend": true,
         "type": "histogram",
         "x": [
          95,
          77,
          20,
          96,
          99,
          97,
          99,
          99,
          93,
          98,
          98,
          99,
          99,
          98,
          98,
          94,
          99,
          98,
          92,
          99,
          99,
          96,
          91,
          97,
          98,
          99,
          97,
          97,
          85,
          90,
          96,
          41,
          88,
          88,
          92,
          92,
          89,
          96,
          95,
          20,
          94,
          86,
          76,
          55,
          63,
          84,
          94,
          0,
          94,
          96,
          96,
          96,
          97,
          96,
          89,
          94,
          93,
          52,
          94,
          98,
          76,
          88,
          94,
          93,
          10,
          88,
          98,
          93,
          83,
          95,
          87,
          96,
          88,
          95,
          91,
          98,
          75,
          95,
          98,
          98,
          96,
          97,
          96,
          25,
          62,
          98,
          96,
          98,
          99,
          98,
          99,
          98,
          99,
          99,
          99,
          98,
          93,
          98,
          99,
          95,
          98,
          95,
          99,
          98,
          98,
          99,
          99,
          94,
          85,
          99,
          98,
          97,
          96,
          98,
          99,
          98,
          98,
          95,
          90,
          92,
          99,
          98,
          95,
          95,
          86,
          92,
          34,
          95,
          70,
          95,
          94,
          98,
          98,
          99,
          99,
          38,
          99,
          99,
          99,
          97,
          99,
          99,
          99,
          99,
          99,
          99,
          99,
          99,
          99,
          99,
          99,
          99,
          99,
          99,
          99,
          99,
          99,
          97,
          25,
          89,
          99,
          99,
          97,
          96,
          89,
          98,
          79,
          97,
          97,
          99,
          99,
          99,
          99,
          99,
          99,
          99,
          99,
          99,
          99,
          99,
          99,
          99,
          98,
          98,
          98,
          99,
          85,
          99,
          98,
          98,
          99,
          99,
          89,
          99,
          99,
          99,
          99,
          88,
          90,
          95,
          84,
          88,
          83,
          95,
          95,
          97,
          97,
          95,
          97,
          88,
          94,
          70,
          92,
          96,
          94,
          92,
          90,
          90,
          92,
          96,
          97,
          97,
          66,
          60,
          68,
          70,
          56,
          70,
          87,
          67,
          70,
          77,
          65,
          77,
          81,
          82,
          75,
          83,
          70,
          48,
          77,
          74,
          83,
          86,
          69,
          84,
          70,
          82,
          0,
          88,
          86,
          26,
          90,
          96,
          95,
          83,
          62,
          84,
          90,
          64,
          75,
          70,
          53,
          96,
          96,
          93,
          58,
          89,
          16,
          80,
          68,
          80,
          23,
          66
         ],
         "xaxis": "x7",
         "yaxis": "y7"
        }
       ],
       "layout": {
        "annotations": [
         {
          "font": {},
          "showarrow": false,
          "text": "Catalyst_Type=Secondary Amine",
          "x": 0.06285714285714285,
          "xanchor": "center",
          "xref": "paper",
          "y": 1,
          "yanchor": "bottom",
          "yref": "paper"
         },
         {
          "font": {},
          "showarrow": false,
          "text": "Catalyst_Type=Primary Amine",
          "x": 0.20857142857142852,
          "xanchor": "center",
          "xref": "paper",
          "y": 1,
          "yanchor": "bottom",
          "yref": "paper"
         },
         {
          "font": {},
          "showarrow": false,
          "text": "Catalyst_Type=Cinchona Alkaloid",
          "x": 0.3542857142857142,
          "xanchor": "center",
          "xref": "paper",
          "y": 1,
          "yanchor": "bottom",
          "yref": "paper"
         },
         {
          "font": {},
          "showarrow": false,
          "text": "Catalyst_Type=(Thio)Urea",
          "x": 0.5,
          "xanchor": "center",
          "xref": "paper",
          "y": 1,
          "yanchor": "bottom",
          "yref": "paper"
         },
         {
          "font": {},
          "showarrow": false,
          "text": "Catalyst_Type=BA",
          "x": 0.6457142857142856,
          "xanchor": "center",
          "xref": "paper",
          "y": 1,
          "yanchor": "bottom",
          "yref": "paper"
         },
         {
          "font": {},
          "showarrow": false,
          "text": "Catalyst_Type=Misc",
          "x": 0.7914285714285713,
          "xanchor": "center",
          "xref": "paper",
          "y": 1,
          "yanchor": "bottom",
          "yref": "paper"
         },
         {
          "font": {},
          "showarrow": false,
          "text": "Catalyst_Type=Squaramide",
          "x": 0.9371428571428569,
          "xanchor": "center",
          "xref": "paper",
          "y": 1,
          "yanchor": "bottom",
          "yref": "paper"
         }
        ],
        "barmode": "relative",
        "legend": {
         "title": {
          "text": "Catalyst_Type"
         },
         "tracegroupgap": 0
        },
        "template": {
         "data": {
          "bar": [
           {
            "error_x": {
             "color": "#2a3f5f"
            },
            "error_y": {
             "color": "#2a3f5f"
            },
            "marker": {
             "line": {
              "color": "#E5ECF6",
              "width": 0.5
             },
             "pattern": {
              "fillmode": "overlay",
              "size": 10,
              "solidity": 0.2
             }
            },
            "type": "bar"
           }
          ],
          "barpolar": [
           {
            "marker": {
             "line": {
              "color": "#E5ECF6",
              "width": 0.5
             },
             "pattern": {
              "fillmode": "overlay",
              "size": 10,
              "solidity": 0.2
             }
            },
            "type": "barpolar"
           }
          ],
          "carpet": [
           {
            "aaxis": {
             "endlinecolor": "#2a3f5f",
             "gridcolor": "white",
             "linecolor": "white",
             "minorgridcolor": "white",
             "startlinecolor": "#2a3f5f"
            },
            "baxis": {
             "endlinecolor": "#2a3f5f",
             "gridcolor": "white",
             "linecolor": "white",
             "minorgridcolor": "white",
             "startlinecolor": "#2a3f5f"
            },
            "type": "carpet"
           }
          ],
          "choropleth": [
           {
            "colorbar": {
             "outlinewidth": 0,
             "ticks": ""
            },
            "type": "choropleth"
           }
          ],
          "contour": [
           {
            "colorbar": {
             "outlinewidth": 0,
             "ticks": ""
            },
            "colorscale": [
             [
              0,
              "#0d0887"
             ],
             [
              0.1111111111111111,
              "#46039f"
             ],
             [
              0.2222222222222222,
              "#7201a8"
             ],
             [
              0.3333333333333333,
              "#9c179e"
             ],
             [
              0.4444444444444444,
              "#bd3786"
             ],
             [
              0.5555555555555556,
              "#d8576b"
             ],
             [
              0.6666666666666666,
              "#ed7953"
             ],
             [
              0.7777777777777778,
              "#fb9f3a"
             ],
             [
              0.8888888888888888,
              "#fdca26"
             ],
             [
              1,
              "#f0f921"
             ]
            ],
            "type": "contour"
           }
          ],
          "contourcarpet": [
           {
            "colorbar": {
             "outlinewidth": 0,
             "ticks": ""
            },
            "type": "contourcarpet"
           }
          ],
          "heatmap": [
           {
            "colorbar": {
             "outlinewidth": 0,
             "ticks": ""
            },
            "colorscale": [
             [
              0,
              "#0d0887"
             ],
             [
              0.1111111111111111,
              "#46039f"
             ],
             [
              0.2222222222222222,
              "#7201a8"
             ],
             [
              0.3333333333333333,
              "#9c179e"
             ],
             [
              0.4444444444444444,
              "#bd3786"
             ],
             [
              0.5555555555555556,
              "#d8576b"
             ],
             [
              0.6666666666666666,
              "#ed7953"
             ],
             [
              0.7777777777777778,
              "#fb9f3a"
             ],
             [
              0.8888888888888888,
              "#fdca26"
             ],
             [
              1,
              "#f0f921"
             ]
            ],
            "type": "heatmap"
           }
          ],
          "heatmapgl": [
           {
            "colorbar": {
             "outlinewidth": 0,
             "ticks": ""
            },
            "colorscale": [
             [
              0,
              "#0d0887"
             ],
             [
              0.1111111111111111,
              "#46039f"
             ],
             [
              0.2222222222222222,
              "#7201a8"
             ],
             [
              0.3333333333333333,
              "#9c179e"
             ],
             [
              0.4444444444444444,
              "#bd3786"
             ],
             [
              0.5555555555555556,
              "#d8576b"
             ],
             [
              0.6666666666666666,
              "#ed7953"
             ],
             [
              0.7777777777777778,
              "#fb9f3a"
             ],
             [
              0.8888888888888888,
              "#fdca26"
             ],
             [
              1,
              "#f0f921"
             ]
            ],
            "type": "heatmapgl"
           }
          ],
          "histogram": [
           {
            "marker": {
             "pattern": {
              "fillmode": "overlay",
              "size": 10,
              "solidity": 0.2
             }
            },
            "type": "histogram"
           }
          ],
          "histogram2d": [
           {
            "colorbar": {
             "outlinewidth": 0,
             "ticks": ""
            },
            "colorscale": [
             [
              0,
              "#0d0887"
             ],
             [
              0.1111111111111111,
              "#46039f"
             ],
             [
              0.2222222222222222,
              "#7201a8"
             ],
             [
              0.3333333333333333,
              "#9c179e"
             ],
             [
              0.4444444444444444,
              "#bd3786"
             ],
             [
              0.5555555555555556,
              "#d8576b"
             ],
             [
              0.6666666666666666,
              "#ed7953"
             ],
             [
              0.7777777777777778,
              "#fb9f3a"
             ],
             [
              0.8888888888888888,
              "#fdca26"
             ],
             [
              1,
              "#f0f921"
             ]
            ],
            "type": "histogram2d"
           }
          ],
          "histogram2dcontour": [
           {
            "colorbar": {
             "outlinewidth": 0,
             "ticks": ""
            },
            "colorscale": [
             [
              0,
              "#0d0887"
             ],
             [
              0.1111111111111111,
              "#46039f"
             ],
             [
              0.2222222222222222,
              "#7201a8"
             ],
             [
              0.3333333333333333,
              "#9c179e"
             ],
             [
              0.4444444444444444,
              "#bd3786"
             ],
             [
              0.5555555555555556,
              "#d8576b"
             ],
             [
              0.6666666666666666,
              "#ed7953"
             ],
             [
              0.7777777777777778,
              "#fb9f3a"
             ],
             [
              0.8888888888888888,
              "#fdca26"
             ],
             [
              1,
              "#f0f921"
             ]
            ],
            "type": "histogram2dcontour"
           }
          ],
          "mesh3d": [
           {
            "colorbar": {
             "outlinewidth": 0,
             "ticks": ""
            },
            "type": "mesh3d"
           }
          ],
          "parcoords": [
           {
            "line": {
             "colorbar": {
              "outlinewidth": 0,
              "ticks": ""
             }
            },
            "type": "parcoords"
           }
          ],
          "pie": [
           {
            "automargin": true,
            "type": "pie"
           }
          ],
          "scatter": [
           {
            "fillpattern": {
             "fillmode": "overlay",
             "size": 10,
             "solidity": 0.2
            },
            "type": "scatter"
           }
          ],
          "scatter3d": [
           {
            "line": {
             "colorbar": {
              "outlinewidth": 0,
              "ticks": ""
             }
            },
            "marker": {
             "colorbar": {
              "outlinewidth": 0,
              "ticks": ""
             }
            },
            "type": "scatter3d"
           }
          ],
          "scattercarpet": [
           {
            "marker": {
             "colorbar": {
              "outlinewidth": 0,
              "ticks": ""
             }
            },
            "type": "scattercarpet"
           }
          ],
          "scattergeo": [
           {
            "marker": {
             "colorbar": {
              "outlinewidth": 0,
              "ticks": ""
             }
            },
            "type": "scattergeo"
           }
          ],
          "scattergl": [
           {
            "marker": {
             "colorbar": {
              "outlinewidth": 0,
              "ticks": ""
             }
            },
            "type": "scattergl"
           }
          ],
          "scattermapbox": [
           {
            "marker": {
             "colorbar": {
              "outlinewidth": 0,
              "ticks": ""
             }
            },
            "type": "scattermapbox"
           }
          ],
          "scatterpolar": [
           {
            "marker": {
             "colorbar": {
              "outlinewidth": 0,
              "ticks": ""
             }
            },
            "type": "scatterpolar"
           }
          ],
          "scatterpolargl": [
           {
            "marker": {
             "colorbar": {
              "outlinewidth": 0,
              "ticks": ""
             }
            },
            "type": "scatterpolargl"
           }
          ],
          "scatterternary": [
           {
            "marker": {
             "colorbar": {
              "outlinewidth": 0,
              "ticks": ""
             }
            },
            "type": "scatterternary"
           }
          ],
          "surface": [
           {
            "colorbar": {
             "outlinewidth": 0,
             "ticks": ""
            },
            "colorscale": [
             [
              0,
              "#0d0887"
             ],
             [
              0.1111111111111111,
              "#46039f"
             ],
             [
              0.2222222222222222,
              "#7201a8"
             ],
             [
              0.3333333333333333,
              "#9c179e"
             ],
             [
              0.4444444444444444,
              "#bd3786"
             ],
             [
              0.5555555555555556,
              "#d8576b"
             ],
             [
              0.6666666666666666,
              "#ed7953"
             ],
             [
              0.7777777777777778,
              "#fb9f3a"
             ],
             [
              0.8888888888888888,
              "#fdca26"
             ],
             [
              1,
              "#f0f921"
             ]
            ],
            "type": "surface"
           }
          ],
          "table": [
           {
            "cells": {
             "fill": {
              "color": "#EBF0F8"
             },
             "line": {
              "color": "white"
             }
            },
            "header": {
             "fill": {
              "color": "#C8D4E3"
             },
             "line": {
              "color": "white"
             }
            },
            "type": "table"
           }
          ]
         },
         "layout": {
          "annotationdefaults": {
           "arrowcolor": "#2a3f5f",
           "arrowhead": 0,
           "arrowwidth": 1
          },
          "autotypenumbers": "strict",
          "coloraxis": {
           "colorbar": {
            "outlinewidth": 0,
            "ticks": ""
           }
          },
          "colorscale": {
           "diverging": [
            [
             0,
             "#8e0152"
            ],
            [
             0.1,
             "#c51b7d"
            ],
            [
             0.2,
             "#de77ae"
            ],
            [
             0.3,
             "#f1b6da"
            ],
            [
             0.4,
             "#fde0ef"
            ],
            [
             0.5,
             "#f7f7f7"
            ],
            [
             0.6,
             "#e6f5d0"
            ],
            [
             0.7,
             "#b8e186"
            ],
            [
             0.8,
             "#7fbc41"
            ],
            [
             0.9,
             "#4d9221"
            ],
            [
             1,
             "#276419"
            ]
           ],
           "sequential": [
            [
             0,
             "#0d0887"
            ],
            [
             0.1111111111111111,
             "#46039f"
            ],
            [
             0.2222222222222222,
             "#7201a8"
            ],
            [
             0.3333333333333333,
             "#9c179e"
            ],
            [
             0.4444444444444444,
             "#bd3786"
            ],
            [
             0.5555555555555556,
             "#d8576b"
            ],
            [
             0.6666666666666666,
             "#ed7953"
            ],
            [
             0.7777777777777778,
             "#fb9f3a"
            ],
            [
             0.8888888888888888,
             "#fdca26"
            ],
            [
             1,
             "#f0f921"
            ]
           ],
           "sequentialminus": [
            [
             0,
             "#0d0887"
            ],
            [
             0.1111111111111111,
             "#46039f"
            ],
            [
             0.2222222222222222,
             "#7201a8"
            ],
            [
             0.3333333333333333,
             "#9c179e"
            ],
            [
             0.4444444444444444,
             "#bd3786"
            ],
            [
             0.5555555555555556,
             "#d8576b"
            ],
            [
             0.6666666666666666,
             "#ed7953"
            ],
            [
             0.7777777777777778,
             "#fb9f3a"
            ],
            [
             0.8888888888888888,
             "#fdca26"
            ],
            [
             1,
             "#f0f921"
            ]
           ]
          },
          "colorway": [
           "#636efa",
           "#EF553B",
           "#00cc96",
           "#ab63fa",
           "#FFA15A",
           "#19d3f3",
           "#FF6692",
           "#B6E880",
           "#FF97FF",
           "#FECB52"
          ],
          "font": {
           "color": "#2a3f5f"
          },
          "geo": {
           "bgcolor": "white",
           "lakecolor": "white",
           "landcolor": "#E5ECF6",
           "showlakes": true,
           "showland": true,
           "subunitcolor": "white"
          },
          "hoverlabel": {
           "align": "left"
          },
          "hovermode": "closest",
          "mapbox": {
           "style": "light"
          },
          "paper_bgcolor": "white",
          "plot_bgcolor": "#E5ECF6",
          "polar": {
           "angularaxis": {
            "gridcolor": "white",
            "linecolor": "white",
            "ticks": ""
           },
           "bgcolor": "#E5ECF6",
           "radialaxis": {
            "gridcolor": "white",
            "linecolor": "white",
            "ticks": ""
           }
          },
          "scene": {
           "xaxis": {
            "backgroundcolor": "#E5ECF6",
            "gridcolor": "white",
            "gridwidth": 2,
            "linecolor": "white",
            "showbackground": true,
            "ticks": "",
            "zerolinecolor": "white"
           },
           "yaxis": {
            "backgroundcolor": "#E5ECF6",
            "gridcolor": "white",
            "gridwidth": 2,
            "linecolor": "white",
            "showbackground": true,
            "ticks": "",
            "zerolinecolor": "white"
           },
           "zaxis": {
            "backgroundcolor": "#E5ECF6",
            "gridcolor": "white",
            "gridwidth": 2,
            "linecolor": "white",
            "showbackground": true,
            "ticks": "",
            "zerolinecolor": "white"
           }
          },
          "shapedefaults": {
           "line": {
            "color": "#2a3f5f"
           }
          },
          "ternary": {
           "aaxis": {
            "gridcolor": "white",
            "linecolor": "white",
            "ticks": ""
           },
           "baxis": {
            "gridcolor": "white",
            "linecolor": "white",
            "ticks": ""
           },
           "bgcolor": "#E5ECF6",
           "caxis": {
            "gridcolor": "white",
            "linecolor": "white",
            "ticks": ""
           }
          },
          "title": {
           "x": 0.05
          },
          "xaxis": {
           "automargin": true,
           "gridcolor": "white",
           "linecolor": "white",
           "ticks": "",
           "title": {
            "standoff": 15
           },
           "zerolinecolor": "white",
           "zerolinewidth": 2
          },
          "yaxis": {
           "automargin": true,
           "gridcolor": "white",
           "linecolor": "white",
           "ticks": "",
           "title": {
            "standoff": 15
           },
           "zerolinecolor": "white",
           "zerolinewidth": 2
          }
         }
        },
        "title": {
         "text": "Return Distribution by Asset Type"
        },
        "xaxis": {
         "anchor": "y",
         "domain": [
          0,
          0.1257142857142857
         ],
         "title": {
          "text": "ee"
         }
        },
        "xaxis2": {
         "anchor": "y2",
         "domain": [
          0.14571428571428569,
          0.27142857142857135
         ],
         "matches": "x",
         "title": {
          "text": "ee"
         }
        },
        "xaxis3": {
         "anchor": "y3",
         "domain": [
          0.29142857142857137,
          0.41714285714285704
         ],
         "matches": "x",
         "title": {
          "text": "ee"
         }
        },
        "xaxis4": {
         "anchor": "y4",
         "domain": [
          0.4371428571428571,
          0.5628571428571428
         ],
         "matches": "x",
         "title": {
          "text": "ee"
         }
        },
        "xaxis5": {
         "anchor": "y5",
         "domain": [
          0.5828571428571427,
          0.7085714285714284
         ],
         "matches": "x",
         "title": {
          "text": "ee"
         }
        },
        "xaxis6": {
         "anchor": "y6",
         "domain": [
          0.7285714285714284,
          0.8542857142857141
         ],
         "matches": "x",
         "title": {
          "text": "ee"
         }
        },
        "xaxis7": {
         "anchor": "y7",
         "domain": [
          0.8742857142857141,
          0.9999999999999998
         ],
         "matches": "x",
         "title": {
          "text": "ee"
         }
        },
        "yaxis": {
         "anchor": "x",
         "domain": [
          0,
          1
         ],
         "title": {
          "text": "count"
         }
        },
        "yaxis2": {
         "anchor": "x2",
         "domain": [
          0,
          1
         ],
         "matches": "y",
         "showticklabels": false
        },
        "yaxis3": {
         "anchor": "x3",
         "domain": [
          0,
          1
         ],
         "matches": "y",
         "showticklabels": false
        },
        "yaxis4": {
         "anchor": "x4",
         "domain": [
          0,
          1
         ],
         "matches": "y",
         "showticklabels": false
        },
        "yaxis5": {
         "anchor": "x5",
         "domain": [
          0,
          1
         ],
         "matches": "y",
         "showticklabels": false
        },
        "yaxis6": {
         "anchor": "x6",
         "domain": [
          0,
          1
         ],
         "matches": "y",
         "showticklabels": false
        },
        "yaxis7": {
         "anchor": "x7",
         "domain": [
          0,
          1
         ],
         "matches": "y",
         "showticklabels": false
        }
       }
      }
     },
     "metadata": {},
     "output_type": "display_data"
    }
   ],
   "source": [
    "fig3 = px.histogram(df_ee, x='ee', color='Catalyst_Type', facet_col='Catalyst_Type',\n",
    "                     title='Return Distribution by Asset Type')\n",
    "fig3.show()\n"
   ]
  },
  {
   "cell_type": "code",
   "execution_count": 19,
   "metadata": {},
   "outputs": [
    {
     "name": "stdout",
     "output_type": "stream",
     "text": [
      "Catalyst_Type\n",
      "(Thio)Urea           3.172269\n",
      "BA                   3.352227\n",
      "Cinchona Alkaloid    2.912621\n",
      "Misc                 3.866197\n",
      "Primary Amine        3.085366\n",
      "Secondary Amine      3.295359\n",
      "Squaramide           2.890511\n",
      "Name: rank, dtype: float64\n"
     ]
    },
    {
     "data": {
      "application/vnd.plotly.v1+json": {
       "config": {
        "plotlyServerURL": "https://plot.ly"
       },
       "data": [
        {
         "alignmentgroup": "True",
         "hovertemplate": "Catalyst Class=%{x}<br>Rank Gen=%{y}<extra></extra>",
         "legendgroup": "",
         "marker": {
          "color": "#1F77B4",
          "pattern": {
           "shape": ""
          }
         },
         "name": "",
         "offsetgroup": "",
         "orientation": "v",
         "showlegend": false,
         "textposition": "auto",
         "type": "bar",
         "x": [
          "(Thio)Urea",
          "BA",
          "Cinchona Alkaloid",
          "Misc",
          "Primary Amine",
          "Secondary Amine",
          "Squaramide"
         ],
         "xaxis": "x",
         "y": [
          3.172268907563025,
          3.3522267206477734,
          2.912621359223301,
          3.8661971830985915,
          3.0853658536585367,
          3.2953586497890295,
          2.8905109489051095
         ],
         "yaxis": "y"
        }
       ],
       "layout": {
        "barmode": "relative",
        "font": {
         "size": 20
        },
        "height": 720,
        "legend": {
         "tracegroupgap": 0
        },
        "margin": {
         "t": 60
        },
        "template": {
         "data": {
          "bar": [
           {
            "error_x": {
             "color": "rgb(36,36,36)"
            },
            "error_y": {
             "color": "rgb(36,36,36)"
            },
            "marker": {
             "line": {
              "color": "white",
              "width": 0.5
             },
             "pattern": {
              "fillmode": "overlay",
              "size": 10,
              "solidity": 0.2
             }
            },
            "type": "bar"
           }
          ],
          "barpolar": [
           {
            "marker": {
             "line": {
              "color": "white",
              "width": 0.5
             },
             "pattern": {
              "fillmode": "overlay",
              "size": 10,
              "solidity": 0.2
             }
            },
            "type": "barpolar"
           }
          ],
          "carpet": [
           {
            "aaxis": {
             "endlinecolor": "rgb(36,36,36)",
             "gridcolor": "white",
             "linecolor": "white",
             "minorgridcolor": "white",
             "startlinecolor": "rgb(36,36,36)"
            },
            "baxis": {
             "endlinecolor": "rgb(36,36,36)",
             "gridcolor": "white",
             "linecolor": "white",
             "minorgridcolor": "white",
             "startlinecolor": "rgb(36,36,36)"
            },
            "type": "carpet"
           }
          ],
          "choropleth": [
           {
            "colorbar": {
             "outlinewidth": 1,
             "tickcolor": "rgb(36,36,36)",
             "ticks": "outside"
            },
            "type": "choropleth"
           }
          ],
          "contour": [
           {
            "colorbar": {
             "outlinewidth": 1,
             "tickcolor": "rgb(36,36,36)",
             "ticks": "outside"
            },
            "colorscale": [
             [
              0,
              "#440154"
             ],
             [
              0.1111111111111111,
              "#482878"
             ],
             [
              0.2222222222222222,
              "#3e4989"
             ],
             [
              0.3333333333333333,
              "#31688e"
             ],
             [
              0.4444444444444444,
              "#26828e"
             ],
             [
              0.5555555555555556,
              "#1f9e89"
             ],
             [
              0.6666666666666666,
              "#35b779"
             ],
             [
              0.7777777777777778,
              "#6ece58"
             ],
             [
              0.8888888888888888,
              "#b5de2b"
             ],
             [
              1,
              "#fde725"
             ]
            ],
            "type": "contour"
           }
          ],
          "contourcarpet": [
           {
            "colorbar": {
             "outlinewidth": 1,
             "tickcolor": "rgb(36,36,36)",
             "ticks": "outside"
            },
            "type": "contourcarpet"
           }
          ],
          "heatmap": [
           {
            "colorbar": {
             "outlinewidth": 1,
             "tickcolor": "rgb(36,36,36)",
             "ticks": "outside"
            },
            "colorscale": [
             [
              0,
              "#440154"
             ],
             [
              0.1111111111111111,
              "#482878"
             ],
             [
              0.2222222222222222,
              "#3e4989"
             ],
             [
              0.3333333333333333,
              "#31688e"
             ],
             [
              0.4444444444444444,
              "#26828e"
             ],
             [
              0.5555555555555556,
              "#1f9e89"
             ],
             [
              0.6666666666666666,
              "#35b779"
             ],
             [
              0.7777777777777778,
              "#6ece58"
             ],
             [
              0.8888888888888888,
              "#b5de2b"
             ],
             [
              1,
              "#fde725"
             ]
            ],
            "type": "heatmap"
           }
          ],
          "heatmapgl": [
           {
            "colorbar": {
             "outlinewidth": 1,
             "tickcolor": "rgb(36,36,36)",
             "ticks": "outside"
            },
            "colorscale": [
             [
              0,
              "#440154"
             ],
             [
              0.1111111111111111,
              "#482878"
             ],
             [
              0.2222222222222222,
              "#3e4989"
             ],
             [
              0.3333333333333333,
              "#31688e"
             ],
             [
              0.4444444444444444,
              "#26828e"
             ],
             [
              0.5555555555555556,
              "#1f9e89"
             ],
             [
              0.6666666666666666,
              "#35b779"
             ],
             [
              0.7777777777777778,
              "#6ece58"
             ],
             [
              0.8888888888888888,
              "#b5de2b"
             ],
             [
              1,
              "#fde725"
             ]
            ],
            "type": "heatmapgl"
           }
          ],
          "histogram": [
           {
            "marker": {
             "line": {
              "color": "white",
              "width": 0.6
             }
            },
            "type": "histogram"
           }
          ],
          "histogram2d": [
           {
            "colorbar": {
             "outlinewidth": 1,
             "tickcolor": "rgb(36,36,36)",
             "ticks": "outside"
            },
            "colorscale": [
             [
              0,
              "#440154"
             ],
             [
              0.1111111111111111,
              "#482878"
             ],
             [
              0.2222222222222222,
              "#3e4989"
             ],
             [
              0.3333333333333333,
              "#31688e"
             ],
             [
              0.4444444444444444,
              "#26828e"
             ],
             [
              0.5555555555555556,
              "#1f9e89"
             ],
             [
              0.6666666666666666,
              "#35b779"
             ],
             [
              0.7777777777777778,
              "#6ece58"
             ],
             [
              0.8888888888888888,
              "#b5de2b"
             ],
             [
              1,
              "#fde725"
             ]
            ],
            "type": "histogram2d"
           }
          ],
          "histogram2dcontour": [
           {
            "colorbar": {
             "outlinewidth": 1,
             "tickcolor": "rgb(36,36,36)",
             "ticks": "outside"
            },
            "colorscale": [
             [
              0,
              "#440154"
             ],
             [
              0.1111111111111111,
              "#482878"
             ],
             [
              0.2222222222222222,
              "#3e4989"
             ],
             [
              0.3333333333333333,
              "#31688e"
             ],
             [
              0.4444444444444444,
              "#26828e"
             ],
             [
              0.5555555555555556,
              "#1f9e89"
             ],
             [
              0.6666666666666666,
              "#35b779"
             ],
             [
              0.7777777777777778,
              "#6ece58"
             ],
             [
              0.8888888888888888,
              "#b5de2b"
             ],
             [
              1,
              "#fde725"
             ]
            ],
            "type": "histogram2dcontour"
           }
          ],
          "mesh3d": [
           {
            "colorbar": {
             "outlinewidth": 1,
             "tickcolor": "rgb(36,36,36)",
             "ticks": "outside"
            },
            "type": "mesh3d"
           }
          ],
          "parcoords": [
           {
            "line": {
             "colorbar": {
              "outlinewidth": 1,
              "tickcolor": "rgb(36,36,36)",
              "ticks": "outside"
             }
            },
            "type": "parcoords"
           }
          ],
          "pie": [
           {
            "automargin": true,
            "type": "pie"
           }
          ],
          "scatter": [
           {
            "fillpattern": {
             "fillmode": "overlay",
             "size": 10,
             "solidity": 0.2
            },
            "type": "scatter"
           }
          ],
          "scatter3d": [
           {
            "line": {
             "colorbar": {
              "outlinewidth": 1,
              "tickcolor": "rgb(36,36,36)",
              "ticks": "outside"
             }
            },
            "marker": {
             "colorbar": {
              "outlinewidth": 1,
              "tickcolor": "rgb(36,36,36)",
              "ticks": "outside"
             }
            },
            "type": "scatter3d"
           }
          ],
          "scattercarpet": [
           {
            "marker": {
             "colorbar": {
              "outlinewidth": 1,
              "tickcolor": "rgb(36,36,36)",
              "ticks": "outside"
             }
            },
            "type": "scattercarpet"
           }
          ],
          "scattergeo": [
           {
            "marker": {
             "colorbar": {
              "outlinewidth": 1,
              "tickcolor": "rgb(36,36,36)",
              "ticks": "outside"
             }
            },
            "type": "scattergeo"
           }
          ],
          "scattergl": [
           {
            "marker": {
             "colorbar": {
              "outlinewidth": 1,
              "tickcolor": "rgb(36,36,36)",
              "ticks": "outside"
             }
            },
            "type": "scattergl"
           }
          ],
          "scattermapbox": [
           {
            "marker": {
             "colorbar": {
              "outlinewidth": 1,
              "tickcolor": "rgb(36,36,36)",
              "ticks": "outside"
             }
            },
            "type": "scattermapbox"
           }
          ],
          "scatterpolar": [
           {
            "marker": {
             "colorbar": {
              "outlinewidth": 1,
              "tickcolor": "rgb(36,36,36)",
              "ticks": "outside"
             }
            },
            "type": "scatterpolar"
           }
          ],
          "scatterpolargl": [
           {
            "marker": {
             "colorbar": {
              "outlinewidth": 1,
              "tickcolor": "rgb(36,36,36)",
              "ticks": "outside"
             }
            },
            "type": "scatterpolargl"
           }
          ],
          "scatterternary": [
           {
            "marker": {
             "colorbar": {
              "outlinewidth": 1,
              "tickcolor": "rgb(36,36,36)",
              "ticks": "outside"
             }
            },
            "type": "scatterternary"
           }
          ],
          "surface": [
           {
            "colorbar": {
             "outlinewidth": 1,
             "tickcolor": "rgb(36,36,36)",
             "ticks": "outside"
            },
            "colorscale": [
             [
              0,
              "#440154"
             ],
             [
              0.1111111111111111,
              "#482878"
             ],
             [
              0.2222222222222222,
              "#3e4989"
             ],
             [
              0.3333333333333333,
              "#31688e"
             ],
             [
              0.4444444444444444,
              "#26828e"
             ],
             [
              0.5555555555555556,
              "#1f9e89"
             ],
             [
              0.6666666666666666,
              "#35b779"
             ],
             [
              0.7777777777777778,
              "#6ece58"
             ],
             [
              0.8888888888888888,
              "#b5de2b"
             ],
             [
              1,
              "#fde725"
             ]
            ],
            "type": "surface"
           }
          ],
          "table": [
           {
            "cells": {
             "fill": {
              "color": "rgb(237,237,237)"
             },
             "line": {
              "color": "white"
             }
            },
            "header": {
             "fill": {
              "color": "rgb(217,217,217)"
             },
             "line": {
              "color": "white"
             }
            },
            "type": "table"
           }
          ]
         },
         "layout": {
          "annotationdefaults": {
           "arrowhead": 0,
           "arrowwidth": 1
          },
          "autotypenumbers": "strict",
          "coloraxis": {
           "colorbar": {
            "outlinewidth": 1,
            "tickcolor": "rgb(36,36,36)",
            "ticks": "outside"
           }
          },
          "colorscale": {
           "diverging": [
            [
             0,
             "rgb(103,0,31)"
            ],
            [
             0.1,
             "rgb(178,24,43)"
            ],
            [
             0.2,
             "rgb(214,96,77)"
            ],
            [
             0.3,
             "rgb(244,165,130)"
            ],
            [
             0.4,
             "rgb(253,219,199)"
            ],
            [
             0.5,
             "rgb(247,247,247)"
            ],
            [
             0.6,
             "rgb(209,229,240)"
            ],
            [
             0.7,
             "rgb(146,197,222)"
            ],
            [
             0.8,
             "rgb(67,147,195)"
            ],
            [
             0.9,
             "rgb(33,102,172)"
            ],
            [
             1,
             "rgb(5,48,97)"
            ]
           ],
           "sequential": [
            [
             0,
             "#440154"
            ],
            [
             0.1111111111111111,
             "#482878"
            ],
            [
             0.2222222222222222,
             "#3e4989"
            ],
            [
             0.3333333333333333,
             "#31688e"
            ],
            [
             0.4444444444444444,
             "#26828e"
            ],
            [
             0.5555555555555556,
             "#1f9e89"
            ],
            [
             0.6666666666666666,
             "#35b779"
            ],
            [
             0.7777777777777778,
             "#6ece58"
            ],
            [
             0.8888888888888888,
             "#b5de2b"
            ],
            [
             1,
             "#fde725"
            ]
           ],
           "sequentialminus": [
            [
             0,
             "#440154"
            ],
            [
             0.1111111111111111,
             "#482878"
            ],
            [
             0.2222222222222222,
             "#3e4989"
            ],
            [
             0.3333333333333333,
             "#31688e"
            ],
            [
             0.4444444444444444,
             "#26828e"
            ],
            [
             0.5555555555555556,
             "#1f9e89"
            ],
            [
             0.6666666666666666,
             "#35b779"
            ],
            [
             0.7777777777777778,
             "#6ece58"
            ],
            [
             0.8888888888888888,
             "#b5de2b"
            ],
            [
             1,
             "#fde725"
            ]
           ]
          },
          "colorway": [
           "#1F77B4",
           "#FF7F0E",
           "#2CA02C",
           "#D62728",
           "#9467BD",
           "#8C564B",
           "#E377C2",
           "#7F7F7F",
           "#BCBD22",
           "#17BECF"
          ],
          "font": {
           "color": "rgb(36,36,36)"
          },
          "geo": {
           "bgcolor": "white",
           "lakecolor": "white",
           "landcolor": "white",
           "showlakes": true,
           "showland": true,
           "subunitcolor": "white"
          },
          "hoverlabel": {
           "align": "left"
          },
          "hovermode": "closest",
          "mapbox": {
           "style": "light"
          },
          "paper_bgcolor": "white",
          "plot_bgcolor": "white",
          "polar": {
           "angularaxis": {
            "gridcolor": "rgb(232,232,232)",
            "linecolor": "rgb(36,36,36)",
            "showgrid": false,
            "showline": true,
            "ticks": "outside"
           },
           "bgcolor": "white",
           "radialaxis": {
            "gridcolor": "rgb(232,232,232)",
            "linecolor": "rgb(36,36,36)",
            "showgrid": false,
            "showline": true,
            "ticks": "outside"
           }
          },
          "scene": {
           "xaxis": {
            "backgroundcolor": "white",
            "gridcolor": "rgb(232,232,232)",
            "gridwidth": 2,
            "linecolor": "rgb(36,36,36)",
            "showbackground": true,
            "showgrid": false,
            "showline": true,
            "ticks": "outside",
            "zeroline": false,
            "zerolinecolor": "rgb(36,36,36)"
           },
           "yaxis": {
            "backgroundcolor": "white",
            "gridcolor": "rgb(232,232,232)",
            "gridwidth": 2,
            "linecolor": "rgb(36,36,36)",
            "showbackground": true,
            "showgrid": false,
            "showline": true,
            "ticks": "outside",
            "zeroline": false,
            "zerolinecolor": "rgb(36,36,36)"
           },
           "zaxis": {
            "backgroundcolor": "white",
            "gridcolor": "rgb(232,232,232)",
            "gridwidth": 2,
            "linecolor": "rgb(36,36,36)",
            "showbackground": true,
            "showgrid": false,
            "showline": true,
            "ticks": "outside",
            "zeroline": false,
            "zerolinecolor": "rgb(36,36,36)"
           }
          },
          "shapedefaults": {
           "fillcolor": "black",
           "line": {
            "width": 0
           },
           "opacity": 0.3
          },
          "ternary": {
           "aaxis": {
            "gridcolor": "rgb(232,232,232)",
            "linecolor": "rgb(36,36,36)",
            "showgrid": false,
            "showline": true,
            "ticks": "outside"
           },
           "baxis": {
            "gridcolor": "rgb(232,232,232)",
            "linecolor": "rgb(36,36,36)",
            "showgrid": false,
            "showline": true,
            "ticks": "outside"
           },
           "bgcolor": "white",
           "caxis": {
            "gridcolor": "rgb(232,232,232)",
            "linecolor": "rgb(36,36,36)",
            "showgrid": false,
            "showline": true,
            "ticks": "outside"
           }
          },
          "title": {
           "x": 0.05
          },
          "xaxis": {
           "automargin": true,
           "gridcolor": "rgb(232,232,232)",
           "linecolor": "rgb(36,36,36)",
           "showgrid": false,
           "showline": true,
           "ticks": "outside",
           "title": {
            "standoff": 15
           },
           "zeroline": false,
           "zerolinecolor": "rgb(36,36,36)"
          },
          "yaxis": {
           "automargin": true,
           "gridcolor": "rgb(232,232,232)",
           "linecolor": "rgb(36,36,36)",
           "showgrid": false,
           "showline": true,
           "ticks": "outside",
           "title": {
            "standoff": 15
           },
           "zeroline": false,
           "zerolinecolor": "rgb(36,36,36)"
          }
         }
        },
        "width": 980,
        "xaxis": {
         "anchor": "y",
         "domain": [
          0,
          1
         ],
         "mirror": true,
         "title": {
          "text": "Catalyst Class"
         }
        },
        "yaxis": {
         "anchor": "x",
         "domain": [
          0,
          1
         ],
         "mirror": true,
         "title": {
          "text": "Rank Gen"
         }
        }
       }
      }
     },
     "metadata": {},
     "output_type": "display_data"
    }
   ],
   "source": [
    "\n",
    "df_ee[\"rank\"] = df_ee.groupby(\"Reaction\")[\"ee\"].rank(method=\"dense\", ascending=False)\n",
    "\n",
    "mean_rank = df_ee.groupby(['Catalyst_Type'])['rank'].mean()\n",
    "print(mean_rank)\n",
    "\n",
    "fig = px.bar(x=mean_rank.index, y=mean_rank,\n",
    "                labels={'x':'Catalyst Class', 'y':'Rank Gen'},\n",
    "                template='simple_white',\n",
    "                width=980, height=720,\n",
    "                )\n",
    "\n",
    "fig.update_xaxes(mirror=True)\n",
    "fig.update_yaxes(mirror=True)\n",
    "\n",
    "fig.update_layout(\n",
    "    font_size=20,\n",
    ")\n",
    "\n",
    "fig.show()\n"
   ]
  },
  {
   "cell_type": "code",
   "execution_count": 20,
   "metadata": {},
   "outputs": [
    {
     "data": {
      "application/vnd.plotly.v1+json": {
       "config": {
        "plotlyServerURL": "https://plot.ly"
       },
       "data": [
        {
         "name": "VAR",
         "type": "bar",
         "x": [
          "(Thio)Urea",
          "BA",
          "Cinchona Alkaloid",
          "Misc",
          "Primary Amine",
          "Secondary Amine",
          "Squaramide"
         ],
         "y": [
          25,
          27.900000000000034,
          15.200000000000074,
          39.30000000000004,
          20.450000000000024,
          28.350000000000044,
          50.60000000000005
         ]
        },
        {
         "name": "ES",
         "type": "bar",
         "x": [
          "(Thio)Urea",
          "BA",
          "Cinchona Alkaloid",
          "Misc",
          "Primary Amine",
          "Secondary Amine",
          "Squaramide"
         ],
         "y": [
          10.114285714285714,
          15.153846153846153,
          6.095238095238095,
          18.375,
          11.88888888888889,
          11.145833333333334,
          23.285714285714285
         ]
        },
        {
         "name": "rank",
         "type": "bar",
         "x": [
          "(Thio)Urea",
          "BA",
          "Cinchona Alkaloid",
          "Misc",
          "Primary Amine",
          "Secondary Amine",
          "Squaramide"
         ],
         "y": [
          31.72268907563025,
          33.522267206477736,
          29.12621359223301,
          38.66197183098591,
          30.853658536585368,
          32.95358649789029,
          28.905109489051096
         ]
        }
       ],
       "layout": {
        "template": {
         "data": {
          "bar": [
           {
            "error_x": {
             "color": "#2a3f5f"
            },
            "error_y": {
             "color": "#2a3f5f"
            },
            "marker": {
             "line": {
              "color": "#E5ECF6",
              "width": 0.5
             },
             "pattern": {
              "fillmode": "overlay",
              "size": 10,
              "solidity": 0.2
             }
            },
            "type": "bar"
           }
          ],
          "barpolar": [
           {
            "marker": {
             "line": {
              "color": "#E5ECF6",
              "width": 0.5
             },
             "pattern": {
              "fillmode": "overlay",
              "size": 10,
              "solidity": 0.2
             }
            },
            "type": "barpolar"
           }
          ],
          "carpet": [
           {
            "aaxis": {
             "endlinecolor": "#2a3f5f",
             "gridcolor": "white",
             "linecolor": "white",
             "minorgridcolor": "white",
             "startlinecolor": "#2a3f5f"
            },
            "baxis": {
             "endlinecolor": "#2a3f5f",
             "gridcolor": "white",
             "linecolor": "white",
             "minorgridcolor": "white",
             "startlinecolor": "#2a3f5f"
            },
            "type": "carpet"
           }
          ],
          "choropleth": [
           {
            "colorbar": {
             "outlinewidth": 0,
             "ticks": ""
            },
            "type": "choropleth"
           }
          ],
          "contour": [
           {
            "colorbar": {
             "outlinewidth": 0,
             "ticks": ""
            },
            "colorscale": [
             [
              0,
              "#0d0887"
             ],
             [
              0.1111111111111111,
              "#46039f"
             ],
             [
              0.2222222222222222,
              "#7201a8"
             ],
             [
              0.3333333333333333,
              "#9c179e"
             ],
             [
              0.4444444444444444,
              "#bd3786"
             ],
             [
              0.5555555555555556,
              "#d8576b"
             ],
             [
              0.6666666666666666,
              "#ed7953"
             ],
             [
              0.7777777777777778,
              "#fb9f3a"
             ],
             [
              0.8888888888888888,
              "#fdca26"
             ],
             [
              1,
              "#f0f921"
             ]
            ],
            "type": "contour"
           }
          ],
          "contourcarpet": [
           {
            "colorbar": {
             "outlinewidth": 0,
             "ticks": ""
            },
            "type": "contourcarpet"
           }
          ],
          "heatmap": [
           {
            "colorbar": {
             "outlinewidth": 0,
             "ticks": ""
            },
            "colorscale": [
             [
              0,
              "#0d0887"
             ],
             [
              0.1111111111111111,
              "#46039f"
             ],
             [
              0.2222222222222222,
              "#7201a8"
             ],
             [
              0.3333333333333333,
              "#9c179e"
             ],
             [
              0.4444444444444444,
              "#bd3786"
             ],
             [
              0.5555555555555556,
              "#d8576b"
             ],
             [
              0.6666666666666666,
              "#ed7953"
             ],
             [
              0.7777777777777778,
              "#fb9f3a"
             ],
             [
              0.8888888888888888,
              "#fdca26"
             ],
             [
              1,
              "#f0f921"
             ]
            ],
            "type": "heatmap"
           }
          ],
          "heatmapgl": [
           {
            "colorbar": {
             "outlinewidth": 0,
             "ticks": ""
            },
            "colorscale": [
             [
              0,
              "#0d0887"
             ],
             [
              0.1111111111111111,
              "#46039f"
             ],
             [
              0.2222222222222222,
              "#7201a8"
             ],
             [
              0.3333333333333333,
              "#9c179e"
             ],
             [
              0.4444444444444444,
              "#bd3786"
             ],
             [
              0.5555555555555556,
              "#d8576b"
             ],
             [
              0.6666666666666666,
              "#ed7953"
             ],
             [
              0.7777777777777778,
              "#fb9f3a"
             ],
             [
              0.8888888888888888,
              "#fdca26"
             ],
             [
              1,
              "#f0f921"
             ]
            ],
            "type": "heatmapgl"
           }
          ],
          "histogram": [
           {
            "marker": {
             "pattern": {
              "fillmode": "overlay",
              "size": 10,
              "solidity": 0.2
             }
            },
            "type": "histogram"
           }
          ],
          "histogram2d": [
           {
            "colorbar": {
             "outlinewidth": 0,
             "ticks": ""
            },
            "colorscale": [
             [
              0,
              "#0d0887"
             ],
             [
              0.1111111111111111,
              "#46039f"
             ],
             [
              0.2222222222222222,
              "#7201a8"
             ],
             [
              0.3333333333333333,
              "#9c179e"
             ],
             [
              0.4444444444444444,
              "#bd3786"
             ],
             [
              0.5555555555555556,
              "#d8576b"
             ],
             [
              0.6666666666666666,
              "#ed7953"
             ],
             [
              0.7777777777777778,
              "#fb9f3a"
             ],
             [
              0.8888888888888888,
              "#fdca26"
             ],
             [
              1,
              "#f0f921"
             ]
            ],
            "type": "histogram2d"
           }
          ],
          "histogram2dcontour": [
           {
            "colorbar": {
             "outlinewidth": 0,
             "ticks": ""
            },
            "colorscale": [
             [
              0,
              "#0d0887"
             ],
             [
              0.1111111111111111,
              "#46039f"
             ],
             [
              0.2222222222222222,
              "#7201a8"
             ],
             [
              0.3333333333333333,
              "#9c179e"
             ],
             [
              0.4444444444444444,
              "#bd3786"
             ],
             [
              0.5555555555555556,
              "#d8576b"
             ],
             [
              0.6666666666666666,
              "#ed7953"
             ],
             [
              0.7777777777777778,
              "#fb9f3a"
             ],
             [
              0.8888888888888888,
              "#fdca26"
             ],
             [
              1,
              "#f0f921"
             ]
            ],
            "type": "histogram2dcontour"
           }
          ],
          "mesh3d": [
           {
            "colorbar": {
             "outlinewidth": 0,
             "ticks": ""
            },
            "type": "mesh3d"
           }
          ],
          "parcoords": [
           {
            "line": {
             "colorbar": {
              "outlinewidth": 0,
              "ticks": ""
             }
            },
            "type": "parcoords"
           }
          ],
          "pie": [
           {
            "automargin": true,
            "type": "pie"
           }
          ],
          "scatter": [
           {
            "fillpattern": {
             "fillmode": "overlay",
             "size": 10,
             "solidity": 0.2
            },
            "type": "scatter"
           }
          ],
          "scatter3d": [
           {
            "line": {
             "colorbar": {
              "outlinewidth": 0,
              "ticks": ""
             }
            },
            "marker": {
             "colorbar": {
              "outlinewidth": 0,
              "ticks": ""
             }
            },
            "type": "scatter3d"
           }
          ],
          "scattercarpet": [
           {
            "marker": {
             "colorbar": {
              "outlinewidth": 0,
              "ticks": ""
             }
            },
            "type": "scattercarpet"
           }
          ],
          "scattergeo": [
           {
            "marker": {
             "colorbar": {
              "outlinewidth": 0,
              "ticks": ""
             }
            },
            "type": "scattergeo"
           }
          ],
          "scattergl": [
           {
            "marker": {
             "colorbar": {
              "outlinewidth": 0,
              "ticks": ""
             }
            },
            "type": "scattergl"
           }
          ],
          "scattermapbox": [
           {
            "marker": {
             "colorbar": {
              "outlinewidth": 0,
              "ticks": ""
             }
            },
            "type": "scattermapbox"
           }
          ],
          "scatterpolar": [
           {
            "marker": {
             "colorbar": {
              "outlinewidth": 0,
              "ticks": ""
             }
            },
            "type": "scatterpolar"
           }
          ],
          "scatterpolargl": [
           {
            "marker": {
             "colorbar": {
              "outlinewidth": 0,
              "ticks": ""
             }
            },
            "type": "scatterpolargl"
           }
          ],
          "scatterternary": [
           {
            "marker": {
             "colorbar": {
              "outlinewidth": 0,
              "ticks": ""
             }
            },
            "type": "scatterternary"
           }
          ],
          "surface": [
           {
            "colorbar": {
             "outlinewidth": 0,
             "ticks": ""
            },
            "colorscale": [
             [
              0,
              "#0d0887"
             ],
             [
              0.1111111111111111,
              "#46039f"
             ],
             [
              0.2222222222222222,
              "#7201a8"
             ],
             [
              0.3333333333333333,
              "#9c179e"
             ],
             [
              0.4444444444444444,
              "#bd3786"
             ],
             [
              0.5555555555555556,
              "#d8576b"
             ],
             [
              0.6666666666666666,
              "#ed7953"
             ],
             [
              0.7777777777777778,
              "#fb9f3a"
             ],
             [
              0.8888888888888888,
              "#fdca26"
             ],
             [
              1,
              "#f0f921"
             ]
            ],
            "type": "surface"
           }
          ],
          "table": [
           {
            "cells": {
             "fill": {
              "color": "#EBF0F8"
             },
             "line": {
              "color": "white"
             }
            },
            "header": {
             "fill": {
              "color": "#C8D4E3"
             },
             "line": {
              "color": "white"
             }
            },
            "type": "table"
           }
          ]
         },
         "layout": {
          "annotationdefaults": {
           "arrowcolor": "#2a3f5f",
           "arrowhead": 0,
           "arrowwidth": 1
          },
          "autotypenumbers": "strict",
          "coloraxis": {
           "colorbar": {
            "outlinewidth": 0,
            "ticks": ""
           }
          },
          "colorscale": {
           "diverging": [
            [
             0,
             "#8e0152"
            ],
            [
             0.1,
             "#c51b7d"
            ],
            [
             0.2,
             "#de77ae"
            ],
            [
             0.3,
             "#f1b6da"
            ],
            [
             0.4,
             "#fde0ef"
            ],
            [
             0.5,
             "#f7f7f7"
            ],
            [
             0.6,
             "#e6f5d0"
            ],
            [
             0.7,
             "#b8e186"
            ],
            [
             0.8,
             "#7fbc41"
            ],
            [
             0.9,
             "#4d9221"
            ],
            [
             1,
             "#276419"
            ]
           ],
           "sequential": [
            [
             0,
             "#0d0887"
            ],
            [
             0.1111111111111111,
             "#46039f"
            ],
            [
             0.2222222222222222,
             "#7201a8"
            ],
            [
             0.3333333333333333,
             "#9c179e"
            ],
            [
             0.4444444444444444,
             "#bd3786"
            ],
            [
             0.5555555555555556,
             "#d8576b"
            ],
            [
             0.6666666666666666,
             "#ed7953"
            ],
            [
             0.7777777777777778,
             "#fb9f3a"
            ],
            [
             0.8888888888888888,
             "#fdca26"
            ],
            [
             1,
             "#f0f921"
            ]
           ],
           "sequentialminus": [
            [
             0,
             "#0d0887"
            ],
            [
             0.1111111111111111,
             "#46039f"
            ],
            [
             0.2222222222222222,
             "#7201a8"
            ],
            [
             0.3333333333333333,
             "#9c179e"
            ],
            [
             0.4444444444444444,
             "#bd3786"
            ],
            [
             0.5555555555555556,
             "#d8576b"
            ],
            [
             0.6666666666666666,
             "#ed7953"
            ],
            [
             0.7777777777777778,
             "#fb9f3a"
            ],
            [
             0.8888888888888888,
             "#fdca26"
            ],
            [
             1,
             "#f0f921"
            ]
           ]
          },
          "colorway": [
           "#636efa",
           "#EF553B",
           "#00cc96",
           "#ab63fa",
           "#FFA15A",
           "#19d3f3",
           "#FF6692",
           "#B6E880",
           "#FF97FF",
           "#FECB52"
          ],
          "font": {
           "color": "#2a3f5f"
          },
          "geo": {
           "bgcolor": "white",
           "lakecolor": "white",
           "landcolor": "#E5ECF6",
           "showlakes": true,
           "showland": true,
           "subunitcolor": "white"
          },
          "hoverlabel": {
           "align": "left"
          },
          "hovermode": "closest",
          "mapbox": {
           "style": "light"
          },
          "paper_bgcolor": "white",
          "plot_bgcolor": "#E5ECF6",
          "polar": {
           "angularaxis": {
            "gridcolor": "white",
            "linecolor": "white",
            "ticks": ""
           },
           "bgcolor": "#E5ECF6",
           "radialaxis": {
            "gridcolor": "white",
            "linecolor": "white",
            "ticks": ""
           }
          },
          "scene": {
           "xaxis": {
            "backgroundcolor": "#E5ECF6",
            "gridcolor": "white",
            "gridwidth": 2,
            "linecolor": "white",
            "showbackground": true,
            "ticks": "",
            "zerolinecolor": "white"
           },
           "yaxis": {
            "backgroundcolor": "#E5ECF6",
            "gridcolor": "white",
            "gridwidth": 2,
            "linecolor": "white",
            "showbackground": true,
            "ticks": "",
            "zerolinecolor": "white"
           },
           "zaxis": {
            "backgroundcolor": "#E5ECF6",
            "gridcolor": "white",
            "gridwidth": 2,
            "linecolor": "white",
            "showbackground": true,
            "ticks": "",
            "zerolinecolor": "white"
           }
          },
          "shapedefaults": {
           "line": {
            "color": "#2a3f5f"
           }
          },
          "ternary": {
           "aaxis": {
            "gridcolor": "white",
            "linecolor": "white",
            "ticks": ""
           },
           "baxis": {
            "gridcolor": "white",
            "linecolor": "white",
            "ticks": ""
           },
           "bgcolor": "#E5ECF6",
           "caxis": {
            "gridcolor": "white",
            "linecolor": "white",
            "ticks": ""
           }
          },
          "title": {
           "x": 0.05
          },
          "xaxis": {
           "automargin": true,
           "gridcolor": "white",
           "linecolor": "white",
           "ticks": "",
           "title": {
            "standoff": 15
           },
           "zerolinecolor": "white",
           "zerolinewidth": 2
          },
          "yaxis": {
           "automargin": true,
           "gridcolor": "white",
           "linecolor": "white",
           "ticks": "",
           "title": {
            "standoff": 15
           },
           "zerolinecolor": "white",
           "zerolinewidth": 2
          }
         }
        }
       }
      }
     },
     "metadata": {},
     "output_type": "display_data"
    }
   ],
   "source": [
    "pivoted_df = results.pivot(index='Catalyst_Type', columns='level_1', values='ee').reset_index()\n",
    "import plotly.graph_objects as go\n",
    "\n",
    "# Merge the 'rank' DataFrame based on 'type'\n",
    "merged_df = pd.merge(pivoted_df, mean_rank, on='Catalyst_Type')\n",
    "\n",
    "# Rename columns to match the desired structure\n",
    "merged_df.rename(columns={'VAR': 'VAR', 'ES': 'ES', 'rank': 'rank'}, inplace=True)\n",
    "\n",
    "# Fill NaN values in the 'Rank' column with 0 if needed\n",
    "merged_df['rank'].fillna(0, inplace=True)\n",
    "merged_df['rank']=merged_df['rank']*10\n",
    "fig = go.Figure()\n",
    "\n",
    "for col in ['VAR', 'ES', 'rank']:\n",
    "    fig.add_trace(go.Bar(\n",
    "        x=merged_df['Catalyst_Type'],\n",
    "        y=merged_df[col],\n",
    "        name=col\n",
    "    ))\n",
    "# Show the plot\n",
    "fig.show()"
   ]
  },
  {
   "cell_type": "code",
   "execution_count": 21,
   "metadata": {},
   "outputs": [
    {
     "name": "stdout",
     "output_type": "stream",
     "text": [
      "6           Squaramide\n",
      "3                 Misc\n",
      "5      Secondary Amine\n",
      "1                   BA\n",
      "0           (Thio)Urea\n",
      "4        Primary Amine\n",
      "2    Cinchona Alkaloid\n",
      "Name: Catalyst_Type, dtype: object\n",
      "6           Squaramide\n",
      "3                 Misc\n",
      "1                   BA\n",
      "4        Primary Amine\n",
      "5      Secondary Amine\n",
      "0           (Thio)Urea\n",
      "2    Cinchona Alkaloid\n",
      "Name: Catalyst_Type, dtype: object\n",
      "6           Squaramide\n",
      "2    Cinchona Alkaloid\n",
      "4        Primary Amine\n",
      "0           (Thio)Urea\n",
      "5      Secondary Amine\n",
      "1                   BA\n",
      "3                 Misc\n",
      "Name: Catalyst_Type, dtype: object\n"
     ]
    }
   ],
   "source": [
    "print(merged_df.sort_values('VAR', ascending=False)[\"Catalyst_Type\"])\n",
    "print(merged_df.sort_values('ES', ascending=False)[\"Catalyst_Type\"])\n",
    "print(merged_df.sort_values('rank', ascending=True)[\"Catalyst_Type\"])\n",
    "\n"
   ]
  },
  {
   "cell_type": "code",
   "execution_count": 22,
   "metadata": {},
   "outputs": [
    {
     "name": "stdout",
     "output_type": "stream",
     "text": [
      "Catalyst_Type\n",
      "(Thio)Urea           3.172269\n",
      "BA                   3.352227\n",
      "Cinchona Alkaloid    2.912621\n",
      "Misc                 3.866197\n",
      "Primary Amine        3.085366\n",
      "Secondary Amine      3.295359\n",
      "Squaramide           2.890511\n",
      "Name: rank, dtype: float64\n"
     ]
    },
    {
     "data": {
      "application/vnd.plotly.v1+json": {
       "config": {
        "plotlyServerURL": "https://plot.ly"
       },
       "data": [
        {
         "name": "weighted_rank",
         "type": "bar",
         "x": [
          "(Thio)Urea",
          "BA",
          "Cinchona Alkaloid",
          "Misc",
          "Primary Amine",
          "Secondary Amine",
          "Squaramide"
         ],
         "y": [
          0.6982518104509464,
          0.725549079800092,
          0.7480143190426788,
          0.5087726973730494,
          0.5772322570721962,
          0.45123359850416817,
          0.61380754375111
         ]
        },
        {
         "name": "rank",
         "type": "bar",
         "x": [
          "(Thio)Urea",
          "BA",
          "Cinchona Alkaloid",
          "Misc",
          "Primary Amine",
          "Secondary Amine",
          "Squaramide"
         ],
         "y": [
          3.172268907563025,
          3.3522267206477734,
          2.912621359223301,
          3.8661971830985915,
          3.0853658536585367,
          3.2953586497890295,
          2.8905109489051095
         ]
        }
       ],
       "layout": {
        "template": {
         "data": {
          "bar": [
           {
            "error_x": {
             "color": "#2a3f5f"
            },
            "error_y": {
             "color": "#2a3f5f"
            },
            "marker": {
             "line": {
              "color": "#E5ECF6",
              "width": 0.5
             },
             "pattern": {
              "fillmode": "overlay",
              "size": 10,
              "solidity": 0.2
             }
            },
            "type": "bar"
           }
          ],
          "barpolar": [
           {
            "marker": {
             "line": {
              "color": "#E5ECF6",
              "width": 0.5
             },
             "pattern": {
              "fillmode": "overlay",
              "size": 10,
              "solidity": 0.2
             }
            },
            "type": "barpolar"
           }
          ],
          "carpet": [
           {
            "aaxis": {
             "endlinecolor": "#2a3f5f",
             "gridcolor": "white",
             "linecolor": "white",
             "minorgridcolor": "white",
             "startlinecolor": "#2a3f5f"
            },
            "baxis": {
             "endlinecolor": "#2a3f5f",
             "gridcolor": "white",
             "linecolor": "white",
             "minorgridcolor": "white",
             "startlinecolor": "#2a3f5f"
            },
            "type": "carpet"
           }
          ],
          "choropleth": [
           {
            "colorbar": {
             "outlinewidth": 0,
             "ticks": ""
            },
            "type": "choropleth"
           }
          ],
          "contour": [
           {
            "colorbar": {
             "outlinewidth": 0,
             "ticks": ""
            },
            "colorscale": [
             [
              0,
              "#0d0887"
             ],
             [
              0.1111111111111111,
              "#46039f"
             ],
             [
              0.2222222222222222,
              "#7201a8"
             ],
             [
              0.3333333333333333,
              "#9c179e"
             ],
             [
              0.4444444444444444,
              "#bd3786"
             ],
             [
              0.5555555555555556,
              "#d8576b"
             ],
             [
              0.6666666666666666,
              "#ed7953"
             ],
             [
              0.7777777777777778,
              "#fb9f3a"
             ],
             [
              0.8888888888888888,
              "#fdca26"
             ],
             [
              1,
              "#f0f921"
             ]
            ],
            "type": "contour"
           }
          ],
          "contourcarpet": [
           {
            "colorbar": {
             "outlinewidth": 0,
             "ticks": ""
            },
            "type": "contourcarpet"
           }
          ],
          "heatmap": [
           {
            "colorbar": {
             "outlinewidth": 0,
             "ticks": ""
            },
            "colorscale": [
             [
              0,
              "#0d0887"
             ],
             [
              0.1111111111111111,
              "#46039f"
             ],
             [
              0.2222222222222222,
              "#7201a8"
             ],
             [
              0.3333333333333333,
              "#9c179e"
             ],
             [
              0.4444444444444444,
              "#bd3786"
             ],
             [
              0.5555555555555556,
              "#d8576b"
             ],
             [
              0.6666666666666666,
              "#ed7953"
             ],
             [
              0.7777777777777778,
              "#fb9f3a"
             ],
             [
              0.8888888888888888,
              "#fdca26"
             ],
             [
              1,
              "#f0f921"
             ]
            ],
            "type": "heatmap"
           }
          ],
          "heatmapgl": [
           {
            "colorbar": {
             "outlinewidth": 0,
             "ticks": ""
            },
            "colorscale": [
             [
              0,
              "#0d0887"
             ],
             [
              0.1111111111111111,
              "#46039f"
             ],
             [
              0.2222222222222222,
              "#7201a8"
             ],
             [
              0.3333333333333333,
              "#9c179e"
             ],
             [
              0.4444444444444444,
              "#bd3786"
             ],
             [
              0.5555555555555556,
              "#d8576b"
             ],
             [
              0.6666666666666666,
              "#ed7953"
             ],
             [
              0.7777777777777778,
              "#fb9f3a"
             ],
             [
              0.8888888888888888,
              "#fdca26"
             ],
             [
              1,
              "#f0f921"
             ]
            ],
            "type": "heatmapgl"
           }
          ],
          "histogram": [
           {
            "marker": {
             "pattern": {
              "fillmode": "overlay",
              "size": 10,
              "solidity": 0.2
             }
            },
            "type": "histogram"
           }
          ],
          "histogram2d": [
           {
            "colorbar": {
             "outlinewidth": 0,
             "ticks": ""
            },
            "colorscale": [
             [
              0,
              "#0d0887"
             ],
             [
              0.1111111111111111,
              "#46039f"
             ],
             [
              0.2222222222222222,
              "#7201a8"
             ],
             [
              0.3333333333333333,
              "#9c179e"
             ],
             [
              0.4444444444444444,
              "#bd3786"
             ],
             [
              0.5555555555555556,
              "#d8576b"
             ],
             [
              0.6666666666666666,
              "#ed7953"
             ],
             [
              0.7777777777777778,
              "#fb9f3a"
             ],
             [
              0.8888888888888888,
              "#fdca26"
             ],
             [
              1,
              "#f0f921"
             ]
            ],
            "type": "histogram2d"
           }
          ],
          "histogram2dcontour": [
           {
            "colorbar": {
             "outlinewidth": 0,
             "ticks": ""
            },
            "colorscale": [
             [
              0,
              "#0d0887"
             ],
             [
              0.1111111111111111,
              "#46039f"
             ],
             [
              0.2222222222222222,
              "#7201a8"
             ],
             [
              0.3333333333333333,
              "#9c179e"
             ],
             [
              0.4444444444444444,
              "#bd3786"
             ],
             [
              0.5555555555555556,
              "#d8576b"
             ],
             [
              0.6666666666666666,
              "#ed7953"
             ],
             [
              0.7777777777777778,
              "#fb9f3a"
             ],
             [
              0.8888888888888888,
              "#fdca26"
             ],
             [
              1,
              "#f0f921"
             ]
            ],
            "type": "histogram2dcontour"
           }
          ],
          "mesh3d": [
           {
            "colorbar": {
             "outlinewidth": 0,
             "ticks": ""
            },
            "type": "mesh3d"
           }
          ],
          "parcoords": [
           {
            "line": {
             "colorbar": {
              "outlinewidth": 0,
              "ticks": ""
             }
            },
            "type": "parcoords"
           }
          ],
          "pie": [
           {
            "automargin": true,
            "type": "pie"
           }
          ],
          "scatter": [
           {
            "fillpattern": {
             "fillmode": "overlay",
             "size": 10,
             "solidity": 0.2
            },
            "type": "scatter"
           }
          ],
          "scatter3d": [
           {
            "line": {
             "colorbar": {
              "outlinewidth": 0,
              "ticks": ""
             }
            },
            "marker": {
             "colorbar": {
              "outlinewidth": 0,
              "ticks": ""
             }
            },
            "type": "scatter3d"
           }
          ],
          "scattercarpet": [
           {
            "marker": {
             "colorbar": {
              "outlinewidth": 0,
              "ticks": ""
             }
            },
            "type": "scattercarpet"
           }
          ],
          "scattergeo": [
           {
            "marker": {
             "colorbar": {
              "outlinewidth": 0,
              "ticks": ""
             }
            },
            "type": "scattergeo"
           }
          ],
          "scattergl": [
           {
            "marker": {
             "colorbar": {
              "outlinewidth": 0,
              "ticks": ""
             }
            },
            "type": "scattergl"
           }
          ],
          "scattermapbox": [
           {
            "marker": {
             "colorbar": {
              "outlinewidth": 0,
              "ticks": ""
             }
            },
            "type": "scattermapbox"
           }
          ],
          "scatterpolar": [
           {
            "marker": {
             "colorbar": {
              "outlinewidth": 0,
              "ticks": ""
             }
            },
            "type": "scatterpolar"
           }
          ],
          "scatterpolargl": [
           {
            "marker": {
             "colorbar": {
              "outlinewidth": 0,
              "ticks": ""
             }
            },
            "type": "scatterpolargl"
           }
          ],
          "scatterternary": [
           {
            "marker": {
             "colorbar": {
              "outlinewidth": 0,
              "ticks": ""
             }
            },
            "type": "scatterternary"
           }
          ],
          "surface": [
           {
            "colorbar": {
             "outlinewidth": 0,
             "ticks": ""
            },
            "colorscale": [
             [
              0,
              "#0d0887"
             ],
             [
              0.1111111111111111,
              "#46039f"
             ],
             [
              0.2222222222222222,
              "#7201a8"
             ],
             [
              0.3333333333333333,
              "#9c179e"
             ],
             [
              0.4444444444444444,
              "#bd3786"
             ],
             [
              0.5555555555555556,
              "#d8576b"
             ],
             [
              0.6666666666666666,
              "#ed7953"
             ],
             [
              0.7777777777777778,
              "#fb9f3a"
             ],
             [
              0.8888888888888888,
              "#fdca26"
             ],
             [
              1,
              "#f0f921"
             ]
            ],
            "type": "surface"
           }
          ],
          "table": [
           {
            "cells": {
             "fill": {
              "color": "#EBF0F8"
             },
             "line": {
              "color": "white"
             }
            },
            "header": {
             "fill": {
              "color": "#C8D4E3"
             },
             "line": {
              "color": "white"
             }
            },
            "type": "table"
           }
          ]
         },
         "layout": {
          "annotationdefaults": {
           "arrowcolor": "#2a3f5f",
           "arrowhead": 0,
           "arrowwidth": 1
          },
          "autotypenumbers": "strict",
          "coloraxis": {
           "colorbar": {
            "outlinewidth": 0,
            "ticks": ""
           }
          },
          "colorscale": {
           "diverging": [
            [
             0,
             "#8e0152"
            ],
            [
             0.1,
             "#c51b7d"
            ],
            [
             0.2,
             "#de77ae"
            ],
            [
             0.3,
             "#f1b6da"
            ],
            [
             0.4,
             "#fde0ef"
            ],
            [
             0.5,
             "#f7f7f7"
            ],
            [
             0.6,
             "#e6f5d0"
            ],
            [
             0.7,
             "#b8e186"
            ],
            [
             0.8,
             "#7fbc41"
            ],
            [
             0.9,
             "#4d9221"
            ],
            [
             1,
             "#276419"
            ]
           ],
           "sequential": [
            [
             0,
             "#0d0887"
            ],
            [
             0.1111111111111111,
             "#46039f"
            ],
            [
             0.2222222222222222,
             "#7201a8"
            ],
            [
             0.3333333333333333,
             "#9c179e"
            ],
            [
             0.4444444444444444,
             "#bd3786"
            ],
            [
             0.5555555555555556,
             "#d8576b"
            ],
            [
             0.6666666666666666,
             "#ed7953"
            ],
            [
             0.7777777777777778,
             "#fb9f3a"
            ],
            [
             0.8888888888888888,
             "#fdca26"
            ],
            [
             1,
             "#f0f921"
            ]
           ],
           "sequentialminus": [
            [
             0,
             "#0d0887"
            ],
            [
             0.1111111111111111,
             "#46039f"
            ],
            [
             0.2222222222222222,
             "#7201a8"
            ],
            [
             0.3333333333333333,
             "#9c179e"
            ],
            [
             0.4444444444444444,
             "#bd3786"
            ],
            [
             0.5555555555555556,
             "#d8576b"
            ],
            [
             0.6666666666666666,
             "#ed7953"
            ],
            [
             0.7777777777777778,
             "#fb9f3a"
            ],
            [
             0.8888888888888888,
             "#fdca26"
            ],
            [
             1,
             "#f0f921"
            ]
           ]
          },
          "colorway": [
           "#636efa",
           "#EF553B",
           "#00cc96",
           "#ab63fa",
           "#FFA15A",
           "#19d3f3",
           "#FF6692",
           "#B6E880",
           "#FF97FF",
           "#FECB52"
          ],
          "font": {
           "color": "#2a3f5f"
          },
          "geo": {
           "bgcolor": "white",
           "lakecolor": "white",
           "landcolor": "#E5ECF6",
           "showlakes": true,
           "showland": true,
           "subunitcolor": "white"
          },
          "hoverlabel": {
           "align": "left"
          },
          "hovermode": "closest",
          "mapbox": {
           "style": "light"
          },
          "paper_bgcolor": "white",
          "plot_bgcolor": "#E5ECF6",
          "polar": {
           "angularaxis": {
            "gridcolor": "white",
            "linecolor": "white",
            "ticks": ""
           },
           "bgcolor": "#E5ECF6",
           "radialaxis": {
            "gridcolor": "white",
            "linecolor": "white",
            "ticks": ""
           }
          },
          "scene": {
           "xaxis": {
            "backgroundcolor": "#E5ECF6",
            "gridcolor": "white",
            "gridwidth": 2,
            "linecolor": "white",
            "showbackground": true,
            "ticks": "",
            "zerolinecolor": "white"
           },
           "yaxis": {
            "backgroundcolor": "#E5ECF6",
            "gridcolor": "white",
            "gridwidth": 2,
            "linecolor": "white",
            "showbackground": true,
            "ticks": "",
            "zerolinecolor": "white"
           },
           "zaxis": {
            "backgroundcolor": "#E5ECF6",
            "gridcolor": "white",
            "gridwidth": 2,
            "linecolor": "white",
            "showbackground": true,
            "ticks": "",
            "zerolinecolor": "white"
           }
          },
          "shapedefaults": {
           "line": {
            "color": "#2a3f5f"
           }
          },
          "ternary": {
           "aaxis": {
            "gridcolor": "white",
            "linecolor": "white",
            "ticks": ""
           },
           "baxis": {
            "gridcolor": "white",
            "linecolor": "white",
            "ticks": ""
           },
           "bgcolor": "#E5ECF6",
           "caxis": {
            "gridcolor": "white",
            "linecolor": "white",
            "ticks": ""
           }
          },
          "title": {
           "x": 0.05
          },
          "xaxis": {
           "automargin": true,
           "gridcolor": "white",
           "linecolor": "white",
           "ticks": "",
           "title": {
            "standoff": 15
           },
           "zerolinecolor": "white",
           "zerolinewidth": 2
          },
          "yaxis": {
           "automargin": true,
           "gridcolor": "white",
           "linecolor": "white",
           "ticks": "",
           "title": {
            "standoff": 15
           },
           "zerolinecolor": "white",
           "zerolinewidth": 2
          }
         }
        }
       }
      }
     },
     "metadata": {},
     "output_type": "display_data"
    },
    {
     "name": "stdout",
     "output_type": "stream",
     "text": [
      "                   weighted_rank      rank\n",
      "Catalyst_Type                             \n",
      "Secondary Amine         0.451234  3.295359\n",
      "Misc                    0.508773  3.866197\n",
      "Primary Amine           0.577232  3.085366\n",
      "Squaramide              0.613808  2.890511\n",
      "(Thio)Urea              0.698252  3.172269\n",
      "BA                      0.725549  3.352227\n",
      "Cinchona Alkaloid       0.748014  2.912621\n",
      "                   weighted_rank      rank\n",
      "Catalyst_Type                             \n",
      "Squaramide              0.613808  2.890511\n",
      "Cinchona Alkaloid       0.748014  2.912621\n",
      "Primary Amine           0.577232  3.085366\n",
      "(Thio)Urea              0.698252  3.172269\n",
      "Secondary Amine         0.451234  3.295359\n",
      "BA                      0.725549  3.352227\n",
      "Misc                    0.508773  3.866197\n"
     ]
    }
   ],
   "source": [
    "df_ee['Count'] = df_ee.groupby('Reaction')[\"ee\"].transform('count')\n",
    "df_ee['weighted_rank'] = df_ee[\"rank\"]/df_ee['Count'] \n",
    "mean_rankw = df_ee.groupby(['Catalyst_Type'])['weighted_rank'].mean()\n",
    "mean_rank = df_ee.groupby(['Catalyst_Type'])['rank'].mean()\n",
    "\n",
    "merged_df = pd.merge(mean_rankw, mean_rank, on='Catalyst_Type')\n",
    "\n",
    "print(mean_rank)\n",
    "fig = go.Figure()\n",
    "\n",
    "for col in [ 'weighted_rank', 'rank']:\n",
    "    fig.add_trace(go.Bar(\n",
    "        x=merged_df.index,\n",
    "        y=merged_df[col],\n",
    "        name=col\n",
    "    ))\n",
    "# Show the plot\n",
    "fig.show()\n",
    "print(merged_df.sort_values('weighted_rank', ascending=True))\n",
    "print(merged_df.sort_values('rank', ascending=True))"
   ]
  },
  {
   "cell_type": "code",
   "execution_count": 23,
   "metadata": {},
   "outputs": [
    {
     "data": {
      "text/html": [
       "<div>\n",
       "<style scoped>\n",
       "    .dataframe tbody tr th:only-of-type {\n",
       "        vertical-align: middle;\n",
       "    }\n",
       "\n",
       "    .dataframe tbody tr th {\n",
       "        vertical-align: top;\n",
       "    }\n",
       "\n",
       "    .dataframe thead tr th {\n",
       "        text-align: left;\n",
       "    }\n",
       "\n",
       "    .dataframe thead tr:last-of-type th {\n",
       "        text-align: right;\n",
       "    }\n",
       "</style>\n",
       "<table border=\"1\" class=\"dataframe\">\n",
       "  <thead>\n",
       "    <tr>\n",
       "      <th></th>\n",
       "      <th colspan=\"8\" halign=\"left\">Unnamed: 0</th>\n",
       "      <th colspan=\"2\" halign=\"left\">Temp</th>\n",
       "      <th>...</th>\n",
       "      <th colspan=\"2\" halign=\"left\">Count</th>\n",
       "      <th colspan=\"8\" halign=\"left\">weighted_rank</th>\n",
       "    </tr>\n",
       "    <tr>\n",
       "      <th></th>\n",
       "      <th>count</th>\n",
       "      <th>mean</th>\n",
       "      <th>std</th>\n",
       "      <th>min</th>\n",
       "      <th>25%</th>\n",
       "      <th>50%</th>\n",
       "      <th>75%</th>\n",
       "      <th>max</th>\n",
       "      <th>count</th>\n",
       "      <th>mean</th>\n",
       "      <th>...</th>\n",
       "      <th>75%</th>\n",
       "      <th>max</th>\n",
       "      <th>count</th>\n",
       "      <th>mean</th>\n",
       "      <th>std</th>\n",
       "      <th>min</th>\n",
       "      <th>25%</th>\n",
       "      <th>50%</th>\n",
       "      <th>75%</th>\n",
       "      <th>max</th>\n",
       "    </tr>\n",
       "    <tr>\n",
       "      <th>Catalyst_Type</th>\n",
       "      <th></th>\n",
       "      <th></th>\n",
       "      <th></th>\n",
       "      <th></th>\n",
       "      <th></th>\n",
       "      <th></th>\n",
       "      <th></th>\n",
       "      <th></th>\n",
       "      <th></th>\n",
       "      <th></th>\n",
       "      <th></th>\n",
       "      <th></th>\n",
       "      <th></th>\n",
       "      <th></th>\n",
       "      <th></th>\n",
       "      <th></th>\n",
       "      <th></th>\n",
       "      <th></th>\n",
       "      <th></th>\n",
       "      <th></th>\n",
       "      <th></th>\n",
       "    </tr>\n",
       "  </thead>\n",
       "  <tbody>\n",
       "    <tr>\n",
       "      <th>(Thio)Urea</th>\n",
       "      <td>0.296468</td>\n",
       "      <td>1.695502</td>\n",
       "      <td>0.495774</td>\n",
       "      <td>0.570632</td>\n",
       "      <td>1.447491</td>\n",
       "      <td>1.750929</td>\n",
       "      <td>1.888941</td>\n",
       "      <td>2.662639</td>\n",
       "      <td>0.296468</td>\n",
       "      <td>-0.006992</td>\n",
       "      <td>...</td>\n",
       "      <td>0.000929</td>\n",
       "      <td>0.000929</td>\n",
       "      <td>0.296468</td>\n",
       "      <td>0.000929</td>\n",
       "      <td>0.0</td>\n",
       "      <td>0.000929</td>\n",
       "      <td>0.000929</td>\n",
       "      <td>0.000929</td>\n",
       "      <td>0.000929</td>\n",
       "      <td>0.000929</td>\n",
       "    </tr>\n",
       "    <tr>\n",
       "      <th>BA</th>\n",
       "      <td>0.118959</td>\n",
       "      <td>1.614806</td>\n",
       "      <td>0.808510</td>\n",
       "      <td>0.760223</td>\n",
       "      <td>0.812965</td>\n",
       "      <td>1.654740</td>\n",
       "      <td>2.457481</td>\n",
       "      <td>2.503717</td>\n",
       "      <td>0.118959</td>\n",
       "      <td>-0.001547</td>\n",
       "      <td>...</td>\n",
       "      <td>0.000929</td>\n",
       "      <td>0.000929</td>\n",
       "      <td>0.118959</td>\n",
       "      <td>0.000929</td>\n",
       "      <td>0.0</td>\n",
       "      <td>0.000929</td>\n",
       "      <td>0.000929</td>\n",
       "      <td>0.000929</td>\n",
       "      <td>0.000929</td>\n",
       "      <td>0.000929</td>\n",
       "    </tr>\n",
       "    <tr>\n",
       "      <th>Cinchona Alkaloid</th>\n",
       "      <td>0.205390</td>\n",
       "      <td>1.531615</td>\n",
       "      <td>0.690793</td>\n",
       "      <td>0.541822</td>\n",
       "      <td>1.197955</td>\n",
       "      <td>1.265799</td>\n",
       "      <td>1.956320</td>\n",
       "      <td>2.636617</td>\n",
       "      <td>0.205390</td>\n",
       "      <td>-0.018819</td>\n",
       "      <td>...</td>\n",
       "      <td>0.000929</td>\n",
       "      <td>0.000929</td>\n",
       "      <td>0.205390</td>\n",
       "      <td>0.000929</td>\n",
       "      <td>0.0</td>\n",
       "      <td>0.000929</td>\n",
       "      <td>0.000929</td>\n",
       "      <td>0.000929</td>\n",
       "      <td>0.000929</td>\n",
       "      <td>0.000929</td>\n",
       "    </tr>\n",
       "    <tr>\n",
       "      <th>Misc</th>\n",
       "      <td>0.041822</td>\n",
       "      <td>1.559190</td>\n",
       "      <td>0.404778</td>\n",
       "      <td>1.337361</td>\n",
       "      <td>1.355019</td>\n",
       "      <td>1.365242</td>\n",
       "      <td>1.522305</td>\n",
       "      <td>2.566914</td>\n",
       "      <td>0.041822</td>\n",
       "      <td>-0.009294</td>\n",
       "      <td>...</td>\n",
       "      <td>0.000929</td>\n",
       "      <td>0.000929</td>\n",
       "      <td>0.041822</td>\n",
       "      <td>0.000929</td>\n",
       "      <td>0.0</td>\n",
       "      <td>0.000929</td>\n",
       "      <td>0.000929</td>\n",
       "      <td>0.000929</td>\n",
       "      <td>0.000929</td>\n",
       "      <td>0.000929</td>\n",
       "    </tr>\n",
       "    <tr>\n",
       "      <th>Primary Amine</th>\n",
       "      <td>0.052974</td>\n",
       "      <td>1.607530</td>\n",
       "      <td>1.017067</td>\n",
       "      <td>0.207249</td>\n",
       "      <td>0.528810</td>\n",
       "      <td>1.612454</td>\n",
       "      <td>2.682156</td>\n",
       "      <td>2.695167</td>\n",
       "      <td>0.052974</td>\n",
       "      <td>0.032169</td>\n",
       "      <td>...</td>\n",
       "      <td>0.000929</td>\n",
       "      <td>0.000929</td>\n",
       "      <td>0.052974</td>\n",
       "      <td>0.000929</td>\n",
       "      <td>0.0</td>\n",
       "      <td>0.000929</td>\n",
       "      <td>0.000929</td>\n",
       "      <td>0.000929</td>\n",
       "      <td>0.000929</td>\n",
       "      <td>0.000929</td>\n",
       "    </tr>\n",
       "    <tr>\n",
       "      <th>Secondary Amine</th>\n",
       "      <td>0.172862</td>\n",
       "      <td>0.918296</td>\n",
       "      <td>0.655926</td>\n",
       "      <td>0.015799</td>\n",
       "      <td>0.261385</td>\n",
       "      <td>0.921468</td>\n",
       "      <td>1.372444</td>\n",
       "      <td>2.318773</td>\n",
       "      <td>0.172862</td>\n",
       "      <td>0.012032</td>\n",
       "      <td>...</td>\n",
       "      <td>0.000929</td>\n",
       "      <td>0.000929</td>\n",
       "      <td>0.172862</td>\n",
       "      <td>0.000929</td>\n",
       "      <td>0.0</td>\n",
       "      <td>0.000929</td>\n",
       "      <td>0.000929</td>\n",
       "      <td>0.000929</td>\n",
       "      <td>0.000929</td>\n",
       "      <td>0.000929</td>\n",
       "    </tr>\n",
       "    <tr>\n",
       "      <th>Squaramide</th>\n",
       "      <td>0.111524</td>\n",
       "      <td>2.145299</td>\n",
       "      <td>0.063604</td>\n",
       "      <td>2.039033</td>\n",
       "      <td>2.095493</td>\n",
       "      <td>2.157528</td>\n",
       "      <td>2.201905</td>\n",
       "      <td>2.264870</td>\n",
       "      <td>0.111524</td>\n",
       "      <td>0.020214</td>\n",
       "      <td>...</td>\n",
       "      <td>0.000929</td>\n",
       "      <td>0.000929</td>\n",
       "      <td>0.111524</td>\n",
       "      <td>0.000929</td>\n",
       "      <td>0.0</td>\n",
       "      <td>0.000929</td>\n",
       "      <td>0.000929</td>\n",
       "      <td>0.000929</td>\n",
       "      <td>0.000929</td>\n",
       "      <td>0.000929</td>\n",
       "    </tr>\n",
       "  </tbody>\n",
       "</table>\n",
       "<p>7 rows × 64 columns</p>\n",
       "</div>"
      ],
      "text/plain": [
       "                  Unnamed: 0                                           \n",
       "                       count      mean       std       min       25%   \n",
       "Catalyst_Type                                                          \n",
       "(Thio)Urea          0.296468  1.695502  0.495774  0.570632  1.447491  \\\n",
       "BA                  0.118959  1.614806  0.808510  0.760223  0.812965   \n",
       "Cinchona Alkaloid   0.205390  1.531615  0.690793  0.541822  1.197955   \n",
       "Misc                0.041822  1.559190  0.404778  1.337361  1.355019   \n",
       "Primary Amine       0.052974  1.607530  1.017067  0.207249  0.528810   \n",
       "Secondary Amine     0.172862  0.918296  0.655926  0.015799  0.261385   \n",
       "Squaramide          0.111524  2.145299  0.063604  2.039033  2.095493   \n",
       "\n",
       "                                                     Temp            ...   \n",
       "                        50%       75%       max     count      mean  ...   \n",
       "Catalyst_Type                                                        ...   \n",
       "(Thio)Urea         1.750929  1.888941  2.662639  0.296468 -0.006992  ...  \\\n",
       "BA                 1.654740  2.457481  2.503717  0.118959 -0.001547  ...   \n",
       "Cinchona Alkaloid  1.265799  1.956320  2.636617  0.205390 -0.018819  ...   \n",
       "Misc               1.365242  1.522305  2.566914  0.041822 -0.009294  ...   \n",
       "Primary Amine      1.612454  2.682156  2.695167  0.052974  0.032169  ...   \n",
       "Secondary Amine    0.921468  1.372444  2.318773  0.172862  0.012032  ...   \n",
       "Squaramide         2.157528  2.201905  2.264870  0.111524  0.020214  ...   \n",
       "\n",
       "                      Count           weighted_rank                            \n",
       "                        75%       max         count      mean  std       min   \n",
       "Catalyst_Type                                                                  \n",
       "(Thio)Urea         0.000929  0.000929      0.296468  0.000929  0.0  0.000929  \\\n",
       "BA                 0.000929  0.000929      0.118959  0.000929  0.0  0.000929   \n",
       "Cinchona Alkaloid  0.000929  0.000929      0.205390  0.000929  0.0  0.000929   \n",
       "Misc               0.000929  0.000929      0.041822  0.000929  0.0  0.000929   \n",
       "Primary Amine      0.000929  0.000929      0.052974  0.000929  0.0  0.000929   \n",
       "Secondary Amine    0.000929  0.000929      0.172862  0.000929  0.0  0.000929   \n",
       "Squaramide         0.000929  0.000929      0.111524  0.000929  0.0  0.000929   \n",
       "\n",
       "                                                           \n",
       "                        25%       50%       75%       max  \n",
       "Catalyst_Type                                              \n",
       "(Thio)Urea         0.000929  0.000929  0.000929  0.000929  \n",
       "BA                 0.000929  0.000929  0.000929  0.000929  \n",
       "Cinchona Alkaloid  0.000929  0.000929  0.000929  0.000929  \n",
       "Misc               0.000929  0.000929  0.000929  0.000929  \n",
       "Primary Amine      0.000929  0.000929  0.000929  0.000929  \n",
       "Secondary Amine    0.000929  0.000929  0.000929  0.000929  \n",
       "Squaramide         0.000929  0.000929  0.000929  0.000929  \n",
       "\n",
       "[7 rows x 64 columns]"
      ]
     },
     "execution_count": 23,
     "metadata": {},
     "output_type": "execute_result"
    }
   ],
   "source": [
    "sdf = df_ee.loc[df_ee[\"Count\"]==1]\n",
    "sdf.groupby(['Catalyst_Type']).describe()/len(sdf)"
   ]
  },
  {
   "cell_type": "code",
   "execution_count": 24,
   "metadata": {},
   "outputs": [
    {
     "data": {
      "text/html": [
       "<div>\n",
       "<style scoped>\n",
       "    .dataframe tbody tr th:only-of-type {\n",
       "        vertical-align: middle;\n",
       "    }\n",
       "\n",
       "    .dataframe tbody tr th {\n",
       "        vertical-align: top;\n",
       "    }\n",
       "\n",
       "    .dataframe thead tr th {\n",
       "        text-align: left;\n",
       "    }\n",
       "\n",
       "    .dataframe thead tr:last-of-type th {\n",
       "        text-align: right;\n",
       "    }\n",
       "</style>\n",
       "<table border=\"1\" class=\"dataframe\">\n",
       "  <thead>\n",
       "    <tr>\n",
       "      <th></th>\n",
       "      <th colspan=\"8\" halign=\"left\">Unnamed: 0</th>\n",
       "      <th colspan=\"2\" halign=\"left\">Temp</th>\n",
       "      <th>...</th>\n",
       "      <th colspan=\"2\" halign=\"left\">Count</th>\n",
       "      <th colspan=\"8\" halign=\"left\">weighted_rank</th>\n",
       "    </tr>\n",
       "    <tr>\n",
       "      <th></th>\n",
       "      <th>count</th>\n",
       "      <th>mean</th>\n",
       "      <th>std</th>\n",
       "      <th>min</th>\n",
       "      <th>25%</th>\n",
       "      <th>50%</th>\n",
       "      <th>75%</th>\n",
       "      <th>max</th>\n",
       "      <th>count</th>\n",
       "      <th>mean</th>\n",
       "      <th>...</th>\n",
       "      <th>75%</th>\n",
       "      <th>max</th>\n",
       "      <th>count</th>\n",
       "      <th>mean</th>\n",
       "      <th>std</th>\n",
       "      <th>min</th>\n",
       "      <th>25%</th>\n",
       "      <th>50%</th>\n",
       "      <th>75%</th>\n",
       "      <th>max</th>\n",
       "    </tr>\n",
       "    <tr>\n",
       "      <th>Catalyst_Type</th>\n",
       "      <th></th>\n",
       "      <th></th>\n",
       "      <th></th>\n",
       "      <th></th>\n",
       "      <th></th>\n",
       "      <th></th>\n",
       "      <th></th>\n",
       "      <th></th>\n",
       "      <th></th>\n",
       "      <th></th>\n",
       "      <th></th>\n",
       "      <th></th>\n",
       "      <th></th>\n",
       "      <th></th>\n",
       "      <th></th>\n",
       "      <th></th>\n",
       "      <th></th>\n",
       "      <th></th>\n",
       "      <th></th>\n",
       "      <th></th>\n",
       "      <th></th>\n",
       "    </tr>\n",
       "  </thead>\n",
       "  <tbody>\n",
       "    <tr>\n",
       "      <th>(Thio)Urea</th>\n",
       "      <td>0.246122</td>\n",
       "      <td>0.602847</td>\n",
       "      <td>0.216070</td>\n",
       "      <td>0.211306</td>\n",
       "      <td>0.525767</td>\n",
       "      <td>0.647535</td>\n",
       "      <td>0.733109</td>\n",
       "      <td>0.987590</td>\n",
       "      <td>0.246122</td>\n",
       "      <td>0.000407</td>\n",
       "      <td>...</td>\n",
       "      <td>0.004826</td>\n",
       "      <td>0.010686</td>\n",
       "      <td>0.246122</td>\n",
       "      <td>0.000241</td>\n",
       "      <td>0.000118</td>\n",
       "      <td>0.000011</td>\n",
       "      <td>0.000142</td>\n",
       "      <td>0.000306</td>\n",
       "      <td>0.000345</td>\n",
       "      <td>0.000345</td>\n",
       "    </tr>\n",
       "    <tr>\n",
       "      <th>BA</th>\n",
       "      <td>0.085143</td>\n",
       "      <td>0.592080</td>\n",
       "      <td>0.298446</td>\n",
       "      <td>0.279903</td>\n",
       "      <td>0.301103</td>\n",
       "      <td>0.322303</td>\n",
       "      <td>0.907446</td>\n",
       "      <td>0.928645</td>\n",
       "      <td>0.085143</td>\n",
       "      <td>-0.000730</td>\n",
       "      <td>...</td>\n",
       "      <td>0.004826</td>\n",
       "      <td>0.009652</td>\n",
       "      <td>0.085143</td>\n",
       "      <td>0.000250</td>\n",
       "      <td>0.000117</td>\n",
       "      <td>0.000016</td>\n",
       "      <td>0.000158</td>\n",
       "      <td>0.000345</td>\n",
       "      <td>0.000345</td>\n",
       "      <td>0.000345</td>\n",
       "    </tr>\n",
       "    <tr>\n",
       "      <th>Cinchona Alkaloid</th>\n",
       "      <td>0.142020</td>\n",
       "      <td>0.601767</td>\n",
       "      <td>0.262090</td>\n",
       "      <td>0.198897</td>\n",
       "      <td>0.444588</td>\n",
       "      <td>0.576181</td>\n",
       "      <td>0.930455</td>\n",
       "      <td>0.977939</td>\n",
       "      <td>0.142020</td>\n",
       "      <td>-0.003796</td>\n",
       "      <td>...</td>\n",
       "      <td>0.004481</td>\n",
       "      <td>0.008618</td>\n",
       "      <td>0.142020</td>\n",
       "      <td>0.000258</td>\n",
       "      <td>0.000113</td>\n",
       "      <td>0.000016</td>\n",
       "      <td>0.000172</td>\n",
       "      <td>0.000345</td>\n",
       "      <td>0.000345</td>\n",
       "      <td>0.000345</td>\n",
       "    </tr>\n",
       "    <tr>\n",
       "      <th>Misc</th>\n",
       "      <td>0.048949</td>\n",
       "      <td>0.635740</td>\n",
       "      <td>0.170182</td>\n",
       "      <td>0.494312</td>\n",
       "      <td>0.506463</td>\n",
       "      <td>0.564116</td>\n",
       "      <td>0.591089</td>\n",
       "      <td>0.952085</td>\n",
       "      <td>0.048949</td>\n",
       "      <td>-0.000391</td>\n",
       "      <td>...</td>\n",
       "      <td>0.007584</td>\n",
       "      <td>0.030334</td>\n",
       "      <td>0.048949</td>\n",
       "      <td>0.000175</td>\n",
       "      <td>0.000137</td>\n",
       "      <td>0.000004</td>\n",
       "      <td>0.000029</td>\n",
       "      <td>0.000165</td>\n",
       "      <td>0.000345</td>\n",
       "      <td>0.000345</td>\n",
       "    </tr>\n",
       "    <tr>\n",
       "      <th>Primary Amine</th>\n",
       "      <td>0.056532</td>\n",
       "      <td>0.397165</td>\n",
       "      <td>0.344623</td>\n",
       "      <td>0.069976</td>\n",
       "      <td>0.177094</td>\n",
       "      <td>0.192003</td>\n",
       "      <td>0.597122</td>\n",
       "      <td>0.999655</td>\n",
       "      <td>0.056532</td>\n",
       "      <td>0.008914</td>\n",
       "      <td>...</td>\n",
       "      <td>0.004481</td>\n",
       "      <td>0.030334</td>\n",
       "      <td>0.056532</td>\n",
       "      <td>0.000199</td>\n",
       "      <td>0.000137</td>\n",
       "      <td>0.000004</td>\n",
       "      <td>0.000049</td>\n",
       "      <td>0.000217</td>\n",
       "      <td>0.000345</td>\n",
       "      <td>0.000345</td>\n",
       "    </tr>\n",
       "    <tr>\n",
       "      <th>Secondary Amine</th>\n",
       "      <td>0.326784</td>\n",
       "      <td>0.264850</td>\n",
       "      <td>0.203987</td>\n",
       "      <td>0.000000</td>\n",
       "      <td>0.090917</td>\n",
       "      <td>0.190969</td>\n",
       "      <td>0.406498</td>\n",
       "      <td>0.860048</td>\n",
       "      <td>0.325405</td>\n",
       "      <td>0.004874</td>\n",
       "      <td>...</td>\n",
       "      <td>0.006377</td>\n",
       "      <td>0.030334</td>\n",
       "      <td>0.326784</td>\n",
       "      <td>0.000156</td>\n",
       "      <td>0.000124</td>\n",
       "      <td>0.000004</td>\n",
       "      <td>0.000043</td>\n",
       "      <td>0.000115</td>\n",
       "      <td>0.000277</td>\n",
       "      <td>0.000345</td>\n",
       "    </tr>\n",
       "    <tr>\n",
       "      <th>Squaramide</th>\n",
       "      <td>0.094450</td>\n",
       "      <td>0.798933</td>\n",
       "      <td>0.033296</td>\n",
       "      <td>0.634609</td>\n",
       "      <td>0.774991</td>\n",
       "      <td>0.799552</td>\n",
       "      <td>0.823768</td>\n",
       "      <td>0.978628</td>\n",
       "      <td>0.094450</td>\n",
       "      <td>0.007256</td>\n",
       "      <td>...</td>\n",
       "      <td>0.008273</td>\n",
       "      <td>0.010686</td>\n",
       "      <td>0.094450</td>\n",
       "      <td>0.000212</td>\n",
       "      <td>0.000136</td>\n",
       "      <td>0.000014</td>\n",
       "      <td>0.000057</td>\n",
       "      <td>0.000195</td>\n",
       "      <td>0.000345</td>\n",
       "      <td>0.000345</td>\n",
       "    </tr>\n",
       "  </tbody>\n",
       "</table>\n",
       "<p>7 rows × 64 columns</p>\n",
       "</div>"
      ],
      "text/plain": [
       "                  Unnamed: 0                                           \n",
       "                       count      mean       std       min       25%   \n",
       "Catalyst_Type                                                          \n",
       "(Thio)Urea          0.246122  0.602847  0.216070  0.211306  0.525767  \\\n",
       "BA                  0.085143  0.592080  0.298446  0.279903  0.301103   \n",
       "Cinchona Alkaloid   0.142020  0.601767  0.262090  0.198897  0.444588   \n",
       "Misc                0.048949  0.635740  0.170182  0.494312  0.506463   \n",
       "Primary Amine       0.056532  0.397165  0.344623  0.069976  0.177094   \n",
       "Secondary Amine     0.326784  0.264850  0.203987  0.000000  0.090917   \n",
       "Squaramide          0.094450  0.798933  0.033296  0.634609  0.774991   \n",
       "\n",
       "                                                     Temp            ...   \n",
       "                        50%       75%       max     count      mean  ...   \n",
       "Catalyst_Type                                                        ...   \n",
       "(Thio)Urea         0.647535  0.733109  0.987590  0.246122  0.000407  ...  \\\n",
       "BA                 0.322303  0.907446  0.928645  0.085143 -0.000730  ...   \n",
       "Cinchona Alkaloid  0.576181  0.930455  0.977939  0.142020 -0.003796  ...   \n",
       "Misc               0.564116  0.591089  0.952085  0.048949 -0.000391  ...   \n",
       "Primary Amine      0.192003  0.597122  0.999655  0.056532  0.008914  ...   \n",
       "Secondary Amine    0.190969  0.406498  0.860048  0.325405  0.004874  ...   \n",
       "Squaramide         0.799552  0.823768  0.978628  0.094450  0.007256  ...   \n",
       "\n",
       "                      Count           weighted_rank                       \n",
       "                        75%       max         count      mean       std   \n",
       "Catalyst_Type                                                             \n",
       "(Thio)Urea         0.004826  0.010686      0.246122  0.000241  0.000118  \\\n",
       "BA                 0.004826  0.009652      0.085143  0.000250  0.000117   \n",
       "Cinchona Alkaloid  0.004481  0.008618      0.142020  0.000258  0.000113   \n",
       "Misc               0.007584  0.030334      0.048949  0.000175  0.000137   \n",
       "Primary Amine      0.004481  0.030334      0.056532  0.000199  0.000137   \n",
       "Secondary Amine    0.006377  0.030334      0.326784  0.000156  0.000124   \n",
       "Squaramide         0.008273  0.010686      0.094450  0.000212  0.000136   \n",
       "\n",
       "                                                                     \n",
       "                        min       25%       50%       75%       max  \n",
       "Catalyst_Type                                                        \n",
       "(Thio)Urea         0.000011  0.000142  0.000306  0.000345  0.000345  \n",
       "BA                 0.000016  0.000158  0.000345  0.000345  0.000345  \n",
       "Cinchona Alkaloid  0.000016  0.000172  0.000345  0.000345  0.000345  \n",
       "Misc               0.000004  0.000029  0.000165  0.000345  0.000345  \n",
       "Primary Amine      0.000004  0.000049  0.000217  0.000345  0.000345  \n",
       "Secondary Amine    0.000004  0.000043  0.000115  0.000277  0.000345  \n",
       "Squaramide         0.000014  0.000057  0.000195  0.000345  0.000345  \n",
       "\n",
       "[7 rows x 64 columns]"
      ]
     },
     "execution_count": 24,
     "metadata": {},
     "output_type": "execute_result"
    }
   ],
   "source": [
    "df_ee.groupby(['Catalyst_Type']).describe()/len(df_ee)"
   ]
  },
  {
   "cell_type": "code",
   "execution_count": 25,
   "metadata": {},
   "outputs": [
    {
     "name": "stdout",
     "output_type": "stream",
     "text": [
      "Catalyst_Type\n",
      "(Thio)Urea           5.508876\n",
      "BA                   6.683168\n",
      "Cinchona Alkaloid    5.591716\n",
      "Misc                 5.655172\n",
      "Primary Amine        4.438776\n",
      "Secondary Amine      4.257576\n",
      "Squaramide           5.007937\n",
      "Name: rank, dtype: float64\n"
     ]
    },
    {
     "name": "stderr",
     "output_type": "stream",
     "text": [
      "/var/folders/bg/0172ww9j3x9_mqwpf6wh9jj80000gn/T/ipykernel_72429/3024108349.py:3: SettingWithCopyWarning:\n",
      "\n",
      "\n",
      "A value is trying to be set on a copy of a slice from a DataFrame.\n",
      "Try using .loc[row_indexer,col_indexer] = value instead\n",
      "\n",
      "See the caveats in the documentation: https://pandas.pydata.org/pandas-docs/stable/user_guide/indexing.html#returning-a-view-versus-a-copy\n",
      "\n",
      "/var/folders/bg/0172ww9j3x9_mqwpf6wh9jj80000gn/T/ipykernel_72429/3024108349.py:5: SettingWithCopyWarning:\n",
      "\n",
      "\n",
      "A value is trying to be set on a copy of a slice from a DataFrame.\n",
      "Try using .loc[row_indexer,col_indexer] = value instead\n",
      "\n",
      "See the caveats in the documentation: https://pandas.pydata.org/pandas-docs/stable/user_guide/indexing.html#returning-a-view-versus-a-copy\n",
      "\n"
     ]
    },
    {
     "data": {
      "application/vnd.plotly.v1+json": {
       "config": {
        "plotlyServerURL": "https://plot.ly"
       },
       "data": [
        {
         "name": "weighted_rank",
         "type": "bar",
         "x": [
          "(Thio)Urea",
          "BA",
          "Cinchona Alkaloid",
          "Misc",
          "Primary Amine",
          "Secondary Amine",
          "Squaramide"
         ],
         "y": [
          0.4069579664555495,
          0.3832734921843832,
          0.41527751151232933,
          0.24420371295371296,
          0.3129192873453078,
          0.26934765360901725,
          0.21970846815717582
         ]
        },
        {
         "name": "rank",
         "type": "bar",
         "x": [
          "(Thio)Urea",
          "BA",
          "Cinchona Alkaloid",
          "Misc",
          "Primary Amine",
          "Secondary Amine",
          "Squaramide"
         ],
         "y": [
          5.508875739644971,
          6.683168316831683,
          5.591715976331361,
          5.655172413793103,
          4.438775510204081,
          4.257575757575758,
          5.007936507936508
         ]
        }
       ],
       "layout": {
        "template": {
         "data": {
          "bar": [
           {
            "error_x": {
             "color": "#2a3f5f"
            },
            "error_y": {
             "color": "#2a3f5f"
            },
            "marker": {
             "line": {
              "color": "#E5ECF6",
              "width": 0.5
             },
             "pattern": {
              "fillmode": "overlay",
              "size": 10,
              "solidity": 0.2
             }
            },
            "type": "bar"
           }
          ],
          "barpolar": [
           {
            "marker": {
             "line": {
              "color": "#E5ECF6",
              "width": 0.5
             },
             "pattern": {
              "fillmode": "overlay",
              "size": 10,
              "solidity": 0.2
             }
            },
            "type": "barpolar"
           }
          ],
          "carpet": [
           {
            "aaxis": {
             "endlinecolor": "#2a3f5f",
             "gridcolor": "white",
             "linecolor": "white",
             "minorgridcolor": "white",
             "startlinecolor": "#2a3f5f"
            },
            "baxis": {
             "endlinecolor": "#2a3f5f",
             "gridcolor": "white",
             "linecolor": "white",
             "minorgridcolor": "white",
             "startlinecolor": "#2a3f5f"
            },
            "type": "carpet"
           }
          ],
          "choropleth": [
           {
            "colorbar": {
             "outlinewidth": 0,
             "ticks": ""
            },
            "type": "choropleth"
           }
          ],
          "contour": [
           {
            "colorbar": {
             "outlinewidth": 0,
             "ticks": ""
            },
            "colorscale": [
             [
              0,
              "#0d0887"
             ],
             [
              0.1111111111111111,
              "#46039f"
             ],
             [
              0.2222222222222222,
              "#7201a8"
             ],
             [
              0.3333333333333333,
              "#9c179e"
             ],
             [
              0.4444444444444444,
              "#bd3786"
             ],
             [
              0.5555555555555556,
              "#d8576b"
             ],
             [
              0.6666666666666666,
              "#ed7953"
             ],
             [
              0.7777777777777778,
              "#fb9f3a"
             ],
             [
              0.8888888888888888,
              "#fdca26"
             ],
             [
              1,
              "#f0f921"
             ]
            ],
            "type": "contour"
           }
          ],
          "contourcarpet": [
           {
            "colorbar": {
             "outlinewidth": 0,
             "ticks": ""
            },
            "type": "contourcarpet"
           }
          ],
          "heatmap": [
           {
            "colorbar": {
             "outlinewidth": 0,
             "ticks": ""
            },
            "colorscale": [
             [
              0,
              "#0d0887"
             ],
             [
              0.1111111111111111,
              "#46039f"
             ],
             [
              0.2222222222222222,
              "#7201a8"
             ],
             [
              0.3333333333333333,
              "#9c179e"
             ],
             [
              0.4444444444444444,
              "#bd3786"
             ],
             [
              0.5555555555555556,
              "#d8576b"
             ],
             [
              0.6666666666666666,
              "#ed7953"
             ],
             [
              0.7777777777777778,
              "#fb9f3a"
             ],
             [
              0.8888888888888888,
              "#fdca26"
             ],
             [
              1,
              "#f0f921"
             ]
            ],
            "type": "heatmap"
           }
          ],
          "heatmapgl": [
           {
            "colorbar": {
             "outlinewidth": 0,
             "ticks": ""
            },
            "colorscale": [
             [
              0,
              "#0d0887"
             ],
             [
              0.1111111111111111,
              "#46039f"
             ],
             [
              0.2222222222222222,
              "#7201a8"
             ],
             [
              0.3333333333333333,
              "#9c179e"
             ],
             [
              0.4444444444444444,
              "#bd3786"
             ],
             [
              0.5555555555555556,
              "#d8576b"
             ],
             [
              0.6666666666666666,
              "#ed7953"
             ],
             [
              0.7777777777777778,
              "#fb9f3a"
             ],
             [
              0.8888888888888888,
              "#fdca26"
             ],
             [
              1,
              "#f0f921"
             ]
            ],
            "type": "heatmapgl"
           }
          ],
          "histogram": [
           {
            "marker": {
             "pattern": {
              "fillmode": "overlay",
              "size": 10,
              "solidity": 0.2
             }
            },
            "type": "histogram"
           }
          ],
          "histogram2d": [
           {
            "colorbar": {
             "outlinewidth": 0,
             "ticks": ""
            },
            "colorscale": [
             [
              0,
              "#0d0887"
             ],
             [
              0.1111111111111111,
              "#46039f"
             ],
             [
              0.2222222222222222,
              "#7201a8"
             ],
             [
              0.3333333333333333,
              "#9c179e"
             ],
             [
              0.4444444444444444,
              "#bd3786"
             ],
             [
              0.5555555555555556,
              "#d8576b"
             ],
             [
              0.6666666666666666,
              "#ed7953"
             ],
             [
              0.7777777777777778,
              "#fb9f3a"
             ],
             [
              0.8888888888888888,
              "#fdca26"
             ],
             [
              1,
              "#f0f921"
             ]
            ],
            "type": "histogram2d"
           }
          ],
          "histogram2dcontour": [
           {
            "colorbar": {
             "outlinewidth": 0,
             "ticks": ""
            },
            "colorscale": [
             [
              0,
              "#0d0887"
             ],
             [
              0.1111111111111111,
              "#46039f"
             ],
             [
              0.2222222222222222,
              "#7201a8"
             ],
             [
              0.3333333333333333,
              "#9c179e"
             ],
             [
              0.4444444444444444,
              "#bd3786"
             ],
             [
              0.5555555555555556,
              "#d8576b"
             ],
             [
              0.6666666666666666,
              "#ed7953"
             ],
             [
              0.7777777777777778,
              "#fb9f3a"
             ],
             [
              0.8888888888888888,
              "#fdca26"
             ],
             [
              1,
              "#f0f921"
             ]
            ],
            "type": "histogram2dcontour"
           }
          ],
          "mesh3d": [
           {
            "colorbar": {
             "outlinewidth": 0,
             "ticks": ""
            },
            "type": "mesh3d"
           }
          ],
          "parcoords": [
           {
            "line": {
             "colorbar": {
              "outlinewidth": 0,
              "ticks": ""
             }
            },
            "type": "parcoords"
           }
          ],
          "pie": [
           {
            "automargin": true,
            "type": "pie"
           }
          ],
          "scatter": [
           {
            "fillpattern": {
             "fillmode": "overlay",
             "size": 10,
             "solidity": 0.2
            },
            "type": "scatter"
           }
          ],
          "scatter3d": [
           {
            "line": {
             "colorbar": {
              "outlinewidth": 0,
              "ticks": ""
             }
            },
            "marker": {
             "colorbar": {
              "outlinewidth": 0,
              "ticks": ""
             }
            },
            "type": "scatter3d"
           }
          ],
          "scattercarpet": [
           {
            "marker": {
             "colorbar": {
              "outlinewidth": 0,
              "ticks": ""
             }
            },
            "type": "scattercarpet"
           }
          ],
          "scattergeo": [
           {
            "marker": {
             "colorbar": {
              "outlinewidth": 0,
              "ticks": ""
             }
            },
            "type": "scattergeo"
           }
          ],
          "scattergl": [
           {
            "marker": {
             "colorbar": {
              "outlinewidth": 0,
              "ticks": ""
             }
            },
            "type": "scattergl"
           }
          ],
          "scattermapbox": [
           {
            "marker": {
             "colorbar": {
              "outlinewidth": 0,
              "ticks": ""
             }
            },
            "type": "scattermapbox"
           }
          ],
          "scatterpolar": [
           {
            "marker": {
             "colorbar": {
              "outlinewidth": 0,
              "ticks": ""
             }
            },
            "type": "scatterpolar"
           }
          ],
          "scatterpolargl": [
           {
            "marker": {
             "colorbar": {
              "outlinewidth": 0,
              "ticks": ""
             }
            },
            "type": "scatterpolargl"
           }
          ],
          "scatterternary": [
           {
            "marker": {
             "colorbar": {
              "outlinewidth": 0,
              "ticks": ""
             }
            },
            "type": "scatterternary"
           }
          ],
          "surface": [
           {
            "colorbar": {
             "outlinewidth": 0,
             "ticks": ""
            },
            "colorscale": [
             [
              0,
              "#0d0887"
             ],
             [
              0.1111111111111111,
              "#46039f"
             ],
             [
              0.2222222222222222,
              "#7201a8"
             ],
             [
              0.3333333333333333,
              "#9c179e"
             ],
             [
              0.4444444444444444,
              "#bd3786"
             ],
             [
              0.5555555555555556,
              "#d8576b"
             ],
             [
              0.6666666666666666,
              "#ed7953"
             ],
             [
              0.7777777777777778,
              "#fb9f3a"
             ],
             [
              0.8888888888888888,
              "#fdca26"
             ],
             [
              1,
              "#f0f921"
             ]
            ],
            "type": "surface"
           }
          ],
          "table": [
           {
            "cells": {
             "fill": {
              "color": "#EBF0F8"
             },
             "line": {
              "color": "white"
             }
            },
            "header": {
             "fill": {
              "color": "#C8D4E3"
             },
             "line": {
              "color": "white"
             }
            },
            "type": "table"
           }
          ]
         },
         "layout": {
          "annotationdefaults": {
           "arrowcolor": "#2a3f5f",
           "arrowhead": 0,
           "arrowwidth": 1
          },
          "autotypenumbers": "strict",
          "coloraxis": {
           "colorbar": {
            "outlinewidth": 0,
            "ticks": ""
           }
          },
          "colorscale": {
           "diverging": [
            [
             0,
             "#8e0152"
            ],
            [
             0.1,
             "#c51b7d"
            ],
            [
             0.2,
             "#de77ae"
            ],
            [
             0.3,
             "#f1b6da"
            ],
            [
             0.4,
             "#fde0ef"
            ],
            [
             0.5,
             "#f7f7f7"
            ],
            [
             0.6,
             "#e6f5d0"
            ],
            [
             0.7,
             "#b8e186"
            ],
            [
             0.8,
             "#7fbc41"
            ],
            [
             0.9,
             "#4d9221"
            ],
            [
             1,
             "#276419"
            ]
           ],
           "sequential": [
            [
             0,
             "#0d0887"
            ],
            [
             0.1111111111111111,
             "#46039f"
            ],
            [
             0.2222222222222222,
             "#7201a8"
            ],
            [
             0.3333333333333333,
             "#9c179e"
            ],
            [
             0.4444444444444444,
             "#bd3786"
            ],
            [
             0.5555555555555556,
             "#d8576b"
            ],
            [
             0.6666666666666666,
             "#ed7953"
            ],
            [
             0.7777777777777778,
             "#fb9f3a"
            ],
            [
             0.8888888888888888,
             "#fdca26"
            ],
            [
             1,
             "#f0f921"
            ]
           ],
           "sequentialminus": [
            [
             0,
             "#0d0887"
            ],
            [
             0.1111111111111111,
             "#46039f"
            ],
            [
             0.2222222222222222,
             "#7201a8"
            ],
            [
             0.3333333333333333,
             "#9c179e"
            ],
            [
             0.4444444444444444,
             "#bd3786"
            ],
            [
             0.5555555555555556,
             "#d8576b"
            ],
            [
             0.6666666666666666,
             "#ed7953"
            ],
            [
             0.7777777777777778,
             "#fb9f3a"
            ],
            [
             0.8888888888888888,
             "#fdca26"
            ],
            [
             1,
             "#f0f921"
            ]
           ]
          },
          "colorway": [
           "#636efa",
           "#EF553B",
           "#00cc96",
           "#ab63fa",
           "#FFA15A",
           "#19d3f3",
           "#FF6692",
           "#B6E880",
           "#FF97FF",
           "#FECB52"
          ],
          "font": {
           "color": "#2a3f5f"
          },
          "geo": {
           "bgcolor": "white",
           "lakecolor": "white",
           "landcolor": "#E5ECF6",
           "showlakes": true,
           "showland": true,
           "subunitcolor": "white"
          },
          "hoverlabel": {
           "align": "left"
          },
          "hovermode": "closest",
          "mapbox": {
           "style": "light"
          },
          "paper_bgcolor": "white",
          "plot_bgcolor": "#E5ECF6",
          "polar": {
           "angularaxis": {
            "gridcolor": "white",
            "linecolor": "white",
            "ticks": ""
           },
           "bgcolor": "#E5ECF6",
           "radialaxis": {
            "gridcolor": "white",
            "linecolor": "white",
            "ticks": ""
           }
          },
          "scene": {
           "xaxis": {
            "backgroundcolor": "#E5ECF6",
            "gridcolor": "white",
            "gridwidth": 2,
            "linecolor": "white",
            "showbackground": true,
            "ticks": "",
            "zerolinecolor": "white"
           },
           "yaxis": {
            "backgroundcolor": "#E5ECF6",
            "gridcolor": "white",
            "gridwidth": 2,
            "linecolor": "white",
            "showbackground": true,
            "ticks": "",
            "zerolinecolor": "white"
           },
           "zaxis": {
            "backgroundcolor": "#E5ECF6",
            "gridcolor": "white",
            "gridwidth": 2,
            "linecolor": "white",
            "showbackground": true,
            "ticks": "",
            "zerolinecolor": "white"
           }
          },
          "shapedefaults": {
           "line": {
            "color": "#2a3f5f"
           }
          },
          "ternary": {
           "aaxis": {
            "gridcolor": "white",
            "linecolor": "white",
            "ticks": ""
           },
           "baxis": {
            "gridcolor": "white",
            "linecolor": "white",
            "ticks": ""
           },
           "bgcolor": "#E5ECF6",
           "caxis": {
            "gridcolor": "white",
            "linecolor": "white",
            "ticks": ""
           }
          },
          "title": {
           "x": 0.05
          },
          "xaxis": {
           "automargin": true,
           "gridcolor": "white",
           "linecolor": "white",
           "ticks": "",
           "title": {
            "standoff": 15
           },
           "zerolinecolor": "white",
           "zerolinewidth": 2
          },
          "yaxis": {
           "automargin": true,
           "gridcolor": "white",
           "linecolor": "white",
           "ticks": "",
           "title": {
            "standoff": 15
           },
           "zerolinecolor": "white",
           "zerolinewidth": 2
          }
         }
        }
       }
      }
     },
     "metadata": {},
     "output_type": "display_data"
    },
    {
     "name": "stdout",
     "output_type": "stream",
     "text": [
      "                   weighted_rank      rank\n",
      "Catalyst_Type                             \n",
      "Squaramide              0.219708  5.007937\n",
      "Misc                    0.244204  5.655172\n",
      "Secondary Amine         0.269348  4.257576\n",
      "Primary Amine           0.312919  4.438776\n",
      "BA                      0.383273  6.683168\n",
      "(Thio)Urea              0.406958  5.508876\n",
      "Cinchona Alkaloid       0.415278  5.591716\n",
      "                   weighted_rank      rank\n",
      "Catalyst_Type                             \n",
      "Secondary Amine         0.269348  4.257576\n",
      "Primary Amine           0.312919  4.438776\n",
      "Squaramide              0.219708  5.007937\n",
      "(Thio)Urea              0.406958  5.508876\n",
      "Cinchona Alkaloid       0.415278  5.591716\n",
      "Misc                    0.244204  5.655172\n",
      "BA                      0.383273  6.683168\n"
     ]
    },
    {
     "data": {
      "application/vnd.plotly.v1+json": {
       "config": {
        "plotlyServerURL": "https://plot.ly"
       },
       "data": [
        {
         "alignmentgroup": "True",
         "hovertemplate": "level_1=VAR<br>Catalyst_Type=%{x}<br>ee=%{y}<extra></extra>",
         "legendgroup": "VAR",
         "marker": {
          "color": "#636efa",
          "pattern": {
           "shape": ""
          }
         },
         "name": "VAR",
         "offsetgroup": "VAR",
         "orientation": "v",
         "showlegend": true,
         "textposition": "auto",
         "type": "bar",
         "x": [
          "(Thio)Urea",
          "BA",
          "Cinchona Alkaloid",
          "Misc",
          "Primary Amine",
          "Secondary Amine",
          "Squaramide"
         ],
         "xaxis": "x",
         "y": [
          19,
          19.000000000000004,
          5.4000000000000075,
          40.800000000000026,
          12.850000000000005,
          31.95000000000003,
          52.750000000000014
         ],
         "yaxis": "y"
        },
        {
         "alignmentgroup": "True",
         "hovertemplate": "level_1=ES<br>Catalyst_Type=%{x}<br>ee=%{y}<extra></extra>",
         "legendgroup": "ES",
         "marker": {
          "color": "#EF553B",
          "pattern": {
           "shape": ""
          }
         },
         "name": "ES",
         "offsetgroup": "ES",
         "orientation": "v",
         "showlegend": true,
         "textposition": "auto",
         "type": "bar",
         "x": [
          "(Thio)Urea",
          "BA",
          "Cinchona Alkaloid",
          "Misc",
          "Primary Amine",
          "Secondary Amine",
          "Squaramide"
         ],
         "xaxis": "x",
         "y": [
          7.375,
          7.833333333333333,
          1.6666666666666667,
          20.4,
          8.8,
          13.636363636363637,
          27
         ],
         "yaxis": "y"
        }
       ],
       "layout": {
        "barmode": "group",
        "legend": {
         "title": {},
         "tracegroupgap": 0
        },
        "template": {
         "data": {
          "bar": [
           {
            "error_x": {
             "color": "#2a3f5f"
            },
            "error_y": {
             "color": "#2a3f5f"
            },
            "marker": {
             "line": {
              "color": "#E5ECF6",
              "width": 0.5
             },
             "pattern": {
              "fillmode": "overlay",
              "size": 10,
              "solidity": 0.2
             }
            },
            "type": "bar"
           }
          ],
          "barpolar": [
           {
            "marker": {
             "line": {
              "color": "#E5ECF6",
              "width": 0.5
             },
             "pattern": {
              "fillmode": "overlay",
              "size": 10,
              "solidity": 0.2
             }
            },
            "type": "barpolar"
           }
          ],
          "carpet": [
           {
            "aaxis": {
             "endlinecolor": "#2a3f5f",
             "gridcolor": "white",
             "linecolor": "white",
             "minorgridcolor": "white",
             "startlinecolor": "#2a3f5f"
            },
            "baxis": {
             "endlinecolor": "#2a3f5f",
             "gridcolor": "white",
             "linecolor": "white",
             "minorgridcolor": "white",
             "startlinecolor": "#2a3f5f"
            },
            "type": "carpet"
           }
          ],
          "choropleth": [
           {
            "colorbar": {
             "outlinewidth": 0,
             "ticks": ""
            },
            "type": "choropleth"
           }
          ],
          "contour": [
           {
            "colorbar": {
             "outlinewidth": 0,
             "ticks": ""
            },
            "colorscale": [
             [
              0,
              "#0d0887"
             ],
             [
              0.1111111111111111,
              "#46039f"
             ],
             [
              0.2222222222222222,
              "#7201a8"
             ],
             [
              0.3333333333333333,
              "#9c179e"
             ],
             [
              0.4444444444444444,
              "#bd3786"
             ],
             [
              0.5555555555555556,
              "#d8576b"
             ],
             [
              0.6666666666666666,
              "#ed7953"
             ],
             [
              0.7777777777777778,
              "#fb9f3a"
             ],
             [
              0.8888888888888888,
              "#fdca26"
             ],
             [
              1,
              "#f0f921"
             ]
            ],
            "type": "contour"
           }
          ],
          "contourcarpet": [
           {
            "colorbar": {
             "outlinewidth": 0,
             "ticks": ""
            },
            "type": "contourcarpet"
           }
          ],
          "heatmap": [
           {
            "colorbar": {
             "outlinewidth": 0,
             "ticks": ""
            },
            "colorscale": [
             [
              0,
              "#0d0887"
             ],
             [
              0.1111111111111111,
              "#46039f"
             ],
             [
              0.2222222222222222,
              "#7201a8"
             ],
             [
              0.3333333333333333,
              "#9c179e"
             ],
             [
              0.4444444444444444,
              "#bd3786"
             ],
             [
              0.5555555555555556,
              "#d8576b"
             ],
             [
              0.6666666666666666,
              "#ed7953"
             ],
             [
              0.7777777777777778,
              "#fb9f3a"
             ],
             [
              0.8888888888888888,
              "#fdca26"
             ],
             [
              1,
              "#f0f921"
             ]
            ],
            "type": "heatmap"
           }
          ],
          "heatmapgl": [
           {
            "colorbar": {
             "outlinewidth": 0,
             "ticks": ""
            },
            "colorscale": [
             [
              0,
              "#0d0887"
             ],
             [
              0.1111111111111111,
              "#46039f"
             ],
             [
              0.2222222222222222,
              "#7201a8"
             ],
             [
              0.3333333333333333,
              "#9c179e"
             ],
             [
              0.4444444444444444,
              "#bd3786"
             ],
             [
              0.5555555555555556,
              "#d8576b"
             ],
             [
              0.6666666666666666,
              "#ed7953"
             ],
             [
              0.7777777777777778,
              "#fb9f3a"
             ],
             [
              0.8888888888888888,
              "#fdca26"
             ],
             [
              1,
              "#f0f921"
             ]
            ],
            "type": "heatmapgl"
           }
          ],
          "histogram": [
           {
            "marker": {
             "pattern": {
              "fillmode": "overlay",
              "size": 10,
              "solidity": 0.2
             }
            },
            "type": "histogram"
           }
          ],
          "histogram2d": [
           {
            "colorbar": {
             "outlinewidth": 0,
             "ticks": ""
            },
            "colorscale": [
             [
              0,
              "#0d0887"
             ],
             [
              0.1111111111111111,
              "#46039f"
             ],
             [
              0.2222222222222222,
              "#7201a8"
             ],
             [
              0.3333333333333333,
              "#9c179e"
             ],
             [
              0.4444444444444444,
              "#bd3786"
             ],
             [
              0.5555555555555556,
              "#d8576b"
             ],
             [
              0.6666666666666666,
              "#ed7953"
             ],
             [
              0.7777777777777778,
              "#fb9f3a"
             ],
             [
              0.8888888888888888,
              "#fdca26"
             ],
             [
              1,
              "#f0f921"
             ]
            ],
            "type": "histogram2d"
           }
          ],
          "histogram2dcontour": [
           {
            "colorbar": {
             "outlinewidth": 0,
             "ticks": ""
            },
            "colorscale": [
             [
              0,
              "#0d0887"
             ],
             [
              0.1111111111111111,
              "#46039f"
             ],
             [
              0.2222222222222222,
              "#7201a8"
             ],
             [
              0.3333333333333333,
              "#9c179e"
             ],
             [
              0.4444444444444444,
              "#bd3786"
             ],
             [
              0.5555555555555556,
              "#d8576b"
             ],
             [
              0.6666666666666666,
              "#ed7953"
             ],
             [
              0.7777777777777778,
              "#fb9f3a"
             ],
             [
              0.8888888888888888,
              "#fdca26"
             ],
             [
              1,
              "#f0f921"
             ]
            ],
            "type": "histogram2dcontour"
           }
          ],
          "mesh3d": [
           {
            "colorbar": {
             "outlinewidth": 0,
             "ticks": ""
            },
            "type": "mesh3d"
           }
          ],
          "parcoords": [
           {
            "line": {
             "colorbar": {
              "outlinewidth": 0,
              "ticks": ""
             }
            },
            "type": "parcoords"
           }
          ],
          "pie": [
           {
            "automargin": true,
            "type": "pie"
           }
          ],
          "scatter": [
           {
            "fillpattern": {
             "fillmode": "overlay",
             "size": 10,
             "solidity": 0.2
            },
            "type": "scatter"
           }
          ],
          "scatter3d": [
           {
            "line": {
             "colorbar": {
              "outlinewidth": 0,
              "ticks": ""
             }
            },
            "marker": {
             "colorbar": {
              "outlinewidth": 0,
              "ticks": ""
             }
            },
            "type": "scatter3d"
           }
          ],
          "scattercarpet": [
           {
            "marker": {
             "colorbar": {
              "outlinewidth": 0,
              "ticks": ""
             }
            },
            "type": "scattercarpet"
           }
          ],
          "scattergeo": [
           {
            "marker": {
             "colorbar": {
              "outlinewidth": 0,
              "ticks": ""
             }
            },
            "type": "scattergeo"
           }
          ],
          "scattergl": [
           {
            "marker": {
             "colorbar": {
              "outlinewidth": 0,
              "ticks": ""
             }
            },
            "type": "scattergl"
           }
          ],
          "scattermapbox": [
           {
            "marker": {
             "colorbar": {
              "outlinewidth": 0,
              "ticks": ""
             }
            },
            "type": "scattermapbox"
           }
          ],
          "scatterpolar": [
           {
            "marker": {
             "colorbar": {
              "outlinewidth": 0,
              "ticks": ""
             }
            },
            "type": "scatterpolar"
           }
          ],
          "scatterpolargl": [
           {
            "marker": {
             "colorbar": {
              "outlinewidth": 0,
              "ticks": ""
             }
            },
            "type": "scatterpolargl"
           }
          ],
          "scatterternary": [
           {
            "marker": {
             "colorbar": {
              "outlinewidth": 0,
              "ticks": ""
             }
            },
            "type": "scatterternary"
           }
          ],
          "surface": [
           {
            "colorbar": {
             "outlinewidth": 0,
             "ticks": ""
            },
            "colorscale": [
             [
              0,
              "#0d0887"
             ],
             [
              0.1111111111111111,
              "#46039f"
             ],
             [
              0.2222222222222222,
              "#7201a8"
             ],
             [
              0.3333333333333333,
              "#9c179e"
             ],
             [
              0.4444444444444444,
              "#bd3786"
             ],
             [
              0.5555555555555556,
              "#d8576b"
             ],
             [
              0.6666666666666666,
              "#ed7953"
             ],
             [
              0.7777777777777778,
              "#fb9f3a"
             ],
             [
              0.8888888888888888,
              "#fdca26"
             ],
             [
              1,
              "#f0f921"
             ]
            ],
            "type": "surface"
           }
          ],
          "table": [
           {
            "cells": {
             "fill": {
              "color": "#EBF0F8"
             },
             "line": {
              "color": "white"
             }
            },
            "header": {
             "fill": {
              "color": "#C8D4E3"
             },
             "line": {
              "color": "white"
             }
            },
            "type": "table"
           }
          ]
         },
         "layout": {
          "annotationdefaults": {
           "arrowcolor": "#2a3f5f",
           "arrowhead": 0,
           "arrowwidth": 1
          },
          "autotypenumbers": "strict",
          "coloraxis": {
           "colorbar": {
            "outlinewidth": 0,
            "ticks": ""
           }
          },
          "colorscale": {
           "diverging": [
            [
             0,
             "#8e0152"
            ],
            [
             0.1,
             "#c51b7d"
            ],
            [
             0.2,
             "#de77ae"
            ],
            [
             0.3,
             "#f1b6da"
            ],
            [
             0.4,
             "#fde0ef"
            ],
            [
             0.5,
             "#f7f7f7"
            ],
            [
             0.6,
             "#e6f5d0"
            ],
            [
             0.7,
             "#b8e186"
            ],
            [
             0.8,
             "#7fbc41"
            ],
            [
             0.9,
             "#4d9221"
            ],
            [
             1,
             "#276419"
            ]
           ],
           "sequential": [
            [
             0,
             "#0d0887"
            ],
            [
             0.1111111111111111,
             "#46039f"
            ],
            [
             0.2222222222222222,
             "#7201a8"
            ],
            [
             0.3333333333333333,
             "#9c179e"
            ],
            [
             0.4444444444444444,
             "#bd3786"
            ],
            [
             0.5555555555555556,
             "#d8576b"
            ],
            [
             0.6666666666666666,
             "#ed7953"
            ],
            [
             0.7777777777777778,
             "#fb9f3a"
            ],
            [
             0.8888888888888888,
             "#fdca26"
            ],
            [
             1,
             "#f0f921"
            ]
           ],
           "sequentialminus": [
            [
             0,
             "#0d0887"
            ],
            [
             0.1111111111111111,
             "#46039f"
            ],
            [
             0.2222222222222222,
             "#7201a8"
            ],
            [
             0.3333333333333333,
             "#9c179e"
            ],
            [
             0.4444444444444444,
             "#bd3786"
            ],
            [
             0.5555555555555556,
             "#d8576b"
            ],
            [
             0.6666666666666666,
             "#ed7953"
            ],
            [
             0.7777777777777778,
             "#fb9f3a"
            ],
            [
             0.8888888888888888,
             "#fdca26"
            ],
            [
             1,
             "#f0f921"
            ]
           ]
          },
          "colorway": [
           "#636efa",
           "#EF553B",
           "#00cc96",
           "#ab63fa",
           "#FFA15A",
           "#19d3f3",
           "#FF6692",
           "#B6E880",
           "#FF97FF",
           "#FECB52"
          ],
          "font": {
           "color": "#2a3f5f"
          },
          "geo": {
           "bgcolor": "white",
           "lakecolor": "white",
           "landcolor": "#E5ECF6",
           "showlakes": true,
           "showland": true,
           "subunitcolor": "white"
          },
          "hoverlabel": {
           "align": "left"
          },
          "hovermode": "closest",
          "mapbox": {
           "style": "light"
          },
          "paper_bgcolor": "white",
          "plot_bgcolor": "#E5ECF6",
          "polar": {
           "angularaxis": {
            "gridcolor": "white",
            "linecolor": "white",
            "ticks": ""
           },
           "bgcolor": "#E5ECF6",
           "radialaxis": {
            "gridcolor": "white",
            "linecolor": "white",
            "ticks": ""
           }
          },
          "scene": {
           "xaxis": {
            "backgroundcolor": "#E5ECF6",
            "gridcolor": "white",
            "gridwidth": 2,
            "linecolor": "white",
            "showbackground": true,
            "ticks": "",
            "zerolinecolor": "white"
           },
           "yaxis": {
            "backgroundcolor": "#E5ECF6",
            "gridcolor": "white",
            "gridwidth": 2,
            "linecolor": "white",
            "showbackground": true,
            "ticks": "",
            "zerolinecolor": "white"
           },
           "zaxis": {
            "backgroundcolor": "#E5ECF6",
            "gridcolor": "white",
            "gridwidth": 2,
            "linecolor": "white",
            "showbackground": true,
            "ticks": "",
            "zerolinecolor": "white"
           }
          },
          "shapedefaults": {
           "line": {
            "color": "#2a3f5f"
           }
          },
          "ternary": {
           "aaxis": {
            "gridcolor": "white",
            "linecolor": "white",
            "ticks": ""
           },
           "baxis": {
            "gridcolor": "white",
            "linecolor": "white",
            "ticks": ""
           },
           "bgcolor": "#E5ECF6",
           "caxis": {
            "gridcolor": "white",
            "linecolor": "white",
            "ticks": ""
           }
          },
          "title": {
           "x": 0.05
          },
          "xaxis": {
           "automargin": true,
           "gridcolor": "white",
           "linecolor": "white",
           "ticks": "",
           "title": {
            "standoff": 15
           },
           "zerolinecolor": "white",
           "zerolinewidth": 2
          },
          "yaxis": {
           "automargin": true,
           "gridcolor": "white",
           "linecolor": "white",
           "ticks": "",
           "title": {
            "standoff": 15
           },
           "zerolinecolor": "white",
           "zerolinewidth": 2
          }
         }
        },
        "title": {
         "text": "VAR and ES by Asset Type"
        },
        "xaxis": {
         "anchor": "y",
         "domain": [
          0,
          1
         ],
         "tickangle": -4,
         "title": {
          "text": "Asset Type"
         }
        },
        "yaxis": {
         "anchor": "x",
         "domain": [
          0,
          1
         ],
         "title": {
          "text": "Value"
         }
        }
       }
      }
     },
     "metadata": {},
     "output_type": "display_data"
    }
   ],
   "source": [
    "df_ee['Count'] = df_ee.groupby('Reaction')[\"ee\"].transform('count')\n",
    "sdf = df_ee.loc[df_ee[\"Count\"]>=3]\n",
    "sdf[\"rank\"] = sdf.groupby(\"Reaction\")[\"ee\"].rank(method=\"dense\", ascending=False)\n",
    "\n",
    "sdf['weighted_rank'] = sdf[\"rank\"]/sdf['Count'] \n",
    "mean_rankw = sdf.groupby(['Catalyst_Type'])['weighted_rank'].mean()\n",
    "mean_rank = sdf.groupby(['Catalyst_Type'])['rank'].mean()\n",
    "\n",
    "merged_df = pd.merge(mean_rankw, mean_rank, on='Catalyst_Type')\n",
    "\n",
    "print(mean_rank)\n",
    "fig = go.Figure()\n",
    "\n",
    "for col in [ 'weighted_rank', 'rank']:\n",
    "    fig.add_trace(go.Bar(\n",
    "        x=merged_df.index,\n",
    "        y=merged_df[col],\n",
    "        name=col\n",
    "    ))\n",
    "# Show the plot\n",
    "fig.show()\n",
    "print(merged_df.sort_values('weighted_rank', ascending=True))\n",
    "print(merged_df.sort_values('rank', ascending=True))\n",
    "results = sdf.groupby('Catalyst_Type')['ee'].apply(calculate_var_es).reset_index()\n",
    "\n",
    "fig = px.bar(results, x='Catalyst_Type', y='ee', title='VAR and ES by Asset Type',\n",
    "             labels={'variable': 'Metric', 'value': 'Value'}, barmode='group',color='level_1')\n",
    "\n",
    "# Customize the layout\n",
    "fig.update_layout(xaxis_title='Asset Type', yaxis_title='Value', legend_title=None, xaxis_tickangle=-4\n",
    "                  )\n",
    "\n",
    "# Show the plot\n",
    "fig.show()"
   ]
  },
  {
   "cell_type": "code",
   "execution_count": 26,
   "metadata": {},
   "outputs": [
    {
     "name": "stdout",
     "output_type": "stream",
     "text": [
      "[613     92.0\n",
      "614     86.0\n",
      "615     90.0\n",
      "616     90.0\n",
      "617     94.0\n",
      "        ... \n",
      "2861    82.0\n",
      "2862    56.0\n",
      "2863    72.0\n",
      "2864    67.0\n",
      "2865    75.0\n",
      "Name: ee, Length: 714, dtype: float64, 812      0.0\n",
      "813     27.0\n",
      "814     60.0\n",
      "815     52.0\n",
      "816     87.0\n",
      "        ... \n",
      "2690    96.0\n",
      "2691    98.0\n",
      "2692    94.0\n",
      "2693    98.0\n",
      "2694    96.0\n",
      "Name: ee, Length: 247, dtype: float64, 577     90.0\n",
      "578     88.0\n",
      "579     18.0\n",
      "580     88.0\n",
      "581     10.0\n",
      "        ... \n",
      "2833    72.0\n",
      "2834    80.0\n",
      "2835    80.0\n",
      "2836    62.0\n",
      "2837    50.0\n",
      "Name: ee, Length: 412, dtype: float64, 1434    68.0\n",
      "1435    46.0\n",
      "1436    61.0\n",
      "1437    82.0\n",
      "1438    89.0\n",
      "        ... \n",
      "2758    93.0\n",
      "2759    98.0\n",
      "2760    80.0\n",
      "2761    60.0\n",
      "2762    99.0\n",
      "Name: ee, Length: 142, dtype: float64, 203     94.0\n",
      "204     98.0\n",
      "205     90.0\n",
      "206     99.0\n",
      "207     86.0\n",
      "        ... \n",
      "2896    99.0\n",
      "2897    99.0\n",
      "2898    99.0\n",
      "2899    99.0\n",
      "2900    99.0\n",
      "Name: ee, Length: 164, dtype: float64, 0       94.0\n",
      "1       96.0\n",
      "2       93.0\n",
      "3       91.0\n",
      "4       73.0\n",
      "        ... \n",
      "2491    98.5\n",
      "2492    99.0\n",
      "2493    98.0\n",
      "2494    94.0\n",
      "2495    97.0\n",
      "Name: ee, Length: 948, dtype: float64, 1841    95.0\n",
      "1918    77.0\n",
      "2013    20.0\n",
      "2178    96.0\n",
      "2179    99.0\n",
      "        ... \n",
      "2458    80.0\n",
      "2459    68.0\n",
      "2460    80.0\n",
      "2461    23.0\n",
      "2839    66.0\n",
      "Name: ee, Length: 274, dtype: float64]\n",
      "Kruskal-Wallis test:\n",
      "Statistic: 280.9066691083284, p-value: 1.0048701057927413e-57\n",
      "Significant differences exist.\n"
     ]
    }
   ],
   "source": [
    "from scipy.stats import mannwhitneyu\n",
    "from scipy.stats import kruskal\n",
    "groups = [group['ee'] for name, group in df_ee.groupby('Catalyst_Type')]\n",
    "print(groups)\n",
    "# Perform Kruskal-Wallis test to compare multiple groups\n",
    "statistic, p_value = kruskal(*groups)\n",
    "\n",
    "\n",
    "print(\"Kruskal-Wallis test:\")\n",
    "print(f\"Statistic: {statistic}, p-value: {p_value}\")\n",
    "\n",
    "if p_value < 0.05:\n",
    "    print(\"Significant differences exist.\")\n",
    "else:\n",
    "    print(\"No significant differences.\")"
   ]
  },
  {
   "cell_type": "code",
   "execution_count": 27,
   "metadata": {},
   "outputs": [
    {
     "data": {
      "application/vnd.plotly.v1+json": {
       "config": {
        "plotlyServerURL": "https://plot.ly"
       },
       "data": [
        {
         "name": "weighted_rank",
         "type": "bar",
         "x": [
          "(Thio)Urea",
          "BA",
          "Cinchona Alkaloid",
          "Misc",
          "Primary Amine",
          "Secondary Amine",
          "Squaramide"
         ],
         "y": [
          0.6051344013889873,
          0.6047965840865249,
          0.6244619834563844,
          0.3611172720314511,
          0.3969373195532989,
          0.38183230683230684,
          0.5394890428150685
         ]
        },
        {
         "name": "rank",
         "type": "bar",
         "x": [
          "(Thio)Urea",
          "BA",
          "Cinchona Alkaloid",
          "Misc",
          "Primary Amine",
          "Secondary Amine",
          "Squaramide"
         ],
         "y": [
          4.280742459396752,
          4.420118343195266,
          4.110638297872341,
          6.8059701492537314,
          4.206185567010309,
          4.986486486486487,
          4.776699029126213
         ]
        }
       ],
       "layout": {
        "template": {
         "data": {
          "bar": [
           {
            "error_x": {
             "color": "#2a3f5f"
            },
            "error_y": {
             "color": "#2a3f5f"
            },
            "marker": {
             "line": {
              "color": "#E5ECF6",
              "width": 0.5
             },
             "pattern": {
              "fillmode": "overlay",
              "size": 10,
              "solidity": 0.2
             }
            },
            "type": "bar"
           }
          ],
          "barpolar": [
           {
            "marker": {
             "line": {
              "color": "#E5ECF6",
              "width": 0.5
             },
             "pattern": {
              "fillmode": "overlay",
              "size": 10,
              "solidity": 0.2
             }
            },
            "type": "barpolar"
           }
          ],
          "carpet": [
           {
            "aaxis": {
             "endlinecolor": "#2a3f5f",
             "gridcolor": "white",
             "linecolor": "white",
             "minorgridcolor": "white",
             "startlinecolor": "#2a3f5f"
            },
            "baxis": {
             "endlinecolor": "#2a3f5f",
             "gridcolor": "white",
             "linecolor": "white",
             "minorgridcolor": "white",
             "startlinecolor": "#2a3f5f"
            },
            "type": "carpet"
           }
          ],
          "choropleth": [
           {
            "colorbar": {
             "outlinewidth": 0,
             "ticks": ""
            },
            "type": "choropleth"
           }
          ],
          "contour": [
           {
            "colorbar": {
             "outlinewidth": 0,
             "ticks": ""
            },
            "colorscale": [
             [
              0,
              "#0d0887"
             ],
             [
              0.1111111111111111,
              "#46039f"
             ],
             [
              0.2222222222222222,
              "#7201a8"
             ],
             [
              0.3333333333333333,
              "#9c179e"
             ],
             [
              0.4444444444444444,
              "#bd3786"
             ],
             [
              0.5555555555555556,
              "#d8576b"
             ],
             [
              0.6666666666666666,
              "#ed7953"
             ],
             [
              0.7777777777777778,
              "#fb9f3a"
             ],
             [
              0.8888888888888888,
              "#fdca26"
             ],
             [
              1,
              "#f0f921"
             ]
            ],
            "type": "contour"
           }
          ],
          "contourcarpet": [
           {
            "colorbar": {
             "outlinewidth": 0,
             "ticks": ""
            },
            "type": "contourcarpet"
           }
          ],
          "heatmap": [
           {
            "colorbar": {
             "outlinewidth": 0,
             "ticks": ""
            },
            "colorscale": [
             [
              0,
              "#0d0887"
             ],
             [
              0.1111111111111111,
              "#46039f"
             ],
             [
              0.2222222222222222,
              "#7201a8"
             ],
             [
              0.3333333333333333,
              "#9c179e"
             ],
             [
              0.4444444444444444,
              "#bd3786"
             ],
             [
              0.5555555555555556,
              "#d8576b"
             ],
             [
              0.6666666666666666,
              "#ed7953"
             ],
             [
              0.7777777777777778,
              "#fb9f3a"
             ],
             [
              0.8888888888888888,
              "#fdca26"
             ],
             [
              1,
              "#f0f921"
             ]
            ],
            "type": "heatmap"
           }
          ],
          "heatmapgl": [
           {
            "colorbar": {
             "outlinewidth": 0,
             "ticks": ""
            },
            "colorscale": [
             [
              0,
              "#0d0887"
             ],
             [
              0.1111111111111111,
              "#46039f"
             ],
             [
              0.2222222222222222,
              "#7201a8"
             ],
             [
              0.3333333333333333,
              "#9c179e"
             ],
             [
              0.4444444444444444,
              "#bd3786"
             ],
             [
              0.5555555555555556,
              "#d8576b"
             ],
             [
              0.6666666666666666,
              "#ed7953"
             ],
             [
              0.7777777777777778,
              "#fb9f3a"
             ],
             [
              0.8888888888888888,
              "#fdca26"
             ],
             [
              1,
              "#f0f921"
             ]
            ],
            "type": "heatmapgl"
           }
          ],
          "histogram": [
           {
            "marker": {
             "pattern": {
              "fillmode": "overlay",
              "size": 10,
              "solidity": 0.2
             }
            },
            "type": "histogram"
           }
          ],
          "histogram2d": [
           {
            "colorbar": {
             "outlinewidth": 0,
             "ticks": ""
            },
            "colorscale": [
             [
              0,
              "#0d0887"
             ],
             [
              0.1111111111111111,
              "#46039f"
             ],
             [
              0.2222222222222222,
              "#7201a8"
             ],
             [
              0.3333333333333333,
              "#9c179e"
             ],
             [
              0.4444444444444444,
              "#bd3786"
             ],
             [
              0.5555555555555556,
              "#d8576b"
             ],
             [
              0.6666666666666666,
              "#ed7953"
             ],
             [
              0.7777777777777778,
              "#fb9f3a"
             ],
             [
              0.8888888888888888,
              "#fdca26"
             ],
             [
              1,
              "#f0f921"
             ]
            ],
            "type": "histogram2d"
           }
          ],
          "histogram2dcontour": [
           {
            "colorbar": {
             "outlinewidth": 0,
             "ticks": ""
            },
            "colorscale": [
             [
              0,
              "#0d0887"
             ],
             [
              0.1111111111111111,
              "#46039f"
             ],
             [
              0.2222222222222222,
              "#7201a8"
             ],
             [
              0.3333333333333333,
              "#9c179e"
             ],
             [
              0.4444444444444444,
              "#bd3786"
             ],
             [
              0.5555555555555556,
              "#d8576b"
             ],
             [
              0.6666666666666666,
              "#ed7953"
             ],
             [
              0.7777777777777778,
              "#fb9f3a"
             ],
             [
              0.8888888888888888,
              "#fdca26"
             ],
             [
              1,
              "#f0f921"
             ]
            ],
            "type": "histogram2dcontour"
           }
          ],
          "mesh3d": [
           {
            "colorbar": {
             "outlinewidth": 0,
             "ticks": ""
            },
            "type": "mesh3d"
           }
          ],
          "parcoords": [
           {
            "line": {
             "colorbar": {
              "outlinewidth": 0,
              "ticks": ""
             }
            },
            "type": "parcoords"
           }
          ],
          "pie": [
           {
            "automargin": true,
            "type": "pie"
           }
          ],
          "scatter": [
           {
            "fillpattern": {
             "fillmode": "overlay",
             "size": 10,
             "solidity": 0.2
            },
            "type": "scatter"
           }
          ],
          "scatter3d": [
           {
            "line": {
             "colorbar": {
              "outlinewidth": 0,
              "ticks": ""
             }
            },
            "marker": {
             "colorbar": {
              "outlinewidth": 0,
              "ticks": ""
             }
            },
            "type": "scatter3d"
           }
          ],
          "scattercarpet": [
           {
            "marker": {
             "colorbar": {
              "outlinewidth": 0,
              "ticks": ""
             }
            },
            "type": "scattercarpet"
           }
          ],
          "scattergeo": [
           {
            "marker": {
             "colorbar": {
              "outlinewidth": 0,
              "ticks": ""
             }
            },
            "type": "scattergeo"
           }
          ],
          "scattergl": [
           {
            "marker": {
             "colorbar": {
              "outlinewidth": 0,
              "ticks": ""
             }
            },
            "type": "scattergl"
           }
          ],
          "scattermapbox": [
           {
            "marker": {
             "colorbar": {
              "outlinewidth": 0,
              "ticks": ""
             }
            },
            "type": "scattermapbox"
           }
          ],
          "scatterpolar": [
           {
            "marker": {
             "colorbar": {
              "outlinewidth": 0,
              "ticks": ""
             }
            },
            "type": "scatterpolar"
           }
          ],
          "scatterpolargl": [
           {
            "marker": {
             "colorbar": {
              "outlinewidth": 0,
              "ticks": ""
             }
            },
            "type": "scatterpolargl"
           }
          ],
          "scatterternary": [
           {
            "marker": {
             "colorbar": {
              "outlinewidth": 0,
              "ticks": ""
             }
            },
            "type": "scatterternary"
           }
          ],
          "surface": [
           {
            "colorbar": {
             "outlinewidth": 0,
             "ticks": ""
            },
            "colorscale": [
             [
              0,
              "#0d0887"
             ],
             [
              0.1111111111111111,
              "#46039f"
             ],
             [
              0.2222222222222222,
              "#7201a8"
             ],
             [
              0.3333333333333333,
              "#9c179e"
             ],
             [
              0.4444444444444444,
              "#bd3786"
             ],
             [
              0.5555555555555556,
              "#d8576b"
             ],
             [
              0.6666666666666666,
              "#ed7953"
             ],
             [
              0.7777777777777778,
              "#fb9f3a"
             ],
             [
              0.8888888888888888,
              "#fdca26"
             ],
             [
              1,
              "#f0f921"
             ]
            ],
            "type": "surface"
           }
          ],
          "table": [
           {
            "cells": {
             "fill": {
              "color": "#EBF0F8"
             },
             "line": {
              "color": "white"
             }
            },
            "header": {
             "fill": {
              "color": "#C8D4E3"
             },
             "line": {
              "color": "white"
             }
            },
            "type": "table"
           }
          ]
         },
         "layout": {
          "annotationdefaults": {
           "arrowcolor": "#2a3f5f",
           "arrowhead": 0,
           "arrowwidth": 1
          },
          "autotypenumbers": "strict",
          "coloraxis": {
           "colorbar": {
            "outlinewidth": 0,
            "ticks": ""
           }
          },
          "colorscale": {
           "diverging": [
            [
             0,
             "#8e0152"
            ],
            [
             0.1,
             "#c51b7d"
            ],
            [
             0.2,
             "#de77ae"
            ],
            [
             0.3,
             "#f1b6da"
            ],
            [
             0.4,
             "#fde0ef"
            ],
            [
             0.5,
             "#f7f7f7"
            ],
            [
             0.6,
             "#e6f5d0"
            ],
            [
             0.7,
             "#b8e186"
            ],
            [
             0.8,
             "#7fbc41"
            ],
            [
             0.9,
             "#4d9221"
            ],
            [
             1,
             "#276419"
            ]
           ],
           "sequential": [
            [
             0,
             "#0d0887"
            ],
            [
             0.1111111111111111,
             "#46039f"
            ],
            [
             0.2222222222222222,
             "#7201a8"
            ],
            [
             0.3333333333333333,
             "#9c179e"
            ],
            [
             0.4444444444444444,
             "#bd3786"
            ],
            [
             0.5555555555555556,
             "#d8576b"
            ],
            [
             0.6666666666666666,
             "#ed7953"
            ],
            [
             0.7777777777777778,
             "#fb9f3a"
            ],
            [
             0.8888888888888888,
             "#fdca26"
            ],
            [
             1,
             "#f0f921"
            ]
           ],
           "sequentialminus": [
            [
             0,
             "#0d0887"
            ],
            [
             0.1111111111111111,
             "#46039f"
            ],
            [
             0.2222222222222222,
             "#7201a8"
            ],
            [
             0.3333333333333333,
             "#9c179e"
            ],
            [
             0.4444444444444444,
             "#bd3786"
            ],
            [
             0.5555555555555556,
             "#d8576b"
            ],
            [
             0.6666666666666666,
             "#ed7953"
            ],
            [
             0.7777777777777778,
             "#fb9f3a"
            ],
            [
             0.8888888888888888,
             "#fdca26"
            ],
            [
             1,
             "#f0f921"
            ]
           ]
          },
          "colorway": [
           "#636efa",
           "#EF553B",
           "#00cc96",
           "#ab63fa",
           "#FFA15A",
           "#19d3f3",
           "#FF6692",
           "#B6E880",
           "#FF97FF",
           "#FECB52"
          ],
          "font": {
           "color": "#2a3f5f"
          },
          "geo": {
           "bgcolor": "white",
           "lakecolor": "white",
           "landcolor": "#E5ECF6",
           "showlakes": true,
           "showland": true,
           "subunitcolor": "white"
          },
          "hoverlabel": {
           "align": "left"
          },
          "hovermode": "closest",
          "mapbox": {
           "style": "light"
          },
          "paper_bgcolor": "white",
          "plot_bgcolor": "#E5ECF6",
          "polar": {
           "angularaxis": {
            "gridcolor": "white",
            "linecolor": "white",
            "ticks": ""
           },
           "bgcolor": "#E5ECF6",
           "radialaxis": {
            "gridcolor": "white",
            "linecolor": "white",
            "ticks": ""
           }
          },
          "scene": {
           "xaxis": {
            "backgroundcolor": "#E5ECF6",
            "gridcolor": "white",
            "gridwidth": 2,
            "linecolor": "white",
            "showbackground": true,
            "ticks": "",
            "zerolinecolor": "white"
           },
           "yaxis": {
            "backgroundcolor": "#E5ECF6",
            "gridcolor": "white",
            "gridwidth": 2,
            "linecolor": "white",
            "showbackground": true,
            "ticks": "",
            "zerolinecolor": "white"
           },
           "zaxis": {
            "backgroundcolor": "#E5ECF6",
            "gridcolor": "white",
            "gridwidth": 2,
            "linecolor": "white",
            "showbackground": true,
            "ticks": "",
            "zerolinecolor": "white"
           }
          },
          "shapedefaults": {
           "line": {
            "color": "#2a3f5f"
           }
          },
          "ternary": {
           "aaxis": {
            "gridcolor": "white",
            "linecolor": "white",
            "ticks": ""
           },
           "baxis": {
            "gridcolor": "white",
            "linecolor": "white",
            "ticks": ""
           },
           "bgcolor": "#E5ECF6",
           "caxis": {
            "gridcolor": "white",
            "linecolor": "white",
            "ticks": ""
           }
          },
          "title": {
           "x": 0.05
          },
          "xaxis": {
           "automargin": true,
           "gridcolor": "white",
           "linecolor": "white",
           "ticks": "",
           "title": {
            "standoff": 15
           },
           "zerolinecolor": "white",
           "zerolinewidth": 2
          },
          "yaxis": {
           "automargin": true,
           "gridcolor": "white",
           "linecolor": "white",
           "ticks": "",
           "title": {
            "standoff": 15
           },
           "zerolinecolor": "white",
           "zerolinewidth": 2
          }
         }
        }
       }
      }
     },
     "metadata": {},
     "output_type": "display_data"
    },
    {
     "name": "stdout",
     "output_type": "stream",
     "text": [
      "                   weighted_rank      rank\n",
      "Catalyst_Type                             \n",
      "Misc                    0.361117  6.805970\n",
      "Secondary Amine         0.381832  4.986486\n",
      "Primary Amine           0.396937  4.206186\n",
      "Squaramide              0.539489  4.776699\n",
      "BA                      0.604797  4.420118\n",
      "(Thio)Urea              0.605134  4.280742\n",
      "Cinchona Alkaloid       0.624462  4.110638\n",
      "                   weighted_rank      rank\n",
      "Catalyst_Type                             \n",
      "Cinchona Alkaloid       0.624462  4.110638\n",
      "Primary Amine           0.396937  4.206186\n",
      "(Thio)Urea              0.605134  4.280742\n",
      "BA                      0.604797  4.420118\n",
      "Squaramide              0.539489  4.776699\n",
      "Secondary Amine         0.381832  4.986486\n",
      "Misc                    0.361117  6.805970\n"
     ]
    },
    {
     "data": {
      "application/vnd.plotly.v1+json": {
       "config": {
        "plotlyServerURL": "https://plot.ly"
       },
       "data": [
        {
         "alignmentgroup": "True",
         "hovertemplate": "level_1=VAR<br>Catalyst_Type=%{x}<br>ee=%{y}<extra></extra>",
         "legendgroup": "VAR",
         "marker": {
          "color": "#636efa",
          "pattern": {
           "shape": ""
          }
         },
         "name": "VAR",
         "offsetgroup": "VAR",
         "orientation": "v",
         "showlegend": true,
         "textposition": "auto",
         "type": "bar",
         "x": [
          "(Thio)Urea",
          "BA",
          "Cinchona Alkaloid",
          "Misc",
          "Primary Amine",
          "Secondary Amine",
          "Squaramide"
         ],
         "xaxis": "x",
         "y": [
          12,
          20.400000000000006,
          8.70000000000001,
          21.20000000000001,
          12.800000000000004,
          11.15000000000002,
          20.300000000000015
         ],
         "yaxis": "y"
        },
        {
         "alignmentgroup": "True",
         "hovertemplate": "level_1=ES<br>Catalyst_Type=%{x}<br>ee=%{y}<extra></extra>",
         "legendgroup": "ES",
         "marker": {
          "color": "#EF553B",
          "pattern": {
           "shape": ""
          }
         },
         "name": "ES",
         "offsetgroup": "ES",
         "orientation": "v",
         "showlegend": true,
         "textposition": "auto",
         "type": "bar",
         "x": [
          "(Thio)Urea",
          "BA",
          "Cinchona Alkaloid",
          "Misc",
          "Primary Amine",
          "Secondary Amine",
          "Squaramide"
         ],
         "xaxis": "x",
         "y": [
          5.666666666666667,
          11.11111111111111,
          2.9166666666666665,
          6.25,
          8.8,
          4.478260869565218,
          11
         ],
         "yaxis": "y"
        }
       ],
       "layout": {
        "barmode": "group",
        "legend": {
         "title": {},
         "tracegroupgap": 0
        },
        "template": {
         "data": {
          "bar": [
           {
            "error_x": {
             "color": "#2a3f5f"
            },
            "error_y": {
             "color": "#2a3f5f"
            },
            "marker": {
             "line": {
              "color": "#E5ECF6",
              "width": 0.5
             },
             "pattern": {
              "fillmode": "overlay",
              "size": 10,
              "solidity": 0.2
             }
            },
            "type": "bar"
           }
          ],
          "barpolar": [
           {
            "marker": {
             "line": {
              "color": "#E5ECF6",
              "width": 0.5
             },
             "pattern": {
              "fillmode": "overlay",
              "size": 10,
              "solidity": 0.2
             }
            },
            "type": "barpolar"
           }
          ],
          "carpet": [
           {
            "aaxis": {
             "endlinecolor": "#2a3f5f",
             "gridcolor": "white",
             "linecolor": "white",
             "minorgridcolor": "white",
             "startlinecolor": "#2a3f5f"
            },
            "baxis": {
             "endlinecolor": "#2a3f5f",
             "gridcolor": "white",
             "linecolor": "white",
             "minorgridcolor": "white",
             "startlinecolor": "#2a3f5f"
            },
            "type": "carpet"
           }
          ],
          "choropleth": [
           {
            "colorbar": {
             "outlinewidth": 0,
             "ticks": ""
            },
            "type": "choropleth"
           }
          ],
          "contour": [
           {
            "colorbar": {
             "outlinewidth": 0,
             "ticks": ""
            },
            "colorscale": [
             [
              0,
              "#0d0887"
             ],
             [
              0.1111111111111111,
              "#46039f"
             ],
             [
              0.2222222222222222,
              "#7201a8"
             ],
             [
              0.3333333333333333,
              "#9c179e"
             ],
             [
              0.4444444444444444,
              "#bd3786"
             ],
             [
              0.5555555555555556,
              "#d8576b"
             ],
             [
              0.6666666666666666,
              "#ed7953"
             ],
             [
              0.7777777777777778,
              "#fb9f3a"
             ],
             [
              0.8888888888888888,
              "#fdca26"
             ],
             [
              1,
              "#f0f921"
             ]
            ],
            "type": "contour"
           }
          ],
          "contourcarpet": [
           {
            "colorbar": {
             "outlinewidth": 0,
             "ticks": ""
            },
            "type": "contourcarpet"
           }
          ],
          "heatmap": [
           {
            "colorbar": {
             "outlinewidth": 0,
             "ticks": ""
            },
            "colorscale": [
             [
              0,
              "#0d0887"
             ],
             [
              0.1111111111111111,
              "#46039f"
             ],
             [
              0.2222222222222222,
              "#7201a8"
             ],
             [
              0.3333333333333333,
              "#9c179e"
             ],
             [
              0.4444444444444444,
              "#bd3786"
             ],
             [
              0.5555555555555556,
              "#d8576b"
             ],
             [
              0.6666666666666666,
              "#ed7953"
             ],
             [
              0.7777777777777778,
              "#fb9f3a"
             ],
             [
              0.8888888888888888,
              "#fdca26"
             ],
             [
              1,
              "#f0f921"
             ]
            ],
            "type": "heatmap"
           }
          ],
          "heatmapgl": [
           {
            "colorbar": {
             "outlinewidth": 0,
             "ticks": ""
            },
            "colorscale": [
             [
              0,
              "#0d0887"
             ],
             [
              0.1111111111111111,
              "#46039f"
             ],
             [
              0.2222222222222222,
              "#7201a8"
             ],
             [
              0.3333333333333333,
              "#9c179e"
             ],
             [
              0.4444444444444444,
              "#bd3786"
             ],
             [
              0.5555555555555556,
              "#d8576b"
             ],
             [
              0.6666666666666666,
              "#ed7953"
             ],
             [
              0.7777777777777778,
              "#fb9f3a"
             ],
             [
              0.8888888888888888,
              "#fdca26"
             ],
             [
              1,
              "#f0f921"
             ]
            ],
            "type": "heatmapgl"
           }
          ],
          "histogram": [
           {
            "marker": {
             "pattern": {
              "fillmode": "overlay",
              "size": 10,
              "solidity": 0.2
             }
            },
            "type": "histogram"
           }
          ],
          "histogram2d": [
           {
            "colorbar": {
             "outlinewidth": 0,
             "ticks": ""
            },
            "colorscale": [
             [
              0,
              "#0d0887"
             ],
             [
              0.1111111111111111,
              "#46039f"
             ],
             [
              0.2222222222222222,
              "#7201a8"
             ],
             [
              0.3333333333333333,
              "#9c179e"
             ],
             [
              0.4444444444444444,
              "#bd3786"
             ],
             [
              0.5555555555555556,
              "#d8576b"
             ],
             [
              0.6666666666666666,
              "#ed7953"
             ],
             [
              0.7777777777777778,
              "#fb9f3a"
             ],
             [
              0.8888888888888888,
              "#fdca26"
             ],
             [
              1,
              "#f0f921"
             ]
            ],
            "type": "histogram2d"
           }
          ],
          "histogram2dcontour": [
           {
            "colorbar": {
             "outlinewidth": 0,
             "ticks": ""
            },
            "colorscale": [
             [
              0,
              "#0d0887"
             ],
             [
              0.1111111111111111,
              "#46039f"
             ],
             [
              0.2222222222222222,
              "#7201a8"
             ],
             [
              0.3333333333333333,
              "#9c179e"
             ],
             [
              0.4444444444444444,
              "#bd3786"
             ],
             [
              0.5555555555555556,
              "#d8576b"
             ],
             [
              0.6666666666666666,
              "#ed7953"
             ],
             [
              0.7777777777777778,
              "#fb9f3a"
             ],
             [
              0.8888888888888888,
              "#fdca26"
             ],
             [
              1,
              "#f0f921"
             ]
            ],
            "type": "histogram2dcontour"
           }
          ],
          "mesh3d": [
           {
            "colorbar": {
             "outlinewidth": 0,
             "ticks": ""
            },
            "type": "mesh3d"
           }
          ],
          "parcoords": [
           {
            "line": {
             "colorbar": {
              "outlinewidth": 0,
              "ticks": ""
             }
            },
            "type": "parcoords"
           }
          ],
          "pie": [
           {
            "automargin": true,
            "type": "pie"
           }
          ],
          "scatter": [
           {
            "fillpattern": {
             "fillmode": "overlay",
             "size": 10,
             "solidity": 0.2
            },
            "type": "scatter"
           }
          ],
          "scatter3d": [
           {
            "line": {
             "colorbar": {
              "outlinewidth": 0,
              "ticks": ""
             }
            },
            "marker": {
             "colorbar": {
              "outlinewidth": 0,
              "ticks": ""
             }
            },
            "type": "scatter3d"
           }
          ],
          "scattercarpet": [
           {
            "marker": {
             "colorbar": {
              "outlinewidth": 0,
              "ticks": ""
             }
            },
            "type": "scattercarpet"
           }
          ],
          "scattergeo": [
           {
            "marker": {
             "colorbar": {
              "outlinewidth": 0,
              "ticks": ""
             }
            },
            "type": "scattergeo"
           }
          ],
          "scattergl": [
           {
            "marker": {
             "colorbar": {
              "outlinewidth": 0,
              "ticks": ""
             }
            },
            "type": "scattergl"
           }
          ],
          "scattermapbox": [
           {
            "marker": {
             "colorbar": {
              "outlinewidth": 0,
              "ticks": ""
             }
            },
            "type": "scattermapbox"
           }
          ],
          "scatterpolar": [
           {
            "marker": {
             "colorbar": {
              "outlinewidth": 0,
              "ticks": ""
             }
            },
            "type": "scatterpolar"
           }
          ],
          "scatterpolargl": [
           {
            "marker": {
             "colorbar": {
              "outlinewidth": 0,
              "ticks": ""
             }
            },
            "type": "scatterpolargl"
           }
          ],
          "scatterternary": [
           {
            "marker": {
             "colorbar": {
              "outlinewidth": 0,
              "ticks": ""
             }
            },
            "type": "scatterternary"
           }
          ],
          "surface": [
           {
            "colorbar": {
             "outlinewidth": 0,
             "ticks": ""
            },
            "colorscale": [
             [
              0,
              "#0d0887"
             ],
             [
              0.1111111111111111,
              "#46039f"
             ],
             [
              0.2222222222222222,
              "#7201a8"
             ],
             [
              0.3333333333333333,
              "#9c179e"
             ],
             [
              0.4444444444444444,
              "#bd3786"
             ],
             [
              0.5555555555555556,
              "#d8576b"
             ],
             [
              0.6666666666666666,
              "#ed7953"
             ],
             [
              0.7777777777777778,
              "#fb9f3a"
             ],
             [
              0.8888888888888888,
              "#fdca26"
             ],
             [
              1,
              "#f0f921"
             ]
            ],
            "type": "surface"
           }
          ],
          "table": [
           {
            "cells": {
             "fill": {
              "color": "#EBF0F8"
             },
             "line": {
              "color": "white"
             }
            },
            "header": {
             "fill": {
              "color": "#C8D4E3"
             },
             "line": {
              "color": "white"
             }
            },
            "type": "table"
           }
          ]
         },
         "layout": {
          "annotationdefaults": {
           "arrowcolor": "#2a3f5f",
           "arrowhead": 0,
           "arrowwidth": 1
          },
          "autotypenumbers": "strict",
          "coloraxis": {
           "colorbar": {
            "outlinewidth": 0,
            "ticks": ""
           }
          },
          "colorscale": {
           "diverging": [
            [
             0,
             "#8e0152"
            ],
            [
             0.1,
             "#c51b7d"
            ],
            [
             0.2,
             "#de77ae"
            ],
            [
             0.3,
             "#f1b6da"
            ],
            [
             0.4,
             "#fde0ef"
            ],
            [
             0.5,
             "#f7f7f7"
            ],
            [
             0.6,
             "#e6f5d0"
            ],
            [
             0.7,
             "#b8e186"
            ],
            [
             0.8,
             "#7fbc41"
            ],
            [
             0.9,
             "#4d9221"
            ],
            [
             1,
             "#276419"
            ]
           ],
           "sequential": [
            [
             0,
             "#0d0887"
            ],
            [
             0.1111111111111111,
             "#46039f"
            ],
            [
             0.2222222222222222,
             "#7201a8"
            ],
            [
             0.3333333333333333,
             "#9c179e"
            ],
            [
             0.4444444444444444,
             "#bd3786"
            ],
            [
             0.5555555555555556,
             "#d8576b"
            ],
            [
             0.6666666666666666,
             "#ed7953"
            ],
            [
             0.7777777777777778,
             "#fb9f3a"
            ],
            [
             0.8888888888888888,
             "#fdca26"
            ],
            [
             1,
             "#f0f921"
            ]
           ],
           "sequentialminus": [
            [
             0,
             "#0d0887"
            ],
            [
             0.1111111111111111,
             "#46039f"
            ],
            [
             0.2222222222222222,
             "#7201a8"
            ],
            [
             0.3333333333333333,
             "#9c179e"
            ],
            [
             0.4444444444444444,
             "#bd3786"
            ],
            [
             0.5555555555555556,
             "#d8576b"
            ],
            [
             0.6666666666666666,
             "#ed7953"
            ],
            [
             0.7777777777777778,
             "#fb9f3a"
            ],
            [
             0.8888888888888888,
             "#fdca26"
            ],
            [
             1,
             "#f0f921"
            ]
           ]
          },
          "colorway": [
           "#636efa",
           "#EF553B",
           "#00cc96",
           "#ab63fa",
           "#FFA15A",
           "#19d3f3",
           "#FF6692",
           "#B6E880",
           "#FF97FF",
           "#FECB52"
          ],
          "font": {
           "color": "#2a3f5f"
          },
          "geo": {
           "bgcolor": "white",
           "lakecolor": "white",
           "landcolor": "#E5ECF6",
           "showlakes": true,
           "showland": true,
           "subunitcolor": "white"
          },
          "hoverlabel": {
           "align": "left"
          },
          "hovermode": "closest",
          "mapbox": {
           "style": "light"
          },
          "paper_bgcolor": "white",
          "plot_bgcolor": "#E5ECF6",
          "polar": {
           "angularaxis": {
            "gridcolor": "white",
            "linecolor": "white",
            "ticks": ""
           },
           "bgcolor": "#E5ECF6",
           "radialaxis": {
            "gridcolor": "white",
            "linecolor": "white",
            "ticks": ""
           }
          },
          "scene": {
           "xaxis": {
            "backgroundcolor": "#E5ECF6",
            "gridcolor": "white",
            "gridwidth": 2,
            "linecolor": "white",
            "showbackground": true,
            "ticks": "",
            "zerolinecolor": "white"
           },
           "yaxis": {
            "backgroundcolor": "#E5ECF6",
            "gridcolor": "white",
            "gridwidth": 2,
            "linecolor": "white",
            "showbackground": true,
            "ticks": "",
            "zerolinecolor": "white"
           },
           "zaxis": {
            "backgroundcolor": "#E5ECF6",
            "gridcolor": "white",
            "gridwidth": 2,
            "linecolor": "white",
            "showbackground": true,
            "ticks": "",
            "zerolinecolor": "white"
           }
          },
          "shapedefaults": {
           "line": {
            "color": "#2a3f5f"
           }
          },
          "ternary": {
           "aaxis": {
            "gridcolor": "white",
            "linecolor": "white",
            "ticks": ""
           },
           "baxis": {
            "gridcolor": "white",
            "linecolor": "white",
            "ticks": ""
           },
           "bgcolor": "#E5ECF6",
           "caxis": {
            "gridcolor": "white",
            "linecolor": "white",
            "ticks": ""
           }
          },
          "title": {
           "x": 0.05
          },
          "xaxis": {
           "automargin": true,
           "gridcolor": "white",
           "linecolor": "white",
           "ticks": "",
           "title": {
            "standoff": 15
           },
           "zerolinecolor": "white",
           "zerolinewidth": 2
          },
          "yaxis": {
           "automargin": true,
           "gridcolor": "white",
           "linecolor": "white",
           "ticks": "",
           "title": {
            "standoff": 15
           },
           "zerolinecolor": "white",
           "zerolinewidth": 2
          }
         }
        },
        "title": {
         "text": "VAR and ES by Asset Type"
        },
        "xaxis": {
         "anchor": "y",
         "domain": [
          0,
          1
         ],
         "tickangle": -4,
         "title": {
          "text": "Asset Type"
         }
        },
        "yaxis": {
         "anchor": "x",
         "domain": [
          0,
          1
         ],
         "title": {
          "text": "Value"
         }
        }
       }
      }
     },
     "metadata": {},
     "output_type": "display_data"
    }
   ],
   "source": [
    "average_ee_by_reaction = df_ee.groupby(['Reaction'])['ee'].mean().reset_index()\n",
    "average_ee_by_reaction = average_ee_by_reaction.rename(columns={'ee': 'ee_react_avg'})\n",
    "\n",
    "sdf = pd.merge(df_ee, average_ee_by_reaction, how='left', on='Reaction')\n",
    "sdf = sdf.loc[sdf[\"ee_react_avg\"]<90]\n",
    "sdf[\"rank\"] = sdf.groupby(\"Reaction\")[\"ee\"].rank(method=\"dense\", ascending=False)\n",
    "\n",
    "sdf['weighted_rank'] = sdf[\"rank\"]/sdf['Count'] \n",
    "mean_rankw = sdf.groupby(['Catalyst_Type'])['weighted_rank'].mean()\n",
    "mean_rank = sdf.groupby(['Catalyst_Type'])['rank'].mean()\n",
    "\n",
    "merged_df = pd.merge(mean_rankw, mean_rank, on='Catalyst_Type')\n",
    "\n",
    "fig = go.Figure()\n",
    "\n",
    "for col in [ 'weighted_rank', 'rank']:\n",
    "    fig.add_trace(go.Bar(\n",
    "        x=merged_df.index,\n",
    "        y=merged_df[col],\n",
    "        name=col\n",
    "    ))\n",
    "# Show the plot\n",
    "fig.show()\n",
    "print(merged_df.sort_values('weighted_rank', ascending=True))\n",
    "print(merged_df.sort_values('rank', ascending=True))\n",
    "results = sdf.groupby('Catalyst_Type')['ee'].apply(calculate_var_es).reset_index()\n",
    "\n",
    "fig = px.bar(results, x='Catalyst_Type', y='ee', title='VAR and ES by Asset Type',\n",
    "             labels={'variable': 'Metric', 'value': 'Value'}, barmode='group',color='level_1')\n",
    "\n",
    "# Customize the layout\n",
    "fig.update_layout(xaxis_title='Asset Type', yaxis_title='Value', legend_title=None, xaxis_tickangle=-4\n",
    "                  )\n",
    "\n",
    "# Show the plot\n",
    "fig.show()"
   ]
  },
  {
   "cell_type": "code",
   "execution_count": null,
   "metadata": {},
   "outputs": [],
   "source": []
  }
 ],
 "metadata": {
  "kernelspec": {
   "display_name": "deepchem-test",
   "language": "python",
   "name": "python3"
  },
  "language_info": {
   "codemirror_mode": {
    "name": "ipython",
    "version": 3
   },
   "file_extension": ".py",
   "mimetype": "text/x-python",
   "name": "python",
   "nbconvert_exporter": "python",
   "pygments_lexer": "ipython3",
   "version": "3.10.11"
  },
  "orig_nbformat": 4
 },
 "nbformat": 4,
 "nbformat_minor": 2
}
